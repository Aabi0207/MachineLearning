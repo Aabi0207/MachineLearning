{
 "cells": [
  {
   "cell_type": "markdown",
   "id": "bd350879-406b-4b71-bb6d-dd46a2342a7a",
   "metadata": {},
   "source": [
    "# Implement Neurons using Numpy"
   ]
  },
  {
   "cell_type": "code",
   "execution_count": 5,
   "id": "244597a6-d46e-45dd-b5c7-4d878ac5faba",
   "metadata": {},
   "outputs": [],
   "source": [
    "import numpy as np\n",
    "import matplotlib.pyplot as plt\n",
    "import tensorflow as tf\n",
    "plt.style.use(\"bmh\")\n",
    "import logging\n",
    "logging.getLogger('tensorflow').setLevel(logging.ERROR)\n",
    "tf.autograph.set_verbosity(0)"
   ]
  },
  {
   "cell_type": "code",
   "execution_count": 6,
   "id": "070da9da-490f-4577-8a41-7aca8c54d3bc",
   "metadata": {},
   "outputs": [],
   "source": [
    "def load_coffee_data():\n",
    "    \"\"\" Creates a coffee roasting data set.\n",
    "        roasting duration: 12-15 minutes is best\n",
    "        temperature range: 175-260C is best\n",
    "    \"\"\"\n",
    "    rng = np.random.default_rng(2)\n",
    "    X = rng.random(400).reshape(-1,2)\n",
    "    X[:,1] = X[:,1] * 4 + 11.5          # 12-15 min is best\n",
    "    X[:,0] = X[:,0] * (285-150) + 150  # 350-500 F (175-260 C) is best\n",
    "    Y = np.zeros(len(X))\n",
    "    \n",
    "    i=0\n",
    "    for t,d in X:\n",
    "        y = -3/(260-175)*t + 21\n",
    "        if (t > 175 and t < 260 and d > 12 and d < 15 and d<=y ):\n",
    "            Y[i] = 1\n",
    "        else:\n",
    "            Y[i] = 0\n",
    "        i += 1\n",
    "\n",
    "    return (X, Y.reshape(-1,1))"
   ]
  },
  {
   "cell_type": "code",
   "execution_count": 9,
   "id": "198b733d-b28d-4e36-a8fc-0b9f1a5aba40",
   "metadata": {},
   "outputs": [],
   "source": [
    "X, Y = load_coffee_data()"
   ]
  },
  {
   "cell_type": "code",
   "execution_count": 8,
   "id": "9a9e6596-5538-47af-96b2-29633c04fbec",
   "metadata": {},
   "outputs": [
    {
     "name": "stdout",
     "output_type": "stream",
     "text": [
      "Temperature Max, Min pre normalization: 284.99, 151.32\n",
      "Duration    Max, Min pre normalization: 15.45, 11.51\n",
      "Temperature Max, Min post normalization: 1.66, -1.69\n",
      "Duration    Max, Min post normalization: 1.79, -1.70\n"
     ]
    }
   ],
   "source": [
    "print(f\"Temperature Max, Min pre normalization: {np.max(X[:,0]):0.2f}, {np.min(X[:,0]):0.2f}\")\n",
    "print(f\"Duration    Max, Min pre normalization: {np.max(X[:,1]):0.2f}, {np.min(X[:,1]):0.2f}\")\n",
    "norm_l = tf.keras.layers.Normalization(axis=-1)\n",
    "norm_l.adapt(X)  # learns mean, variance\n",
    "Xn = norm_l(X)\n",
    "print(f\"Temperature Max, Min post normalization: {np.max(Xn[:,0]):0.2f}, {np.min(Xn[:,0]):0.2f}\")\n",
    "print(f\"Duration    Max, Min post normalization: {np.max(Xn[:,1]):0.2f}, {np.min(Xn[:,1]):0.2f}\")"
   ]
  },
  {
   "cell_type": "code",
   "execution_count": 10,
   "id": "c29f9a35-4d07-480e-9b23-ff9c6ec68d0b",
   "metadata": {},
   "outputs": [],
   "source": [
    "def sigmoid(z):\n",
    "    z = np.clip(z, -500, 500)\n",
    "    return 1.0/(1.0 + np.exp(-z))"
   ]
  },
  {
   "cell_type": "markdown",
   "id": "f301d431-28b7-4436-b147-ba90830c1e33",
   "metadata": {},
   "source": [
    "## Write a function to define a layer "
   ]
  },
  {
   "cell_type": "code",
   "execution_count": 21,
   "id": "e15bb960-c6bf-4730-9a67-c20c6a14e562",
   "metadata": {},
   "outputs": [],
   "source": [
    "def my_dense(x, W, b):\n",
    "    units = W.shape[1]\n",
    "\n",
    "    a_out = np.zeros(units)\n",
    "    for i in range(units):\n",
    "        a_out[i] = sigmoid(np.dot(x, W[:, i]) + b[i])\n",
    "\n",
    "    print(a_out.shape)\n",
    "    return a_out"
   ]
  },
  {
   "cell_type": "code",
   "execution_count": 18,
   "id": "caeaa33d-f7ef-41ec-9df8-1f438f417f12",
   "metadata": {},
   "outputs": [],
   "source": [
    "def my_sequential(x, W1, b1, W2, b2):\n",
    "    a1 = my_dense(x, W1, b1)\n",
    "    a2 = my_dense(a1, W2, b2)\n",
    "    return a2"
   ]
  },
  {
   "cell_type": "markdown",
   "id": "ef93d542-d1c8-4be9-a57e-0e1dbeab774b",
   "metadata": {},
   "source": [
    "We will be using some trained weights and biases from the previous lab"
   ]
  },
  {
   "cell_type": "code",
   "execution_count": 13,
   "id": "b326b429-d535-4fbe-aded-b9198d843b34",
   "metadata": {},
   "outputs": [],
   "source": [
    "W1_tmp = np.array( [[-8.93,  0.29, 12.9 ], [-0.1,  -7.32, 10.81]] )\n",
    "b1_tmp = np.array( [-9.82, -9.28,  0.96] )\n",
    "W2_tmp = np.array( [[-31.18], [-27.59], [-32.56]] )\n",
    "b2_tmp = np.array( [15.41] )"
   ]
  },
  {
   "cell_type": "markdown",
   "id": "073f821f-a9c7-4732-8bd4-081ef1ce7aaf",
   "metadata": {},
   "source": [
    "### Write a method for Predicting the values using the weights"
   ]
  },
  {
   "cell_type": "code",
   "execution_count": 19,
   "id": "47237f0e-6954-4f8a-b63c-b61431a7399a",
   "metadata": {},
   "outputs": [],
   "source": [
    "def my_predict(X, W1, b1, W2, b2):\n",
    "    m = X.shape[0]\n",
    "    p = np.zeros((m, 1))\n",
    "\n",
    "    for i in range(m):\n",
    "        p[i, 0] = my_sequential(X[i], W1, b1, W2, b2)\n",
    "    return p"
   ]
  },
  {
   "cell_type": "code",
   "execution_count": 22,
   "id": "966782d9-a0e5-499d-af37-62b873576a73",
   "metadata": {},
   "outputs": [
    {
     "name": "stdout",
     "output_type": "stream",
     "text": [
      "(3,)\n",
      "(1,)\n",
      "(3,)\n",
      "(1,)\n"
     ]
    },
    {
     "name": "stderr",
     "output_type": "stream",
     "text": [
      "C:\\Users\\abhis\\AppData\\Local\\Temp\\ipykernel_20936\\3688408444.py:6: DeprecationWarning: Conversion of an array with ndim > 0 to a scalar is deprecated, and will error in future. Ensure you extract a single element from your array before performing this operation. (Deprecated NumPy 1.25.)\n",
      "  p[i, 0] = my_sequential(X[i], W1, b1, W2, b2)\n"
     ]
    }
   ],
   "source": [
    "X_tst = np.array([\n",
    "    [200,13.9],  # postive example\n",
    "    [200,17]])   # negative example\n",
    "X_tstn = norm_l(X_tst)  # remember to normalize\n",
    "predictions = my_predict(X_tstn, W1_tmp, b1_tmp, W2_tmp, b2_tmp)"
   ]
  },
  {
   "cell_type": "code",
   "execution_count": 23,
   "id": "1a507861-1755-468e-b632-51c6f5f9f7be",
   "metadata": {},
   "outputs": [
    {
     "name": "stdout",
     "output_type": "stream",
     "text": [
      "decisions = \n",
      "[[1.]\n",
      " [0.]]\n"
     ]
    }
   ],
   "source": [
    "yhat = np.zeros_like(predictions)\n",
    "for i in range(len(predictions)):\n",
    "    if predictions[i] >= 0.5:\n",
    "        yhat[i] = 1\n",
    "    else:\n",
    "        yhat[i] = 0\n",
    "print(f\"decisions = \\n{yhat}\")"
   ]
  },
  {
   "cell_type": "code",
   "execution_count": null,
   "id": "5a9f2f4b-342a-4c38-acaa-9f8d2d9894a5",
   "metadata": {},
   "outputs": [],
   "source": []
  }
 ],
 "metadata": {
  "kernelspec": {
   "display_name": "Python 3 (ipykernel)",
   "language": "python",
   "name": "python3"
  },
  "language_info": {
   "codemirror_mode": {
    "name": "ipython",
    "version": 3
   },
   "file_extension": ".py",
   "mimetype": "text/x-python",
   "name": "python",
   "nbconvert_exporter": "python",
   "pygments_lexer": "ipython3",
   "version": "3.11.5"
  }
 },
 "nbformat": 4,
 "nbformat_minor": 5
}
