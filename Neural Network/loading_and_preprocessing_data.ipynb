{
 "cells": [
  {
   "cell_type": "markdown",
   "id": "2cbaf3a2-32b9-4d24-a119-dd3d5a7f9d8d",
   "metadata": {},
   "source": [
    "## Loading and Preprocessing Data using Tensoflow"
   ]
  },
  {
   "cell_type": "code",
   "execution_count": null,
   "id": "6215e5ed-6a31-4a7b-9e01-aea2226a13f9",
   "metadata": {},
   "outputs": [],
   "source": []
  }
 ],
 "metadata": {
  "kernelspec": {
   "display_name": "Python 3 (ipykernel)",
   "language": "python",
   "name": "python3"
  },
  "language_info": {
   "codemirror_mode": {
    "name": "ipython",
    "version": 3
   },
   "file_extension": ".py",
   "mimetype": "text/x-python",
   "name": "python",
   "nbconvert_exporter": "python",
   "pygments_lexer": "ipython3",
   "version": "3.11.5"
  }
 },
 "nbformat": 4,
 "nbformat_minor": 5
}
