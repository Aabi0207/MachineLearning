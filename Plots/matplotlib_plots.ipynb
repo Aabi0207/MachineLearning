{
 "cells": [
  {
   "cell_type": "markdown",
   "id": "20179c70-32e6-4103-879f-375b7a9b26a1",
   "metadata": {},
   "source": [
    "## Defining some Default Parameters"
   ]
  },
  {
   "cell_type": "code",
   "execution_count": 1,
   "id": "9529aebb-d362-412f-bc77-46f552763a8a",
   "metadata": {},
   "outputs": [],
   "source": [
    "import matplotlib.pyplot as plt"
   ]
  },
  {
   "cell_type": "code",
   "execution_count": 2,
   "id": "5728c361-9c8b-4dc9-a268-fa52b3e0df39",
   "metadata": {},
   "outputs": [],
   "source": [
    "plt.rc(\"font\", size=14)\n",
    "plt.rc(\"axes\", labelsize=14, titlesize=14)\n",
    "plt.rc(\"legend\", fontsize=14)\n",
    "plt.rc(\"xtick\", labelsize=14)\n",
    "plt.rc(\"ytick\", labelsize=14)"
   ]
  },
  {
   "cell_type": "code",
   "execution_count": null,
   "id": "6b811193-8a78-4e0e-a167-f0c0befb3f36",
   "metadata": {},
   "outputs": [],
   "source": []
  }
 ],
 "metadata": {
  "kernelspec": {
   "display_name": "Python 3 (ipykernel)",
   "language": "python",
   "name": "python3"
  },
  "language_info": {
   "codemirror_mode": {
    "name": "ipython",
    "version": 3
   },
   "file_extension": ".py",
   "mimetype": "text/x-python",
   "name": "python",
   "nbconvert_exporter": "python",
   "pygments_lexer": "ipython3",
   "version": "3.11.5"
  }
 },
 "nbformat": 4,
 "nbformat_minor": 5
}
