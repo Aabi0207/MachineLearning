{
 "cells": [
  {
   "cell_type": "markdown",
   "id": "73a8df77-356f-4892-b30d-c84718d2bf12",
   "metadata": {},
   "source": [
    "# Steel Plate Defect Prediction"
   ]
  },
  {
   "cell_type": "code",
   "execution_count": 1,
   "id": "bf3df7ad-420e-41f1-8144-f4489111114c",
   "metadata": {},
   "outputs": [],
   "source": [
    "import pandas as pd\n",
    "import numpy as np\n",
    "import matplotlib.pyplot as plt\n",
    "import seaborn as sns\n",
    "\n",
    "from sklearn.model_selection import train_test_split\n",
    "from sklearn.pipeline import make_pipeline, Pipeline\n",
    "from sklearn.preprocessing import StandardScaler\n",
    "from sklearn.preprocessing import PolynomialFeatures\n",
    "from sklearn.preprocessing import FunctionTransformer\n",
    "from sklearn.compose import ColumnTransformer, make_column_transformer\n",
    "\n",
    "from sklearn.metrics import accuracy_score, roc_auc_score, f1_score"
   ]
  },
  {
   "cell_type": "code",
   "execution_count": 2,
   "id": "2b3abc08-d692-4ffa-8ba4-a708d041d98f",
   "metadata": {},
   "outputs": [],
   "source": [
    "pd.set_option('display.max_columns', 35)\n",
    "plt.style.use(\"ggplot\")"
   ]
  },
  {
   "cell_type": "markdown",
   "id": "84fe1b31-addb-4e99-be4f-ce609952d49a",
   "metadata": {},
   "source": [
    "# Load the Dataset"
   ]
  },
  {
   "cell_type": "code",
   "execution_count": 6,
   "id": "e7a47a2a-52da-465c-86d0-3b1a7c36ec41",
   "metadata": {},
   "outputs": [],
   "source": [
    "train = pd.read_csv(\"Data/train.csv\")\n",
    "test = pd.read_csv(\"Data/test.csv\")\n",
    "original = pd.read_csv(\"Data/faults.csv\")"
   ]
  },
  {
   "cell_type": "code",
   "execution_count": 4,
   "id": "64ac14a1-d4c4-4b23-abd1-fe11719fe21d",
   "metadata": {},
   "outputs": [
    {
     "name": "stdout",
     "output_type": "stream",
     "text": [
      "The shape of training Dataset is: (19219, 35)\n",
      "The shape of testing Dataset is: (12814, 28)\n"
     ]
    }
   ],
   "source": [
    "print(f\"The shape of training Dataset is: {train.shape}\")\n",
    "print(f\"The shape of testing Dataset is: {test.shape}\")"
   ]
  },
  {
   "cell_type": "code",
   "execution_count": 9,
   "id": "3a8a4f67-c320-4453-bc0c-1ba1ea8bc7c3",
   "metadata": {},
   "outputs": [
    {
     "data": {
      "text/plain": [
       "(1941, 34)"
      ]
     },
     "execution_count": 9,
     "metadata": {},
     "output_type": "execute_result"
    }
   ],
   "source": [
    "original.shape"
   ]
  },
  {
   "cell_type": "code",
   "execution_count": 10,
   "id": "c3437c15-fed7-43f1-a5c5-2360680ec19e",
   "metadata": {},
   "outputs": [],
   "source": [
    "train = pd.concat([train, original])"
   ]
  },
  {
   "cell_type": "code",
   "execution_count": 11,
   "id": "82f6a29d-4c81-4022-9e4c-36fbc238ad1d",
   "metadata": {},
   "outputs": [
    {
     "data": {
      "text/plain": [
       "(21160, 35)"
      ]
     },
     "execution_count": 11,
     "metadata": {},
     "output_type": "execute_result"
    }
   ],
   "source": [
    "train.shape"
   ]
  },
  {
   "cell_type": "code",
   "execution_count": 6,
   "id": "b3f39379-227f-4273-b0f4-972d560fbc52",
   "metadata": {},
   "outputs": [
    {
     "name": "stdout",
     "output_type": "stream",
     "text": [
      "<class 'pandas.core.frame.DataFrame'>\n",
      "RangeIndex: 19219 entries, 0 to 19218\n",
      "Data columns (total 35 columns):\n",
      " #   Column                 Non-Null Count  Dtype  \n",
      "---  ------                 --------------  -----  \n",
      " 0   id                     19219 non-null  int64  \n",
      " 1   X_Minimum              19219 non-null  int64  \n",
      " 2   X_Maximum              19219 non-null  int64  \n",
      " 3   Y_Minimum              19219 non-null  int64  \n",
      " 4   Y_Maximum              19219 non-null  int64  \n",
      " 5   Pixels_Areas           19219 non-null  int64  \n",
      " 6   X_Perimeter            19219 non-null  int64  \n",
      " 7   Y_Perimeter            19219 non-null  int64  \n",
      " 8   Sum_of_Luminosity      19219 non-null  int64  \n",
      " 9   Minimum_of_Luminosity  19219 non-null  int64  \n",
      " 10  Maximum_of_Luminosity  19219 non-null  int64  \n",
      " 11  Length_of_Conveyer     19219 non-null  int64  \n",
      " 12  TypeOfSteel_A300       19219 non-null  int64  \n",
      " 13  TypeOfSteel_A400       19219 non-null  int64  \n",
      " 14  Steel_Plate_Thickness  19219 non-null  int64  \n",
      " 15  Edges_Index            19219 non-null  float64\n",
      " 16  Empty_Index            19219 non-null  float64\n",
      " 17  Square_Index           19219 non-null  float64\n",
      " 18  Outside_X_Index        19219 non-null  float64\n",
      " 19  Edges_X_Index          19219 non-null  float64\n",
      " 20  Edges_Y_Index          19219 non-null  float64\n",
      " 21  Outside_Global_Index   19219 non-null  float64\n",
      " 22  LogOfAreas             19219 non-null  float64\n",
      " 23  Log_X_Index            19219 non-null  float64\n",
      " 24  Log_Y_Index            19219 non-null  float64\n",
      " 25  Orientation_Index      19219 non-null  float64\n",
      " 26  Luminosity_Index       19219 non-null  float64\n",
      " 27  SigmoidOfAreas         19219 non-null  float64\n",
      " 28  Pastry                 19219 non-null  int64  \n",
      " 29  Z_Scratch              19219 non-null  int64  \n",
      " 30  K_Scatch               19219 non-null  int64  \n",
      " 31  Stains                 19219 non-null  int64  \n",
      " 32  Dirtiness              19219 non-null  int64  \n",
      " 33  Bumps                  19219 non-null  int64  \n",
      " 34  Other_Faults           19219 non-null  int64  \n",
      "dtypes: float64(13), int64(22)\n",
      "memory usage: 5.1 MB\n"
     ]
    }
   ],
   "source": [
    "train.info()"
   ]
  },
  {
   "cell_type": "code",
   "execution_count": 12,
   "id": "1da195b6-0b34-4096-ac72-e730a86b6db6",
   "metadata": {},
   "outputs": [],
   "source": [
    "y = train[[\"Pastry\",\"Z_Scratch\",\"K_Scatch\",\"Stains\",\"Dirtiness\",\"Bumps\",\"Other_Faults\"]].idxmax(axis=1)"
   ]
  },
  {
   "cell_type": "code",
   "execution_count": 13,
   "id": "069e02bb-eea7-4599-b954-3b613a7802e7",
   "metadata": {},
   "outputs": [],
   "source": [
    "y.replace([\"Pastry\",\"Z_Scratch\",\"K_Scatch\",\"Stains\",\"Dirtiness\",\"Bumps\",\"Other_Faults\"], [0, 1, 2, 3, 4, 5, 6], inplace=True)"
   ]
  },
  {
   "cell_type": "code",
   "execution_count": 14,
   "id": "faba8d1a-46d7-4e1d-924a-c7d6269869d6",
   "metadata": {},
   "outputs": [],
   "source": [
    "X = train.drop([\"Pastry\",\"Z_Scratch\",\"K_Scatch\",\"Stains\",\"Dirtiness\",\"Bumps\",\"Other_Faults\", \"id\"], axis=1)"
   ]
  },
  {
   "cell_type": "markdown",
   "id": "6826f6d8-340d-4386-a75c-05ba631c1c6b",
   "metadata": {},
   "source": [
    "## Split the dataset into train and test set"
   ]
  },
  {
   "cell_type": "code",
   "execution_count": 15,
   "id": "71d08c5e-3dd4-4b94-8f87-7ce2b4037270",
   "metadata": {},
   "outputs": [],
   "source": [
    "X_train, X_test, y_train, y_test = train_test_split(X, y, test_size=0.3, random_state=42, stratify=y)"
   ]
  },
  {
   "cell_type": "code",
   "execution_count": 16,
   "id": "7638b9b0-9129-46c1-a6e7-345469960c58",
   "metadata": {},
   "outputs": [],
   "source": [
    "X_valid, X_test, y_valid, y_test = train_test_split(X_test, y_test, test_size=0.5, random_state=42, stratify=y_test)"
   ]
  },
  {
   "cell_type": "markdown",
   "id": "3595e24f-e1e7-4e6f-bd63-c2783c4dedaf",
   "metadata": {},
   "source": [
    "We used strtify to keep the ratio equal over all the splits"
   ]
  },
  {
   "cell_type": "markdown",
   "id": "c9d39819-ddfa-4298-919e-a52c49084e17",
   "metadata": {},
   "source": [
    "## Let's First vizualize the data"
   ]
  },
  {
   "cell_type": "code",
   "execution_count": 13,
   "id": "7d3ba7a1-d344-4340-bcd1-d67634dba136",
   "metadata": {},
   "outputs": [
    {
     "data": {
      "image/png": "[encoded data removed]",
      "text/plain": [
       "<Figure size 1200x1000 with 30 Axes>"
      ]
     },
     "metadata": {},
     "output_type": "display_data"
    }
   ],
   "source": [
    "X.hist(grid=True, figsize=(12, 10), bins=50)\n",
    "plt.tight_layout()"
   ]
  },
  {
   "cell_type": "code",
   "execution_count": 17,
   "id": "d462b068-f596-4c8c-9f1c-fe0a071f299d",
   "metadata": {},
   "outputs": [],
   "source": [
    "not_log = [\"Minimum_of_Luminosity\", 'Maximum_of_Luminosity', \"TypeOfSteel_A300\", \"TypeOfSteel_A400\", \"Empty_Index\", \"Edges_X_Index\", \"Outside_Global_Index\", 'LogOfAreas','Log_X_Index', 'Log_Y_Index', 'Orientation_Index', 'Luminosity_Index']\n",
    "log_col = []\n",
    "for col in X.columns:\n",
    "    if col not in not_log:\n",
    "        log_col.append(col)"
   ]
  },
  {
   "cell_type": "code",
   "execution_count": 14,
   "id": "c3b5339e-e715-4765-a00d-1c9f1707bb18",
   "metadata": {},
   "outputs": [
    {
     "data": {
      "text/plain": [
       "Index(['X_Minimum', 'X_Maximum', 'Y_Minimum', 'Y_Maximum', 'Pixels_Areas',\n",
       "       'X_Perimeter', 'Y_Perimeter', 'Sum_of_Luminosity',\n",
       "       'Minimum_of_Luminosity', 'Maximum_of_Luminosity', 'Length_of_Conveyer',\n",
       "       'TypeOfSteel_A300', 'TypeOfSteel_A400', 'Steel_Plate_Thickness',\n",
       "       'Edges_Index', 'Empty_Index', 'Square_Index', 'Outside_X_Index',\n",
       "       'Edges_X_Index', 'Edges_Y_Index', 'Outside_Global_Index', 'LogOfAreas',\n",
       "       'Log_X_Index', 'Log_Y_Index', 'Orientation_Index', 'Luminosity_Index',\n",
       "       'SigmoidOfAreas'],\n",
       "      dtype='object')"
      ]
     },
     "execution_count": 14,
     "metadata": {},
     "output_type": "execute_result"
    }
   ],
   "source": [
    "X.columns"
   ]
  },
  {
   "cell_type": "code",
   "execution_count": 14,
   "id": "43b6b29c-880c-4311-8570-6d72e4cc8917",
   "metadata": {},
   "outputs": [],
   "source": [
    "corr = train.corr()"
   ]
  },
  {
   "cell_type": "code",
   "execution_count": 15,
   "id": "82e38734-7c45-4afc-abb6-a2da8077cc08",
   "metadata": {},
   "outputs": [
    {
     "data": {
      "text/plain": [
       "<Axes: >"
      ]
     },
     "execution_count": 15,
     "metadata": {},
     "output_type": "execute_result"
    },
    {
     "data": {
      "image/png": "[encoded data removed]",
      "text/plain": [
       "<Figure size 640x480 with 2 Axes>"
      ]
     },
     "metadata": {},
     "output_type": "display_data"
    }
   ],
   "source": [
    "sns.heatmap(corr)"
   ]
  },
  {
   "cell_type": "markdown",
   "id": "51300343-44a5-4166-a1ed-1e26fb9b780f",
   "metadata": {},
   "source": [
    "## LinearSVC"
   ]
  },
  {
   "cell_type": "code",
   "execution_count": 23,
   "id": "421ceda3-0ad8-45cb-9112-9881d6c26a24",
   "metadata": {},
   "outputs": [],
   "source": [
    "from sklearn.svm import LinearSVC"
   ]
  },
  {
   "cell_type": "code",
   "execution_count": 24,
   "id": "a82ae8ed-7f5e-40bc-bfee-ed996880d474",
   "metadata": {},
   "outputs": [],
   "source": [
    "lin_svc = make_pipeline(\n",
    "    StandardScaler(),\n",
    "    LinearSVC(dual=True, C=0.1, random_state=42)\n",
    ")"
   ]
  },
  {
   "cell_type": "code",
   "execution_count": 25,
   "id": "05b351c4-b9fa-470f-a455-4fbf0badd022",
   "metadata": {},
   "outputs": [
    {
     "name": "stderr",
     "output_type": "stream",
     "text": [
      "C:\\Users\\abhis\\anaconda3\\Lib\\site-packages\\sklearn\\svm\\_base.py:1244: ConvergenceWarning: Liblinear failed to converge, increase the number of iterations.\n",
      "  warnings.warn(\n"
     ]
    },
    {
     "data": {
      "text/html": [
       "<style>#sk-container-id-2 {color: black;background-color: white;}#sk-container-id-2 pre{padding: 0;}#sk-container-id-2 div.sk-toggleable {background-color: white;}#sk-container-id-2 label.sk-toggleable__label {cursor: pointer;display: block;width: 100%;margin-bottom: 0;padding: 0.3em;box-sizing: border-box;text-align: center;}#sk-container-id-2 label.sk-toggleable__label-arrow:before {content: \"▸\";float: left;margin-right: 0.25em;color: #696969;}#sk-container-id-2 label.sk-toggleable__label-arrow:hover:before {color: black;}#sk-container-id-2 div.sk-estimator:hover label.sk-toggleable__label-arrow:before {color: black;}#sk-container-id-2 div.sk-toggleable__content {max-height: 0;max-width: 0;overflow: hidden;text-align: left;background-color: #f0f8ff;}#sk-container-id-2 div.sk-toggleable__content pre {margin: 0.2em;color: black;border-radius: 0.25em;background-color: #f0f8ff;}#sk-container-id-2 input.sk-toggleable__control:checked~div.sk-toggleable__content {max-height: 200px;max-width: 100%;overflow: auto;}#sk-container-id-2 input.sk-toggleable__control:checked~label.sk-toggleable__label-arrow:before {content: \"▾\";}#sk-container-id-2 div.sk-estimator input.sk-toggleable__control:checked~label.sk-toggleable__label {background-color: #d4ebff;}#sk-container-id-2 div.sk-label input.sk-toggleable__control:checked~label.sk-toggleable__label {background-color: #d4ebff;}#sk-container-id-2 input.sk-hidden--visually {border: 0;clip: rect(1px 1px 1px 1px);clip: rect(1px, 1px, 1px, 1px);height: 1px;margin: -1px;overflow: hidden;padding: 0;position: absolute;width: 1px;}#sk-container-id-2 div.sk-estimator {font-family: monospace;background-color: #f0f8ff;border: 1px dotted black;border-radius: 0.25em;box-sizing: border-box;margin-bottom: 0.5em;}#sk-container-id-2 div.sk-estimator:hover {background-color: #d4ebff;}#sk-container-id-2 div.sk-parallel-item::after {content: \"\";width: 100%;border-bottom: 1px solid gray;flex-grow: 1;}#sk-container-id-2 div.sk-label:hover label.sk-toggleable__label {background-color: #d4ebff;}#sk-container-id-2 div.sk-serial::before {content: \"\";position: absolute;border-left: 1px solid gray;box-sizing: border-box;top: 0;bottom: 0;left: 50%;z-index: 0;}#sk-container-id-2 div.sk-serial {display: flex;flex-direction: column;align-items: center;background-color: white;padding-right: 0.2em;padding-left: 0.2em;position: relative;}#sk-container-id-2 div.sk-item {position: relative;z-index: 1;}#sk-container-id-2 div.sk-parallel {display: flex;align-items: stretch;justify-content: center;background-color: white;position: relative;}#sk-container-id-2 div.sk-item::before, #sk-container-id-2 div.sk-parallel-item::before {content: \"\";position: absolute;border-left: 1px solid gray;box-sizing: border-box;top: 0;bottom: 0;left: 50%;z-index: -1;}#sk-container-id-2 div.sk-parallel-item {display: flex;flex-direction: column;z-index: 1;position: relative;background-color: white;}#sk-container-id-2 div.sk-parallel-item:first-child::after {align-self: flex-end;width: 50%;}#sk-container-id-2 div.sk-parallel-item:last-child::after {align-self: flex-start;width: 50%;}#sk-container-id-2 div.sk-parallel-item:only-child::after {width: 0;}#sk-container-id-2 div.sk-dashed-wrapped {border: 1px dashed gray;margin: 0 0.4em 0.5em 0.4em;box-sizing: border-box;padding-bottom: 0.4em;background-color: white;}#sk-container-id-2 div.sk-label label {font-family: monospace;font-weight: bold;display: inline-block;line-height: 1.2em;}#sk-container-id-2 div.sk-label-container {text-align: center;}#sk-container-id-2 div.sk-container {/* jupyter's `normalize.less` sets `[hidden] { display: none; }` but bootstrap.min.css set `[hidden] { display: none !important; }` so we also need the `!important` here to be able to override the default hidden behavior on the sphinx rendered scikit-learn.org. See: https://github.com/scikit-learn/scikit-learn/issues/21755 */display: inline-block !important;position: relative;}#sk-container-id-2 div.sk-text-repr-fallback {display: none;}</style><div id=\"sk-container-id-2\" class=\"sk-top-container\"><div class=\"sk-text-repr-fallback\"><pre>Pipeline(steps=[(&#x27;standardscaler&#x27;, StandardScaler()),\n",
       "                (&#x27;linearsvc&#x27;, LinearSVC(C=0.1, random_state=42))])</pre><b>In a Jupyter environment, please rerun this cell to show the HTML representation or trust the notebook. <br />On GitHub, the HTML representation is unable to render, please try loading this page with nbviewer.org.</b></div><div class=\"sk-container\" hidden><div class=\"sk-item sk-dashed-wrapped\"><div class=\"sk-label-container\"><div class=\"sk-label sk-toggleable\"><input class=\"sk-toggleable__control sk-hidden--visually\" id=\"sk-estimator-id-2\" type=\"checkbox\" ><label for=\"sk-estimator-id-2\" class=\"sk-toggleable__label sk-toggleable__label-arrow\">Pipeline</label><div class=\"sk-toggleable__content\"><pre>Pipeline(steps=[(&#x27;standardscaler&#x27;, StandardScaler()),\n",
       "                (&#x27;linearsvc&#x27;, LinearSVC(C=0.1, random_state=42))])</pre></div></div></div><div class=\"sk-serial\"><div class=\"sk-item\"><div class=\"sk-estimator sk-toggleable\"><input class=\"sk-toggleable__control sk-hidden--visually\" id=\"sk-estimator-id-3\" type=\"checkbox\" ><label for=\"sk-estimator-id-3\" class=\"sk-toggleable__label sk-toggleable__label-arrow\">StandardScaler</label><div class=\"sk-toggleable__content\"><pre>StandardScaler()</pre></div></div></div><div class=\"sk-item\"><div class=\"sk-estimator sk-toggleable\"><input class=\"sk-toggleable__control sk-hidden--visually\" id=\"sk-estimator-id-4\" type=\"checkbox\" ><label for=\"sk-estimator-id-4\" class=\"sk-toggleable__label sk-toggleable__label-arrow\">LinearSVC</label><div class=\"sk-toggleable__content\"><pre>LinearSVC(C=0.1, random_state=42)</pre></div></div></div></div></div></div></div>"
      ],
      "text/plain": [
       "Pipeline(steps=[('standardscaler', StandardScaler()),\n",
       "                ('linearsvc', LinearSVC(C=0.1, random_state=42))])"
      ]
     },
     "execution_count": 25,
     "metadata": {},
     "output_type": "execute_result"
    }
   ],
   "source": [
    "lin_svc.fit(X_train, y_train)"
   ]
  },
  {
   "cell_type": "code",
   "execution_count": 30,
   "id": "5d230326-b01c-4f68-ada1-171c52dbaf1e",
   "metadata": {},
   "outputs": [
    {
     "data": {
      "text/plain": [
       "0.5497745404092959"
      ]
     },
     "execution_count": 30,
     "metadata": {},
     "output_type": "execute_result"
    }
   ],
   "source": [
    "accuracy_score(lin_svc.predict(X_valid), y_valid)"
   ]
  },
  {
   "cell_type": "markdown",
   "id": "ae15e731-d974-48ef-ac5d-abb2ce23ba2a",
   "metadata": {},
   "source": [
    "## SVC"
   ]
  },
  {
   "cell_type": "code",
   "execution_count": 112,
   "id": "3a81218d-e446-41ba-80f0-9d112ac10e3e",
   "metadata": {},
   "outputs": [],
   "source": [
    "from sklearn.svm import SVC"
   ]
  },
  {
   "cell_type": "code",
   "execution_count": 113,
   "id": "d863e88c-188a-4a71-88b2-b792498adae8",
   "metadata": {},
   "outputs": [],
   "source": [
    "svc = make_pipeline(\n",
    "    preprocessing,\n",
    "    StandardScaler(),\n",
    "    SVC(kernel=\"linear\", C=0.1, random_state=42, probability=True, verbose=5)\n",
    ")"
   ]
  },
  {
   "cell_type": "code",
   "execution_count": 74,
   "id": "5af0d9af-0c0f-466e-8cec-77d0de62674b",
   "metadata": {},
   "outputs": [
    {
     "name": "stdout",
     "output_type": "stream",
     "text": [
      "[LibSVM]"
     ]
    },
    {
     "data": {
      "text/html": [
       "<style>#sk-container-id-11 {color: black;background-color: white;}#sk-container-id-11 pre{padding: 0;}#sk-container-id-11 div.sk-toggleable {background-color: white;}#sk-container-id-11 label.sk-toggleable__label {cursor: pointer;display: block;width: 100%;margin-bottom: 0;padding: 0.3em;box-sizing: border-box;text-align: center;}#sk-container-id-11 label.sk-toggleable__label-arrow:before {content: \"▸\";float: left;margin-right: 0.25em;color: #696969;}#sk-container-id-11 label.sk-toggleable__label-arrow:hover:before {color: black;}#sk-container-id-11 div.sk-estimator:hover label.sk-toggleable__label-arrow:before {color: black;}#sk-container-id-11 div.sk-toggleable__content {max-height: 0;max-width: 0;overflow: hidden;text-align: left;background-color: #f0f8ff;}#sk-container-id-11 div.sk-toggleable__content pre {margin: 0.2em;color: black;border-radius: 0.25em;background-color: #f0f8ff;}#sk-container-id-11 input.sk-toggleable__control:checked~div.sk-toggleable__content {max-height: 200px;max-width: 100%;overflow: auto;}#sk-container-id-11 input.sk-toggleable__control:checked~label.sk-toggleable__label-arrow:before {content: \"▾\";}#sk-container-id-11 div.sk-estimator input.sk-toggleable__control:checked~label.sk-toggleable__label {background-color: #d4ebff;}#sk-container-id-11 div.sk-label input.sk-toggleable__control:checked~label.sk-toggleable__label {background-color: #d4ebff;}#sk-container-id-11 input.sk-hidden--visually {border: 0;clip: rect(1px 1px 1px 1px);clip: rect(1px, 1px, 1px, 1px);height: 1px;margin: -1px;overflow: hidden;padding: 0;position: absolute;width: 1px;}#sk-container-id-11 div.sk-estimator {font-family: monospace;background-color: #f0f8ff;border: 1px dotted black;border-radius: 0.25em;box-sizing: border-box;margin-bottom: 0.5em;}#sk-container-id-11 div.sk-estimator:hover {background-color: #d4ebff;}#sk-container-id-11 div.sk-parallel-item::after {content: \"\";width: 100%;border-bottom: 1px solid gray;flex-grow: 1;}#sk-container-id-11 div.sk-label:hover label.sk-toggleable__label {background-color: #d4ebff;}#sk-container-id-11 div.sk-serial::before {content: \"\";position: absolute;border-left: 1px solid gray;box-sizing: border-box;top: 0;bottom: 0;left: 50%;z-index: 0;}#sk-container-id-11 div.sk-serial {display: flex;flex-direction: column;align-items: center;background-color: white;padding-right: 0.2em;padding-left: 0.2em;position: relative;}#sk-container-id-11 div.sk-item {position: relative;z-index: 1;}#sk-container-id-11 div.sk-parallel {display: flex;align-items: stretch;justify-content: center;background-color: white;position: relative;}#sk-container-id-11 div.sk-item::before, #sk-container-id-11 div.sk-parallel-item::before {content: \"\";position: absolute;border-left: 1px solid gray;box-sizing: border-box;top: 0;bottom: 0;left: 50%;z-index: -1;}#sk-container-id-11 div.sk-parallel-item {display: flex;flex-direction: column;z-index: 1;position: relative;background-color: white;}#sk-container-id-11 div.sk-parallel-item:first-child::after {align-self: flex-end;width: 50%;}#sk-container-id-11 div.sk-parallel-item:last-child::after {align-self: flex-start;width: 50%;}#sk-container-id-11 div.sk-parallel-item:only-child::after {width: 0;}#sk-container-id-11 div.sk-dashed-wrapped {border: 1px dashed gray;margin: 0 0.4em 0.5em 0.4em;box-sizing: border-box;padding-bottom: 0.4em;background-color: white;}#sk-container-id-11 div.sk-label label {font-family: monospace;font-weight: bold;display: inline-block;line-height: 1.2em;}#sk-container-id-11 div.sk-label-container {text-align: center;}#sk-container-id-11 div.sk-container {/* jupyter's `normalize.less` sets `[hidden] { display: none; }` but bootstrap.min.css set `[hidden] { display: none !important; }` so we also need the `!important` here to be able to override the default hidden behavior on the sphinx rendered scikit-learn.org. See: https://github.com/scikit-learn/scikit-learn/issues/21755 */display: inline-block !important;position: relative;}#sk-container-id-11 div.sk-text-repr-fallback {display: none;}</style><div id=\"sk-container-id-11\" class=\"sk-top-container\"><div class=\"sk-text-repr-fallback\"><pre>Pipeline(steps=[(&#x27;columntransformer&#x27;,\n",
       "                 ColumnTransformer(transformers=[(&#x27;functiontransformer&#x27;,\n",
       "                                                  FunctionTransformer(feature_names_out=&#x27;one-to-one&#x27;,\n",
       "                                                                      func=&lt;function col_log at 0x00000286800865C0&gt;),\n",
       "                                                  Index([&#x27;X_Minimum&#x27;, &#x27;X_Maximum&#x27;, &#x27;Y_Minimum&#x27;, &#x27;Y_Maximum&#x27;, &#x27;Pixels_Areas&#x27;,\n",
       "       &#x27;X_Perimeter&#x27;, &#x27;Y_Perimeter&#x27;, &#x27;Sum_of_Luminosity&#x27;,\n",
       "       &#x27;Minimum_of_Luminosity&#x27;, &#x27;Maximum_of_Luminosit...\n",
       "       &#x27;TypeOfSteel_A300&#x27;, &#x27;TypeOfSteel_A400&#x27;, &#x27;Steel_Plate_Thickness&#x27;,\n",
       "       &#x27;Edges_Index&#x27;, &#x27;Empty_Index&#x27;, &#x27;Square_Index&#x27;, &#x27;Outside_X_Index&#x27;,\n",
       "       &#x27;Edges_X_Index&#x27;, &#x27;Edges_Y_Index&#x27;, &#x27;Outside_Global_Index&#x27;, &#x27;LogOfAreas&#x27;,\n",
       "       &#x27;Log_X_Index&#x27;, &#x27;Log_Y_Index&#x27;, &#x27;Orientation_Index&#x27;, &#x27;Luminosity_Index&#x27;,\n",
       "       &#x27;SigmoidOfAreas&#x27;],\n",
       "      dtype=&#x27;object&#x27;))])),\n",
       "                (&#x27;standardscaler&#x27;, StandardScaler()),\n",
       "                (&#x27;svc&#x27;,\n",
       "                 SVC(C=0.1, kernel=&#x27;linear&#x27;, probability=True, random_state=42,\n",
       "                     verbose=5))])</pre><b>In a Jupyter environment, please rerun this cell to show the HTML representation or trust the notebook. <br />On GitHub, the HTML representation is unable to render, please try loading this page with nbviewer.org.</b></div><div class=\"sk-container\" hidden><div class=\"sk-item sk-dashed-wrapped\"><div class=\"sk-label-container\"><div class=\"sk-label sk-toggleable\"><input class=\"sk-toggleable__control sk-hidden--visually\" id=\"sk-estimator-id-43\" type=\"checkbox\" ><label for=\"sk-estimator-id-43\" class=\"sk-toggleable__label sk-toggleable__label-arrow\">Pipeline</label><div class=\"sk-toggleable__content\"><pre>Pipeline(steps=[(&#x27;columntransformer&#x27;,\n",
       "                 ColumnTransformer(transformers=[(&#x27;functiontransformer&#x27;,\n",
       "                                                  FunctionTransformer(feature_names_out=&#x27;one-to-one&#x27;,\n",
       "                                                                      func=&lt;function col_log at 0x00000286800865C0&gt;),\n",
       "                                                  Index([&#x27;X_Minimum&#x27;, &#x27;X_Maximum&#x27;, &#x27;Y_Minimum&#x27;, &#x27;Y_Maximum&#x27;, &#x27;Pixels_Areas&#x27;,\n",
       "       &#x27;X_Perimeter&#x27;, &#x27;Y_Perimeter&#x27;, &#x27;Sum_of_Luminosity&#x27;,\n",
       "       &#x27;Minimum_of_Luminosity&#x27;, &#x27;Maximum_of_Luminosit...\n",
       "       &#x27;TypeOfSteel_A300&#x27;, &#x27;TypeOfSteel_A400&#x27;, &#x27;Steel_Plate_Thickness&#x27;,\n",
       "       &#x27;Edges_Index&#x27;, &#x27;Empty_Index&#x27;, &#x27;Square_Index&#x27;, &#x27;Outside_X_Index&#x27;,\n",
       "       &#x27;Edges_X_Index&#x27;, &#x27;Edges_Y_Index&#x27;, &#x27;Outside_Global_Index&#x27;, &#x27;LogOfAreas&#x27;,\n",
       "       &#x27;Log_X_Index&#x27;, &#x27;Log_Y_Index&#x27;, &#x27;Orientation_Index&#x27;, &#x27;Luminosity_Index&#x27;,\n",
       "       &#x27;SigmoidOfAreas&#x27;],\n",
       "      dtype=&#x27;object&#x27;))])),\n",
       "                (&#x27;standardscaler&#x27;, StandardScaler()),\n",
       "                (&#x27;svc&#x27;,\n",
       "                 SVC(C=0.1, kernel=&#x27;linear&#x27;, probability=True, random_state=42,\n",
       "                     verbose=5))])</pre></div></div></div><div class=\"sk-serial\"><div class=\"sk-item sk-dashed-wrapped\"><div class=\"sk-label-container\"><div class=\"sk-label sk-toggleable\"><input class=\"sk-toggleable__control sk-hidden--visually\" id=\"sk-estimator-id-44\" type=\"checkbox\" ><label for=\"sk-estimator-id-44\" class=\"sk-toggleable__label sk-toggleable__label-arrow\">columntransformer: ColumnTransformer</label><div class=\"sk-toggleable__content\"><pre>ColumnTransformer(transformers=[(&#x27;functiontransformer&#x27;,\n",
       "                                 FunctionTransformer(feature_names_out=&#x27;one-to-one&#x27;,\n",
       "                                                     func=&lt;function col_log at 0x00000286800865C0&gt;),\n",
       "                                 Index([&#x27;X_Minimum&#x27;, &#x27;X_Maximum&#x27;, &#x27;Y_Minimum&#x27;, &#x27;Y_Maximum&#x27;, &#x27;Pixels_Areas&#x27;,\n",
       "       &#x27;X_Perimeter&#x27;, &#x27;Y_Perimeter&#x27;, &#x27;Sum_of_Luminosity&#x27;,\n",
       "       &#x27;Minimum_of_Luminosity&#x27;, &#x27;Maximum_of_Luminosity&#x27;, &#x27;Length_of_Conveyer&#x27;,\n",
       "       &#x27;TypeOfSteel_A300&#x27;, &#x27;TypeOfSteel_A400&#x27;, &#x27;Steel_Plate_Thickness&#x27;,\n",
       "       &#x27;Edges_Index&#x27;, &#x27;Empty_Index&#x27;, &#x27;Square_Index&#x27;, &#x27;Outside_X_Index&#x27;,\n",
       "       &#x27;Edges_X_Index&#x27;, &#x27;Edges_Y_Index&#x27;, &#x27;Outside_Global_Index&#x27;, &#x27;LogOfAreas&#x27;,\n",
       "       &#x27;Log_X_Index&#x27;, &#x27;Log_Y_Index&#x27;, &#x27;Orientation_Index&#x27;, &#x27;Luminosity_Index&#x27;,\n",
       "       &#x27;SigmoidOfAreas&#x27;],\n",
       "      dtype=&#x27;object&#x27;))])</pre></div></div></div><div class=\"sk-parallel\"><div class=\"sk-parallel-item\"><div class=\"sk-item\"><div class=\"sk-label-container\"><div class=\"sk-label sk-toggleable\"><input class=\"sk-toggleable__control sk-hidden--visually\" id=\"sk-estimator-id-45\" type=\"checkbox\" ><label for=\"sk-estimator-id-45\" class=\"sk-toggleable__label sk-toggleable__label-arrow\">functiontransformer</label><div class=\"sk-toggleable__content\"><pre>Index([&#x27;X_Minimum&#x27;, &#x27;X_Maximum&#x27;, &#x27;Y_Minimum&#x27;, &#x27;Y_Maximum&#x27;, &#x27;Pixels_Areas&#x27;,\n",
       "       &#x27;X_Perimeter&#x27;, &#x27;Y_Perimeter&#x27;, &#x27;Sum_of_Luminosity&#x27;,\n",
       "       &#x27;Minimum_of_Luminosity&#x27;, &#x27;Maximum_of_Luminosity&#x27;, &#x27;Length_of_Conveyer&#x27;,\n",
       "       &#x27;TypeOfSteel_A300&#x27;, &#x27;TypeOfSteel_A400&#x27;, &#x27;Steel_Plate_Thickness&#x27;,\n",
       "       &#x27;Edges_Index&#x27;, &#x27;Empty_Index&#x27;, &#x27;Square_Index&#x27;, &#x27;Outside_X_Index&#x27;,\n",
       "       &#x27;Edges_X_Index&#x27;, &#x27;Edges_Y_Index&#x27;, &#x27;Outside_Global_Index&#x27;, &#x27;LogOfAreas&#x27;,\n",
       "       &#x27;Log_X_Index&#x27;, &#x27;Log_Y_Index&#x27;, &#x27;Orientation_Index&#x27;, &#x27;Luminosity_Index&#x27;,\n",
       "       &#x27;SigmoidOfAreas&#x27;],\n",
       "      dtype=&#x27;object&#x27;)</pre></div></div></div><div class=\"sk-serial\"><div class=\"sk-item\"><div class=\"sk-estimator sk-toggleable\"><input class=\"sk-toggleable__control sk-hidden--visually\" id=\"sk-estimator-id-46\" type=\"checkbox\" ><label for=\"sk-estimator-id-46\" class=\"sk-toggleable__label sk-toggleable__label-arrow\">FunctionTransformer</label><div class=\"sk-toggleable__content\"><pre>FunctionTransformer(feature_names_out=&#x27;one-to-one&#x27;,\n",
       "                    func=&lt;function col_log at 0x00000286800865C0&gt;)</pre></div></div></div></div></div></div></div></div><div class=\"sk-item\"><div class=\"sk-estimator sk-toggleable\"><input class=\"sk-toggleable__control sk-hidden--visually\" id=\"sk-estimator-id-47\" type=\"checkbox\" ><label for=\"sk-estimator-id-47\" class=\"sk-toggleable__label sk-toggleable__label-arrow\">StandardScaler</label><div class=\"sk-toggleable__content\"><pre>StandardScaler()</pre></div></div></div><div class=\"sk-item\"><div class=\"sk-estimator sk-toggleable\"><input class=\"sk-toggleable__control sk-hidden--visually\" id=\"sk-estimator-id-48\" type=\"checkbox\" ><label for=\"sk-estimator-id-48\" class=\"sk-toggleable__label sk-toggleable__label-arrow\">SVC</label><div class=\"sk-toggleable__content\"><pre>SVC(C=0.1, kernel=&#x27;linear&#x27;, probability=True, random_state=42, verbose=5)</pre></div></div></div></div></div></div></div>"
      ],
      "text/plain": [
       "Pipeline(steps=[('columntransformer',\n",
       "                 ColumnTransformer(transformers=[('functiontransformer',\n",
       "                                                  FunctionTransformer(feature_names_out='one-to-one',\n",
       "                                                                      func=<function col_log at 0x00000286800865C0>),\n",
       "                                                  Index(['X_Minimum', 'X_Maximum', 'Y_Minimum', 'Y_Maximum', 'Pixels_Areas',\n",
       "       'X_Perimeter', 'Y_Perimeter', 'Sum_of_Luminosity',\n",
       "       'Minimum_of_Luminosity', 'Maximum_of_Luminosit...\n",
       "       'TypeOfSteel_A300', 'TypeOfSteel_A400', 'Steel_Plate_Thickness',\n",
       "       'Edges_Index', 'Empty_Index', 'Square_Index', 'Outside_X_Index',\n",
       "       'Edges_X_Index', 'Edges_Y_Index', 'Outside_Global_Index', 'LogOfAreas',\n",
       "       'Log_X_Index', 'Log_Y_Index', 'Orientation_Index', 'Luminosity_Index',\n",
       "       'SigmoidOfAreas'],\n",
       "      dtype='object'))])),\n",
       "                ('standardscaler', StandardScaler()),\n",
       "                ('svc',\n",
       "                 SVC(C=0.1, kernel='linear', probability=True, random_state=42,\n",
       "                     verbose=5))])"
      ]
     },
     "execution_count": 74,
     "metadata": {},
     "output_type": "execute_result"
    }
   ],
   "source": [
    "svc.fit(X_train[:12000], y_train[:12000])"
   ]
  },
  {
   "cell_type": "code",
   "execution_count": 75,
   "id": "b9d208db-aaf7-4e6e-800b-c5ac5a5637db",
   "metadata": {},
   "outputs": [
    {
     "data": {
      "text/plain": [
       "0.8442575850946156"
      ]
     },
     "execution_count": 75,
     "metadata": {},
     "output_type": "execute_result"
    }
   ],
   "source": [
    "roc_auc_score(y_valid, svc.predict_proba(X_valid), multi_class=\"ovr\")"
   ]
  },
  {
   "cell_type": "code",
   "execution_count": 22,
   "id": "95b65ca0-afa3-4c96-b610-4dd166000b18",
   "metadata": {},
   "outputs": [
    {
     "data": {
      "text/plain": [
       "0.5511619840443982"
      ]
     },
     "execution_count": 22,
     "metadata": {},
     "output_type": "execute_result"
    }
   ],
   "source": [
    "accuracy_score(svc.predict(X_valid), y_valid)"
   ]
  },
  {
   "cell_type": "markdown",
   "id": "53217400-1931-4a92-a082-2c9a158796b9",
   "metadata": {},
   "source": [
    "## Logistic Regression"
   ]
  },
  {
   "cell_type": "code",
   "execution_count": 114,
   "id": "5ea51d5a-7b54-4f32-87d6-a3ba58d8706a",
   "metadata": {},
   "outputs": [],
   "source": [
    "from sklearn.linear_model import LogisticRegression"
   ]
  },
  {
   "cell_type": "code",
   "execution_count": 115,
   "id": "1b4b69e3-a9a6-40d3-b6ea-c7b0678f6007",
   "metadata": {},
   "outputs": [],
   "source": [
    "logi_reg = make_pipeline(\n",
    "    preprocessing,\n",
    "    StandardScaler(),\n",
    "    LogisticRegression(random_state=42, max_iter=100_000)\n",
    ")"
   ]
  },
  {
   "cell_type": "code",
   "execution_count": 116,
   "id": "c9ebddec-44ce-4567-8663-5fb2bd17aac9",
   "metadata": {},
   "outputs": [
    {
     "data": {
      "text/html": [
       "<style>#sk-container-id-17 {color: black;background-color: white;}#sk-container-id-17 pre{padding: 0;}#sk-container-id-17 div.sk-toggleable {background-color: white;}#sk-container-id-17 label.sk-toggleable__label {cursor: pointer;display: block;width: 100%;margin-bottom: 0;padding: 0.3em;box-sizing: border-box;text-align: center;}#sk-container-id-17 label.sk-toggleable__label-arrow:before {content: \"▸\";float: left;margin-right: 0.25em;color: #696969;}#sk-container-id-17 label.sk-toggleable__label-arrow:hover:before {color: black;}#sk-container-id-17 div.sk-estimator:hover label.sk-toggleable__label-arrow:before {color: black;}#sk-container-id-17 div.sk-toggleable__content {max-height: 0;max-width: 0;overflow: hidden;text-align: left;background-color: #f0f8ff;}#sk-container-id-17 div.sk-toggleable__content pre {margin: 0.2em;color: black;border-radius: 0.25em;background-color: #f0f8ff;}#sk-container-id-17 input.sk-toggleable__control:checked~div.sk-toggleable__content {max-height: 200px;max-width: 100%;overflow: auto;}#sk-container-id-17 input.sk-toggleable__control:checked~label.sk-toggleable__label-arrow:before {content: \"▾\";}#sk-container-id-17 div.sk-estimator input.sk-toggleable__control:checked~label.sk-toggleable__label {background-color: #d4ebff;}#sk-container-id-17 div.sk-label input.sk-toggleable__control:checked~label.sk-toggleable__label {background-color: #d4ebff;}#sk-container-id-17 input.sk-hidden--visually {border: 0;clip: rect(1px 1px 1px 1px);clip: rect(1px, 1px, 1px, 1px);height: 1px;margin: -1px;overflow: hidden;padding: 0;position: absolute;width: 1px;}#sk-container-id-17 div.sk-estimator {font-family: monospace;background-color: #f0f8ff;border: 1px dotted black;border-radius: 0.25em;box-sizing: border-box;margin-bottom: 0.5em;}#sk-container-id-17 div.sk-estimator:hover {background-color: #d4ebff;}#sk-container-id-17 div.sk-parallel-item::after {content: \"\";width: 100%;border-bottom: 1px solid gray;flex-grow: 1;}#sk-container-id-17 div.sk-label:hover label.sk-toggleable__label {background-color: #d4ebff;}#sk-container-id-17 div.sk-serial::before {content: \"\";position: absolute;border-left: 1px solid gray;box-sizing: border-box;top: 0;bottom: 0;left: 50%;z-index: 0;}#sk-container-id-17 div.sk-serial {display: flex;flex-direction: column;align-items: center;background-color: white;padding-right: 0.2em;padding-left: 0.2em;position: relative;}#sk-container-id-17 div.sk-item {position: relative;z-index: 1;}#sk-container-id-17 div.sk-parallel {display: flex;align-items: stretch;justify-content: center;background-color: white;position: relative;}#sk-container-id-17 div.sk-item::before, #sk-container-id-17 div.sk-parallel-item::before {content: \"\";position: absolute;border-left: 1px solid gray;box-sizing: border-box;top: 0;bottom: 0;left: 50%;z-index: -1;}#sk-container-id-17 div.sk-parallel-item {display: flex;flex-direction: column;z-index: 1;position: relative;background-color: white;}#sk-container-id-17 div.sk-parallel-item:first-child::after {align-self: flex-end;width: 50%;}#sk-container-id-17 div.sk-parallel-item:last-child::after {align-self: flex-start;width: 50%;}#sk-container-id-17 div.sk-parallel-item:only-child::after {width: 0;}#sk-container-id-17 div.sk-dashed-wrapped {border: 1px dashed gray;margin: 0 0.4em 0.5em 0.4em;box-sizing: border-box;padding-bottom: 0.4em;background-color: white;}#sk-container-id-17 div.sk-label label {font-family: monospace;font-weight: bold;display: inline-block;line-height: 1.2em;}#sk-container-id-17 div.sk-label-container {text-align: center;}#sk-container-id-17 div.sk-container {/* jupyter's `normalize.less` sets `[hidden] { display: none; }` but bootstrap.min.css set `[hidden] { display: none !important; }` so we also need the `!important` here to be able to override the default hidden behavior on the sphinx rendered scikit-learn.org. See: https://github.com/scikit-learn/scikit-learn/issues/21755 */display: inline-block !important;position: relative;}#sk-container-id-17 div.sk-text-repr-fallback {display: none;}</style><div id=\"sk-container-id-17\" class=\"sk-top-container\"><div class=\"sk-text-repr-fallback\"><pre>Pipeline(steps=[(&#x27;columntransformer&#x27;,\n",
       "                 ColumnTransformer(transformers=[(&#x27;functiontransformer&#x27;,\n",
       "                                                  FunctionTransformer(feature_names_out=&#x27;one-to-one&#x27;,\n",
       "                                                                      func=&lt;function col_log at 0x000001B46CCB4720&gt;),\n",
       "                                                  Index([&#x27;X_Minimum&#x27;, &#x27;X_Maximum&#x27;, &#x27;Y_Minimum&#x27;, &#x27;Y_Maximum&#x27;, &#x27;Pixels_Areas&#x27;,\n",
       "       &#x27;X_Perimeter&#x27;, &#x27;Y_Perimeter&#x27;, &#x27;Sum_of_Luminosity&#x27;,\n",
       "       &#x27;Minimum_of_Luminosity&#x27;, &#x27;Maximum_of_Luminosit...\n",
       "       &#x27;TypeOfSteel_A300&#x27;, &#x27;TypeOfSteel_A400&#x27;, &#x27;Steel_Plate_Thickness&#x27;,\n",
       "       &#x27;Edges_Index&#x27;, &#x27;Empty_Index&#x27;, &#x27;Square_Index&#x27;, &#x27;Outside_X_Index&#x27;,\n",
       "       &#x27;Edges_X_Index&#x27;, &#x27;Edges_Y_Index&#x27;, &#x27;Outside_Global_Index&#x27;, &#x27;LogOfAreas&#x27;,\n",
       "       &#x27;Log_X_Index&#x27;, &#x27;Log_Y_Index&#x27;, &#x27;Orientation_Index&#x27;, &#x27;Luminosity_Index&#x27;,\n",
       "       &#x27;SigmoidOfAreas&#x27;],\n",
       "      dtype=&#x27;object&#x27;))])),\n",
       "                (&#x27;standardscaler&#x27;, StandardScaler()),\n",
       "                (&#x27;logisticregression&#x27;,\n",
       "                 LogisticRegression(max_iter=100000, random_state=42))])</pre><b>In a Jupyter environment, please rerun this cell to show the HTML representation or trust the notebook. <br />On GitHub, the HTML representation is unable to render, please try loading this page with nbviewer.org.</b></div><div class=\"sk-container\" hidden><div class=\"sk-item sk-dashed-wrapped\"><div class=\"sk-label-container\"><div class=\"sk-label sk-toggleable\"><input class=\"sk-toggleable__control sk-hidden--visually\" id=\"sk-estimator-id-298\" type=\"checkbox\" ><label for=\"sk-estimator-id-298\" class=\"sk-toggleable__label sk-toggleable__label-arrow\">Pipeline</label><div class=\"sk-toggleable__content\"><pre>Pipeline(steps=[(&#x27;columntransformer&#x27;,\n",
       "                 ColumnTransformer(transformers=[(&#x27;functiontransformer&#x27;,\n",
       "                                                  FunctionTransformer(feature_names_out=&#x27;one-to-one&#x27;,\n",
       "                                                                      func=&lt;function col_log at 0x000001B46CCB4720&gt;),\n",
       "                                                  Index([&#x27;X_Minimum&#x27;, &#x27;X_Maximum&#x27;, &#x27;Y_Minimum&#x27;, &#x27;Y_Maximum&#x27;, &#x27;Pixels_Areas&#x27;,\n",
       "       &#x27;X_Perimeter&#x27;, &#x27;Y_Perimeter&#x27;, &#x27;Sum_of_Luminosity&#x27;,\n",
       "       &#x27;Minimum_of_Luminosity&#x27;, &#x27;Maximum_of_Luminosit...\n",
       "       &#x27;TypeOfSteel_A300&#x27;, &#x27;TypeOfSteel_A400&#x27;, &#x27;Steel_Plate_Thickness&#x27;,\n",
       "       &#x27;Edges_Index&#x27;, &#x27;Empty_Index&#x27;, &#x27;Square_Index&#x27;, &#x27;Outside_X_Index&#x27;,\n",
       "       &#x27;Edges_X_Index&#x27;, &#x27;Edges_Y_Index&#x27;, &#x27;Outside_Global_Index&#x27;, &#x27;LogOfAreas&#x27;,\n",
       "       &#x27;Log_X_Index&#x27;, &#x27;Log_Y_Index&#x27;, &#x27;Orientation_Index&#x27;, &#x27;Luminosity_Index&#x27;,\n",
       "       &#x27;SigmoidOfAreas&#x27;],\n",
       "      dtype=&#x27;object&#x27;))])),\n",
       "                (&#x27;standardscaler&#x27;, StandardScaler()),\n",
       "                (&#x27;logisticregression&#x27;,\n",
       "                 LogisticRegression(max_iter=100000, random_state=42))])</pre></div></div></div><div class=\"sk-serial\"><div class=\"sk-item sk-dashed-wrapped\"><div class=\"sk-label-container\"><div class=\"sk-label sk-toggleable\"><input class=\"sk-toggleable__control sk-hidden--visually\" id=\"sk-estimator-id-299\" type=\"checkbox\" ><label for=\"sk-estimator-id-299\" class=\"sk-toggleable__label sk-toggleable__label-arrow\">columntransformer: ColumnTransformer</label><div class=\"sk-toggleable__content\"><pre>ColumnTransformer(transformers=[(&#x27;functiontransformer&#x27;,\n",
       "                                 FunctionTransformer(feature_names_out=&#x27;one-to-one&#x27;,\n",
       "                                                     func=&lt;function col_log at 0x000001B46CCB4720&gt;),\n",
       "                                 Index([&#x27;X_Minimum&#x27;, &#x27;X_Maximum&#x27;, &#x27;Y_Minimum&#x27;, &#x27;Y_Maximum&#x27;, &#x27;Pixels_Areas&#x27;,\n",
       "       &#x27;X_Perimeter&#x27;, &#x27;Y_Perimeter&#x27;, &#x27;Sum_of_Luminosity&#x27;,\n",
       "       &#x27;Minimum_of_Luminosity&#x27;, &#x27;Maximum_of_Luminosity&#x27;, &#x27;Length_of_Conveyer&#x27;,\n",
       "       &#x27;TypeOfSteel_A300&#x27;, &#x27;TypeOfSteel_A400&#x27;, &#x27;Steel_Plate_Thickness&#x27;,\n",
       "       &#x27;Edges_Index&#x27;, &#x27;Empty_Index&#x27;, &#x27;Square_Index&#x27;, &#x27;Outside_X_Index&#x27;,\n",
       "       &#x27;Edges_X_Index&#x27;, &#x27;Edges_Y_Index&#x27;, &#x27;Outside_Global_Index&#x27;, &#x27;LogOfAreas&#x27;,\n",
       "       &#x27;Log_X_Index&#x27;, &#x27;Log_Y_Index&#x27;, &#x27;Orientation_Index&#x27;, &#x27;Luminosity_Index&#x27;,\n",
       "       &#x27;SigmoidOfAreas&#x27;],\n",
       "      dtype=&#x27;object&#x27;))])</pre></div></div></div><div class=\"sk-parallel\"><div class=\"sk-parallel-item\"><div class=\"sk-item\"><div class=\"sk-label-container\"><div class=\"sk-label sk-toggleable\"><input class=\"sk-toggleable__control sk-hidden--visually\" id=\"sk-estimator-id-300\" type=\"checkbox\" ><label for=\"sk-estimator-id-300\" class=\"sk-toggleable__label sk-toggleable__label-arrow\">functiontransformer</label><div class=\"sk-toggleable__content\"><pre>Index([&#x27;X_Minimum&#x27;, &#x27;X_Maximum&#x27;, &#x27;Y_Minimum&#x27;, &#x27;Y_Maximum&#x27;, &#x27;Pixels_Areas&#x27;,\n",
       "       &#x27;X_Perimeter&#x27;, &#x27;Y_Perimeter&#x27;, &#x27;Sum_of_Luminosity&#x27;,\n",
       "       &#x27;Minimum_of_Luminosity&#x27;, &#x27;Maximum_of_Luminosity&#x27;, &#x27;Length_of_Conveyer&#x27;,\n",
       "       &#x27;TypeOfSteel_A300&#x27;, &#x27;TypeOfSteel_A400&#x27;, &#x27;Steel_Plate_Thickness&#x27;,\n",
       "       &#x27;Edges_Index&#x27;, &#x27;Empty_Index&#x27;, &#x27;Square_Index&#x27;, &#x27;Outside_X_Index&#x27;,\n",
       "       &#x27;Edges_X_Index&#x27;, &#x27;Edges_Y_Index&#x27;, &#x27;Outside_Global_Index&#x27;, &#x27;LogOfAreas&#x27;,\n",
       "       &#x27;Log_X_Index&#x27;, &#x27;Log_Y_Index&#x27;, &#x27;Orientation_Index&#x27;, &#x27;Luminosity_Index&#x27;,\n",
       "       &#x27;SigmoidOfAreas&#x27;],\n",
       "      dtype=&#x27;object&#x27;)</pre></div></div></div><div class=\"sk-serial\"><div class=\"sk-item\"><div class=\"sk-estimator sk-toggleable\"><input class=\"sk-toggleable__control sk-hidden--visually\" id=\"sk-estimator-id-301\" type=\"checkbox\" ><label for=\"sk-estimator-id-301\" class=\"sk-toggleable__label sk-toggleable__label-arrow\">FunctionTransformer</label><div class=\"sk-toggleable__content\"><pre>FunctionTransformer(feature_names_out=&#x27;one-to-one&#x27;,\n",
       "                    func=&lt;function col_log at 0x000001B46CCB4720&gt;)</pre></div></div></div></div></div></div></div></div><div class=\"sk-item\"><div class=\"sk-estimator sk-toggleable\"><input class=\"sk-toggleable__control sk-hidden--visually\" id=\"sk-estimator-id-302\" type=\"checkbox\" ><label for=\"sk-estimator-id-302\" class=\"sk-toggleable__label sk-toggleable__label-arrow\">StandardScaler</label><div class=\"sk-toggleable__content\"><pre>StandardScaler()</pre></div></div></div><div class=\"sk-item\"><div class=\"sk-estimator sk-toggleable\"><input class=\"sk-toggleable__control sk-hidden--visually\" id=\"sk-estimator-id-303\" type=\"checkbox\" ><label for=\"sk-estimator-id-303\" class=\"sk-toggleable__label sk-toggleable__label-arrow\">LogisticRegression</label><div class=\"sk-toggleable__content\"><pre>LogisticRegression(max_iter=100000, random_state=42)</pre></div></div></div></div></div></div></div>"
      ],
      "text/plain": [
       "Pipeline(steps=[('columntransformer',\n",
       "                 ColumnTransformer(transformers=[('functiontransformer',\n",
       "                                                  FunctionTransformer(feature_names_out='one-to-one',\n",
       "                                                                      func=<function col_log at 0x000001B46CCB4720>),\n",
       "                                                  Index(['X_Minimum', 'X_Maximum', 'Y_Minimum', 'Y_Maximum', 'Pixels_Areas',\n",
       "       'X_Perimeter', 'Y_Perimeter', 'Sum_of_Luminosity',\n",
       "       'Minimum_of_Luminosity', 'Maximum_of_Luminosit...\n",
       "       'TypeOfSteel_A300', 'TypeOfSteel_A400', 'Steel_Plate_Thickness',\n",
       "       'Edges_Index', 'Empty_Index', 'Square_Index', 'Outside_X_Index',\n",
       "       'Edges_X_Index', 'Edges_Y_Index', 'Outside_Global_Index', 'LogOfAreas',\n",
       "       'Log_X_Index', 'Log_Y_Index', 'Orientation_Index', 'Luminosity_Index',\n",
       "       'SigmoidOfAreas'],\n",
       "      dtype='object'))])),\n",
       "                ('standardscaler', StandardScaler()),\n",
       "                ('logisticregression',\n",
       "                 LogisticRegression(max_iter=100000, random_state=42))])"
      ]
     },
     "execution_count": 116,
     "metadata": {},
     "output_type": "execute_result"
    }
   ],
   "source": [
    "logi_reg.fit(X_train, y_train)"
   ]
  },
  {
   "cell_type": "code",
   "execution_count": 117,
   "id": "48c822d3-1005-44af-8db2-92def7d089dd",
   "metadata": {},
   "outputs": [
    {
     "data": {
      "text/plain": [
       "0.8515385914966002"
      ]
     },
     "execution_count": 117,
     "metadata": {},
     "output_type": "execute_result"
    }
   ],
   "source": [
    "roc_auc_score(y_valid, logi_reg.predict_proba(X_valid), multi_class=\"ovr\")"
   ]
  },
  {
   "cell_type": "code",
   "execution_count": 61,
   "id": "c3e65549-9f87-405f-99a4-629ba0a3d01c",
   "metadata": {},
   "outputs": [
    {
     "data": {
      "text/plain": [
       "0.5508151231356226"
      ]
     },
     "execution_count": 61,
     "metadata": {},
     "output_type": "execute_result"
    }
   ],
   "source": [
    "accuracy_score(logi_reg.predict(X_valid), y_valid)"
   ]
  },
  {
   "cell_type": "markdown",
   "id": "8280cfc4-9fa9-4c1e-9cc2-e68bd00152d1",
   "metadata": {},
   "source": [
    "## Random Forest"
   ]
  },
  {
   "cell_type": "code",
   "execution_count": 20,
   "id": "4787b044-9b6b-487d-ad64-5a990bafc556",
   "metadata": {},
   "outputs": [],
   "source": [
    "from sklearn.ensemble import RandomForestClassifier\n",
    "from sklearn.tree import DecisionTreeClassifier"
   ]
  },
  {
   "cell_type": "code",
   "execution_count": 21,
   "id": "1996c9a4-9aad-4873-be59-65ae02a68902",
   "metadata": {},
   "outputs": [],
   "source": [
    "def col_log(X):\n",
    "    return np.log(X + 1)"
   ]
  },
  {
   "cell_type": "code",
   "execution_count": 22,
   "id": "0f9f86f5-7e4f-4f2f-adaa-01a723f8cafd",
   "metadata": {},
   "outputs": [],
   "source": [
    "preprocessing = make_column_transformer(\n",
    "    (FunctionTransformer(col_log, feature_names_out=\"one-to-one\"), X.columns)\n",
    ")"
   ]
  },
  {
   "cell_type": "code",
   "execution_count": 120,
   "id": "a85a7417-947b-43b4-8e56-5bc948bf5510",
   "metadata": {},
   "outputs": [],
   "source": [
    "rand_forest = make_pipeline(\n",
    "    preprocessing,\n",
    "    StandardScaler(),\n",
    "    RandomForestClassifier(random_state=42)\n",
    ")"
   ]
  },
  {
   "cell_type": "code",
   "execution_count": 121,
   "id": "519114ac-b3e0-4f41-9174-b4584c2a74b3",
   "metadata": {},
   "outputs": [
    {
     "data": {
      "text/html": [
       "<style>#sk-container-id-19 {color: black;background-color: white;}#sk-container-id-19 pre{padding: 0;}#sk-container-id-19 div.sk-toggleable {background-color: white;}#sk-container-id-19 label.sk-toggleable__label {cursor: pointer;display: block;width: 100%;margin-bottom: 0;padding: 0.3em;box-sizing: border-box;text-align: center;}#sk-container-id-19 label.sk-toggleable__label-arrow:before {content: \"▸\";float: left;margin-right: 0.25em;color: #696969;}#sk-container-id-19 label.sk-toggleable__label-arrow:hover:before {color: black;}#sk-container-id-19 div.sk-estimator:hover label.sk-toggleable__label-arrow:before {color: black;}#sk-container-id-19 div.sk-toggleable__content {max-height: 0;max-width: 0;overflow: hidden;text-align: left;background-color: #f0f8ff;}#sk-container-id-19 div.sk-toggleable__content pre {margin: 0.2em;color: black;border-radius: 0.25em;background-color: #f0f8ff;}#sk-container-id-19 input.sk-toggleable__control:checked~div.sk-toggleable__content {max-height: 200px;max-width: 100%;overflow: auto;}#sk-container-id-19 input.sk-toggleable__control:checked~label.sk-toggleable__label-arrow:before {content: \"▾\";}#sk-container-id-19 div.sk-estimator input.sk-toggleable__control:checked~label.sk-toggleable__label {background-color: #d4ebff;}#sk-container-id-19 div.sk-label input.sk-toggleable__control:checked~label.sk-toggleable__label {background-color: #d4ebff;}#sk-container-id-19 input.sk-hidden--visually {border: 0;clip: rect(1px 1px 1px 1px);clip: rect(1px, 1px, 1px, 1px);height: 1px;margin: -1px;overflow: hidden;padding: 0;position: absolute;width: 1px;}#sk-container-id-19 div.sk-estimator {font-family: monospace;background-color: #f0f8ff;border: 1px dotted black;border-radius: 0.25em;box-sizing: border-box;margin-bottom: 0.5em;}#sk-container-id-19 div.sk-estimator:hover {background-color: #d4ebff;}#sk-container-id-19 div.sk-parallel-item::after {content: \"\";width: 100%;border-bottom: 1px solid gray;flex-grow: 1;}#sk-container-id-19 div.sk-label:hover label.sk-toggleable__label {background-color: #d4ebff;}#sk-container-id-19 div.sk-serial::before {content: \"\";position: absolute;border-left: 1px solid gray;box-sizing: border-box;top: 0;bottom: 0;left: 50%;z-index: 0;}#sk-container-id-19 div.sk-serial {display: flex;flex-direction: column;align-items: center;background-color: white;padding-right: 0.2em;padding-left: 0.2em;position: relative;}#sk-container-id-19 div.sk-item {position: relative;z-index: 1;}#sk-container-id-19 div.sk-parallel {display: flex;align-items: stretch;justify-content: center;background-color: white;position: relative;}#sk-container-id-19 div.sk-item::before, #sk-container-id-19 div.sk-parallel-item::before {content: \"\";position: absolute;border-left: 1px solid gray;box-sizing: border-box;top: 0;bottom: 0;left: 50%;z-index: -1;}#sk-container-id-19 div.sk-parallel-item {display: flex;flex-direction: column;z-index: 1;position: relative;background-color: white;}#sk-container-id-19 div.sk-parallel-item:first-child::after {align-self: flex-end;width: 50%;}#sk-container-id-19 div.sk-parallel-item:last-child::after {align-self: flex-start;width: 50%;}#sk-container-id-19 div.sk-parallel-item:only-child::after {width: 0;}#sk-container-id-19 div.sk-dashed-wrapped {border: 1px dashed gray;margin: 0 0.4em 0.5em 0.4em;box-sizing: border-box;padding-bottom: 0.4em;background-color: white;}#sk-container-id-19 div.sk-label label {font-family: monospace;font-weight: bold;display: inline-block;line-height: 1.2em;}#sk-container-id-19 div.sk-label-container {text-align: center;}#sk-container-id-19 div.sk-container {/* jupyter's `normalize.less` sets `[hidden] { display: none; }` but bootstrap.min.css set `[hidden] { display: none !important; }` so we also need the `!important` here to be able to override the default hidden behavior on the sphinx rendered scikit-learn.org. See: https://github.com/scikit-learn/scikit-learn/issues/21755 */display: inline-block !important;position: relative;}#sk-container-id-19 div.sk-text-repr-fallback {display: none;}</style><div id=\"sk-container-id-19\" class=\"sk-top-container\"><div class=\"sk-text-repr-fallback\"><pre>Pipeline(steps=[(&#x27;columntransformer&#x27;,\n",
       "                 ColumnTransformer(transformers=[(&#x27;functiontransformer&#x27;,\n",
       "                                                  FunctionTransformer(feature_names_out=&#x27;one-to-one&#x27;,\n",
       "                                                                      func=&lt;function col_log at 0x000001B46CCB4720&gt;),\n",
       "                                                  Index([&#x27;X_Minimum&#x27;, &#x27;X_Maximum&#x27;, &#x27;Y_Minimum&#x27;, &#x27;Y_Maximum&#x27;, &#x27;Pixels_Areas&#x27;,\n",
       "       &#x27;X_Perimeter&#x27;, &#x27;Y_Perimeter&#x27;, &#x27;Sum_of_Luminosity&#x27;,\n",
       "       &#x27;Minimum_of_Luminosity&#x27;, &#x27;Maximum_of_Luminosit...\n",
       "       &#x27;TypeOfSteel_A300&#x27;, &#x27;TypeOfSteel_A400&#x27;, &#x27;Steel_Plate_Thickness&#x27;,\n",
       "       &#x27;Edges_Index&#x27;, &#x27;Empty_Index&#x27;, &#x27;Square_Index&#x27;, &#x27;Outside_X_Index&#x27;,\n",
       "       &#x27;Edges_X_Index&#x27;, &#x27;Edges_Y_Index&#x27;, &#x27;Outside_Global_Index&#x27;, &#x27;LogOfAreas&#x27;,\n",
       "       &#x27;Log_X_Index&#x27;, &#x27;Log_Y_Index&#x27;, &#x27;Orientation_Index&#x27;, &#x27;Luminosity_Index&#x27;,\n",
       "       &#x27;SigmoidOfAreas&#x27;],\n",
       "      dtype=&#x27;object&#x27;))])),\n",
       "                (&#x27;standardscaler&#x27;, StandardScaler()),\n",
       "                (&#x27;randomforestclassifier&#x27;,\n",
       "                 RandomForestClassifier(random_state=42))])</pre><b>In a Jupyter environment, please rerun this cell to show the HTML representation or trust the notebook. <br />On GitHub, the HTML representation is unable to render, please try loading this page with nbviewer.org.</b></div><div class=\"sk-container\" hidden><div class=\"sk-item sk-dashed-wrapped\"><div class=\"sk-label-container\"><div class=\"sk-label sk-toggleable\"><input class=\"sk-toggleable__control sk-hidden--visually\" id=\"sk-estimator-id-310\" type=\"checkbox\" ><label for=\"sk-estimator-id-310\" class=\"sk-toggleable__label sk-toggleable__label-arrow\">Pipeline</label><div class=\"sk-toggleable__content\"><pre>Pipeline(steps=[(&#x27;columntransformer&#x27;,\n",
       "                 ColumnTransformer(transformers=[(&#x27;functiontransformer&#x27;,\n",
       "                                                  FunctionTransformer(feature_names_out=&#x27;one-to-one&#x27;,\n",
       "                                                                      func=&lt;function col_log at 0x000001B46CCB4720&gt;),\n",
       "                                                  Index([&#x27;X_Minimum&#x27;, &#x27;X_Maximum&#x27;, &#x27;Y_Minimum&#x27;, &#x27;Y_Maximum&#x27;, &#x27;Pixels_Areas&#x27;,\n",
       "       &#x27;X_Perimeter&#x27;, &#x27;Y_Perimeter&#x27;, &#x27;Sum_of_Luminosity&#x27;,\n",
       "       &#x27;Minimum_of_Luminosity&#x27;, &#x27;Maximum_of_Luminosit...\n",
       "       &#x27;TypeOfSteel_A300&#x27;, &#x27;TypeOfSteel_A400&#x27;, &#x27;Steel_Plate_Thickness&#x27;,\n",
       "       &#x27;Edges_Index&#x27;, &#x27;Empty_Index&#x27;, &#x27;Square_Index&#x27;, &#x27;Outside_X_Index&#x27;,\n",
       "       &#x27;Edges_X_Index&#x27;, &#x27;Edges_Y_Index&#x27;, &#x27;Outside_Global_Index&#x27;, &#x27;LogOfAreas&#x27;,\n",
       "       &#x27;Log_X_Index&#x27;, &#x27;Log_Y_Index&#x27;, &#x27;Orientation_Index&#x27;, &#x27;Luminosity_Index&#x27;,\n",
       "       &#x27;SigmoidOfAreas&#x27;],\n",
       "      dtype=&#x27;object&#x27;))])),\n",
       "                (&#x27;standardscaler&#x27;, StandardScaler()),\n",
       "                (&#x27;randomforestclassifier&#x27;,\n",
       "                 RandomForestClassifier(random_state=42))])</pre></div></div></div><div class=\"sk-serial\"><div class=\"sk-item sk-dashed-wrapped\"><div class=\"sk-label-container\"><div class=\"sk-label sk-toggleable\"><input class=\"sk-toggleable__control sk-hidden--visually\" id=\"sk-estimator-id-311\" type=\"checkbox\" ><label for=\"sk-estimator-id-311\" class=\"sk-toggleable__label sk-toggleable__label-arrow\">columntransformer: ColumnTransformer</label><div class=\"sk-toggleable__content\"><pre>ColumnTransformer(transformers=[(&#x27;functiontransformer&#x27;,\n",
       "                                 FunctionTransformer(feature_names_out=&#x27;one-to-one&#x27;,\n",
       "                                                     func=&lt;function col_log at 0x000001B46CCB4720&gt;),\n",
       "                                 Index([&#x27;X_Minimum&#x27;, &#x27;X_Maximum&#x27;, &#x27;Y_Minimum&#x27;, &#x27;Y_Maximum&#x27;, &#x27;Pixels_Areas&#x27;,\n",
       "       &#x27;X_Perimeter&#x27;, &#x27;Y_Perimeter&#x27;, &#x27;Sum_of_Luminosity&#x27;,\n",
       "       &#x27;Minimum_of_Luminosity&#x27;, &#x27;Maximum_of_Luminosity&#x27;, &#x27;Length_of_Conveyer&#x27;,\n",
       "       &#x27;TypeOfSteel_A300&#x27;, &#x27;TypeOfSteel_A400&#x27;, &#x27;Steel_Plate_Thickness&#x27;,\n",
       "       &#x27;Edges_Index&#x27;, &#x27;Empty_Index&#x27;, &#x27;Square_Index&#x27;, &#x27;Outside_X_Index&#x27;,\n",
       "       &#x27;Edges_X_Index&#x27;, &#x27;Edges_Y_Index&#x27;, &#x27;Outside_Global_Index&#x27;, &#x27;LogOfAreas&#x27;,\n",
       "       &#x27;Log_X_Index&#x27;, &#x27;Log_Y_Index&#x27;, &#x27;Orientation_Index&#x27;, &#x27;Luminosity_Index&#x27;,\n",
       "       &#x27;SigmoidOfAreas&#x27;],\n",
       "      dtype=&#x27;object&#x27;))])</pre></div></div></div><div class=\"sk-parallel\"><div class=\"sk-parallel-item\"><div class=\"sk-item\"><div class=\"sk-label-container\"><div class=\"sk-label sk-toggleable\"><input class=\"sk-toggleable__control sk-hidden--visually\" id=\"sk-estimator-id-312\" type=\"checkbox\" ><label for=\"sk-estimator-id-312\" class=\"sk-toggleable__label sk-toggleable__label-arrow\">functiontransformer</label><div class=\"sk-toggleable__content\"><pre>Index([&#x27;X_Minimum&#x27;, &#x27;X_Maximum&#x27;, &#x27;Y_Minimum&#x27;, &#x27;Y_Maximum&#x27;, &#x27;Pixels_Areas&#x27;,\n",
       "       &#x27;X_Perimeter&#x27;, &#x27;Y_Perimeter&#x27;, &#x27;Sum_of_Luminosity&#x27;,\n",
       "       &#x27;Minimum_of_Luminosity&#x27;, &#x27;Maximum_of_Luminosity&#x27;, &#x27;Length_of_Conveyer&#x27;,\n",
       "       &#x27;TypeOfSteel_A300&#x27;, &#x27;TypeOfSteel_A400&#x27;, &#x27;Steel_Plate_Thickness&#x27;,\n",
       "       &#x27;Edges_Index&#x27;, &#x27;Empty_Index&#x27;, &#x27;Square_Index&#x27;, &#x27;Outside_X_Index&#x27;,\n",
       "       &#x27;Edges_X_Index&#x27;, &#x27;Edges_Y_Index&#x27;, &#x27;Outside_Global_Index&#x27;, &#x27;LogOfAreas&#x27;,\n",
       "       &#x27;Log_X_Index&#x27;, &#x27;Log_Y_Index&#x27;, &#x27;Orientation_Index&#x27;, &#x27;Luminosity_Index&#x27;,\n",
       "       &#x27;SigmoidOfAreas&#x27;],\n",
       "      dtype=&#x27;object&#x27;)</pre></div></div></div><div class=\"sk-serial\"><div class=\"sk-item\"><div class=\"sk-estimator sk-toggleable\"><input class=\"sk-toggleable__control sk-hidden--visually\" id=\"sk-estimator-id-313\" type=\"checkbox\" ><label for=\"sk-estimator-id-313\" class=\"sk-toggleable__label sk-toggleable__label-arrow\">FunctionTransformer</label><div class=\"sk-toggleable__content\"><pre>FunctionTransformer(feature_names_out=&#x27;one-to-one&#x27;,\n",
       "                    func=&lt;function col_log at 0x000001B46CCB4720&gt;)</pre></div></div></div></div></div></div></div></div><div class=\"sk-item\"><div class=\"sk-estimator sk-toggleable\"><input class=\"sk-toggleable__control sk-hidden--visually\" id=\"sk-estimator-id-314\" type=\"checkbox\" ><label for=\"sk-estimator-id-314\" class=\"sk-toggleable__label sk-toggleable__label-arrow\">StandardScaler</label><div class=\"sk-toggleable__content\"><pre>StandardScaler()</pre></div></div></div><div class=\"sk-item\"><div class=\"sk-estimator sk-toggleable\"><input class=\"sk-toggleable__control sk-hidden--visually\" id=\"sk-estimator-id-315\" type=\"checkbox\" ><label for=\"sk-estimator-id-315\" class=\"sk-toggleable__label sk-toggleable__label-arrow\">RandomForestClassifier</label><div class=\"sk-toggleable__content\"><pre>RandomForestClassifier(random_state=42)</pre></div></div></div></div></div></div></div>"
      ],
      "text/plain": [
       "Pipeline(steps=[('columntransformer',\n",
       "                 ColumnTransformer(transformers=[('functiontransformer',\n",
       "                                                  FunctionTransformer(feature_names_out='one-to-one',\n",
       "                                                                      func=<function col_log at 0x000001B46CCB4720>),\n",
       "                                                  Index(['X_Minimum', 'X_Maximum', 'Y_Minimum', 'Y_Maximum', 'Pixels_Areas',\n",
       "       'X_Perimeter', 'Y_Perimeter', 'Sum_of_Luminosity',\n",
       "       'Minimum_of_Luminosity', 'Maximum_of_Luminosit...\n",
       "       'TypeOfSteel_A300', 'TypeOfSteel_A400', 'Steel_Plate_Thickness',\n",
       "       'Edges_Index', 'Empty_Index', 'Square_Index', 'Outside_X_Index',\n",
       "       'Edges_X_Index', 'Edges_Y_Index', 'Outside_Global_Index', 'LogOfAreas',\n",
       "       'Log_X_Index', 'Log_Y_Index', 'Orientation_Index', 'Luminosity_Index',\n",
       "       'SigmoidOfAreas'],\n",
       "      dtype='object'))])),\n",
       "                ('standardscaler', StandardScaler()),\n",
       "                ('randomforestclassifier',\n",
       "                 RandomForestClassifier(random_state=42))])"
      ]
     },
     "execution_count": 121,
     "metadata": {},
     "output_type": "execute_result"
    }
   ],
   "source": [
    "rand_forest.fit(X_train, y_train)"
   ]
  },
  {
   "cell_type": "code",
   "execution_count": 124,
   "id": "92bd218f-41a2-435e-a53b-1e01f828f010",
   "metadata": {},
   "outputs": [
    {
     "data": {
      "text/plain": [
       "0.8799299848675672"
      ]
     },
     "execution_count": 124,
     "metadata": {},
     "output_type": "execute_result"
    }
   ],
   "source": [
    "roc_auc_score(y_valid, rand_forest.predict_proba(X_valid), multi_class=\"ovo\")"
   ]
  },
  {
   "cell_type": "code",
   "execution_count": 123,
   "id": "e9b2be5f-a7d0-43ed-b364-d105798f747a",
   "metadata": {},
   "outputs": [
    {
     "data": {
      "text/plain": [
       "0.5825456836798992"
      ]
     },
     "execution_count": 123,
     "metadata": {},
     "output_type": "execute_result"
    }
   ],
   "source": [
    "accuracy_score(rand_forest.predict(X_valid), y_valid)"
   ]
  },
  {
   "cell_type": "markdown",
   "id": "c3a1bd54-f6a3-48f0-bb52-a5499d1bffc2",
   "metadata": {},
   "source": [
    "## Let's use some powerful modules now"
   ]
  },
  {
   "cell_type": "markdown",
   "id": "c6fc05cf-2c72-4b7b-9ca8-7966607d8a54",
   "metadata": {},
   "source": [
    "## LGBMClassifier"
   ]
  },
  {
   "cell_type": "code",
   "execution_count": 25,
   "id": "fbeb1820-eb5c-4a80-9535-bab51f5c6000",
   "metadata": {},
   "outputs": [
    {
     "name": "stderr",
     "output_type": "stream",
     "text": [
      "C:\\Users\\abhis\\anaconda3\\Lib\\site-packages\\dask\\dataframe\\_pyarrow_compat.py:23: UserWarning: You are using pyarrow version 11.0.0 which is known to be insecure. See https://www.cve.org/CVERecord?id=CVE-2023-47248 for further details. Please upgrade to pyarrow>=14.0.1 or install pyarrow-hotfix to patch your current version.\n",
      "  warnings.warn(\n"
     ]
    }
   ],
   "source": [
    "from lightgbm import LGBMClassifier"
   ]
  },
  {
   "cell_type": "code",
   "execution_count": 26,
   "id": "7b1cf6b2-ccdb-4739-9a40-d807ea533068",
   "metadata": {},
   "outputs": [],
   "source": [
    "from optuna.samplers import TPESampler\n",
    "import optuna"
   ]
  },
  {
   "cell_type": "code",
   "execution_count": 82,
   "id": "b9b8a682-fa7d-4b82-a2de-57be5d92f7f8",
   "metadata": {},
   "outputs": [],
   "source": [
    "# def objective(trial, X_train, y_train, X_test, y_test):\n",
    "#     # Define parameters to be optimized for the LGBMClassifier\n",
    "#     param = {\n",
    "#         \"objective\": \"multiclass\",\n",
    "#         \"metric\": \"multi_logloss\",\n",
    "#         \"verbosity\": -1,\n",
    "#         \"boosting_type\": \"gbdt\",\n",
    "#         \"random_state\": 42,\n",
    "#         \"num_class\": 7,\n",
    "#         \"learning_rate\": trial.suggest_float(\"learning_rate\", 0.01, 0.05),\n",
    "#         \"n_estimators\": trial.suggest_int(\"n_estimators\", 400, 600),\n",
    "#         \"lambda_l1\": trial.suggest_float(\"lambda_l1\", 0.005, 0.015),\n",
    "#         \"lambda_l2\": trial.suggest_float(\"lambda_l2\", 0.02, 0.06),\n",
    "#         \"max_depth\": trial.suggest_int(\"max_depth\", 6, 14),\n",
    "#         \"colsample_bytree\": trial.suggest_float(\"colsample_bytree\", 0.3, 0.9),\n",
    "#         \"subsample\": trial.suggest_float(\"subsample\", 0.8, 1.0),\n",
    "#         \"min_child_samples\": trial.suggest_int(\"min_child_samples\", 10, 50),\n",
    "#     }\n",
    "\n",
    "#     # Create an instance of LGBMClassifier with the suggested parameters\n",
    "#     lgbm_classifier = LGBMClassifier(**param)\n",
    "    \n",
    "#     # Fit the classifier on the training data\n",
    "#     lgbm_classifier.fit(X_train, y_train)\n",
    "\n",
    "#     # Evaluate the classifier on the test data\n",
    "#     score = lgbm_classifier.score(X_test, y_test)\n",
    "\n",
    "#     return score\n",
    "\n",
    "# # Split the data into training and test sets\n",
    "# # X_train, X_test, y_train, y_test = train_test_split(X, y, test_size=0.2, random_state=42)  # Adjust the test_size as needed\n",
    "\n",
    "# # Set up the sampler for Optuna optimization\n",
    "# sampler = optuna.samplers.TPESampler(seed=42)  # Using Tree-structured Parzen Estimator sampler for optimization\n",
    "\n",
    "# # Create a study object for Optuna optimization\n",
    "# study = optuna.create_study(direction=\"maximize\", sampler=sampler)\n",
    "\n",
    "# # Run the optimization process\n",
    "# study.optimize(lambda trial: objective(trial, X_train, y_train, X_valid, y_valid), n_trials=50)\n",
    "\n",
    "# # Get the best parameters after optimization\n",
    "# best_params = study.best_params\n",
    "\n",
    "# print('='*50)\n",
    "# print(best_params)"
   ]
  },
  {
   "cell_type": "code",
   "execution_count": 27,
   "id": "b945bf8f-f959-4229-9fbd-cb3c1d6c96b3",
   "metadata": {},
   "outputs": [],
   "source": [
    "lgbm_best_params = {\n",
    "        \"objective\": \"multiclass\",\n",
    "        \"metric\": \"multi_logloss\",\n",
    "        \"verbosity\": -1,\n",
    "        \"boosting_type\": \"gbdt\",\n",
    "        \"random_state\": 42,\n",
    "        \"num_class\": 7,\n",
    "        'learning_rate': 0.01238372420962104,\n",
    "        'n_estimators': 433,\n",
    "        'lambda_l1': 0.007108100081137849,\n",
    "        'lambda_l2': 0.03476239795083847,\n",
    "        'max_depth': 11,\n",
    "        'colsample_bytree': 0.5316680619799939,\n",
    "        'subsample': 0.9221088703806487,\n",
    "        'min_child_samples': 27\n",
    "}"
   ]
  },
  {
   "cell_type": "code",
   "execution_count": 134,
   "id": "816bcb11-f361-45fb-8760-902696938afc",
   "metadata": {},
   "outputs": [],
   "source": [
    "lgbm_clf1 = make_pipeline(\n",
    "    # preprocessing,\n",
    "    StandardScaler(),\n",
    "    LGBMClassifier(**lgbm_best_params)\n",
    ")"
   ]
  },
  {
   "cell_type": "code",
   "execution_count": 85,
   "id": "c6e52055-f698-48ab-8a7c-86507d19c330",
   "metadata": {},
   "outputs": [
    {
     "data": {
      "text/html": [
       "<style>#sk-container-id-10 {color: black;background-color: white;}#sk-container-id-10 pre{padding: 0;}#sk-container-id-10 div.sk-toggleable {background-color: white;}#sk-container-id-10 label.sk-toggleable__label {cursor: pointer;display: block;width: 100%;margin-bottom: 0;padding: 0.3em;box-sizing: border-box;text-align: center;}#sk-container-id-10 label.sk-toggleable__label-arrow:before {content: \"▸\";float: left;margin-right: 0.25em;color: #696969;}#sk-container-id-10 label.sk-toggleable__label-arrow:hover:before {color: black;}#sk-container-id-10 div.sk-estimator:hover label.sk-toggleable__label-arrow:before {color: black;}#sk-container-id-10 div.sk-toggleable__content {max-height: 0;max-width: 0;overflow: hidden;text-align: left;background-color: #f0f8ff;}#sk-container-id-10 div.sk-toggleable__content pre {margin: 0.2em;color: black;border-radius: 0.25em;background-color: #f0f8ff;}#sk-container-id-10 input.sk-toggleable__control:checked~div.sk-toggleable__content {max-height: 200px;max-width: 100%;overflow: auto;}#sk-container-id-10 input.sk-toggleable__control:checked~label.sk-toggleable__label-arrow:before {content: \"▾\";}#sk-container-id-10 div.sk-estimator input.sk-toggleable__control:checked~label.sk-toggleable__label {background-color: #d4ebff;}#sk-container-id-10 div.sk-label input.sk-toggleable__control:checked~label.sk-toggleable__label {background-color: #d4ebff;}#sk-container-id-10 input.sk-hidden--visually {border: 0;clip: rect(1px 1px 1px 1px);clip: rect(1px, 1px, 1px, 1px);height: 1px;margin: -1px;overflow: hidden;padding: 0;position: absolute;width: 1px;}#sk-container-id-10 div.sk-estimator {font-family: monospace;background-color: #f0f8ff;border: 1px dotted black;border-radius: 0.25em;box-sizing: border-box;margin-bottom: 0.5em;}#sk-container-id-10 div.sk-estimator:hover {background-color: #d4ebff;}#sk-container-id-10 div.sk-parallel-item::after {content: \"\";width: 100%;border-bottom: 1px solid gray;flex-grow: 1;}#sk-container-id-10 div.sk-label:hover label.sk-toggleable__label {background-color: #d4ebff;}#sk-container-id-10 div.sk-serial::before {content: \"\";position: absolute;border-left: 1px solid gray;box-sizing: border-box;top: 0;bottom: 0;left: 50%;z-index: 0;}#sk-container-id-10 div.sk-serial {display: flex;flex-direction: column;align-items: center;background-color: white;padding-right: 0.2em;padding-left: 0.2em;position: relative;}#sk-container-id-10 div.sk-item {position: relative;z-index: 1;}#sk-container-id-10 div.sk-parallel {display: flex;align-items: stretch;justify-content: center;background-color: white;position: relative;}#sk-container-id-10 div.sk-item::before, #sk-container-id-10 div.sk-parallel-item::before {content: \"\";position: absolute;border-left: 1px solid gray;box-sizing: border-box;top: 0;bottom: 0;left: 50%;z-index: -1;}#sk-container-id-10 div.sk-parallel-item {display: flex;flex-direction: column;z-index: 1;position: relative;background-color: white;}#sk-container-id-10 div.sk-parallel-item:first-child::after {align-self: flex-end;width: 50%;}#sk-container-id-10 div.sk-parallel-item:last-child::after {align-self: flex-start;width: 50%;}#sk-container-id-10 div.sk-parallel-item:only-child::after {width: 0;}#sk-container-id-10 div.sk-dashed-wrapped {border: 1px dashed gray;margin: 0 0.4em 0.5em 0.4em;box-sizing: border-box;padding-bottom: 0.4em;background-color: white;}#sk-container-id-10 div.sk-label label {font-family: monospace;font-weight: bold;display: inline-block;line-height: 1.2em;}#sk-container-id-10 div.sk-label-container {text-align: center;}#sk-container-id-10 div.sk-container {/* jupyter's `normalize.less` sets `[hidden] { display: none; }` but bootstrap.min.css set `[hidden] { display: none !important; }` so we also need the `!important` here to be able to override the default hidden behavior on the sphinx rendered scikit-learn.org. See: https://github.com/scikit-learn/scikit-learn/issues/21755 */display: inline-block !important;position: relative;}#sk-container-id-10 div.sk-text-repr-fallback {display: none;}</style><div id=\"sk-container-id-10\" class=\"sk-top-container\"><div class=\"sk-text-repr-fallback\"><pre>Pipeline(steps=[(&#x27;columntransformer&#x27;,\n",
       "                 ColumnTransformer(transformers=[(&#x27;functiontransformer&#x27;,\n",
       "                                                  FunctionTransformer(feature_names_out=&#x27;one-to-one&#x27;,\n",
       "                                                                      func=&lt;function col_log at 0x0000020EF8E53100&gt;),\n",
       "                                                  Index([&#x27;X_Minimum&#x27;, &#x27;X_Maximum&#x27;, &#x27;Y_Minimum&#x27;, &#x27;Y_Maximum&#x27;, &#x27;Pixels_Areas&#x27;,\n",
       "       &#x27;X_Perimeter&#x27;, &#x27;Y_Perimeter&#x27;, &#x27;Sum_of_Luminosity&#x27;,\n",
       "       &#x27;Minimum_of_Luminosity&#x27;, &#x27;Maximum_of_Luminosit...\n",
       "                (&#x27;standardscaler&#x27;, StandardScaler()),\n",
       "                (&#x27;lgbmclassifier&#x27;,\n",
       "                 LGBMClassifier(colsample_bytree=0.5316680619799939,\n",
       "                                lambda_l1=0.007108100081137849,\n",
       "                                lambda_l2=0.03476239795083847,\n",
       "                                learning_rate=0.01238372420962104, max_depth=11,\n",
       "                                metric=&#x27;multi_logloss&#x27;, min_child_samples=27,\n",
       "                                n_estimators=433, num_class=7,\n",
       "                                objective=&#x27;multiclass&#x27;, random_state=42,\n",
       "                                subsample=0.9221088703806487, verbosity=-1))])</pre><b>In a Jupyter environment, please rerun this cell to show the HTML representation or trust the notebook. <br />On GitHub, the HTML representation is unable to render, please try loading this page with nbviewer.org.</b></div><div class=\"sk-container\" hidden><div class=\"sk-item sk-dashed-wrapped\"><div class=\"sk-label-container\"><div class=\"sk-label sk-toggleable\"><input class=\"sk-toggleable__control sk-hidden--visually\" id=\"sk-estimator-id-25\" type=\"checkbox\" ><label for=\"sk-estimator-id-25\" class=\"sk-toggleable__label sk-toggleable__label-arrow\">Pipeline</label><div class=\"sk-toggleable__content\"><pre>Pipeline(steps=[(&#x27;columntransformer&#x27;,\n",
       "                 ColumnTransformer(transformers=[(&#x27;functiontransformer&#x27;,\n",
       "                                                  FunctionTransformer(feature_names_out=&#x27;one-to-one&#x27;,\n",
       "                                                                      func=&lt;function col_log at 0x0000020EF8E53100&gt;),\n",
       "                                                  Index([&#x27;X_Minimum&#x27;, &#x27;X_Maximum&#x27;, &#x27;Y_Minimum&#x27;, &#x27;Y_Maximum&#x27;, &#x27;Pixels_Areas&#x27;,\n",
       "       &#x27;X_Perimeter&#x27;, &#x27;Y_Perimeter&#x27;, &#x27;Sum_of_Luminosity&#x27;,\n",
       "       &#x27;Minimum_of_Luminosity&#x27;, &#x27;Maximum_of_Luminosit...\n",
       "                (&#x27;standardscaler&#x27;, StandardScaler()),\n",
       "                (&#x27;lgbmclassifier&#x27;,\n",
       "                 LGBMClassifier(colsample_bytree=0.5316680619799939,\n",
       "                                lambda_l1=0.007108100081137849,\n",
       "                                lambda_l2=0.03476239795083847,\n",
       "                                learning_rate=0.01238372420962104, max_depth=11,\n",
       "                                metric=&#x27;multi_logloss&#x27;, min_child_samples=27,\n",
       "                                n_estimators=433, num_class=7,\n",
       "                                objective=&#x27;multiclass&#x27;, random_state=42,\n",
       "                                subsample=0.9221088703806487, verbosity=-1))])</pre></div></div></div><div class=\"sk-serial\"><div class=\"sk-item sk-dashed-wrapped\"><div class=\"sk-label-container\"><div class=\"sk-label sk-toggleable\"><input class=\"sk-toggleable__control sk-hidden--visually\" id=\"sk-estimator-id-26\" type=\"checkbox\" ><label for=\"sk-estimator-id-26\" class=\"sk-toggleable__label sk-toggleable__label-arrow\">columntransformer: ColumnTransformer</label><div class=\"sk-toggleable__content\"><pre>ColumnTransformer(transformers=[(&#x27;functiontransformer&#x27;,\n",
       "                                 FunctionTransformer(feature_names_out=&#x27;one-to-one&#x27;,\n",
       "                                                     func=&lt;function col_log at 0x0000020EF8E53100&gt;),\n",
       "                                 Index([&#x27;X_Minimum&#x27;, &#x27;X_Maximum&#x27;, &#x27;Y_Minimum&#x27;, &#x27;Y_Maximum&#x27;, &#x27;Pixels_Areas&#x27;,\n",
       "       &#x27;X_Perimeter&#x27;, &#x27;Y_Perimeter&#x27;, &#x27;Sum_of_Luminosity&#x27;,\n",
       "       &#x27;Minimum_of_Luminosity&#x27;, &#x27;Maximum_of_Luminosity&#x27;, &#x27;Length_of_Conveyer&#x27;,\n",
       "       &#x27;TypeOfSteel_A300&#x27;, &#x27;TypeOfSteel_A400&#x27;, &#x27;Steel_Plate_Thickness&#x27;,\n",
       "       &#x27;Edges_Index&#x27;, &#x27;Empty_Index&#x27;, &#x27;Square_Index&#x27;, &#x27;Outside_X_Index&#x27;,\n",
       "       &#x27;Edges_X_Index&#x27;, &#x27;Edges_Y_Index&#x27;, &#x27;Outside_Global_Index&#x27;, &#x27;LogOfAreas&#x27;,\n",
       "       &#x27;Log_X_Index&#x27;, &#x27;Log_Y_Index&#x27;, &#x27;Orientation_Index&#x27;, &#x27;Luminosity_Index&#x27;,\n",
       "       &#x27;SigmoidOfAreas&#x27;],\n",
       "      dtype=&#x27;object&#x27;))])</pre></div></div></div><div class=\"sk-parallel\"><div class=\"sk-parallel-item\"><div class=\"sk-item\"><div class=\"sk-label-container\"><div class=\"sk-label sk-toggleable\"><input class=\"sk-toggleable__control sk-hidden--visually\" id=\"sk-estimator-id-27\" type=\"checkbox\" ><label for=\"sk-estimator-id-27\" class=\"sk-toggleable__label sk-toggleable__label-arrow\">functiontransformer</label><div class=\"sk-toggleable__content\"><pre>Index([&#x27;X_Minimum&#x27;, &#x27;X_Maximum&#x27;, &#x27;Y_Minimum&#x27;, &#x27;Y_Maximum&#x27;, &#x27;Pixels_Areas&#x27;,\n",
       "       &#x27;X_Perimeter&#x27;, &#x27;Y_Perimeter&#x27;, &#x27;Sum_of_Luminosity&#x27;,\n",
       "       &#x27;Minimum_of_Luminosity&#x27;, &#x27;Maximum_of_Luminosity&#x27;, &#x27;Length_of_Conveyer&#x27;,\n",
       "       &#x27;TypeOfSteel_A300&#x27;, &#x27;TypeOfSteel_A400&#x27;, &#x27;Steel_Plate_Thickness&#x27;,\n",
       "       &#x27;Edges_Index&#x27;, &#x27;Empty_Index&#x27;, &#x27;Square_Index&#x27;, &#x27;Outside_X_Index&#x27;,\n",
       "       &#x27;Edges_X_Index&#x27;, &#x27;Edges_Y_Index&#x27;, &#x27;Outside_Global_Index&#x27;, &#x27;LogOfAreas&#x27;,\n",
       "       &#x27;Log_X_Index&#x27;, &#x27;Log_Y_Index&#x27;, &#x27;Orientation_Index&#x27;, &#x27;Luminosity_Index&#x27;,\n",
       "       &#x27;SigmoidOfAreas&#x27;],\n",
       "      dtype=&#x27;object&#x27;)</pre></div></div></div><div class=\"sk-serial\"><div class=\"sk-item\"><div class=\"sk-estimator sk-toggleable\"><input class=\"sk-toggleable__control sk-hidden--visually\" id=\"sk-estimator-id-28\" type=\"checkbox\" ><label for=\"sk-estimator-id-28\" class=\"sk-toggleable__label sk-toggleable__label-arrow\">FunctionTransformer</label><div class=\"sk-toggleable__content\"><pre>FunctionTransformer(feature_names_out=&#x27;one-to-one&#x27;,\n",
       "                    func=&lt;function col_log at 0x0000020EF8E53100&gt;)</pre></div></div></div></div></div></div></div></div><div class=\"sk-item\"><div class=\"sk-estimator sk-toggleable\"><input class=\"sk-toggleable__control sk-hidden--visually\" id=\"sk-estimator-id-29\" type=\"checkbox\" ><label for=\"sk-estimator-id-29\" class=\"sk-toggleable__label sk-toggleable__label-arrow\">StandardScaler</label><div class=\"sk-toggleable__content\"><pre>StandardScaler()</pre></div></div></div><div class=\"sk-item\"><div class=\"sk-estimator sk-toggleable\"><input class=\"sk-toggleable__control sk-hidden--visually\" id=\"sk-estimator-id-30\" type=\"checkbox\" ><label for=\"sk-estimator-id-30\" class=\"sk-toggleable__label sk-toggleable__label-arrow\">LGBMClassifier</label><div class=\"sk-toggleable__content\"><pre>LGBMClassifier(colsample_bytree=0.5316680619799939,\n",
       "               lambda_l1=0.007108100081137849, lambda_l2=0.03476239795083847,\n",
       "               learning_rate=0.01238372420962104, max_depth=11,\n",
       "               metric=&#x27;multi_logloss&#x27;, min_child_samples=27, n_estimators=433,\n",
       "               num_class=7, objective=&#x27;multiclass&#x27;, random_state=42,\n",
       "               subsample=0.9221088703806487, verbosity=-1)</pre></div></div></div></div></div></div></div>"
      ],
      "text/plain": [
       "Pipeline(steps=[('columntransformer',\n",
       "                 ColumnTransformer(transformers=[('functiontransformer',\n",
       "                                                  FunctionTransformer(feature_names_out='one-to-one',\n",
       "                                                                      func=<function col_log at 0x0000020EF8E53100>),\n",
       "                                                  Index(['X_Minimum', 'X_Maximum', 'Y_Minimum', 'Y_Maximum', 'Pixels_Areas',\n",
       "       'X_Perimeter', 'Y_Perimeter', 'Sum_of_Luminosity',\n",
       "       'Minimum_of_Luminosity', 'Maximum_of_Luminosit...\n",
       "                ('standardscaler', StandardScaler()),\n",
       "                ('lgbmclassifier',\n",
       "                 LGBMClassifier(colsample_bytree=0.5316680619799939,\n",
       "                                lambda_l1=0.007108100081137849,\n",
       "                                lambda_l2=0.03476239795083847,\n",
       "                                learning_rate=0.01238372420962104, max_depth=11,\n",
       "                                metric='multi_logloss', min_child_samples=27,\n",
       "                                n_estimators=433, num_class=7,\n",
       "                                objective='multiclass', random_state=42,\n",
       "                                subsample=0.9221088703806487, verbosity=-1))])"
      ]
     },
     "execution_count": 85,
     "metadata": {},
     "output_type": "execute_result"
    }
   ],
   "source": [
    "lgbm_clf.fit(X_train, y_train)"
   ]
  },
  {
   "cell_type": "code",
   "execution_count": 30,
   "id": "fac2c424-c2f5-4f18-a550-28bd5d5f38c7",
   "metadata": {},
   "outputs": [],
   "source": [
    "from sklearn.model_selection import cross_val_score, StratifiedKFold"
   ]
  },
  {
   "cell_type": "code",
   "execution_count": 86,
   "id": "74a8c300-4b3a-4203-b57d-8a2b8e86fc62",
   "metadata": {},
   "outputs": [
    {
     "data": {
      "text/plain": [
       "0.8855035734143051"
      ]
     },
     "execution_count": 86,
     "metadata": {},
     "output_type": "execute_result"
    }
   ],
   "source": [
    "roc_auc_score(y_valid, lgbm_clf.predict_proba(X_valid), multi_class=\"ovo\")"
   ]
  },
  {
   "cell_type": "markdown",
   "id": "0c32eb3e-3e0a-42cf-be3d-f99993553ba8",
   "metadata": {},
   "source": [
    "## XGBoost Approach"
   ]
  },
  {
   "cell_type": "code",
   "execution_count": 31,
   "id": "4df0392b-53d0-4fa5-8de3-1e68afc9122e",
   "metadata": {},
   "outputs": [],
   "source": [
    "from xgboost import XGBClassifier"
   ]
  },
  {
   "cell_type": "code",
   "execution_count": 45,
   "id": "af2a6139-d11b-4642-bf88-e1722cd18cb3",
   "metadata": {},
   "outputs": [],
   "source": [
    "sample_sub = pd.DataFrame(lgbm_clf.predict_proba(test), columns=[\"Pastry\",\"Z_Scratch\",\"K_Scatch\",\"Stains\",\"Dirtiness\",\"Bumps\",\"Other_Faults\"], index=test.id)"
   ]
  },
  {
   "cell_type": "code",
   "execution_count": 49,
   "id": "d37029fd-fa3a-4966-9040-3f29c54c78f1",
   "metadata": {},
   "outputs": [],
   "source": [
    "sample_sub.reset_index(inplace=True)"
   ]
  },
  {
   "cell_type": "code",
   "execution_count": 42,
   "id": "3b71edc2-36aa-468a-8a74-41827cf313d7",
   "metadata": {},
   "outputs": [],
   "source": [
    "sam = pd.read_csv(\"Data/sample_submission.csv\")"
   ]
  },
  {
   "cell_type": "code",
   "execution_count": 50,
   "id": "b7721a49-b869-4e4c-b770-3d7ef2d0e875",
   "metadata": {},
   "outputs": [
    {
     "data": {
      "text/html": [
       "<div>\n",
       "<style scoped>\n",
       "    .dataframe tbody tr th:only-of-type {\n",
       "        vertical-align: middle;\n",
       "    }\n",
       "\n",
       "    .dataframe tbody tr th {\n",
       "        vertical-align: top;\n",
       "    }\n",
       "\n",
       "    .dataframe thead th {\n",
       "        text-align: right;\n",
       "    }\n",
       "</style>\n",
       "<table border=\"1\" class=\"dataframe\">\n",
       "  <thead>\n",
       "    <tr style=\"text-align: right;\">\n",
       "      <th></th>\n",
       "      <th>id</th>\n",
       "      <th>Pastry</th>\n",
       "      <th>Z_Scratch</th>\n",
       "      <th>K_Scatch</th>\n",
       "      <th>Stains</th>\n",
       "      <th>Dirtiness</th>\n",
       "      <th>Bumps</th>\n",
       "      <th>Other_Faults</th>\n",
       "    </tr>\n",
       "  </thead>\n",
       "  <tbody>\n",
       "    <tr>\n",
       "      <th>0</th>\n",
       "      <td>19219</td>\n",
       "      <td>0.431113</td>\n",
       "      <td>0.002067</td>\n",
       "      <td>0.005075</td>\n",
       "      <td>0.000280</td>\n",
       "      <td>0.012102</td>\n",
       "      <td>0.177673</td>\n",
       "      <td>0.371689</td>\n",
       "    </tr>\n",
       "    <tr>\n",
       "      <th>1</th>\n",
       "      <td>19220</td>\n",
       "      <td>0.256061</td>\n",
       "      <td>0.013098</td>\n",
       "      <td>0.012148</td>\n",
       "      <td>0.000332</td>\n",
       "      <td>0.252946</td>\n",
       "      <td>0.123238</td>\n",
       "      <td>0.342178</td>\n",
       "    </tr>\n",
       "    <tr>\n",
       "      <th>2</th>\n",
       "      <td>19221</td>\n",
       "      <td>0.094706</td>\n",
       "      <td>0.048292</td>\n",
       "      <td>0.037893</td>\n",
       "      <td>0.000502</td>\n",
       "      <td>0.004115</td>\n",
       "      <td>0.248803</td>\n",
       "      <td>0.565688</td>\n",
       "    </tr>\n",
       "    <tr>\n",
       "      <th>3</th>\n",
       "      <td>19222</td>\n",
       "      <td>0.194169</td>\n",
       "      <td>0.002480</td>\n",
       "      <td>0.001728</td>\n",
       "      <td>0.000585</td>\n",
       "      <td>0.005574</td>\n",
       "      <td>0.380531</td>\n",
       "      <td>0.414932</td>\n",
       "    </tr>\n",
       "    <tr>\n",
       "      <th>4</th>\n",
       "      <td>19223</td>\n",
       "      <td>0.040460</td>\n",
       "      <td>0.003066</td>\n",
       "      <td>0.001804</td>\n",
       "      <td>0.000895</td>\n",
       "      <td>0.003985</td>\n",
       "      <td>0.607665</td>\n",
       "      <td>0.342125</td>\n",
       "    </tr>\n",
       "  </tbody>\n",
       "</table>\n",
       "</div>"
      ],
      "text/plain": [
       "      id    Pastry  Z_Scratch  K_Scatch    Stains  Dirtiness     Bumps  \\\n",
       "0  19219  0.431113   0.002067  0.005075  0.000280   0.012102  0.177673   \n",
       "1  19220  0.256061   0.013098  0.012148  0.000332   0.252946  0.123238   \n",
       "2  19221  0.094706   0.048292  0.037893  0.000502   0.004115  0.248803   \n",
       "3  19222  0.194169   0.002480  0.001728  0.000585   0.005574  0.380531   \n",
       "4  19223  0.040460   0.003066  0.001804  0.000895   0.003985  0.607665   \n",
       "\n",
       "   Other_Faults  \n",
       "0      0.371689  \n",
       "1      0.342178  \n",
       "2      0.565688  \n",
       "3      0.414932  \n",
       "4      0.342125  "
      ]
     },
     "execution_count": 50,
     "metadata": {},
     "output_type": "execute_result"
    }
   ],
   "source": [
    "sample_sub.head()"
   ]
  },
  {
   "cell_type": "code",
   "execution_count": 43,
   "id": "482a8969-2cbe-4e75-b4a9-4dea314214c5",
   "metadata": {},
   "outputs": [
    {
     "data": {
      "text/html": [
       "<div>\n",
       "<style scoped>\n",
       "    .dataframe tbody tr th:only-of-type {\n",
       "        vertical-align: middle;\n",
       "    }\n",
       "\n",
       "    .dataframe tbody tr th {\n",
       "        vertical-align: top;\n",
       "    }\n",
       "\n",
       "    .dataframe thead th {\n",
       "        text-align: right;\n",
       "    }\n",
       "</style>\n",
       "<table border=\"1\" class=\"dataframe\">\n",
       "  <thead>\n",
       "    <tr style=\"text-align: right;\">\n",
       "      <th></th>\n",
       "      <th>id</th>\n",
       "      <th>Pastry</th>\n",
       "      <th>Z_Scratch</th>\n",
       "      <th>K_Scatch</th>\n",
       "      <th>Stains</th>\n",
       "      <th>Dirtiness</th>\n",
       "      <th>Bumps</th>\n",
       "      <th>Other_Faults</th>\n",
       "    </tr>\n",
       "  </thead>\n",
       "  <tbody>\n",
       "    <tr>\n",
       "      <th>0</th>\n",
       "      <td>19219</td>\n",
       "      <td>0.5</td>\n",
       "      <td>0.5</td>\n",
       "      <td>0.5</td>\n",
       "      <td>0.5</td>\n",
       "      <td>0.5</td>\n",
       "      <td>0.5</td>\n",
       "      <td>0.5</td>\n",
       "    </tr>\n",
       "    <tr>\n",
       "      <th>1</th>\n",
       "      <td>19220</td>\n",
       "      <td>0.5</td>\n",
       "      <td>0.5</td>\n",
       "      <td>0.5</td>\n",
       "      <td>0.5</td>\n",
       "      <td>0.5</td>\n",
       "      <td>0.5</td>\n",
       "      <td>0.5</td>\n",
       "    </tr>\n",
       "    <tr>\n",
       "      <th>2</th>\n",
       "      <td>19221</td>\n",
       "      <td>0.5</td>\n",
       "      <td>0.5</td>\n",
       "      <td>0.5</td>\n",
       "      <td>0.5</td>\n",
       "      <td>0.5</td>\n",
       "      <td>0.5</td>\n",
       "      <td>0.5</td>\n",
       "    </tr>\n",
       "    <tr>\n",
       "      <th>3</th>\n",
       "      <td>19222</td>\n",
       "      <td>0.5</td>\n",
       "      <td>0.5</td>\n",
       "      <td>0.5</td>\n",
       "      <td>0.5</td>\n",
       "      <td>0.5</td>\n",
       "      <td>0.5</td>\n",
       "      <td>0.5</td>\n",
       "    </tr>\n",
       "    <tr>\n",
       "      <th>4</th>\n",
       "      <td>19223</td>\n",
       "      <td>0.5</td>\n",
       "      <td>0.5</td>\n",
       "      <td>0.5</td>\n",
       "      <td>0.5</td>\n",
       "      <td>0.5</td>\n",
       "      <td>0.5</td>\n",
       "      <td>0.5</td>\n",
       "    </tr>\n",
       "  </tbody>\n",
       "</table>\n",
       "</div>"
      ],
      "text/plain": [
       "      id  Pastry  Z_Scratch  K_Scatch  Stains  Dirtiness  Bumps  Other_Faults\n",
       "0  19219     0.5        0.5       0.5     0.5        0.5    0.5           0.5\n",
       "1  19220     0.5        0.5       0.5     0.5        0.5    0.5           0.5\n",
       "2  19221     0.5        0.5       0.5     0.5        0.5    0.5           0.5\n",
       "3  19222     0.5        0.5       0.5     0.5        0.5    0.5           0.5\n",
       "4  19223     0.5        0.5       0.5     0.5        0.5    0.5           0.5"
      ]
     },
     "execution_count": 43,
     "metadata": {},
     "output_type": "execute_result"
    }
   ],
   "source": [
    "sam.head()"
   ]
  },
  {
   "cell_type": "code",
   "execution_count": 53,
   "id": "70c636cb-0eca-4fbe-8091-2e26f9b65412",
   "metadata": {},
   "outputs": [],
   "source": [
    "sample_sub.to_csv(\"submission.csv\")"
   ]
  },
  {
   "cell_type": "code",
   "execution_count": 163,
   "id": "d2fb8a66-ce68-4497-b3e9-2287d9f7b086",
   "metadata": {},
   "outputs": [],
   "source": [
    "sample_sub_vot = pd.DataFrame(vot.predict_proba(test.drop(\"id\", axis=1)), columns=[\"Pastry\",\"Z_Scratch\",\"K_Scatch\",\"Stains\",\"Dirtiness\",\"Bumps\",\"Other_Faults\"], index=test.id)"
   ]
  },
  {
   "cell_type": "code",
   "execution_count": 164,
   "id": "82c1eb9e-6a6b-4679-86fa-e8e8e06b323a",
   "metadata": {},
   "outputs": [
    {
     "data": {
      "text/html": [
       "<div>\n",
       "<style scoped>\n",
       "    .dataframe tbody tr th:only-of-type {\n",
       "        vertical-align: middle;\n",
       "    }\n",
       "\n",
       "    .dataframe tbody tr th {\n",
       "        vertical-align: top;\n",
       "    }\n",
       "\n",
       "    .dataframe thead th {\n",
       "        text-align: right;\n",
       "    }\n",
       "</style>\n",
       "<table border=\"1\" class=\"dataframe\">\n",
       "  <thead>\n",
       "    <tr style=\"text-align: right;\">\n",
       "      <th></th>\n",
       "      <th>Pastry</th>\n",
       "      <th>Z_Scratch</th>\n",
       "      <th>K_Scatch</th>\n",
       "      <th>Stains</th>\n",
       "      <th>Dirtiness</th>\n",
       "      <th>Bumps</th>\n",
       "      <th>Other_Faults</th>\n",
       "    </tr>\n",
       "    <tr>\n",
       "      <th>id</th>\n",
       "      <th></th>\n",
       "      <th></th>\n",
       "      <th></th>\n",
       "      <th></th>\n",
       "      <th></th>\n",
       "      <th></th>\n",
       "      <th></th>\n",
       "    </tr>\n",
       "  </thead>\n",
       "  <tbody>\n",
       "    <tr>\n",
       "      <th>19219</th>\n",
       "      <td>0.449714</td>\n",
       "      <td>0.004960</td>\n",
       "      <td>0.006248</td>\n",
       "      <td>0.001371</td>\n",
       "      <td>0.030034</td>\n",
       "      <td>0.154633</td>\n",
       "      <td>0.353040</td>\n",
       "    </tr>\n",
       "    <tr>\n",
       "      <th>19220</th>\n",
       "      <td>0.262206</td>\n",
       "      <td>0.029869</td>\n",
       "      <td>0.011165</td>\n",
       "      <td>0.001902</td>\n",
       "      <td>0.173683</td>\n",
       "      <td>0.179441</td>\n",
       "      <td>0.341734</td>\n",
       "    </tr>\n",
       "    <tr>\n",
       "      <th>19221</th>\n",
       "      <td>0.071423</td>\n",
       "      <td>0.026734</td>\n",
       "      <td>0.034757</td>\n",
       "      <td>0.003164</td>\n",
       "      <td>0.006391</td>\n",
       "      <td>0.320499</td>\n",
       "      <td>0.537032</td>\n",
       "    </tr>\n",
       "    <tr>\n",
       "      <th>19222</th>\n",
       "      <td>0.164079</td>\n",
       "      <td>0.005644</td>\n",
       "      <td>0.002307</td>\n",
       "      <td>0.002403</td>\n",
       "      <td>0.007742</td>\n",
       "      <td>0.386137</td>\n",
       "      <td>0.431688</td>\n",
       "    </tr>\n",
       "    <tr>\n",
       "      <th>19223</th>\n",
       "      <td>0.038203</td>\n",
       "      <td>0.005992</td>\n",
       "      <td>0.002648</td>\n",
       "      <td>0.002526</td>\n",
       "      <td>0.008601</td>\n",
       "      <td>0.614946</td>\n",
       "      <td>0.327085</td>\n",
       "    </tr>\n",
       "  </tbody>\n",
       "</table>\n",
       "</div>"
      ],
      "text/plain": [
       "         Pastry  Z_Scratch  K_Scatch    Stains  Dirtiness     Bumps  \\\n",
       "id                                                                    \n",
       "19219  0.449714   0.004960  0.006248  0.001371   0.030034  0.154633   \n",
       "19220  0.262206   0.029869  0.011165  0.001902   0.173683  0.179441   \n",
       "19221  0.071423   0.026734  0.034757  0.003164   0.006391  0.320499   \n",
       "19222  0.164079   0.005644  0.002307  0.002403   0.007742  0.386137   \n",
       "19223  0.038203   0.005992  0.002648  0.002526   0.008601  0.614946   \n",
       "\n",
       "       Other_Faults  \n",
       "id                   \n",
       "19219      0.353040  \n",
       "19220      0.341734  \n",
       "19221      0.537032  \n",
       "19222      0.431688  \n",
       "19223      0.327085  "
      ]
     },
     "execution_count": 164,
     "metadata": {},
     "output_type": "execute_result"
    }
   ],
   "source": [
    "sample_sub_vot.head()"
   ]
  },
  {
   "cell_type": "code",
   "execution_count": 165,
   "id": "f1742436-47d5-4800-a640-6afb95d2c7dc",
   "metadata": {},
   "outputs": [],
   "source": [
    "sample_sub_vot.to_csv(\"submission10.csv\")"
   ]
  },
  {
   "cell_type": "code",
   "execution_count": 81,
   "id": "72709fec-667c-4c57-bf52-abfd9328e92e",
   "metadata": {},
   "outputs": [],
   "source": [
    "# def objective(trial):\n",
    "\n",
    "#     n_estimators = trial.suggest_int(\"n_estimators\", 100,1000)\n",
    "#     # L1 regularization weight.\n",
    "#     alpha = trial.suggest_float(\"alpha\", 1e-8, 1.0, log=True)\n",
    "#     # sampling ratio for training data.\n",
    "#     subsample = trial.suggest_float(\"subsample\", 0.2, 0.9)\n",
    "#     # sampling according to each tree.\n",
    "#     colsample_bytree = trial.suggest_float(\"colsample_bytree\", 0.2, 0.9)\n",
    "#     # maximum depth of the tree, signifies complexity of the tree.\n",
    "#     max_depth = trial.suggest_int(\"max_depth\", 3, 12)\n",
    "#     # minimum child weight, larger the term more conservative the tree.\n",
    "#     min_child_weight = trial.suggest_int(\"min_child_weight\", 1, 3)\n",
    "#     # learning rate\n",
    "#     learning_rate =  trial.suggest_float(\"learning_rate\", 1e-4, 1, log=True)\n",
    "#     # defines how selective algorithm is.\n",
    "#     gamma = trial.suggest_float(\"gamma\", 1e-8, 1.0, log=True)\n",
    "    \n",
    "    \n",
    "       \n",
    "#     xgb_clf = make_pipeline(\n",
    "#         preprocessing,\n",
    "#         StandardScaler(),\n",
    "#         XGBClassifier(n_estimators = n_estimators,alpha=alpha,subsample=subsample,colsample_bytree=colsample_bytree,\n",
    "#                           max_depth=max_depth,min_child_weight =min_child_weight,learning_rate=learning_rate,gamma=gamma,\n",
    "#                           random_state =42, num_class=7)\n",
    "#     )\n",
    "    \n",
    "#     # Fit the classifier on the training data\n",
    "#     xgb_clf.fit(X_train, y_train)\n",
    "\n",
    "#     # Evaluate the classifier on the test data\n",
    "#     score = xgb_clf.score(X_valid, y_valid)        \n",
    "    \n",
    "#     return score\n",
    "\n",
    "\n",
    "# sampler = TPESampler(seed=42) # create a seed for the sampler for reproducibility\n",
    "# study = optuna.create_study(direction=\"maximize\", sampler=sampler)\n",
    "# study.optimize(objective, n_trials=50)"
   ]
  },
  {
   "cell_type": "code",
   "execution_count": 32,
   "id": "2d8127cd-8d27-4f03-b1da-7fd7196b1028",
   "metadata": {},
   "outputs": [],
   "source": [
    "xgb_best_params = {'n_estimators': 731, 'alpha': 0.0006793607893934014, 'subsample': 0.6603945903198238, 'colsample_bytree': 0.5047951172166767, 'max_depth': 5, 'min_child_weight': 3, 'learning_rate': 0.014740587787224061, 'gamma': 0.0003650214503199033, \"random_state\": 42}"
   ]
  },
  {
   "cell_type": "code",
   "execution_count": 135,
   "id": "efde665a-8a1c-4336-a8b7-ec0b854eea50",
   "metadata": {},
   "outputs": [],
   "source": [
    "xgb_clf = make_pipeline(\n",
    "    # preprocessing,\n",
    "    StandardScaler(),\n",
    "    XGBClassifier(**xgb_best_params)\n",
    ")"
   ]
  },
  {
   "cell_type": "code",
   "execution_count": 78,
   "id": "5f1dac8f-5bca-4fb5-bad6-21f7a2bc608d",
   "metadata": {},
   "outputs": [
    {
     "data": {
      "text/html": [
       "<style>#sk-container-id-9 {color: black;background-color: white;}#sk-container-id-9 pre{padding: 0;}#sk-container-id-9 div.sk-toggleable {background-color: white;}#sk-container-id-9 label.sk-toggleable__label {cursor: pointer;display: block;width: 100%;margin-bottom: 0;padding: 0.3em;box-sizing: border-box;text-align: center;}#sk-container-id-9 label.sk-toggleable__label-arrow:before {content: \"▸\";float: left;margin-right: 0.25em;color: #696969;}#sk-container-id-9 label.sk-toggleable__label-arrow:hover:before {color: black;}#sk-container-id-9 div.sk-estimator:hover label.sk-toggleable__label-arrow:before {color: black;}#sk-container-id-9 div.sk-toggleable__content {max-height: 0;max-width: 0;overflow: hidden;text-align: left;background-color: #f0f8ff;}#sk-container-id-9 div.sk-toggleable__content pre {margin: 0.2em;color: black;border-radius: 0.25em;background-color: #f0f8ff;}#sk-container-id-9 input.sk-toggleable__control:checked~div.sk-toggleable__content {max-height: 200px;max-width: 100%;overflow: auto;}#sk-container-id-9 input.sk-toggleable__control:checked~label.sk-toggleable__label-arrow:before {content: \"▾\";}#sk-container-id-9 div.sk-estimator input.sk-toggleable__control:checked~label.sk-toggleable__label {background-color: #d4ebff;}#sk-container-id-9 div.sk-label input.sk-toggleable__control:checked~label.sk-toggleable__label {background-color: #d4ebff;}#sk-container-id-9 input.sk-hidden--visually {border: 0;clip: rect(1px 1px 1px 1px);clip: rect(1px, 1px, 1px, 1px);height: 1px;margin: -1px;overflow: hidden;padding: 0;position: absolute;width: 1px;}#sk-container-id-9 div.sk-estimator {font-family: monospace;background-color: #f0f8ff;border: 1px dotted black;border-radius: 0.25em;box-sizing: border-box;margin-bottom: 0.5em;}#sk-container-id-9 div.sk-estimator:hover {background-color: #d4ebff;}#sk-container-id-9 div.sk-parallel-item::after {content: \"\";width: 100%;border-bottom: 1px solid gray;flex-grow: 1;}#sk-container-id-9 div.sk-label:hover label.sk-toggleable__label {background-color: #d4ebff;}#sk-container-id-9 div.sk-serial::before {content: \"\";position: absolute;border-left: 1px solid gray;box-sizing: border-box;top: 0;bottom: 0;left: 50%;z-index: 0;}#sk-container-id-9 div.sk-serial {display: flex;flex-direction: column;align-items: center;background-color: white;padding-right: 0.2em;padding-left: 0.2em;position: relative;}#sk-container-id-9 div.sk-item {position: relative;z-index: 1;}#sk-container-id-9 div.sk-parallel {display: flex;align-items: stretch;justify-content: center;background-color: white;position: relative;}#sk-container-id-9 div.sk-item::before, #sk-container-id-9 div.sk-parallel-item::before {content: \"\";position: absolute;border-left: 1px solid gray;box-sizing: border-box;top: 0;bottom: 0;left: 50%;z-index: -1;}#sk-container-id-9 div.sk-parallel-item {display: flex;flex-direction: column;z-index: 1;position: relative;background-color: white;}#sk-container-id-9 div.sk-parallel-item:first-child::after {align-self: flex-end;width: 50%;}#sk-container-id-9 div.sk-parallel-item:last-child::after {align-self: flex-start;width: 50%;}#sk-container-id-9 div.sk-parallel-item:only-child::after {width: 0;}#sk-container-id-9 div.sk-dashed-wrapped {border: 1px dashed gray;margin: 0 0.4em 0.5em 0.4em;box-sizing: border-box;padding-bottom: 0.4em;background-color: white;}#sk-container-id-9 div.sk-label label {font-family: monospace;font-weight: bold;display: inline-block;line-height: 1.2em;}#sk-container-id-9 div.sk-label-container {text-align: center;}#sk-container-id-9 div.sk-container {/* jupyter's `normalize.less` sets `[hidden] { display: none; }` but bootstrap.min.css set `[hidden] { display: none !important; }` so we also need the `!important` here to be able to override the default hidden behavior on the sphinx rendered scikit-learn.org. See: https://github.com/scikit-learn/scikit-learn/issues/21755 */display: inline-block !important;position: relative;}#sk-container-id-9 div.sk-text-repr-fallback {display: none;}</style><div id=\"sk-container-id-9\" class=\"sk-top-container\"><div class=\"sk-text-repr-fallback\"><pre>XGBClassifier(alpha=0.0006793607893934014, base_score=None, booster=None,\n",
       "              callbacks=None, colsample_bylevel=None, colsample_bynode=None,\n",
       "              colsample_bytree=0.5047951172166767, device=None,\n",
       "              early_stopping_rounds=None, enable_categorical=False,\n",
       "              eval_metric=None, feature_types=None, gamma=0.0003650214503199033,\n",
       "              grow_policy=None, importance_type=None,\n",
       "              interaction_constraints=None, learning_rate=0.014740587787224061,\n",
       "              max_bin=None, max_cat_threshold=None, max_cat_to_onehot=None,\n",
       "              max_delta_step=None, max_depth=5, max_leaves=None,\n",
       "              min_child_weight=3, missing=nan, monotone_constraints=None,\n",
       "              multi_strategy=None, n_estimators=731, n_jobs=None,\n",
       "              num_parallel_tree=None, ...)</pre><b>In a Jupyter environment, please rerun this cell to show the HTML representation or trust the notebook. <br />On GitHub, the HTML representation is unable to render, please try loading this page with nbviewer.org.</b></div><div class=\"sk-container\" hidden><div class=\"sk-item\"><div class=\"sk-estimator sk-toggleable\"><input class=\"sk-toggleable__control sk-hidden--visually\" id=\"sk-estimator-id-24\" type=\"checkbox\" checked><label for=\"sk-estimator-id-24\" class=\"sk-toggleable__label sk-toggleable__label-arrow\">XGBClassifier</label><div class=\"sk-toggleable__content\"><pre>XGBClassifier(alpha=0.0006793607893934014, base_score=None, booster=None,\n",
       "              callbacks=None, colsample_bylevel=None, colsample_bynode=None,\n",
       "              colsample_bytree=0.5047951172166767, device=None,\n",
       "              early_stopping_rounds=None, enable_categorical=False,\n",
       "              eval_metric=None, feature_types=None, gamma=0.0003650214503199033,\n",
       "              grow_policy=None, importance_type=None,\n",
       "              interaction_constraints=None, learning_rate=0.014740587787224061,\n",
       "              max_bin=None, max_cat_threshold=None, max_cat_to_onehot=None,\n",
       "              max_delta_step=None, max_depth=5, max_leaves=None,\n",
       "              min_child_weight=3, missing=nan, monotone_constraints=None,\n",
       "              multi_strategy=None, n_estimators=731, n_jobs=None,\n",
       "              num_parallel_tree=None, ...)</pre></div></div></div></div></div>"
      ],
      "text/plain": [
       "XGBClassifier(alpha=0.0006793607893934014, base_score=None, booster=None,\n",
       "              callbacks=None, colsample_bylevel=None, colsample_bynode=None,\n",
       "              colsample_bytree=0.5047951172166767, device=None,\n",
       "              early_stopping_rounds=None, enable_categorical=False,\n",
       "              eval_metric=None, feature_types=None, gamma=0.0003650214503199033,\n",
       "              grow_policy=None, importance_type=None,\n",
       "              interaction_constraints=None, learning_rate=0.014740587787224061,\n",
       "              max_bin=None, max_cat_threshold=None, max_cat_to_onehot=None,\n",
       "              max_delta_step=None, max_depth=5, max_leaves=None,\n",
       "              min_child_weight=3, missing=nan, monotone_constraints=None,\n",
       "              multi_strategy=None, n_estimators=731, n_jobs=None,\n",
       "              num_parallel_tree=None, ...)"
      ]
     },
     "execution_count": 78,
     "metadata": {},
     "output_type": "execute_result"
    }
   ],
   "source": [
    "xgb_clf.fit(X_train, y_train)"
   ]
  },
  {
   "cell_type": "code",
   "execution_count": 79,
   "id": "6e1ba81a-704d-49ec-9c13-e76b1569edb0",
   "metadata": {},
   "outputs": [
    {
     "data": {
      "text/plain": [
       "0.5792577176552203"
      ]
     },
     "execution_count": 79,
     "metadata": {},
     "output_type": "execute_result"
    }
   ],
   "source": [
    "accuracy_score(xgb_clf.predict(X_valid), y_valid)"
   ]
  },
  {
   "cell_type": "markdown",
   "id": "b271d328-24c8-4acb-82ca-373c458d0b7f",
   "metadata": {},
   "source": [
    "## ExtraTreeClassifier"
   ]
  },
  {
   "cell_type": "code",
   "execution_count": 34,
   "id": "de19e5e0-7abb-40b9-9a59-8446cefa4abb",
   "metadata": {},
   "outputs": [],
   "source": [
    "from sklearn.ensemble import ExtraTreesClassifier, HistGradientBoostingClassifier"
   ]
  },
  {
   "cell_type": "code",
   "execution_count": 56,
   "id": "3bdbe539-7845-474d-a6e5-d1ccf29ecb01",
   "metadata": {},
   "outputs": [],
   "source": [
    "# def objective(trial):\n",
    "\n",
    "#     n_estimators = trial.suggest_int(\"n_estimators\", 100,1000)\n",
    "#     max_feature = trial.suggest_int(\"max_feature\", 2, 27)\n",
    "#     max_depth = trial.suggest_int(\"max_depth\", 3, 18)\n",
    "       \n",
    "#     ext_clf = ExtraTreesClassifier(n_estimators = n_estimators, max_features=max_feature, max_depth=max_depth)\n",
    "    \n",
    "#     # Fit the classifier on the training data\n",
    "#     ext_clf.fit(X_train, y_train)\n",
    "\n",
    "#     # Evaluate the classifier on the test data\n",
    "#     score = ext_clf.score(X_valid, y_valid)        \n",
    "    \n",
    "#     return score\n",
    "\n",
    "\n",
    "# sampler = TPESampler(seed=42) # create a seed for the sampler for reproducibility\n",
    "# study = optuna.create_study(direction=\"maximize\", sampler=sampler)\n",
    "# study.optimize(objective, n_trials=100)"
   ]
  },
  {
   "cell_type": "code",
   "execution_count": 136,
   "id": "b49862ba-ab2c-4fc6-a52b-99a1b2b02797",
   "metadata": {},
   "outputs": [],
   "source": [
    "ext = make_pipeline(\n",
    "    # preprocessing,\n",
    "    StandardScaler(),\n",
    "    ExtraTreesClassifier(n_estimators= 783, max_depth= 11, random_state=42, max_features=20)\n",
    ")"
   ]
  },
  {
   "cell_type": "code",
   "execution_count": 54,
   "id": "eb87568c-a4a4-4f15-87a1-f95186e95a33",
   "metadata": {},
   "outputs": [
    {
     "data": {
      "text/html": [
       "<style>#sk-container-id-5 {color: black;background-color: white;}#sk-container-id-5 pre{padding: 0;}#sk-container-id-5 div.sk-toggleable {background-color: white;}#sk-container-id-5 label.sk-toggleable__label {cursor: pointer;display: block;width: 100%;margin-bottom: 0;padding: 0.3em;box-sizing: border-box;text-align: center;}#sk-container-id-5 label.sk-toggleable__label-arrow:before {content: \"▸\";float: left;margin-right: 0.25em;color: #696969;}#sk-container-id-5 label.sk-toggleable__label-arrow:hover:before {color: black;}#sk-container-id-5 div.sk-estimator:hover label.sk-toggleable__label-arrow:before {color: black;}#sk-container-id-5 div.sk-toggleable__content {max-height: 0;max-width: 0;overflow: hidden;text-align: left;background-color: #f0f8ff;}#sk-container-id-5 div.sk-toggleable__content pre {margin: 0.2em;color: black;border-radius: 0.25em;background-color: #f0f8ff;}#sk-container-id-5 input.sk-toggleable__control:checked~div.sk-toggleable__content {max-height: 200px;max-width: 100%;overflow: auto;}#sk-container-id-5 input.sk-toggleable__control:checked~label.sk-toggleable__label-arrow:before {content: \"▾\";}#sk-container-id-5 div.sk-estimator input.sk-toggleable__control:checked~label.sk-toggleable__label {background-color: #d4ebff;}#sk-container-id-5 div.sk-label input.sk-toggleable__control:checked~label.sk-toggleable__label {background-color: #d4ebff;}#sk-container-id-5 input.sk-hidden--visually {border: 0;clip: rect(1px 1px 1px 1px);clip: rect(1px, 1px, 1px, 1px);height: 1px;margin: -1px;overflow: hidden;padding: 0;position: absolute;width: 1px;}#sk-container-id-5 div.sk-estimator {font-family: monospace;background-color: #f0f8ff;border: 1px dotted black;border-radius: 0.25em;box-sizing: border-box;margin-bottom: 0.5em;}#sk-container-id-5 div.sk-estimator:hover {background-color: #d4ebff;}#sk-container-id-5 div.sk-parallel-item::after {content: \"\";width: 100%;border-bottom: 1px solid gray;flex-grow: 1;}#sk-container-id-5 div.sk-label:hover label.sk-toggleable__label {background-color: #d4ebff;}#sk-container-id-5 div.sk-serial::before {content: \"\";position: absolute;border-left: 1px solid gray;box-sizing: border-box;top: 0;bottom: 0;left: 50%;z-index: 0;}#sk-container-id-5 div.sk-serial {display: flex;flex-direction: column;align-items: center;background-color: white;padding-right: 0.2em;padding-left: 0.2em;position: relative;}#sk-container-id-5 div.sk-item {position: relative;z-index: 1;}#sk-container-id-5 div.sk-parallel {display: flex;align-items: stretch;justify-content: center;background-color: white;position: relative;}#sk-container-id-5 div.sk-item::before, #sk-container-id-5 div.sk-parallel-item::before {content: \"\";position: absolute;border-left: 1px solid gray;box-sizing: border-box;top: 0;bottom: 0;left: 50%;z-index: -1;}#sk-container-id-5 div.sk-parallel-item {display: flex;flex-direction: column;z-index: 1;position: relative;background-color: white;}#sk-container-id-5 div.sk-parallel-item:first-child::after {align-self: flex-end;width: 50%;}#sk-container-id-5 div.sk-parallel-item:last-child::after {align-self: flex-start;width: 50%;}#sk-container-id-5 div.sk-parallel-item:only-child::after {width: 0;}#sk-container-id-5 div.sk-dashed-wrapped {border: 1px dashed gray;margin: 0 0.4em 0.5em 0.4em;box-sizing: border-box;padding-bottom: 0.4em;background-color: white;}#sk-container-id-5 div.sk-label label {font-family: monospace;font-weight: bold;display: inline-block;line-height: 1.2em;}#sk-container-id-5 div.sk-label-container {text-align: center;}#sk-container-id-5 div.sk-container {/* jupyter's `normalize.less` sets `[hidden] { display: none; }` but bootstrap.min.css set `[hidden] { display: none !important; }` so we also need the `!important` here to be able to override the default hidden behavior on the sphinx rendered scikit-learn.org. See: https://github.com/scikit-learn/scikit-learn/issues/21755 */display: inline-block !important;position: relative;}#sk-container-id-5 div.sk-text-repr-fallback {display: none;}</style><div id=\"sk-container-id-5\" class=\"sk-top-container\"><div class=\"sk-text-repr-fallback\"><pre>Pipeline(steps=[(&#x27;columntransformer&#x27;,\n",
       "                 ColumnTransformer(transformers=[(&#x27;functiontransformer&#x27;,\n",
       "                                                  FunctionTransformer(feature_names_out=&#x27;one-to-one&#x27;,\n",
       "                                                                      func=&lt;function col_log at 0x0000020EF8E53100&gt;),\n",
       "                                                  Index([&#x27;X_Minimum&#x27;, &#x27;X_Maximum&#x27;, &#x27;Y_Minimum&#x27;, &#x27;Y_Maximum&#x27;, &#x27;Pixels_Areas&#x27;,\n",
       "       &#x27;X_Perimeter&#x27;, &#x27;Y_Perimeter&#x27;, &#x27;Sum_of_Luminosity&#x27;,\n",
       "       &#x27;Minimum_of_Luminosity&#x27;, &#x27;Maximum_of_Luminosit...\n",
       "       &#x27;Edges_Index&#x27;, &#x27;Empty_Index&#x27;, &#x27;Square_Index&#x27;, &#x27;Outside_X_Index&#x27;,\n",
       "       &#x27;Edges_X_Index&#x27;, &#x27;Edges_Y_Index&#x27;, &#x27;Outside_Global_Index&#x27;, &#x27;LogOfAreas&#x27;,\n",
       "       &#x27;Log_X_Index&#x27;, &#x27;Log_Y_Index&#x27;, &#x27;Orientation_Index&#x27;, &#x27;Luminosity_Index&#x27;,\n",
       "       &#x27;SigmoidOfAreas&#x27;],\n",
       "      dtype=&#x27;object&#x27;))])),\n",
       "                (&#x27;standardscaler&#x27;, StandardScaler()),\n",
       "                (&#x27;extratreesclassifier&#x27;,\n",
       "                 ExtraTreesClassifier(max_depth=11, max_features=20,\n",
       "                                      n_estimators=783, random_state=42))])</pre><b>In a Jupyter environment, please rerun this cell to show the HTML representation or trust the notebook. <br />On GitHub, the HTML representation is unable to render, please try loading this page with nbviewer.org.</b></div><div class=\"sk-container\" hidden><div class=\"sk-item sk-dashed-wrapped\"><div class=\"sk-label-container\"><div class=\"sk-label sk-toggleable\"><input class=\"sk-toggleable__control sk-hidden--visually\" id=\"sk-estimator-id-15\" type=\"checkbox\" ><label for=\"sk-estimator-id-15\" class=\"sk-toggleable__label sk-toggleable__label-arrow\">Pipeline</label><div class=\"sk-toggleable__content\"><pre>Pipeline(steps=[(&#x27;columntransformer&#x27;,\n",
       "                 ColumnTransformer(transformers=[(&#x27;functiontransformer&#x27;,\n",
       "                                                  FunctionTransformer(feature_names_out=&#x27;one-to-one&#x27;,\n",
       "                                                                      func=&lt;function col_log at 0x0000020EF8E53100&gt;),\n",
       "                                                  Index([&#x27;X_Minimum&#x27;, &#x27;X_Maximum&#x27;, &#x27;Y_Minimum&#x27;, &#x27;Y_Maximum&#x27;, &#x27;Pixels_Areas&#x27;,\n",
       "       &#x27;X_Perimeter&#x27;, &#x27;Y_Perimeter&#x27;, &#x27;Sum_of_Luminosity&#x27;,\n",
       "       &#x27;Minimum_of_Luminosity&#x27;, &#x27;Maximum_of_Luminosit...\n",
       "       &#x27;Edges_Index&#x27;, &#x27;Empty_Index&#x27;, &#x27;Square_Index&#x27;, &#x27;Outside_X_Index&#x27;,\n",
       "       &#x27;Edges_X_Index&#x27;, &#x27;Edges_Y_Index&#x27;, &#x27;Outside_Global_Index&#x27;, &#x27;LogOfAreas&#x27;,\n",
       "       &#x27;Log_X_Index&#x27;, &#x27;Log_Y_Index&#x27;, &#x27;Orientation_Index&#x27;, &#x27;Luminosity_Index&#x27;,\n",
       "       &#x27;SigmoidOfAreas&#x27;],\n",
       "      dtype=&#x27;object&#x27;))])),\n",
       "                (&#x27;standardscaler&#x27;, StandardScaler()),\n",
       "                (&#x27;extratreesclassifier&#x27;,\n",
       "                 ExtraTreesClassifier(max_depth=11, max_features=20,\n",
       "                                      n_estimators=783, random_state=42))])</pre></div></div></div><div class=\"sk-serial\"><div class=\"sk-item sk-dashed-wrapped\"><div class=\"sk-label-container\"><div class=\"sk-label sk-toggleable\"><input class=\"sk-toggleable__control sk-hidden--visually\" id=\"sk-estimator-id-16\" type=\"checkbox\" ><label for=\"sk-estimator-id-16\" class=\"sk-toggleable__label sk-toggleable__label-arrow\">columntransformer: ColumnTransformer</label><div class=\"sk-toggleable__content\"><pre>ColumnTransformer(transformers=[(&#x27;functiontransformer&#x27;,\n",
       "                                 FunctionTransformer(feature_names_out=&#x27;one-to-one&#x27;,\n",
       "                                                     func=&lt;function col_log at 0x0000020EF8E53100&gt;),\n",
       "                                 Index([&#x27;X_Minimum&#x27;, &#x27;X_Maximum&#x27;, &#x27;Y_Minimum&#x27;, &#x27;Y_Maximum&#x27;, &#x27;Pixels_Areas&#x27;,\n",
       "       &#x27;X_Perimeter&#x27;, &#x27;Y_Perimeter&#x27;, &#x27;Sum_of_Luminosity&#x27;,\n",
       "       &#x27;Minimum_of_Luminosity&#x27;, &#x27;Maximum_of_Luminosity&#x27;, &#x27;Length_of_Conveyer&#x27;,\n",
       "       &#x27;TypeOfSteel_A300&#x27;, &#x27;TypeOfSteel_A400&#x27;, &#x27;Steel_Plate_Thickness&#x27;,\n",
       "       &#x27;Edges_Index&#x27;, &#x27;Empty_Index&#x27;, &#x27;Square_Index&#x27;, &#x27;Outside_X_Index&#x27;,\n",
       "       &#x27;Edges_X_Index&#x27;, &#x27;Edges_Y_Index&#x27;, &#x27;Outside_Global_Index&#x27;, &#x27;LogOfAreas&#x27;,\n",
       "       &#x27;Log_X_Index&#x27;, &#x27;Log_Y_Index&#x27;, &#x27;Orientation_Index&#x27;, &#x27;Luminosity_Index&#x27;,\n",
       "       &#x27;SigmoidOfAreas&#x27;],\n",
       "      dtype=&#x27;object&#x27;))])</pre></div></div></div><div class=\"sk-parallel\"><div class=\"sk-parallel-item\"><div class=\"sk-item\"><div class=\"sk-label-container\"><div class=\"sk-label sk-toggleable\"><input class=\"sk-toggleable__control sk-hidden--visually\" id=\"sk-estimator-id-17\" type=\"checkbox\" ><label for=\"sk-estimator-id-17\" class=\"sk-toggleable__label sk-toggleable__label-arrow\">functiontransformer</label><div class=\"sk-toggleable__content\"><pre>Index([&#x27;X_Minimum&#x27;, &#x27;X_Maximum&#x27;, &#x27;Y_Minimum&#x27;, &#x27;Y_Maximum&#x27;, &#x27;Pixels_Areas&#x27;,\n",
       "       &#x27;X_Perimeter&#x27;, &#x27;Y_Perimeter&#x27;, &#x27;Sum_of_Luminosity&#x27;,\n",
       "       &#x27;Minimum_of_Luminosity&#x27;, &#x27;Maximum_of_Luminosity&#x27;, &#x27;Length_of_Conveyer&#x27;,\n",
       "       &#x27;TypeOfSteel_A300&#x27;, &#x27;TypeOfSteel_A400&#x27;, &#x27;Steel_Plate_Thickness&#x27;,\n",
       "       &#x27;Edges_Index&#x27;, &#x27;Empty_Index&#x27;, &#x27;Square_Index&#x27;, &#x27;Outside_X_Index&#x27;,\n",
       "       &#x27;Edges_X_Index&#x27;, &#x27;Edges_Y_Index&#x27;, &#x27;Outside_Global_Index&#x27;, &#x27;LogOfAreas&#x27;,\n",
       "       &#x27;Log_X_Index&#x27;, &#x27;Log_Y_Index&#x27;, &#x27;Orientation_Index&#x27;, &#x27;Luminosity_Index&#x27;,\n",
       "       &#x27;SigmoidOfAreas&#x27;],\n",
       "      dtype=&#x27;object&#x27;)</pre></div></div></div><div class=\"sk-serial\"><div class=\"sk-item\"><div class=\"sk-estimator sk-toggleable\"><input class=\"sk-toggleable__control sk-hidden--visually\" id=\"sk-estimator-id-18\" type=\"checkbox\" ><label for=\"sk-estimator-id-18\" class=\"sk-toggleable__label sk-toggleable__label-arrow\">FunctionTransformer</label><div class=\"sk-toggleable__content\"><pre>FunctionTransformer(feature_names_out=&#x27;one-to-one&#x27;,\n",
       "                    func=&lt;function col_log at 0x0000020EF8E53100&gt;)</pre></div></div></div></div></div></div></div></div><div class=\"sk-item\"><div class=\"sk-estimator sk-toggleable\"><input class=\"sk-toggleable__control sk-hidden--visually\" id=\"sk-estimator-id-19\" type=\"checkbox\" ><label for=\"sk-estimator-id-19\" class=\"sk-toggleable__label sk-toggleable__label-arrow\">StandardScaler</label><div class=\"sk-toggleable__content\"><pre>StandardScaler()</pre></div></div></div><div class=\"sk-item\"><div class=\"sk-estimator sk-toggleable\"><input class=\"sk-toggleable__control sk-hidden--visually\" id=\"sk-estimator-id-20\" type=\"checkbox\" ><label for=\"sk-estimator-id-20\" class=\"sk-toggleable__label sk-toggleable__label-arrow\">ExtraTreesClassifier</label><div class=\"sk-toggleable__content\"><pre>ExtraTreesClassifier(max_depth=11, max_features=20, n_estimators=783,\n",
       "                     random_state=42)</pre></div></div></div></div></div></div></div>"
      ],
      "text/plain": [
       "Pipeline(steps=[('columntransformer',\n",
       "                 ColumnTransformer(transformers=[('functiontransformer',\n",
       "                                                  FunctionTransformer(feature_names_out='one-to-one',\n",
       "                                                                      func=<function col_log at 0x0000020EF8E53100>),\n",
       "                                                  Index(['X_Minimum', 'X_Maximum', 'Y_Minimum', 'Y_Maximum', 'Pixels_Areas',\n",
       "       'X_Perimeter', 'Y_Perimeter', 'Sum_of_Luminosity',\n",
       "       'Minimum_of_Luminosity', 'Maximum_of_Luminosit...\n",
       "       'Edges_Index', 'Empty_Index', 'Square_Index', 'Outside_X_Index',\n",
       "       'Edges_X_Index', 'Edges_Y_Index', 'Outside_Global_Index', 'LogOfAreas',\n",
       "       'Log_X_Index', 'Log_Y_Index', 'Orientation_Index', 'Luminosity_Index',\n",
       "       'SigmoidOfAreas'],\n",
       "      dtype='object'))])),\n",
       "                ('standardscaler', StandardScaler()),\n",
       "                ('extratreesclassifier',\n",
       "                 ExtraTreesClassifier(max_depth=11, max_features=20,\n",
       "                                      n_estimators=783, random_state=42))])"
      ]
     },
     "execution_count": 54,
     "metadata": {},
     "output_type": "execute_result"
    }
   ],
   "source": [
    "ext.fit(X_train, y_train)"
   ]
  },
  {
   "cell_type": "code",
   "execution_count": 50,
   "id": "26e8caf3-88e6-4678-b99e-3e5cad9b919b",
   "metadata": {},
   "outputs": [
    {
     "data": {
      "text/plain": [
       "0.8615020707408877"
      ]
     },
     "execution_count": 50,
     "metadata": {},
     "output_type": "execute_result"
    }
   ],
   "source": [
    "roc_auc_score(y_valid, ext.predict_proba(X_valid), multi_class=\"ovr\")"
   ]
  },
  {
   "cell_type": "code",
   "execution_count": 55,
   "id": "cd37b4d8-34b3-43be-81c6-f74703fec97e",
   "metadata": {},
   "outputs": [
    {
     "data": {
      "text/plain": [
       "0.5691987513007284"
      ]
     },
     "execution_count": 55,
     "metadata": {},
     "output_type": "execute_result"
    }
   ],
   "source": [
    "accuracy_score(ext.predict(X_valid), y_valid)"
   ]
  },
  {
   "cell_type": "markdown",
   "id": "aa7c7a68-e05e-4cf0-b00d-5331eeb6c1fa",
   "metadata": {},
   "source": [
    "## HistGradientBoostingClassifier"
   ]
  },
  {
   "cell_type": "code",
   "execution_count": 74,
   "id": "90874afd-cac2-4aba-b21e-50de1125072c",
   "metadata": {},
   "outputs": [],
   "source": [
    "# def objective(trial):\n",
    "\n",
    "#     # n_estimators = trial.suggest_int(\"n_estimators\", 100,1000)\n",
    "#     # max_feature = trial.suggest_int(\"max_feature\", 2, 27)\n",
    "#     max_depth = trial.suggest_int(\"max_depth\", 3, 18)\n",
    "#     max_bins = trial.suggest_int(\"max_bins\", 10, 150)\n",
    "#     learning_rate = trial.suggest_float(\"learning_rate\", 0.0001, 10)\n",
    "#     max_leaf_nodes = trial.suggest_int(\"max_leaf_nodes\", 3, 30)\n",
    "       \n",
    "#     hist_clf = make_pipeline(\n",
    "#         preprocessing,\n",
    "#         StandardScaler(),\n",
    "#         HistGradientBoostingClassifier(max_depth=max_depth, max_bins=max_bins, learning_rate=learning_rate, max_leaf_nodes=max_leaf_nodes, random_state=42)\n",
    "#     )\n",
    "    \n",
    "#     # Fit the classifier on the training data\n",
    "#     hist_clf.fit(X_train, y_train)\n",
    "\n",
    "#     # Evaluate the classifier on the test data\n",
    "#     score = hist_clf.score(X_valid, y_valid)        \n",
    "    \n",
    "#     return score\n",
    "\n",
    "\n",
    "# sampler = TPESampler(seed=42) # create a seed for the sampler for reproducibility\n",
    "# study = optuna.create_study(direction=\"maximize\", sampler=sampler)\n",
    "# study.optimize(objective, n_trials=100)"
   ]
  },
  {
   "cell_type": "code",
   "execution_count": 36,
   "id": "9bde2aca-35d0-4e39-8178-69110523c14e",
   "metadata": {},
   "outputs": [],
   "source": [
    "hist_best_params = {'max_depth': 4, 'max_bins': 83, 'learning_rate': 0.03838876793696897, 'max_leaf_nodes': 29, \"random_state\":42}"
   ]
  },
  {
   "cell_type": "code",
   "execution_count": 137,
   "id": "bb20e08b-e4a3-41ad-b780-c49ea6086920",
   "metadata": {},
   "outputs": [],
   "source": [
    "hist_clf = make_pipeline(\n",
    "    # preprocessing,\n",
    "    StandardScaler(),\n",
    "    HistGradientBoostingClassifier()\n",
    ")"
   ]
  },
  {
   "cell_type": "code",
   "execution_count": 88,
   "id": "d6769a38-1628-45aa-a1b4-68c4a3462901",
   "metadata": {},
   "outputs": [
    {
     "data": {
      "text/html": [
       "<style>#sk-container-id-11 {color: black;background-color: white;}#sk-container-id-11 pre{padding: 0;}#sk-container-id-11 div.sk-toggleable {background-color: white;}#sk-container-id-11 label.sk-toggleable__label {cursor: pointer;display: block;width: 100%;margin-bottom: 0;padding: 0.3em;box-sizing: border-box;text-align: center;}#sk-container-id-11 label.sk-toggleable__label-arrow:before {content: \"▸\";float: left;margin-right: 0.25em;color: #696969;}#sk-container-id-11 label.sk-toggleable__label-arrow:hover:before {color: black;}#sk-container-id-11 div.sk-estimator:hover label.sk-toggleable__label-arrow:before {color: black;}#sk-container-id-11 div.sk-toggleable__content {max-height: 0;max-width: 0;overflow: hidden;text-align: left;background-color: #f0f8ff;}#sk-container-id-11 div.sk-toggleable__content pre {margin: 0.2em;color: black;border-radius: 0.25em;background-color: #f0f8ff;}#sk-container-id-11 input.sk-toggleable__control:checked~div.sk-toggleable__content {max-height: 200px;max-width: 100%;overflow: auto;}#sk-container-id-11 input.sk-toggleable__control:checked~label.sk-toggleable__label-arrow:before {content: \"▾\";}#sk-container-id-11 div.sk-estimator input.sk-toggleable__control:checked~label.sk-toggleable__label {background-color: #d4ebff;}#sk-container-id-11 div.sk-label input.sk-toggleable__control:checked~label.sk-toggleable__label {background-color: #d4ebff;}#sk-container-id-11 input.sk-hidden--visually {border: 0;clip: rect(1px 1px 1px 1px);clip: rect(1px, 1px, 1px, 1px);height: 1px;margin: -1px;overflow: hidden;padding: 0;position: absolute;width: 1px;}#sk-container-id-11 div.sk-estimator {font-family: monospace;background-color: #f0f8ff;border: 1px dotted black;border-radius: 0.25em;box-sizing: border-box;margin-bottom: 0.5em;}#sk-container-id-11 div.sk-estimator:hover {background-color: #d4ebff;}#sk-container-id-11 div.sk-parallel-item::after {content: \"\";width: 100%;border-bottom: 1px solid gray;flex-grow: 1;}#sk-container-id-11 div.sk-label:hover label.sk-toggleable__label {background-color: #d4ebff;}#sk-container-id-11 div.sk-serial::before {content: \"\";position: absolute;border-left: 1px solid gray;box-sizing: border-box;top: 0;bottom: 0;left: 50%;z-index: 0;}#sk-container-id-11 div.sk-serial {display: flex;flex-direction: column;align-items: center;background-color: white;padding-right: 0.2em;padding-left: 0.2em;position: relative;}#sk-container-id-11 div.sk-item {position: relative;z-index: 1;}#sk-container-id-11 div.sk-parallel {display: flex;align-items: stretch;justify-content: center;background-color: white;position: relative;}#sk-container-id-11 div.sk-item::before, #sk-container-id-11 div.sk-parallel-item::before {content: \"\";position: absolute;border-left: 1px solid gray;box-sizing: border-box;top: 0;bottom: 0;left: 50%;z-index: -1;}#sk-container-id-11 div.sk-parallel-item {display: flex;flex-direction: column;z-index: 1;position: relative;background-color: white;}#sk-container-id-11 div.sk-parallel-item:first-child::after {align-self: flex-end;width: 50%;}#sk-container-id-11 div.sk-parallel-item:last-child::after {align-self: flex-start;width: 50%;}#sk-container-id-11 div.sk-parallel-item:only-child::after {width: 0;}#sk-container-id-11 div.sk-dashed-wrapped {border: 1px dashed gray;margin: 0 0.4em 0.5em 0.4em;box-sizing: border-box;padding-bottom: 0.4em;background-color: white;}#sk-container-id-11 div.sk-label label {font-family: monospace;font-weight: bold;display: inline-block;line-height: 1.2em;}#sk-container-id-11 div.sk-label-container {text-align: center;}#sk-container-id-11 div.sk-container {/* jupyter's `normalize.less` sets `[hidden] { display: none; }` but bootstrap.min.css set `[hidden] { display: none !important; }` so we also need the `!important` here to be able to override the default hidden behavior on the sphinx rendered scikit-learn.org. See: https://github.com/scikit-learn/scikit-learn/issues/21755 */display: inline-block !important;position: relative;}#sk-container-id-11 div.sk-text-repr-fallback {display: none;}</style><div id=\"sk-container-id-11\" class=\"sk-top-container\"><div class=\"sk-text-repr-fallback\"><pre>Pipeline(steps=[(&#x27;columntransformer&#x27;,\n",
       "                 ColumnTransformer(transformers=[(&#x27;functiontransformer&#x27;,\n",
       "                                                  FunctionTransformer(feature_names_out=&#x27;one-to-one&#x27;,\n",
       "                                                                      func=&lt;function col_log at 0x000001B46CCB4720&gt;),\n",
       "                                                  Index([&#x27;X_Minimum&#x27;, &#x27;X_Maximum&#x27;, &#x27;Y_Minimum&#x27;, &#x27;Y_Maximum&#x27;, &#x27;Pixels_Areas&#x27;,\n",
       "       &#x27;X_Perimeter&#x27;, &#x27;Y_Perimeter&#x27;, &#x27;Sum_of_Luminosity&#x27;,\n",
       "       &#x27;Minimum_of_Luminosity&#x27;, &#x27;Maximum_of_Luminosit...\n",
       "       &#x27;TypeOfSteel_A300&#x27;, &#x27;TypeOfSteel_A400&#x27;, &#x27;Steel_Plate_Thickness&#x27;,\n",
       "       &#x27;Edges_Index&#x27;, &#x27;Empty_Index&#x27;, &#x27;Square_Index&#x27;, &#x27;Outside_X_Index&#x27;,\n",
       "       &#x27;Edges_X_Index&#x27;, &#x27;Edges_Y_Index&#x27;, &#x27;Outside_Global_Index&#x27;, &#x27;LogOfAreas&#x27;,\n",
       "       &#x27;Log_X_Index&#x27;, &#x27;Log_Y_Index&#x27;, &#x27;Orientation_Index&#x27;, &#x27;Luminosity_Index&#x27;,\n",
       "       &#x27;SigmoidOfAreas&#x27;],\n",
       "      dtype=&#x27;object&#x27;))])),\n",
       "                (&#x27;standardscaler&#x27;, StandardScaler()),\n",
       "                (&#x27;histgradientboostingclassifier&#x27;,\n",
       "                 HistGradientBoostingClassifier())])</pre><b>In a Jupyter environment, please rerun this cell to show the HTML representation or trust the notebook. <br />On GitHub, the HTML representation is unable to render, please try loading this page with nbviewer.org.</b></div><div class=\"sk-container\" hidden><div class=\"sk-item sk-dashed-wrapped\"><div class=\"sk-label-container\"><div class=\"sk-label sk-toggleable\"><input class=\"sk-toggleable__control sk-hidden--visually\" id=\"sk-estimator-id-127\" type=\"checkbox\" ><label for=\"sk-estimator-id-127\" class=\"sk-toggleable__label sk-toggleable__label-arrow\">Pipeline</label><div class=\"sk-toggleable__content\"><pre>Pipeline(steps=[(&#x27;columntransformer&#x27;,\n",
       "                 ColumnTransformer(transformers=[(&#x27;functiontransformer&#x27;,\n",
       "                                                  FunctionTransformer(feature_names_out=&#x27;one-to-one&#x27;,\n",
       "                                                                      func=&lt;function col_log at 0x000001B46CCB4720&gt;),\n",
       "                                                  Index([&#x27;X_Minimum&#x27;, &#x27;X_Maximum&#x27;, &#x27;Y_Minimum&#x27;, &#x27;Y_Maximum&#x27;, &#x27;Pixels_Areas&#x27;,\n",
       "       &#x27;X_Perimeter&#x27;, &#x27;Y_Perimeter&#x27;, &#x27;Sum_of_Luminosity&#x27;,\n",
       "       &#x27;Minimum_of_Luminosity&#x27;, &#x27;Maximum_of_Luminosit...\n",
       "       &#x27;TypeOfSteel_A300&#x27;, &#x27;TypeOfSteel_A400&#x27;, &#x27;Steel_Plate_Thickness&#x27;,\n",
       "       &#x27;Edges_Index&#x27;, &#x27;Empty_Index&#x27;, &#x27;Square_Index&#x27;, &#x27;Outside_X_Index&#x27;,\n",
       "       &#x27;Edges_X_Index&#x27;, &#x27;Edges_Y_Index&#x27;, &#x27;Outside_Global_Index&#x27;, &#x27;LogOfAreas&#x27;,\n",
       "       &#x27;Log_X_Index&#x27;, &#x27;Log_Y_Index&#x27;, &#x27;Orientation_Index&#x27;, &#x27;Luminosity_Index&#x27;,\n",
       "       &#x27;SigmoidOfAreas&#x27;],\n",
       "      dtype=&#x27;object&#x27;))])),\n",
       "                (&#x27;standardscaler&#x27;, StandardScaler()),\n",
       "                (&#x27;histgradientboostingclassifier&#x27;,\n",
       "                 HistGradientBoostingClassifier())])</pre></div></div></div><div class=\"sk-serial\"><div class=\"sk-item sk-dashed-wrapped\"><div class=\"sk-label-container\"><div class=\"sk-label sk-toggleable\"><input class=\"sk-toggleable__control sk-hidden--visually\" id=\"sk-estimator-id-128\" type=\"checkbox\" ><label for=\"sk-estimator-id-128\" class=\"sk-toggleable__label sk-toggleable__label-arrow\">columntransformer: ColumnTransformer</label><div class=\"sk-toggleable__content\"><pre>ColumnTransformer(transformers=[(&#x27;functiontransformer&#x27;,\n",
       "                                 FunctionTransformer(feature_names_out=&#x27;one-to-one&#x27;,\n",
       "                                                     func=&lt;function col_log at 0x000001B46CCB4720&gt;),\n",
       "                                 Index([&#x27;X_Minimum&#x27;, &#x27;X_Maximum&#x27;, &#x27;Y_Minimum&#x27;, &#x27;Y_Maximum&#x27;, &#x27;Pixels_Areas&#x27;,\n",
       "       &#x27;X_Perimeter&#x27;, &#x27;Y_Perimeter&#x27;, &#x27;Sum_of_Luminosity&#x27;,\n",
       "       &#x27;Minimum_of_Luminosity&#x27;, &#x27;Maximum_of_Luminosity&#x27;, &#x27;Length_of_Conveyer&#x27;,\n",
       "       &#x27;TypeOfSteel_A300&#x27;, &#x27;TypeOfSteel_A400&#x27;, &#x27;Steel_Plate_Thickness&#x27;,\n",
       "       &#x27;Edges_Index&#x27;, &#x27;Empty_Index&#x27;, &#x27;Square_Index&#x27;, &#x27;Outside_X_Index&#x27;,\n",
       "       &#x27;Edges_X_Index&#x27;, &#x27;Edges_Y_Index&#x27;, &#x27;Outside_Global_Index&#x27;, &#x27;LogOfAreas&#x27;,\n",
       "       &#x27;Log_X_Index&#x27;, &#x27;Log_Y_Index&#x27;, &#x27;Orientation_Index&#x27;, &#x27;Luminosity_Index&#x27;,\n",
       "       &#x27;SigmoidOfAreas&#x27;],\n",
       "      dtype=&#x27;object&#x27;))])</pre></div></div></div><div class=\"sk-parallel\"><div class=\"sk-parallel-item\"><div class=\"sk-item\"><div class=\"sk-label-container\"><div class=\"sk-label sk-toggleable\"><input class=\"sk-toggleable__control sk-hidden--visually\" id=\"sk-estimator-id-129\" type=\"checkbox\" ><label for=\"sk-estimator-id-129\" class=\"sk-toggleable__label sk-toggleable__label-arrow\">functiontransformer</label><div class=\"sk-toggleable__content\"><pre>Index([&#x27;X_Minimum&#x27;, &#x27;X_Maximum&#x27;, &#x27;Y_Minimum&#x27;, &#x27;Y_Maximum&#x27;, &#x27;Pixels_Areas&#x27;,\n",
       "       &#x27;X_Perimeter&#x27;, &#x27;Y_Perimeter&#x27;, &#x27;Sum_of_Luminosity&#x27;,\n",
       "       &#x27;Minimum_of_Luminosity&#x27;, &#x27;Maximum_of_Luminosity&#x27;, &#x27;Length_of_Conveyer&#x27;,\n",
       "       &#x27;TypeOfSteel_A300&#x27;, &#x27;TypeOfSteel_A400&#x27;, &#x27;Steel_Plate_Thickness&#x27;,\n",
       "       &#x27;Edges_Index&#x27;, &#x27;Empty_Index&#x27;, &#x27;Square_Index&#x27;, &#x27;Outside_X_Index&#x27;,\n",
       "       &#x27;Edges_X_Index&#x27;, &#x27;Edges_Y_Index&#x27;, &#x27;Outside_Global_Index&#x27;, &#x27;LogOfAreas&#x27;,\n",
       "       &#x27;Log_X_Index&#x27;, &#x27;Log_Y_Index&#x27;, &#x27;Orientation_Index&#x27;, &#x27;Luminosity_Index&#x27;,\n",
       "       &#x27;SigmoidOfAreas&#x27;],\n",
       "      dtype=&#x27;object&#x27;)</pre></div></div></div><div class=\"sk-serial\"><div class=\"sk-item\"><div class=\"sk-estimator sk-toggleable\"><input class=\"sk-toggleable__control sk-hidden--visually\" id=\"sk-estimator-id-130\" type=\"checkbox\" ><label for=\"sk-estimator-id-130\" class=\"sk-toggleable__label sk-toggleable__label-arrow\">FunctionTransformer</label><div class=\"sk-toggleable__content\"><pre>FunctionTransformer(feature_names_out=&#x27;one-to-one&#x27;,\n",
       "                    func=&lt;function col_log at 0x000001B46CCB4720&gt;)</pre></div></div></div></div></div></div></div></div><div class=\"sk-item\"><div class=\"sk-estimator sk-toggleable\"><input class=\"sk-toggleable__control sk-hidden--visually\" id=\"sk-estimator-id-131\" type=\"checkbox\" ><label for=\"sk-estimator-id-131\" class=\"sk-toggleable__label sk-toggleable__label-arrow\">StandardScaler</label><div class=\"sk-toggleable__content\"><pre>StandardScaler()</pre></div></div></div><div class=\"sk-item\"><div class=\"sk-estimator sk-toggleable\"><input class=\"sk-toggleable__control sk-hidden--visually\" id=\"sk-estimator-id-132\" type=\"checkbox\" ><label for=\"sk-estimator-id-132\" class=\"sk-toggleable__label sk-toggleable__label-arrow\">HistGradientBoostingClassifier</label><div class=\"sk-toggleable__content\"><pre>HistGradientBoostingClassifier()</pre></div></div></div></div></div></div></div>"
      ],
      "text/plain": [
       "Pipeline(steps=[('columntransformer',\n",
       "                 ColumnTransformer(transformers=[('functiontransformer',\n",
       "                                                  FunctionTransformer(feature_names_out='one-to-one',\n",
       "                                                                      func=<function col_log at 0x000001B46CCB4720>),\n",
       "                                                  Index(['X_Minimum', 'X_Maximum', 'Y_Minimum', 'Y_Maximum', 'Pixels_Areas',\n",
       "       'X_Perimeter', 'Y_Perimeter', 'Sum_of_Luminosity',\n",
       "       'Minimum_of_Luminosity', 'Maximum_of_Luminosit...\n",
       "       'TypeOfSteel_A300', 'TypeOfSteel_A400', 'Steel_Plate_Thickness',\n",
       "       'Edges_Index', 'Empty_Index', 'Square_Index', 'Outside_X_Index',\n",
       "       'Edges_X_Index', 'Edges_Y_Index', 'Outside_Global_Index', 'LogOfAreas',\n",
       "       'Log_X_Index', 'Log_Y_Index', 'Orientation_Index', 'Luminosity_Index',\n",
       "       'SigmoidOfAreas'],\n",
       "      dtype='object'))])),\n",
       "                ('standardscaler', StandardScaler()),\n",
       "                ('histgradientboostingclassifier',\n",
       "                 HistGradientBoostingClassifier())])"
      ]
     },
     "execution_count": 88,
     "metadata": {},
     "output_type": "execute_result"
    }
   ],
   "source": [
    "hist_clf.fit(X_train,y_train)"
   ]
  },
  {
   "cell_type": "code",
   "execution_count": 89,
   "id": "6eb85c5e-fbf9-43b1-8313-bc1b0c34bc93",
   "metadata": {},
   "outputs": [
    {
     "data": {
      "text/plain": [
       "0.594833018273472"
      ]
     },
     "execution_count": 89,
     "metadata": {},
     "output_type": "execute_result"
    }
   ],
   "source": [
    "accuracy_score(hist_clf.predict(X_valid), y_valid)"
   ]
  },
  {
   "cell_type": "code",
   "execution_count": 90,
   "id": "ff667339-4dce-40f9-a6af-81743aa8cf5a",
   "metadata": {},
   "outputs": [
    {
     "data": {
      "text/plain": [
       "0.8911195030487248"
      ]
     },
     "execution_count": 90,
     "metadata": {},
     "output_type": "execute_result"
    }
   ],
   "source": [
    "roc_auc_score(y_valid, hist_clf.predict_proba(X_valid), multi_class=\"ovo\")"
   ]
  },
  {
   "cell_type": "markdown",
   "id": "43c775bf-ae5a-4645-a3da-2d5a07958c36",
   "metadata": {},
   "source": [
    "## Taking some parameters from others notebooks"
   ]
  },
  {
   "cell_type": "markdown",
   "id": "4c1f4dd1-80a5-4180-8a9f-a142fa1c118b",
   "metadata": {},
   "source": [
    "### LGBMClassifier 2"
   ]
  },
  {
   "cell_type": "code",
   "execution_count": 144,
   "id": "a5e4151e-6513-4206-bf8f-a85a21388120",
   "metadata": {},
   "outputs": [],
   "source": [
    "lgbm_optuna_params1 = {\n",
    "    'n_estimators': 1834,\n",
    "    'max_depth': 10,\n",
    "    'learning_rate': 0.005451511795931252,\n",
    "    'min_data_in_leaf': 4,\n",
    "    'subsample': 0.5633978668136881,\n",
    "    'max_bin': 110,\n",
    "    'feature_fraction': 0.17583040106894807,\n",
    "    \"objective\": \"multiclass\",\n",
    "    \"metric\": \"multi_logloss\",\n",
    "    \"verbosity\": -1,\n",
    "    \"boosting_type\": \"gbdt\",\n",
    "    \"random_state\": 42,\n",
    "    \"num_class\": 7,\n",
    "}\n",
    "lgbm_clf2 = make_pipeline(\n",
    "    # preprocessing,\n",
    "    StandardScaler(),\n",
    "    LGBMClassifier(**lgbm_optuna_params1)\n",
    ")"
   ]
  },
  {
   "cell_type": "code",
   "execution_count": 79,
   "id": "0079c3bc-9aed-46c4-98fd-0e72ad117571",
   "metadata": {},
   "outputs": [
    {
     "data": {
      "text/html": [
       "<style>#sk-container-id-8 {color: black;background-color: white;}#sk-container-id-8 pre{padding: 0;}#sk-container-id-8 div.sk-toggleable {background-color: white;}#sk-container-id-8 label.sk-toggleable__label {cursor: pointer;display: block;width: 100%;margin-bottom: 0;padding: 0.3em;box-sizing: border-box;text-align: center;}#sk-container-id-8 label.sk-toggleable__label-arrow:before {content: \"▸\";float: left;margin-right: 0.25em;color: #696969;}#sk-container-id-8 label.sk-toggleable__label-arrow:hover:before {color: black;}#sk-container-id-8 div.sk-estimator:hover label.sk-toggleable__label-arrow:before {color: black;}#sk-container-id-8 div.sk-toggleable__content {max-height: 0;max-width: 0;overflow: hidden;text-align: left;background-color: #f0f8ff;}#sk-container-id-8 div.sk-toggleable__content pre {margin: 0.2em;color: black;border-radius: 0.25em;background-color: #f0f8ff;}#sk-container-id-8 input.sk-toggleable__control:checked~div.sk-toggleable__content {max-height: 200px;max-width: 100%;overflow: auto;}#sk-container-id-8 input.sk-toggleable__control:checked~label.sk-toggleable__label-arrow:before {content: \"▾\";}#sk-container-id-8 div.sk-estimator input.sk-toggleable__control:checked~label.sk-toggleable__label {background-color: #d4ebff;}#sk-container-id-8 div.sk-label input.sk-toggleable__control:checked~label.sk-toggleable__label {background-color: #d4ebff;}#sk-container-id-8 input.sk-hidden--visually {border: 0;clip: rect(1px 1px 1px 1px);clip: rect(1px, 1px, 1px, 1px);height: 1px;margin: -1px;overflow: hidden;padding: 0;position: absolute;width: 1px;}#sk-container-id-8 div.sk-estimator {font-family: monospace;background-color: #f0f8ff;border: 1px dotted black;border-radius: 0.25em;box-sizing: border-box;margin-bottom: 0.5em;}#sk-container-id-8 div.sk-estimator:hover {background-color: #d4ebff;}#sk-container-id-8 div.sk-parallel-item::after {content: \"\";width: 100%;border-bottom: 1px solid gray;flex-grow: 1;}#sk-container-id-8 div.sk-label:hover label.sk-toggleable__label {background-color: #d4ebff;}#sk-container-id-8 div.sk-serial::before {content: \"\";position: absolute;border-left: 1px solid gray;box-sizing: border-box;top: 0;bottom: 0;left: 50%;z-index: 0;}#sk-container-id-8 div.sk-serial {display: flex;flex-direction: column;align-items: center;background-color: white;padding-right: 0.2em;padding-left: 0.2em;position: relative;}#sk-container-id-8 div.sk-item {position: relative;z-index: 1;}#sk-container-id-8 div.sk-parallel {display: flex;align-items: stretch;justify-content: center;background-color: white;position: relative;}#sk-container-id-8 div.sk-item::before, #sk-container-id-8 div.sk-parallel-item::before {content: \"\";position: absolute;border-left: 1px solid gray;box-sizing: border-box;top: 0;bottom: 0;left: 50%;z-index: -1;}#sk-container-id-8 div.sk-parallel-item {display: flex;flex-direction: column;z-index: 1;position: relative;background-color: white;}#sk-container-id-8 div.sk-parallel-item:first-child::after {align-self: flex-end;width: 50%;}#sk-container-id-8 div.sk-parallel-item:last-child::after {align-self: flex-start;width: 50%;}#sk-container-id-8 div.sk-parallel-item:only-child::after {width: 0;}#sk-container-id-8 div.sk-dashed-wrapped {border: 1px dashed gray;margin: 0 0.4em 0.5em 0.4em;box-sizing: border-box;padding-bottom: 0.4em;background-color: white;}#sk-container-id-8 div.sk-label label {font-family: monospace;font-weight: bold;display: inline-block;line-height: 1.2em;}#sk-container-id-8 div.sk-label-container {text-align: center;}#sk-container-id-8 div.sk-container {/* jupyter's `normalize.less` sets `[hidden] { display: none; }` but bootstrap.min.css set `[hidden] { display: none !important; }` so we also need the `!important` here to be able to override the default hidden behavior on the sphinx rendered scikit-learn.org. See: https://github.com/scikit-learn/scikit-learn/issues/21755 */display: inline-block !important;position: relative;}#sk-container-id-8 div.sk-text-repr-fallback {display: none;}</style><div id=\"sk-container-id-8\" class=\"sk-top-container\"><div class=\"sk-text-repr-fallback\"><pre>Pipeline(steps=[(&#x27;columntransformer&#x27;,\n",
       "                 ColumnTransformer(transformers=[(&#x27;functiontransformer&#x27;,\n",
       "                                                  FunctionTransformer(feature_names_out=&#x27;one-to-one&#x27;,\n",
       "                                                                      func=&lt;function col_log at 0x000001B46CCB4720&gt;),\n",
       "                                                  Index([&#x27;X_Minimum&#x27;, &#x27;X_Maximum&#x27;, &#x27;Y_Minimum&#x27;, &#x27;Y_Maximum&#x27;, &#x27;Pixels_Areas&#x27;,\n",
       "       &#x27;X_Perimeter&#x27;, &#x27;Y_Perimeter&#x27;, &#x27;Sum_of_Luminosity&#x27;,\n",
       "       &#x27;Minimum_of_Luminosity&#x27;, &#x27;Maximum_of_Luminosit...\n",
       "       &#x27;SigmoidOfAreas&#x27;],\n",
       "      dtype=&#x27;object&#x27;))])),\n",
       "                (&#x27;standardscaler&#x27;, StandardScaler()),\n",
       "                (&#x27;lgbmclassifier&#x27;,\n",
       "                 LGBMClassifier(feature_fraction=0.17583040106894807,\n",
       "                                learning_rate=0.005451511795931252, max_bin=110,\n",
       "                                max_depth=10, metric=&#x27;multi_logloss&#x27;,\n",
       "                                min_data_in_leaf=4, n_estimators=1834,\n",
       "                                num_class=7, objective=&#x27;multiclass&#x27;,\n",
       "                                random_state=42, subsample=0.5633978668136881,\n",
       "                                verbosity=-1))])</pre><b>In a Jupyter environment, please rerun this cell to show the HTML representation or trust the notebook. <br />On GitHub, the HTML representation is unable to render, please try loading this page with nbviewer.org.</b></div><div class=\"sk-container\" hidden><div class=\"sk-item sk-dashed-wrapped\"><div class=\"sk-label-container\"><div class=\"sk-label sk-toggleable\"><input class=\"sk-toggleable__control sk-hidden--visually\" id=\"sk-estimator-id-84\" type=\"checkbox\" ><label for=\"sk-estimator-id-84\" class=\"sk-toggleable__label sk-toggleable__label-arrow\">Pipeline</label><div class=\"sk-toggleable__content\"><pre>Pipeline(steps=[(&#x27;columntransformer&#x27;,\n",
       "                 ColumnTransformer(transformers=[(&#x27;functiontransformer&#x27;,\n",
       "                                                  FunctionTransformer(feature_names_out=&#x27;one-to-one&#x27;,\n",
       "                                                                      func=&lt;function col_log at 0x000001B46CCB4720&gt;),\n",
       "                                                  Index([&#x27;X_Minimum&#x27;, &#x27;X_Maximum&#x27;, &#x27;Y_Minimum&#x27;, &#x27;Y_Maximum&#x27;, &#x27;Pixels_Areas&#x27;,\n",
       "       &#x27;X_Perimeter&#x27;, &#x27;Y_Perimeter&#x27;, &#x27;Sum_of_Luminosity&#x27;,\n",
       "       &#x27;Minimum_of_Luminosity&#x27;, &#x27;Maximum_of_Luminosit...\n",
       "       &#x27;SigmoidOfAreas&#x27;],\n",
       "      dtype=&#x27;object&#x27;))])),\n",
       "                (&#x27;standardscaler&#x27;, StandardScaler()),\n",
       "                (&#x27;lgbmclassifier&#x27;,\n",
       "                 LGBMClassifier(feature_fraction=0.17583040106894807,\n",
       "                                learning_rate=0.005451511795931252, max_bin=110,\n",
       "                                max_depth=10, metric=&#x27;multi_logloss&#x27;,\n",
       "                                min_data_in_leaf=4, n_estimators=1834,\n",
       "                                num_class=7, objective=&#x27;multiclass&#x27;,\n",
       "                                random_state=42, subsample=0.5633978668136881,\n",
       "                                verbosity=-1))])</pre></div></div></div><div class=\"sk-serial\"><div class=\"sk-item sk-dashed-wrapped\"><div class=\"sk-label-container\"><div class=\"sk-label sk-toggleable\"><input class=\"sk-toggleable__control sk-hidden--visually\" id=\"sk-estimator-id-85\" type=\"checkbox\" ><label for=\"sk-estimator-id-85\" class=\"sk-toggleable__label sk-toggleable__label-arrow\">columntransformer: ColumnTransformer</label><div class=\"sk-toggleable__content\"><pre>ColumnTransformer(transformers=[(&#x27;functiontransformer&#x27;,\n",
       "                                 FunctionTransformer(feature_names_out=&#x27;one-to-one&#x27;,\n",
       "                                                     func=&lt;function col_log at 0x000001B46CCB4720&gt;),\n",
       "                                 Index([&#x27;X_Minimum&#x27;, &#x27;X_Maximum&#x27;, &#x27;Y_Minimum&#x27;, &#x27;Y_Maximum&#x27;, &#x27;Pixels_Areas&#x27;,\n",
       "       &#x27;X_Perimeter&#x27;, &#x27;Y_Perimeter&#x27;, &#x27;Sum_of_Luminosity&#x27;,\n",
       "       &#x27;Minimum_of_Luminosity&#x27;, &#x27;Maximum_of_Luminosity&#x27;, &#x27;Length_of_Conveyer&#x27;,\n",
       "       &#x27;TypeOfSteel_A300&#x27;, &#x27;TypeOfSteel_A400&#x27;, &#x27;Steel_Plate_Thickness&#x27;,\n",
       "       &#x27;Edges_Index&#x27;, &#x27;Empty_Index&#x27;, &#x27;Square_Index&#x27;, &#x27;Outside_X_Index&#x27;,\n",
       "       &#x27;Edges_X_Index&#x27;, &#x27;Edges_Y_Index&#x27;, &#x27;Outside_Global_Index&#x27;, &#x27;LogOfAreas&#x27;,\n",
       "       &#x27;Log_X_Index&#x27;, &#x27;Log_Y_Index&#x27;, &#x27;Orientation_Index&#x27;, &#x27;Luminosity_Index&#x27;,\n",
       "       &#x27;SigmoidOfAreas&#x27;],\n",
       "      dtype=&#x27;object&#x27;))])</pre></div></div></div><div class=\"sk-parallel\"><div class=\"sk-parallel-item\"><div class=\"sk-item\"><div class=\"sk-label-container\"><div class=\"sk-label sk-toggleable\"><input class=\"sk-toggleable__control sk-hidden--visually\" id=\"sk-estimator-id-86\" type=\"checkbox\" ><label for=\"sk-estimator-id-86\" class=\"sk-toggleable__label sk-toggleable__label-arrow\">functiontransformer</label><div class=\"sk-toggleable__content\"><pre>Index([&#x27;X_Minimum&#x27;, &#x27;X_Maximum&#x27;, &#x27;Y_Minimum&#x27;, &#x27;Y_Maximum&#x27;, &#x27;Pixels_Areas&#x27;,\n",
       "       &#x27;X_Perimeter&#x27;, &#x27;Y_Perimeter&#x27;, &#x27;Sum_of_Luminosity&#x27;,\n",
       "       &#x27;Minimum_of_Luminosity&#x27;, &#x27;Maximum_of_Luminosity&#x27;, &#x27;Length_of_Conveyer&#x27;,\n",
       "       &#x27;TypeOfSteel_A300&#x27;, &#x27;TypeOfSteel_A400&#x27;, &#x27;Steel_Plate_Thickness&#x27;,\n",
       "       &#x27;Edges_Index&#x27;, &#x27;Empty_Index&#x27;, &#x27;Square_Index&#x27;, &#x27;Outside_X_Index&#x27;,\n",
       "       &#x27;Edges_X_Index&#x27;, &#x27;Edges_Y_Index&#x27;, &#x27;Outside_Global_Index&#x27;, &#x27;LogOfAreas&#x27;,\n",
       "       &#x27;Log_X_Index&#x27;, &#x27;Log_Y_Index&#x27;, &#x27;Orientation_Index&#x27;, &#x27;Luminosity_Index&#x27;,\n",
       "       &#x27;SigmoidOfAreas&#x27;],\n",
       "      dtype=&#x27;object&#x27;)</pre></div></div></div><div class=\"sk-serial\"><div class=\"sk-item\"><div class=\"sk-estimator sk-toggleable\"><input class=\"sk-toggleable__control sk-hidden--visually\" id=\"sk-estimator-id-87\" type=\"checkbox\" ><label for=\"sk-estimator-id-87\" class=\"sk-toggleable__label sk-toggleable__label-arrow\">FunctionTransformer</label><div class=\"sk-toggleable__content\"><pre>FunctionTransformer(feature_names_out=&#x27;one-to-one&#x27;,\n",
       "                    func=&lt;function col_log at 0x000001B46CCB4720&gt;)</pre></div></div></div></div></div></div></div></div><div class=\"sk-item\"><div class=\"sk-estimator sk-toggleable\"><input class=\"sk-toggleable__control sk-hidden--visually\" id=\"sk-estimator-id-88\" type=\"checkbox\" ><label for=\"sk-estimator-id-88\" class=\"sk-toggleable__label sk-toggleable__label-arrow\">StandardScaler</label><div class=\"sk-toggleable__content\"><pre>StandardScaler()</pre></div></div></div><div class=\"sk-item\"><div class=\"sk-estimator sk-toggleable\"><input class=\"sk-toggleable__control sk-hidden--visually\" id=\"sk-estimator-id-89\" type=\"checkbox\" ><label for=\"sk-estimator-id-89\" class=\"sk-toggleable__label sk-toggleable__label-arrow\">LGBMClassifier</label><div class=\"sk-toggleable__content\"><pre>LGBMClassifier(feature_fraction=0.17583040106894807,\n",
       "               learning_rate=0.005451511795931252, max_bin=110, max_depth=10,\n",
       "               metric=&#x27;multi_logloss&#x27;, min_data_in_leaf=4, n_estimators=1834,\n",
       "               num_class=7, objective=&#x27;multiclass&#x27;, random_state=42,\n",
       "               subsample=0.5633978668136881, verbosity=-1)</pre></div></div></div></div></div></div></div>"
      ],
      "text/plain": [
       "Pipeline(steps=[('columntransformer',\n",
       "                 ColumnTransformer(transformers=[('functiontransformer',\n",
       "                                                  FunctionTransformer(feature_names_out='one-to-one',\n",
       "                                                                      func=<function col_log at 0x000001B46CCB4720>),\n",
       "                                                  Index(['X_Minimum', 'X_Maximum', 'Y_Minimum', 'Y_Maximum', 'Pixels_Areas',\n",
       "       'X_Perimeter', 'Y_Perimeter', 'Sum_of_Luminosity',\n",
       "       'Minimum_of_Luminosity', 'Maximum_of_Luminosit...\n",
       "       'SigmoidOfAreas'],\n",
       "      dtype='object'))])),\n",
       "                ('standardscaler', StandardScaler()),\n",
       "                ('lgbmclassifier',\n",
       "                 LGBMClassifier(feature_fraction=0.17583040106894807,\n",
       "                                learning_rate=0.005451511795931252, max_bin=110,\n",
       "                                max_depth=10, metric='multi_logloss',\n",
       "                                min_data_in_leaf=4, n_estimators=1834,\n",
       "                                num_class=7, objective='multiclass',\n",
       "                                random_state=42, subsample=0.5633978668136881,\n",
       "                                verbosity=-1))])"
      ]
     },
     "execution_count": 79,
     "metadata": {},
     "output_type": "execute_result"
    }
   ],
   "source": [
    "lgbm_clf2.fit(X_train, y_train)"
   ]
  },
  {
   "cell_type": "code",
   "execution_count": 80,
   "id": "fdd937d1-644c-4982-a6ca-fa712bde89aa",
   "metadata": {},
   "outputs": [
    {
     "data": {
      "text/plain": [
       "0.8958881834376313"
      ]
     },
     "execution_count": 80,
     "metadata": {},
     "output_type": "execute_result"
    }
   ],
   "source": [
    "roc_auc_score(y_valid, lgbm_clf2.predict_proba(X_valid), multi_class=\"ovo\")"
   ]
  },
  {
   "cell_type": "markdown",
   "id": "56768ed3-a558-4182-bdd9-91acb833ae26",
   "metadata": {},
   "source": [
    "### LGBMClassifier 3"
   ]
  },
  {
   "cell_type": "code",
   "execution_count": 138,
   "id": "d138b472-5e54-4427-bd61-ef615a40bad6",
   "metadata": {},
   "outputs": [],
   "source": [
    "lgbm_optuna_params3 = {'n_estimators': 627,\n",
    "                              'objective': 'multiclass',\n",
    "                              'metric': 'multi_logloss',\n",
    "                              'verbosity': -1,\n",
    "                              'boosting_type': 'gbdt',\n",
    "                              'random_state': 42,\n",
    "                              'learning_rate': 0.01,\n",
    "                              'feature_pre_filter': False,\n",
    "                              'lambda_l1': 9.131381342494084e-08,\n",
    "                              'lambda_l2': 3.690335595327202e-05,\n",
    "                              'num_leaves': 31, \n",
    "                              'feature_fraction': 0.4, \n",
    "                              'bagging_fraction': 0.630575690135632,\n",
    "                              'bagging_freq': 5, \n",
    "                              'min_child_samples': 20}\n",
    "\n",
    "lgbm_clf3 = make_pipeline(\n",
    "    # preprocessing,\n",
    "    StandardScaler(),\n",
    "    LGBMClassifier(**lgbm_optuna_params3)\n",
    ")"
   ]
  },
  {
   "cell_type": "code",
   "execution_count": 82,
   "id": "3f038d8f-3765-4a97-9e67-828601be6054",
   "metadata": {},
   "outputs": [
    {
     "data": {
      "text/html": [
       "<style>#sk-container-id-9 {color: black;background-color: white;}#sk-container-id-9 pre{padding: 0;}#sk-container-id-9 div.sk-toggleable {background-color: white;}#sk-container-id-9 label.sk-toggleable__label {cursor: pointer;display: block;width: 100%;margin-bottom: 0;padding: 0.3em;box-sizing: border-box;text-align: center;}#sk-container-id-9 label.sk-toggleable__label-arrow:before {content: \"▸\";float: left;margin-right: 0.25em;color: #696969;}#sk-container-id-9 label.sk-toggleable__label-arrow:hover:before {color: black;}#sk-container-id-9 div.sk-estimator:hover label.sk-toggleable__label-arrow:before {color: black;}#sk-container-id-9 div.sk-toggleable__content {max-height: 0;max-width: 0;overflow: hidden;text-align: left;background-color: #f0f8ff;}#sk-container-id-9 div.sk-toggleable__content pre {margin: 0.2em;color: black;border-radius: 0.25em;background-color: #f0f8ff;}#sk-container-id-9 input.sk-toggleable__control:checked~div.sk-toggleable__content {max-height: 200px;max-width: 100%;overflow: auto;}#sk-container-id-9 input.sk-toggleable__control:checked~label.sk-toggleable__label-arrow:before {content: \"▾\";}#sk-container-id-9 div.sk-estimator input.sk-toggleable__control:checked~label.sk-toggleable__label {background-color: #d4ebff;}#sk-container-id-9 div.sk-label input.sk-toggleable__control:checked~label.sk-toggleable__label {background-color: #d4ebff;}#sk-container-id-9 input.sk-hidden--visually {border: 0;clip: rect(1px 1px 1px 1px);clip: rect(1px, 1px, 1px, 1px);height: 1px;margin: -1px;overflow: hidden;padding: 0;position: absolute;width: 1px;}#sk-container-id-9 div.sk-estimator {font-family: monospace;background-color: #f0f8ff;border: 1px dotted black;border-radius: 0.25em;box-sizing: border-box;margin-bottom: 0.5em;}#sk-container-id-9 div.sk-estimator:hover {background-color: #d4ebff;}#sk-container-id-9 div.sk-parallel-item::after {content: \"\";width: 100%;border-bottom: 1px solid gray;flex-grow: 1;}#sk-container-id-9 div.sk-label:hover label.sk-toggleable__label {background-color: #d4ebff;}#sk-container-id-9 div.sk-serial::before {content: \"\";position: absolute;border-left: 1px solid gray;box-sizing: border-box;top: 0;bottom: 0;left: 50%;z-index: 0;}#sk-container-id-9 div.sk-serial {display: flex;flex-direction: column;align-items: center;background-color: white;padding-right: 0.2em;padding-left: 0.2em;position: relative;}#sk-container-id-9 div.sk-item {position: relative;z-index: 1;}#sk-container-id-9 div.sk-parallel {display: flex;align-items: stretch;justify-content: center;background-color: white;position: relative;}#sk-container-id-9 div.sk-item::before, #sk-container-id-9 div.sk-parallel-item::before {content: \"\";position: absolute;border-left: 1px solid gray;box-sizing: border-box;top: 0;bottom: 0;left: 50%;z-index: -1;}#sk-container-id-9 div.sk-parallel-item {display: flex;flex-direction: column;z-index: 1;position: relative;background-color: white;}#sk-container-id-9 div.sk-parallel-item:first-child::after {align-self: flex-end;width: 50%;}#sk-container-id-9 div.sk-parallel-item:last-child::after {align-self: flex-start;width: 50%;}#sk-container-id-9 div.sk-parallel-item:only-child::after {width: 0;}#sk-container-id-9 div.sk-dashed-wrapped {border: 1px dashed gray;margin: 0 0.4em 0.5em 0.4em;box-sizing: border-box;padding-bottom: 0.4em;background-color: white;}#sk-container-id-9 div.sk-label label {font-family: monospace;font-weight: bold;display: inline-block;line-height: 1.2em;}#sk-container-id-9 div.sk-label-container {text-align: center;}#sk-container-id-9 div.sk-container {/* jupyter's `normalize.less` sets `[hidden] { display: none; }` but bootstrap.min.css set `[hidden] { display: none !important; }` so we also need the `!important` here to be able to override the default hidden behavior on the sphinx rendered scikit-learn.org. See: https://github.com/scikit-learn/scikit-learn/issues/21755 */display: inline-block !important;position: relative;}#sk-container-id-9 div.sk-text-repr-fallback {display: none;}</style><div id=\"sk-container-id-9\" class=\"sk-top-container\"><div class=\"sk-text-repr-fallback\"><pre>Pipeline(steps=[(&#x27;columntransformer&#x27;,\n",
       "                 ColumnTransformer(transformers=[(&#x27;functiontransformer&#x27;,\n",
       "                                                  FunctionTransformer(feature_names_out=&#x27;one-to-one&#x27;,\n",
       "                                                                      func=&lt;function col_log at 0x000001B46CCB4720&gt;),\n",
       "                                                  Index([&#x27;X_Minimum&#x27;, &#x27;X_Maximum&#x27;, &#x27;Y_Minimum&#x27;, &#x27;Y_Maximum&#x27;, &#x27;Pixels_Areas&#x27;,\n",
       "       &#x27;X_Perimeter&#x27;, &#x27;Y_Perimeter&#x27;, &#x27;Sum_of_Luminosity&#x27;,\n",
       "       &#x27;Minimum_of_Luminosity&#x27;, &#x27;Maximum_of_Luminosit...\n",
       "      dtype=&#x27;object&#x27;))])),\n",
       "                (&#x27;standardscaler&#x27;, StandardScaler()),\n",
       "                (&#x27;lgbmclassifier&#x27;,\n",
       "                 LGBMClassifier(bagging_fraction=0.630575690135632,\n",
       "                                bagging_freq=5, feature_fraction=0.4,\n",
       "                                feature_pre_filter=False,\n",
       "                                lambda_l1=9.131381342494084e-08,\n",
       "                                lambda_l2=3.690335595327202e-05,\n",
       "                                learning_rate=0.01, metric=&#x27;multi_logloss&#x27;,\n",
       "                                n_estimators=627, objective=&#x27;multiclass&#x27;,\n",
       "                                random_state=42, verbosity=-1))])</pre><b>In a Jupyter environment, please rerun this cell to show the HTML representation or trust the notebook. <br />On GitHub, the HTML representation is unable to render, please try loading this page with nbviewer.org.</b></div><div class=\"sk-container\" hidden><div class=\"sk-item sk-dashed-wrapped\"><div class=\"sk-label-container\"><div class=\"sk-label sk-toggleable\"><input class=\"sk-toggleable__control sk-hidden--visually\" id=\"sk-estimator-id-90\" type=\"checkbox\" ><label for=\"sk-estimator-id-90\" class=\"sk-toggleable__label sk-toggleable__label-arrow\">Pipeline</label><div class=\"sk-toggleable__content\"><pre>Pipeline(steps=[(&#x27;columntransformer&#x27;,\n",
       "                 ColumnTransformer(transformers=[(&#x27;functiontransformer&#x27;,\n",
       "                                                  FunctionTransformer(feature_names_out=&#x27;one-to-one&#x27;,\n",
       "                                                                      func=&lt;function col_log at 0x000001B46CCB4720&gt;),\n",
       "                                                  Index([&#x27;X_Minimum&#x27;, &#x27;X_Maximum&#x27;, &#x27;Y_Minimum&#x27;, &#x27;Y_Maximum&#x27;, &#x27;Pixels_Areas&#x27;,\n",
       "       &#x27;X_Perimeter&#x27;, &#x27;Y_Perimeter&#x27;, &#x27;Sum_of_Luminosity&#x27;,\n",
       "       &#x27;Minimum_of_Luminosity&#x27;, &#x27;Maximum_of_Luminosit...\n",
       "      dtype=&#x27;object&#x27;))])),\n",
       "                (&#x27;standardscaler&#x27;, StandardScaler()),\n",
       "                (&#x27;lgbmclassifier&#x27;,\n",
       "                 LGBMClassifier(bagging_fraction=0.630575690135632,\n",
       "                                bagging_freq=5, feature_fraction=0.4,\n",
       "                                feature_pre_filter=False,\n",
       "                                lambda_l1=9.131381342494084e-08,\n",
       "                                lambda_l2=3.690335595327202e-05,\n",
       "                                learning_rate=0.01, metric=&#x27;multi_logloss&#x27;,\n",
       "                                n_estimators=627, objective=&#x27;multiclass&#x27;,\n",
       "                                random_state=42, verbosity=-1))])</pre></div></div></div><div class=\"sk-serial\"><div class=\"sk-item sk-dashed-wrapped\"><div class=\"sk-label-container\"><div class=\"sk-label sk-toggleable\"><input class=\"sk-toggleable__control sk-hidden--visually\" id=\"sk-estimator-id-91\" type=\"checkbox\" ><label for=\"sk-estimator-id-91\" class=\"sk-toggleable__label sk-toggleable__label-arrow\">columntransformer: ColumnTransformer</label><div class=\"sk-toggleable__content\"><pre>ColumnTransformer(transformers=[(&#x27;functiontransformer&#x27;,\n",
       "                                 FunctionTransformer(feature_names_out=&#x27;one-to-one&#x27;,\n",
       "                                                     func=&lt;function col_log at 0x000001B46CCB4720&gt;),\n",
       "                                 Index([&#x27;X_Minimum&#x27;, &#x27;X_Maximum&#x27;, &#x27;Y_Minimum&#x27;, &#x27;Y_Maximum&#x27;, &#x27;Pixels_Areas&#x27;,\n",
       "       &#x27;X_Perimeter&#x27;, &#x27;Y_Perimeter&#x27;, &#x27;Sum_of_Luminosity&#x27;,\n",
       "       &#x27;Minimum_of_Luminosity&#x27;, &#x27;Maximum_of_Luminosity&#x27;, &#x27;Length_of_Conveyer&#x27;,\n",
       "       &#x27;TypeOfSteel_A300&#x27;, &#x27;TypeOfSteel_A400&#x27;, &#x27;Steel_Plate_Thickness&#x27;,\n",
       "       &#x27;Edges_Index&#x27;, &#x27;Empty_Index&#x27;, &#x27;Square_Index&#x27;, &#x27;Outside_X_Index&#x27;,\n",
       "       &#x27;Edges_X_Index&#x27;, &#x27;Edges_Y_Index&#x27;, &#x27;Outside_Global_Index&#x27;, &#x27;LogOfAreas&#x27;,\n",
       "       &#x27;Log_X_Index&#x27;, &#x27;Log_Y_Index&#x27;, &#x27;Orientation_Index&#x27;, &#x27;Luminosity_Index&#x27;,\n",
       "       &#x27;SigmoidOfAreas&#x27;],\n",
       "      dtype=&#x27;object&#x27;))])</pre></div></div></div><div class=\"sk-parallel\"><div class=\"sk-parallel-item\"><div class=\"sk-item\"><div class=\"sk-label-container\"><div class=\"sk-label sk-toggleable\"><input class=\"sk-toggleable__control sk-hidden--visually\" id=\"sk-estimator-id-92\" type=\"checkbox\" ><label for=\"sk-estimator-id-92\" class=\"sk-toggleable__label sk-toggleable__label-arrow\">functiontransformer</label><div class=\"sk-toggleable__content\"><pre>Index([&#x27;X_Minimum&#x27;, &#x27;X_Maximum&#x27;, &#x27;Y_Minimum&#x27;, &#x27;Y_Maximum&#x27;, &#x27;Pixels_Areas&#x27;,\n",
       "       &#x27;X_Perimeter&#x27;, &#x27;Y_Perimeter&#x27;, &#x27;Sum_of_Luminosity&#x27;,\n",
       "       &#x27;Minimum_of_Luminosity&#x27;, &#x27;Maximum_of_Luminosity&#x27;, &#x27;Length_of_Conveyer&#x27;,\n",
       "       &#x27;TypeOfSteel_A300&#x27;, &#x27;TypeOfSteel_A400&#x27;, &#x27;Steel_Plate_Thickness&#x27;,\n",
       "       &#x27;Edges_Index&#x27;, &#x27;Empty_Index&#x27;, &#x27;Square_Index&#x27;, &#x27;Outside_X_Index&#x27;,\n",
       "       &#x27;Edges_X_Index&#x27;, &#x27;Edges_Y_Index&#x27;, &#x27;Outside_Global_Index&#x27;, &#x27;LogOfAreas&#x27;,\n",
       "       &#x27;Log_X_Index&#x27;, &#x27;Log_Y_Index&#x27;, &#x27;Orientation_Index&#x27;, &#x27;Luminosity_Index&#x27;,\n",
       "       &#x27;SigmoidOfAreas&#x27;],\n",
       "      dtype=&#x27;object&#x27;)</pre></div></div></div><div class=\"sk-serial\"><div class=\"sk-item\"><div class=\"sk-estimator sk-toggleable\"><input class=\"sk-toggleable__control sk-hidden--visually\" id=\"sk-estimator-id-93\" type=\"checkbox\" ><label for=\"sk-estimator-id-93\" class=\"sk-toggleable__label sk-toggleable__label-arrow\">FunctionTransformer</label><div class=\"sk-toggleable__content\"><pre>FunctionTransformer(feature_names_out=&#x27;one-to-one&#x27;,\n",
       "                    func=&lt;function col_log at 0x000001B46CCB4720&gt;)</pre></div></div></div></div></div></div></div></div><div class=\"sk-item\"><div class=\"sk-estimator sk-toggleable\"><input class=\"sk-toggleable__control sk-hidden--visually\" id=\"sk-estimator-id-94\" type=\"checkbox\" ><label for=\"sk-estimator-id-94\" class=\"sk-toggleable__label sk-toggleable__label-arrow\">StandardScaler</label><div class=\"sk-toggleable__content\"><pre>StandardScaler()</pre></div></div></div><div class=\"sk-item\"><div class=\"sk-estimator sk-toggleable\"><input class=\"sk-toggleable__control sk-hidden--visually\" id=\"sk-estimator-id-95\" type=\"checkbox\" ><label for=\"sk-estimator-id-95\" class=\"sk-toggleable__label sk-toggleable__label-arrow\">LGBMClassifier</label><div class=\"sk-toggleable__content\"><pre>LGBMClassifier(bagging_fraction=0.630575690135632, bagging_freq=5,\n",
       "               feature_fraction=0.4, feature_pre_filter=False,\n",
       "               lambda_l1=9.131381342494084e-08, lambda_l2=3.690335595327202e-05,\n",
       "               learning_rate=0.01, metric=&#x27;multi_logloss&#x27;, n_estimators=627,\n",
       "               objective=&#x27;multiclass&#x27;, random_state=42, verbosity=-1)</pre></div></div></div></div></div></div></div>"
      ],
      "text/plain": [
       "Pipeline(steps=[('columntransformer',\n",
       "                 ColumnTransformer(transformers=[('functiontransformer',\n",
       "                                                  FunctionTransformer(feature_names_out='one-to-one',\n",
       "                                                                      func=<function col_log at 0x000001B46CCB4720>),\n",
       "                                                  Index(['X_Minimum', 'X_Maximum', 'Y_Minimum', 'Y_Maximum', 'Pixels_Areas',\n",
       "       'X_Perimeter', 'Y_Perimeter', 'Sum_of_Luminosity',\n",
       "       'Minimum_of_Luminosity', 'Maximum_of_Luminosit...\n",
       "      dtype='object'))])),\n",
       "                ('standardscaler', StandardScaler()),\n",
       "                ('lgbmclassifier',\n",
       "                 LGBMClassifier(bagging_fraction=0.630575690135632,\n",
       "                                bagging_freq=5, feature_fraction=0.4,\n",
       "                                feature_pre_filter=False,\n",
       "                                lambda_l1=9.131381342494084e-08,\n",
       "                                lambda_l2=3.690335595327202e-05,\n",
       "                                learning_rate=0.01, metric='multi_logloss',\n",
       "                                n_estimators=627, objective='multiclass',\n",
       "                                random_state=42, verbosity=-1))])"
      ]
     },
     "execution_count": 82,
     "metadata": {},
     "output_type": "execute_result"
    }
   ],
   "source": [
    "lgbm_clf3.fit(X_train, y_train)"
   ]
  },
  {
   "cell_type": "code",
   "execution_count": 83,
   "id": "3b63fa23-bef5-4f08-bbfc-3b5460dd52cb",
   "metadata": {},
   "outputs": [
    {
     "data": {
      "text/plain": [
       "0.8965984498067818"
      ]
     },
     "execution_count": 83,
     "metadata": {},
     "output_type": "execute_result"
    }
   ],
   "source": [
    "roc_auc_score(y_valid, lgbm_clf3.predict_proba(X_valid), multi_class=\"ovo\")"
   ]
  },
  {
   "cell_type": "markdown",
   "id": "33df086e-aedd-4331-8598-eecc816e129e",
   "metadata": {},
   "source": [
    "### XGBClassifier 2"
   ]
  },
  {
   "cell_type": "code",
   "execution_count": 139,
   "id": "b6681f63-ef44-4f80-9344-c1f894ffcecd",
   "metadata": {},
   "outputs": [],
   "source": [
    "xgb_optuna_params2 = {'n_estimators': 999,\n",
    "                            'alpha': 0.002084420690864832,\n",
    "                            'subsample': 0.7099725497433862,\n",
    "                            'colsample_bytree': 0.2016160543417863,\n",
    "                            'max_depth': 6, \n",
    "                            'min_child_weight': 3, \n",
    "                            'learning_rate': 0.01182912450871734,\n",
    "                            'gamma': 0.00040448964009199537,\n",
    "                             \"num_class\": 7}\n",
    "\n",
    "xgb_clf2 = make_pipeline(\n",
    "    # preprocessing,\n",
    "    StandardScaler(),\n",
    "    XGBClassifier(**xgb_optuna_params2, random_state=42)\n",
    ")"
   ]
  },
  {
   "cell_type": "code",
   "execution_count": 46,
   "id": "512941df-19e7-4f8a-9f04-4d19082279a9",
   "metadata": {},
   "outputs": [
    {
     "data": {
      "text/html": [
       "<style>#sk-container-id-3 {color: black;background-color: white;}#sk-container-id-3 pre{padding: 0;}#sk-container-id-3 div.sk-toggleable {background-color: white;}#sk-container-id-3 label.sk-toggleable__label {cursor: pointer;display: block;width: 100%;margin-bottom: 0;padding: 0.3em;box-sizing: border-box;text-align: center;}#sk-container-id-3 label.sk-toggleable__label-arrow:before {content: \"▸\";float: left;margin-right: 0.25em;color: #696969;}#sk-container-id-3 label.sk-toggleable__label-arrow:hover:before {color: black;}#sk-container-id-3 div.sk-estimator:hover label.sk-toggleable__label-arrow:before {color: black;}#sk-container-id-3 div.sk-toggleable__content {max-height: 0;max-width: 0;overflow: hidden;text-align: left;background-color: #f0f8ff;}#sk-container-id-3 div.sk-toggleable__content pre {margin: 0.2em;color: black;border-radius: 0.25em;background-color: #f0f8ff;}#sk-container-id-3 input.sk-toggleable__control:checked~div.sk-toggleable__content {max-height: 200px;max-width: 100%;overflow: auto;}#sk-container-id-3 input.sk-toggleable__control:checked~label.sk-toggleable__label-arrow:before {content: \"▾\";}#sk-container-id-3 div.sk-estimator input.sk-toggleable__control:checked~label.sk-toggleable__label {background-color: #d4ebff;}#sk-container-id-3 div.sk-label input.sk-toggleable__control:checked~label.sk-toggleable__label {background-color: #d4ebff;}#sk-container-id-3 input.sk-hidden--visually {border: 0;clip: rect(1px 1px 1px 1px);clip: rect(1px, 1px, 1px, 1px);height: 1px;margin: -1px;overflow: hidden;padding: 0;position: absolute;width: 1px;}#sk-container-id-3 div.sk-estimator {font-family: monospace;background-color: #f0f8ff;border: 1px dotted black;border-radius: 0.25em;box-sizing: border-box;margin-bottom: 0.5em;}#sk-container-id-3 div.sk-estimator:hover {background-color: #d4ebff;}#sk-container-id-3 div.sk-parallel-item::after {content: \"\";width: 100%;border-bottom: 1px solid gray;flex-grow: 1;}#sk-container-id-3 div.sk-label:hover label.sk-toggleable__label {background-color: #d4ebff;}#sk-container-id-3 div.sk-serial::before {content: \"\";position: absolute;border-left: 1px solid gray;box-sizing: border-box;top: 0;bottom: 0;left: 50%;z-index: 0;}#sk-container-id-3 div.sk-serial {display: flex;flex-direction: column;align-items: center;background-color: white;padding-right: 0.2em;padding-left: 0.2em;position: relative;}#sk-container-id-3 div.sk-item {position: relative;z-index: 1;}#sk-container-id-3 div.sk-parallel {display: flex;align-items: stretch;justify-content: center;background-color: white;position: relative;}#sk-container-id-3 div.sk-item::before, #sk-container-id-3 div.sk-parallel-item::before {content: \"\";position: absolute;border-left: 1px solid gray;box-sizing: border-box;top: 0;bottom: 0;left: 50%;z-index: -1;}#sk-container-id-3 div.sk-parallel-item {display: flex;flex-direction: column;z-index: 1;position: relative;background-color: white;}#sk-container-id-3 div.sk-parallel-item:first-child::after {align-self: flex-end;width: 50%;}#sk-container-id-3 div.sk-parallel-item:last-child::after {align-self: flex-start;width: 50%;}#sk-container-id-3 div.sk-parallel-item:only-child::after {width: 0;}#sk-container-id-3 div.sk-dashed-wrapped {border: 1px dashed gray;margin: 0 0.4em 0.5em 0.4em;box-sizing: border-box;padding-bottom: 0.4em;background-color: white;}#sk-container-id-3 div.sk-label label {font-family: monospace;font-weight: bold;display: inline-block;line-height: 1.2em;}#sk-container-id-3 div.sk-label-container {text-align: center;}#sk-container-id-3 div.sk-container {/* jupyter's `normalize.less` sets `[hidden] { display: none; }` but bootstrap.min.css set `[hidden] { display: none !important; }` so we also need the `!important` here to be able to override the default hidden behavior on the sphinx rendered scikit-learn.org. See: https://github.com/scikit-learn/scikit-learn/issues/21755 */display: inline-block !important;position: relative;}#sk-container-id-3 div.sk-text-repr-fallback {display: none;}</style><div id=\"sk-container-id-3\" class=\"sk-top-container\"><div class=\"sk-text-repr-fallback\"><pre>XGBClassifier(alpha=0.002084420690864832, base_score=None, booster=None,\n",
       "              callbacks=None, colsample_bylevel=None, colsample_bynode=None,\n",
       "              colsample_bytree=0.2016160543417863, device=None,\n",
       "              early_stopping_rounds=None, enable_categorical=False,\n",
       "              eval_metric=None, feature_types=None,\n",
       "              gamma=0.00040448964009199537, grow_policy=None,\n",
       "              importance_type=None, interaction_constraints=None,\n",
       "              learning_rate=0.01182912450871734, max_bin=None,\n",
       "              max_cat_threshold=None, max_cat_to_onehot=None,\n",
       "              max_delta_step=None, max_depth=6, max_leaves=None,\n",
       "              min_child_weight=3, missing=nan, monotone_constraints=None,\n",
       "              multi_strategy=None, n_estimators=999, n_jobs=None, num_class=7, ...)</pre><b>In a Jupyter environment, please rerun this cell to show the HTML representation or trust the notebook. <br />On GitHub, the HTML representation is unable to render, please try loading this page with nbviewer.org.</b></div><div class=\"sk-container\" hidden><div class=\"sk-item\"><div class=\"sk-estimator sk-toggleable\"><input class=\"sk-toggleable__control sk-hidden--visually\" id=\"sk-estimator-id-3\" type=\"checkbox\" checked><label for=\"sk-estimator-id-3\" class=\"sk-toggleable__label sk-toggleable__label-arrow\">XGBClassifier</label><div class=\"sk-toggleable__content\"><pre>XGBClassifier(alpha=0.002084420690864832, base_score=None, booster=None,\n",
       "              callbacks=None, colsample_bylevel=None, colsample_bynode=None,\n",
       "              colsample_bytree=0.2016160543417863, device=None,\n",
       "              early_stopping_rounds=None, enable_categorical=False,\n",
       "              eval_metric=None, feature_types=None,\n",
       "              gamma=0.00040448964009199537, grow_policy=None,\n",
       "              importance_type=None, interaction_constraints=None,\n",
       "              learning_rate=0.01182912450871734, max_bin=None,\n",
       "              max_cat_threshold=None, max_cat_to_onehot=None,\n",
       "              max_delta_step=None, max_depth=6, max_leaves=None,\n",
       "              min_child_weight=3, missing=nan, monotone_constraints=None,\n",
       "              multi_strategy=None, n_estimators=999, n_jobs=None, num_class=7, ...)</pre></div></div></div></div></div>"
      ],
      "text/plain": [
       "XGBClassifier(alpha=0.002084420690864832, base_score=None, booster=None,\n",
       "              callbacks=None, colsample_bylevel=None, colsample_bynode=None,\n",
       "              colsample_bytree=0.2016160543417863, device=None,\n",
       "              early_stopping_rounds=None, enable_categorical=False,\n",
       "              eval_metric=None, feature_types=None,\n",
       "              gamma=0.00040448964009199537, grow_policy=None,\n",
       "              importance_type=None, interaction_constraints=None,\n",
       "              learning_rate=0.01182912450871734, max_bin=None,\n",
       "              max_cat_threshold=None, max_cat_to_onehot=None,\n",
       "              max_delta_step=None, max_depth=6, max_leaves=None,\n",
       "              min_child_weight=3, missing=nan, monotone_constraints=None,\n",
       "              multi_strategy=None, n_estimators=999, n_jobs=None, num_class=7, ...)"
      ]
     },
     "execution_count": 46,
     "metadata": {},
     "output_type": "execute_result"
    }
   ],
   "source": [
    "xgb_clf2.fit(X_train, y_train)"
   ]
  },
  {
   "cell_type": "code",
   "execution_count": 48,
   "id": "67e469c1-b458-42f6-b811-7da477685a7a",
   "metadata": {},
   "outputs": [
    {
     "data": {
      "text/plain": [
       "0.8956036438110866"
      ]
     },
     "execution_count": 48,
     "metadata": {},
     "output_type": "execute_result"
    }
   ],
   "source": [
    "roc_auc_score(y_valid, xgb_clf2.predict_proba(X_valid), multi_class=\"ovo\")"
   ]
  },
  {
   "cell_type": "markdown",
   "id": "ae18632a-72f8-4334-9685-b04e2b390e4e",
   "metadata": {},
   "source": [
    "### Catboost Calssifier "
   ]
  },
  {
   "cell_type": "code",
   "execution_count": 49,
   "id": "5bef7ca8-29f6-4d9b-8fae-b29a50a3e22a",
   "metadata": {},
   "outputs": [],
   "source": [
    "from catboost import CatBoostClassifier"
   ]
  },
  {
   "cell_type": "code",
   "execution_count": 140,
   "id": "4937be02-2a4c-42d8-a878-5b7ca762a852",
   "metadata": {},
   "outputs": [],
   "source": [
    "catboost_optuna_params = {'iterations': 491,\n",
    "                                 'colsample_bylevel': 0.354727034710189,\n",
    "                                 'learning_rate': 0.009334020337675848,\n",
    "                                 'random_strength': 0.32487468592613716,\n",
    "                                 'depth': 10,\n",
    "                                 'l2_leaf_reg': 4,\n",
    "                                 'boosting_type': 'Plain',\n",
    "                                 'bootstrap_type': 'Bernoulli',\n",
    "                                 'subsample': 0.773511170987769}\n",
    "\n",
    "catboost_clf = make_pipeline(\n",
    "    # preprocessing,\n",
    "    StandardScaler(),\n",
    "    CatBoostClassifier(**catboost_optuna_params, random_state=42, logging_level='Silent')\n",
    ")"
   ]
  },
  {
   "cell_type": "code",
   "execution_count": 52,
   "id": "ac479702-24de-4105-b8e8-da58c899b314",
   "metadata": {},
   "outputs": [
    {
     "data": {
      "text/plain": [
       "<catboost.core.CatBoostClassifier at 0x1b400ceae10>"
      ]
     },
     "execution_count": 52,
     "metadata": {},
     "output_type": "execute_result"
    }
   ],
   "source": [
    "catboost_clf.fit(X_train, y_train)"
   ]
  },
  {
   "cell_type": "code",
   "execution_count": 53,
   "id": "a18e8dbf-e43c-47ed-ba22-446732857501",
   "metadata": {},
   "outputs": [
    {
     "data": {
      "text/plain": [
       "0.886161234857625"
      ]
     },
     "execution_count": 53,
     "metadata": {},
     "output_type": "execute_result"
    }
   ],
   "source": [
    "roc_auc_score(y_valid, catboost_clf.predict_proba(X_valid), multi_class=\"ovo\")"
   ]
  },
  {
   "cell_type": "code",
   "execution_count": null,
   "id": "a2e09c54-e5c7-45b0-86ea-049b5bc54554",
   "metadata": {},
   "outputs": [],
   "source": []
  },
  {
   "cell_type": "markdown",
   "id": "3e6fdce2-16b0-40e6-bd64-d7f736e1dc0b",
   "metadata": {},
   "source": [
    "## Binding Together"
   ]
  },
  {
   "cell_type": "code",
   "execution_count": 56,
   "id": "be589b58-32d3-4181-b13c-c4905884e1e5",
   "metadata": {},
   "outputs": [],
   "source": [
    "from sklearn.ensemble import VotingClassifier, StackingClassifier"
   ]
  },
  {
   "cell_type": "code",
   "execution_count": 160,
   "id": "48ff1ffb-b264-4465-8e5a-1a64e5cb3cc7",
   "metadata": {},
   "outputs": [],
   "source": [
    "vot = VotingClassifier(\n",
    "    estimators=[\n",
    "        (\"lgbm\", lgbm_clf1),\n",
    "        (\"xgb\", xgb_clf),\n",
    "        (\"ext\", ext),\n",
    "        (\"hist\", hist_clf),\n",
    "        (\"lgbm2\", lgbm_clf2),\n",
    "        (\"lgbm3\", lgbm_clf3),\n",
    "        (\"xgb2\", xgb_clf2),\n",
    "        (\"catboost\", catboost_clf),\n",
    "        # (\"rand_forest\", rand_forest),\n",
    "        # (\"logi_reg\", logi_reg)\n",
    "    ], voting=\"soft\"\n",
    ")"
   ]
  },
  {
   "cell_type": "code",
   "execution_count": 161,
   "id": "7b0663eb-5e5b-4707-9a6e-dbf82a87f673",
   "metadata": {},
   "outputs": [
    {
     "data": {
      "text/html": [
       "<style>#sk-container-id-28 {color: black;background-color: white;}#sk-container-id-28 pre{padding: 0;}#sk-container-id-28 div.sk-toggleable {background-color: white;}#sk-container-id-28 label.sk-toggleable__label {cursor: pointer;display: block;width: 100%;margin-bottom: 0;padding: 0.3em;box-sizing: border-box;text-align: center;}#sk-container-id-28 label.sk-toggleable__label-arrow:before {content: \"▸\";float: left;margin-right: 0.25em;color: #696969;}#sk-container-id-28 label.sk-toggleable__label-arrow:hover:before {color: black;}#sk-container-id-28 div.sk-estimator:hover label.sk-toggleable__label-arrow:before {color: black;}#sk-container-id-28 div.sk-toggleable__content {max-height: 0;max-width: 0;overflow: hidden;text-align: left;background-color: #f0f8ff;}#sk-container-id-28 div.sk-toggleable__content pre {margin: 0.2em;color: black;border-radius: 0.25em;background-color: #f0f8ff;}#sk-container-id-28 input.sk-toggleable__control:checked~div.sk-toggleable__content {max-height: 200px;max-width: 100%;overflow: auto;}#sk-container-id-28 input.sk-toggleable__control:checked~label.sk-toggleable__label-arrow:before {content: \"▾\";}#sk-container-id-28 div.sk-estimator input.sk-toggleable__control:checked~label.sk-toggleable__label {background-color: #d4ebff;}#sk-container-id-28 div.sk-label input.sk-toggleable__control:checked~label.sk-toggleable__label {background-color: #d4ebff;}#sk-container-id-28 input.sk-hidden--visually {border: 0;clip: rect(1px 1px 1px 1px);clip: rect(1px, 1px, 1px, 1px);height: 1px;margin: -1px;overflow: hidden;padding: 0;position: absolute;width: 1px;}#sk-container-id-28 div.sk-estimator {font-family: monospace;background-color: #f0f8ff;border: 1px dotted black;border-radius: 0.25em;box-sizing: border-box;margin-bottom: 0.5em;}#sk-container-id-28 div.sk-estimator:hover {background-color: #d4ebff;}#sk-container-id-28 div.sk-parallel-item::after {content: \"\";width: 100%;border-bottom: 1px solid gray;flex-grow: 1;}#sk-container-id-28 div.sk-label:hover label.sk-toggleable__label {background-color: #d4ebff;}#sk-container-id-28 div.sk-serial::before {content: \"\";position: absolute;border-left: 1px solid gray;box-sizing: border-box;top: 0;bottom: 0;left: 50%;z-index: 0;}#sk-container-id-28 div.sk-serial {display: flex;flex-direction: column;align-items: center;background-color: white;padding-right: 0.2em;padding-left: 0.2em;position: relative;}#sk-container-id-28 div.sk-item {position: relative;z-index: 1;}#sk-container-id-28 div.sk-parallel {display: flex;align-items: stretch;justify-content: center;background-color: white;position: relative;}#sk-container-id-28 div.sk-item::before, #sk-container-id-28 div.sk-parallel-item::before {content: \"\";position: absolute;border-left: 1px solid gray;box-sizing: border-box;top: 0;bottom: 0;left: 50%;z-index: -1;}#sk-container-id-28 div.sk-parallel-item {display: flex;flex-direction: column;z-index: 1;position: relative;background-color: white;}#sk-container-id-28 div.sk-parallel-item:first-child::after {align-self: flex-end;width: 50%;}#sk-container-id-28 div.sk-parallel-item:last-child::after {align-self: flex-start;width: 50%;}#sk-container-id-28 div.sk-parallel-item:only-child::after {width: 0;}#sk-container-id-28 div.sk-dashed-wrapped {border: 1px dashed gray;margin: 0 0.4em 0.5em 0.4em;box-sizing: border-box;padding-bottom: 0.4em;background-color: white;}#sk-container-id-28 div.sk-label label {font-family: monospace;font-weight: bold;display: inline-block;line-height: 1.2em;}#sk-container-id-28 div.sk-label-container {text-align: center;}#sk-container-id-28 div.sk-container {/* jupyter's `normalize.less` sets `[hidden] { display: none; }` but bootstrap.min.css set `[hidden] { display: none !important; }` so we also need the `!important` here to be able to override the default hidden behavior on the sphinx rendered scikit-learn.org. See: https://github.com/scikit-learn/scikit-learn/issues/21755 */display: inline-block !important;position: relative;}#sk-container-id-28 div.sk-text-repr-fallback {display: none;}</style><div id=\"sk-container-id-28\" class=\"sk-top-container\"><div class=\"sk-text-repr-fallback\"><pre>VotingClassifier(estimators=[(&#x27;lgbm&#x27;,\n",
       "                              Pipeline(steps=[(&#x27;standardscaler&#x27;,\n",
       "                                               StandardScaler()),\n",
       "                                              (&#x27;lgbmclassifier&#x27;,\n",
       "                                               LGBMClassifier(colsample_bytree=0.5316680619799939,\n",
       "                                                              lambda_l1=0.007108100081137849,\n",
       "                                                              lambda_l2=0.03476239795083847,\n",
       "                                                              learning_rate=0.01238372420962104,\n",
       "                                                              max_depth=11,\n",
       "                                                              metric=&#x27;multi_logloss&#x27;,\n",
       "                                                              min_child_samples=27,\n",
       "                                                              n_estimators=433,\n",
       "                                                              num_class=7,\n",
       "                                                              objective=&#x27;...\n",
       "                                                             max_cat_to_onehot=None,\n",
       "                                                             max_delta_step=None,\n",
       "                                                             max_depth=6,\n",
       "                                                             max_leaves=None,\n",
       "                                                             min_child_weight=3,\n",
       "                                                             missing=nan,\n",
       "                                                             monotone_constraints=None,\n",
       "                                                             multi_strategy=None,\n",
       "                                                             n_estimators=999,\n",
       "                                                             n_jobs=None,\n",
       "                                                             num_class=7, ...))])),\n",
       "                             (&#x27;catboost&#x27;,\n",
       "                              Pipeline(steps=[(&#x27;standardscaler&#x27;,\n",
       "                                               StandardScaler()),\n",
       "                                              (&#x27;catboostclassifier&#x27;,\n",
       "                                               &lt;catboost.core.CatBoostClassifier object at 0x000001B4048A76D0&gt;)]))],\n",
       "                 voting=&#x27;soft&#x27;)</pre><b>In a Jupyter environment, please rerun this cell to show the HTML representation or trust the notebook. <br />On GitHub, the HTML representation is unable to render, please try loading this page with nbviewer.org.</b></div><div class=\"sk-container\" hidden><div class=\"sk-item sk-dashed-wrapped\"><div class=\"sk-label-container\"><div class=\"sk-label sk-toggleable\"><input class=\"sk-toggleable__control sk-hidden--visually\" id=\"sk-estimator-id-500\" type=\"checkbox\" ><label for=\"sk-estimator-id-500\" class=\"sk-toggleable__label sk-toggleable__label-arrow\">VotingClassifier</label><div class=\"sk-toggleable__content\"><pre>VotingClassifier(estimators=[(&#x27;lgbm&#x27;,\n",
       "                              Pipeline(steps=[(&#x27;standardscaler&#x27;,\n",
       "                                               StandardScaler()),\n",
       "                                              (&#x27;lgbmclassifier&#x27;,\n",
       "                                               LGBMClassifier(colsample_bytree=0.5316680619799939,\n",
       "                                                              lambda_l1=0.007108100081137849,\n",
       "                                                              lambda_l2=0.03476239795083847,\n",
       "                                                              learning_rate=0.01238372420962104,\n",
       "                                                              max_depth=11,\n",
       "                                                              metric=&#x27;multi_logloss&#x27;,\n",
       "                                                              min_child_samples=27,\n",
       "                                                              n_estimators=433,\n",
       "                                                              num_class=7,\n",
       "                                                              objective=&#x27;...\n",
       "                                                             max_cat_to_onehot=None,\n",
       "                                                             max_delta_step=None,\n",
       "                                                             max_depth=6,\n",
       "                                                             max_leaves=None,\n",
       "                                                             min_child_weight=3,\n",
       "                                                             missing=nan,\n",
       "                                                             monotone_constraints=None,\n",
       "                                                             multi_strategy=None,\n",
       "                                                             n_estimators=999,\n",
       "                                                             n_jobs=None,\n",
       "                                                             num_class=7, ...))])),\n",
       "                             (&#x27;catboost&#x27;,\n",
       "                              Pipeline(steps=[(&#x27;standardscaler&#x27;,\n",
       "                                               StandardScaler()),\n",
       "                                              (&#x27;catboostclassifier&#x27;,\n",
       "                                               &lt;catboost.core.CatBoostClassifier object at 0x000001B4048A76D0&gt;)]))],\n",
       "                 voting=&#x27;soft&#x27;)</pre></div></div></div><div class=\"sk-parallel\"><div class=\"sk-parallel-item\"><div class=\"sk-item\"><div class=\"sk-label-container\"><div class=\"sk-label sk-toggleable\"><label>lgbm</label></div></div><div class=\"sk-serial\"><div class=\"sk-item\"><div class=\"sk-serial\"><div class=\"sk-item\"><div class=\"sk-estimator sk-toggleable\"><input class=\"sk-toggleable__control sk-hidden--visually\" id=\"sk-estimator-id-501\" type=\"checkbox\" ><label for=\"sk-estimator-id-501\" class=\"sk-toggleable__label sk-toggleable__label-arrow\">StandardScaler</label><div class=\"sk-toggleable__content\"><pre>StandardScaler()</pre></div></div></div><div class=\"sk-item\"><div class=\"sk-estimator sk-toggleable\"><input class=\"sk-toggleable__control sk-hidden--visually\" id=\"sk-estimator-id-502\" type=\"checkbox\" ><label for=\"sk-estimator-id-502\" class=\"sk-toggleable__label sk-toggleable__label-arrow\">LGBMClassifier</label><div class=\"sk-toggleable__content\"><pre>LGBMClassifier(colsample_bytree=0.5316680619799939,\n",
       "               lambda_l1=0.007108100081137849, lambda_l2=0.03476239795083847,\n",
       "               learning_rate=0.01238372420962104, max_depth=11,\n",
       "               metric=&#x27;multi_logloss&#x27;, min_child_samples=27, n_estimators=433,\n",
       "               num_class=7, objective=&#x27;multiclass&#x27;, random_state=42,\n",
       "               subsample=0.9221088703806487, verbosity=-1)</pre></div></div></div></div></div></div></div></div><div class=\"sk-parallel-item\"><div class=\"sk-item\"><div class=\"sk-label-container\"><div class=\"sk-label sk-toggleable\"><label>xgb</label></div></div><div class=\"sk-serial\"><div class=\"sk-item\"><div class=\"sk-serial\"><div class=\"sk-item\"><div class=\"sk-estimator sk-toggleable\"><input class=\"sk-toggleable__control sk-hidden--visually\" id=\"sk-estimator-id-503\" type=\"checkbox\" ><label for=\"sk-estimator-id-503\" class=\"sk-toggleable__label sk-toggleable__label-arrow\">StandardScaler</label><div class=\"sk-toggleable__content\"><pre>StandardScaler()</pre></div></div></div><div class=\"sk-item\"><div class=\"sk-estimator sk-toggleable\"><input class=\"sk-toggleable__control sk-hidden--visually\" id=\"sk-estimator-id-504\" type=\"checkbox\" ><label for=\"sk-estimator-id-504\" class=\"sk-toggleable__label sk-toggleable__label-arrow\">XGBClassifier</label><div class=\"sk-toggleable__content\"><pre>XGBClassifier(alpha=0.0006793607893934014, base_score=None, booster=None,\n",
       "              callbacks=None, colsample_bylevel=None, colsample_bynode=None,\n",
       "              colsample_bytree=0.5047951172166767, device=None,\n",
       "              early_stopping_rounds=None, enable_categorical=False,\n",
       "              eval_metric=None, feature_types=None, gamma=0.0003650214503199033,\n",
       "              grow_policy=None, importance_type=None,\n",
       "              interaction_constraints=None, learning_rate=0.014740587787224061,\n",
       "              max_bin=None, max_cat_threshold=None, max_cat_to_onehot=None,\n",
       "              max_delta_step=None, max_depth=5, max_leaves=None,\n",
       "              min_child_weight=3, missing=nan, monotone_constraints=None,\n",
       "              multi_strategy=None, n_estimators=731, n_jobs=None,\n",
       "              num_parallel_tree=None, ...)</pre></div></div></div></div></div></div></div></div><div class=\"sk-parallel-item\"><div class=\"sk-item\"><div class=\"sk-label-container\"><div class=\"sk-label sk-toggleable\"><label>ext</label></div></div><div class=\"sk-serial\"><div class=\"sk-item\"><div class=\"sk-serial\"><div class=\"sk-item\"><div class=\"sk-estimator sk-toggleable\"><input class=\"sk-toggleable__control sk-hidden--visually\" id=\"sk-estimator-id-505\" type=\"checkbox\" ><label for=\"sk-estimator-id-505\" class=\"sk-toggleable__label sk-toggleable__label-arrow\">StandardScaler</label><div class=\"sk-toggleable__content\"><pre>StandardScaler()</pre></div></div></div><div class=\"sk-item\"><div class=\"sk-estimator sk-toggleable\"><input class=\"sk-toggleable__control sk-hidden--visually\" id=\"sk-estimator-id-506\" type=\"checkbox\" ><label for=\"sk-estimator-id-506\" class=\"sk-toggleable__label sk-toggleable__label-arrow\">ExtraTreesClassifier</label><div class=\"sk-toggleable__content\"><pre>ExtraTreesClassifier(max_depth=11, max_features=20, n_estimators=783,\n",
       "                     random_state=42)</pre></div></div></div></div></div></div></div></div><div class=\"sk-parallel-item\"><div class=\"sk-item\"><div class=\"sk-label-container\"><div class=\"sk-label sk-toggleable\"><label>hist</label></div></div><div class=\"sk-serial\"><div class=\"sk-item\"><div class=\"sk-serial\"><div class=\"sk-item\"><div class=\"sk-estimator sk-toggleable\"><input class=\"sk-toggleable__control sk-hidden--visually\" id=\"sk-estimator-id-507\" type=\"checkbox\" ><label for=\"sk-estimator-id-507\" class=\"sk-toggleable__label sk-toggleable__label-arrow\">StandardScaler</label><div class=\"sk-toggleable__content\"><pre>StandardScaler()</pre></div></div></div><div class=\"sk-item\"><div class=\"sk-estimator sk-toggleable\"><input class=\"sk-toggleable__control sk-hidden--visually\" id=\"sk-estimator-id-508\" type=\"checkbox\" ><label for=\"sk-estimator-id-508\" class=\"sk-toggleable__label sk-toggleable__label-arrow\">HistGradientBoostingClassifier</label><div class=\"sk-toggleable__content\"><pre>HistGradientBoostingClassifier()</pre></div></div></div></div></div></div></div></div><div class=\"sk-parallel-item\"><div class=\"sk-item\"><div class=\"sk-label-container\"><div class=\"sk-label sk-toggleable\"><label>lgbm2</label></div></div><div class=\"sk-serial\"><div class=\"sk-item\"><div class=\"sk-serial\"><div class=\"sk-item\"><div class=\"sk-estimator sk-toggleable\"><input class=\"sk-toggleable__control sk-hidden--visually\" id=\"sk-estimator-id-509\" type=\"checkbox\" ><label for=\"sk-estimator-id-509\" class=\"sk-toggleable__label sk-toggleable__label-arrow\">StandardScaler</label><div class=\"sk-toggleable__content\"><pre>StandardScaler()</pre></div></div></div><div class=\"sk-item\"><div class=\"sk-estimator sk-toggleable\"><input class=\"sk-toggleable__control sk-hidden--visually\" id=\"sk-estimator-id-510\" type=\"checkbox\" ><label for=\"sk-estimator-id-510\" class=\"sk-toggleable__label sk-toggleable__label-arrow\">LGBMClassifier</label><div class=\"sk-toggleable__content\"><pre>LGBMClassifier(feature_fraction=0.17583040106894807,\n",
       "               learning_rate=0.005451511795931252, max_bin=110, max_depth=10,\n",
       "               metric=&#x27;multi_logloss&#x27;, min_data_in_leaf=4, n_estimators=1834,\n",
       "               num_class=7, objective=&#x27;multiclass&#x27;, random_state=42,\n",
       "               subsample=0.5633978668136881, verbosity=-1)</pre></div></div></div></div></div></div></div></div><div class=\"sk-parallel-item\"><div class=\"sk-item\"><div class=\"sk-label-container\"><div class=\"sk-label sk-toggleable\"><label>lgbm3</label></div></div><div class=\"sk-serial\"><div class=\"sk-item\"><div class=\"sk-serial\"><div class=\"sk-item\"><div class=\"sk-estimator sk-toggleable\"><input class=\"sk-toggleable__control sk-hidden--visually\" id=\"sk-estimator-id-511\" type=\"checkbox\" ><label for=\"sk-estimator-id-511\" class=\"sk-toggleable__label sk-toggleable__label-arrow\">StandardScaler</label><div class=\"sk-toggleable__content\"><pre>StandardScaler()</pre></div></div></div><div class=\"sk-item\"><div class=\"sk-estimator sk-toggleable\"><input class=\"sk-toggleable__control sk-hidden--visually\" id=\"sk-estimator-id-512\" type=\"checkbox\" ><label for=\"sk-estimator-id-512\" class=\"sk-toggleable__label sk-toggleable__label-arrow\">LGBMClassifier</label><div class=\"sk-toggleable__content\"><pre>LGBMClassifier(bagging_fraction=0.630575690135632, bagging_freq=5,\n",
       "               feature_fraction=0.4, feature_pre_filter=False,\n",
       "               lambda_l1=9.131381342494084e-08, lambda_l2=3.690335595327202e-05,\n",
       "               learning_rate=0.01, metric=&#x27;multi_logloss&#x27;, n_estimators=627,\n",
       "               objective=&#x27;multiclass&#x27;, random_state=42, verbosity=-1)</pre></div></div></div></div></div></div></div></div><div class=\"sk-parallel-item\"><div class=\"sk-item\"><div class=\"sk-label-container\"><div class=\"sk-label sk-toggleable\"><label>xgb2</label></div></div><div class=\"sk-serial\"><div class=\"sk-item\"><div class=\"sk-serial\"><div class=\"sk-item\"><div class=\"sk-estimator sk-toggleable\"><input class=\"sk-toggleable__control sk-hidden--visually\" id=\"sk-estimator-id-513\" type=\"checkbox\" ><label for=\"sk-estimator-id-513\" class=\"sk-toggleable__label sk-toggleable__label-arrow\">StandardScaler</label><div class=\"sk-toggleable__content\"><pre>StandardScaler()</pre></div></div></div><div class=\"sk-item\"><div class=\"sk-estimator sk-toggleable\"><input class=\"sk-toggleable__control sk-hidden--visually\" id=\"sk-estimator-id-514\" type=\"checkbox\" ><label for=\"sk-estimator-id-514\" class=\"sk-toggleable__label sk-toggleable__label-arrow\">XGBClassifier</label><div class=\"sk-toggleable__content\"><pre>XGBClassifier(alpha=0.002084420690864832, base_score=None, booster=None,\n",
       "              callbacks=None, colsample_bylevel=None, colsample_bynode=None,\n",
       "              colsample_bytree=0.2016160543417863, device=None,\n",
       "              early_stopping_rounds=None, enable_categorical=False,\n",
       "              eval_metric=None, feature_types=None,\n",
       "              gamma=0.00040448964009199537, grow_policy=None,\n",
       "              importance_type=None, interaction_constraints=None,\n",
       "              learning_rate=0.01182912450871734, max_bin=None,\n",
       "              max_cat_threshold=None, max_cat_to_onehot=None,\n",
       "              max_delta_step=None, max_depth=6, max_leaves=None,\n",
       "              min_child_weight=3, missing=nan, monotone_constraints=None,\n",
       "              multi_strategy=None, n_estimators=999, n_jobs=None, num_class=7, ...)</pre></div></div></div></div></div></div></div></div><div class=\"sk-parallel-item\"><div class=\"sk-item\"><div class=\"sk-label-container\"><div class=\"sk-label sk-toggleable\"><label>catboost</label></div></div><div class=\"sk-serial\"><div class=\"sk-item\"><div class=\"sk-serial\"><div class=\"sk-item\"><div class=\"sk-estimator sk-toggleable\"><input class=\"sk-toggleable__control sk-hidden--visually\" id=\"sk-estimator-id-515\" type=\"checkbox\" ><label for=\"sk-estimator-id-515\" class=\"sk-toggleable__label sk-toggleable__label-arrow\">StandardScaler</label><div class=\"sk-toggleable__content\"><pre>StandardScaler()</pre></div></div></div><div class=\"sk-item\"><div class=\"sk-estimator sk-toggleable\"><input class=\"sk-toggleable__control sk-hidden--visually\" id=\"sk-estimator-id-516\" type=\"checkbox\" ><label for=\"sk-estimator-id-516\" class=\"sk-toggleable__label sk-toggleable__label-arrow\">CatBoostClassifier</label><div class=\"sk-toggleable__content\"><pre>&lt;catboost.core.CatBoostClassifier object at 0x000001B4048A76D0&gt;</pre></div></div></div></div></div></div></div></div></div></div></div></div>"
      ],
      "text/plain": [
       "VotingClassifier(estimators=[('lgbm',\n",
       "                              Pipeline(steps=[('standardscaler',\n",
       "                                               StandardScaler()),\n",
       "                                              ('lgbmclassifier',\n",
       "                                               LGBMClassifier(colsample_bytree=0.5316680619799939,\n",
       "                                                              lambda_l1=0.007108100081137849,\n",
       "                                                              lambda_l2=0.03476239795083847,\n",
       "                                                              learning_rate=0.01238372420962104,\n",
       "                                                              max_depth=11,\n",
       "                                                              metric='multi_logloss',\n",
       "                                                              min_child_samples=27,\n",
       "                                                              n_estimators=433,\n",
       "                                                              num_class=7,\n",
       "                                                              objective='...\n",
       "                                                             max_cat_to_onehot=None,\n",
       "                                                             max_delta_step=None,\n",
       "                                                             max_depth=6,\n",
       "                                                             max_leaves=None,\n",
       "                                                             min_child_weight=3,\n",
       "                                                             missing=nan,\n",
       "                                                             monotone_constraints=None,\n",
       "                                                             multi_strategy=None,\n",
       "                                                             n_estimators=999,\n",
       "                                                             n_jobs=None,\n",
       "                                                             num_class=7, ...))])),\n",
       "                             ('catboost',\n",
       "                              Pipeline(steps=[('standardscaler',\n",
       "                                               StandardScaler()),\n",
       "                                              ('catboostclassifier',\n",
       "                                               <catboost.core.CatBoostClassifier object at 0x000001B4048A76D0>)]))],\n",
       "                 voting='soft')"
      ]
     },
     "execution_count": 161,
     "metadata": {},
     "output_type": "execute_result"
    }
   ],
   "source": [
    "vot.fit(X_train, y_train)"
   ]
  },
  {
   "cell_type": "code",
   "execution_count": 162,
   "id": "dbde69d1-36e3-4d33-890e-f997bebc1d7f",
   "metadata": {},
   "outputs": [
    {
     "data": {
      "text/plain": [
       "0.8970808809824418"
      ]
     },
     "execution_count": 162,
     "metadata": {},
     "output_type": "execute_result"
    }
   ],
   "source": [
    "roc_auc_score(y_test, vot.predict_proba(X_test), multi_class='ovo')"
   ]
  },
  {
   "cell_type": "code",
   "execution_count": 111,
   "id": "d072f854-be91-45a1-b661-d17302c614d2",
   "metadata": {},
   "outputs": [],
   "source": [
    "from sklearn.linear_model import LinearRegression, LogisticRegression"
   ]
  },
  {
   "cell_type": "code",
   "execution_count": 119,
   "id": "394e98b1-8613-4023-8960-4b2056c1a1b2",
   "metadata": {},
   "outputs": [],
   "source": [
    "sta = StackingClassifier(\n",
    "    estimators=[\n",
    "        (\"lgbm\", lgbm_clf),\n",
    "        (\"xgb\", xgb_clf),\n",
    "        (\"ext\", ext),\n",
    "        (\"hist\", hist_clf)\n",
    "    ], final_estimator=LogisticRegression()\n",
    ")"
   ]
  },
  {
   "cell_type": "code",
   "execution_count": 120,
   "id": "181ae1d6-c3dc-4099-b1f7-a047b98b5248",
   "metadata": {},
   "outputs": [],
   "source": [
    "sta.fit(X_train, y_train)"
   ]
  },
  {
   "cell_type": "code",
   "execution_count": 116,
   "id": "66c0df6a-9fee-4796-a231-f67e45adb364",
   "metadata": {},
   "outputs": [
    {
     "data": {
      "text/plain": [
       "0.8804482547056962"
      ]
     },
     "execution_count": 116,
     "metadata": {},
     "output_type": "execute_result"
    }
   ],
   "source": [
    "roc_auc_score(y_test, sta.predict_proba(X_test), multi_class='ovo')"
   ]
  },
  {
   "cell_type": "code",
   "execution_count": null,
   "id": "c5b39e44-cf4f-4b3d-8286-9c548237e19a",
   "metadata": {},
   "outputs": [],
   "source": []
  }
 ],
 "metadata": {
  "kernelspec": {
   "display_name": "Python 3 (ipykernel)",
   "language": "python",
   "name": "python3"
  },
  "language_info": {
   "codemirror_mode": {
    "name": "ipython",
    "version": 3
   },
   "file_extension": ".py",
   "mimetype": "text/x-python",
   "name": "python",
   "nbconvert_exporter": "python",
   "pygments_lexer": "ipython3",
   "version": "3.11.5"
  }
 },
 "nbformat": 4,
 "nbformat_minor": 5
}
