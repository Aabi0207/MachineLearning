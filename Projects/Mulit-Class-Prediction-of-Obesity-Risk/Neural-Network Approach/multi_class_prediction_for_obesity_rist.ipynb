{
 "cells": [
  {
   "cell_type": "markdown",
   "id": "a591c9a5-08d4-414f-8899-099ccfd8b8b4",
   "metadata": {},
   "source": [
    "# Multi Class Prediction of Obesity Risk"
   ]
  },
  {
   "cell_type": "markdown",
   "id": "d119177a-f728-4b0a-b968-1d3877fd774a",
   "metadata": {},
   "source": [
    "## primary Data Analysis"
   ]
  },
  {
   "cell_type": "code",
   "execution_count": 1,
   "id": "d342b502-e0d9-4715-8806-d7ad12c1f105",
   "metadata": {},
   "outputs": [],
   "source": [
    "import pandas as pd\n",
    "import numpy as np\n",
    "import seaborn as sns\n",
    "import matplotlib.pyplot as plt\n",
    "%matplotlib inline"
   ]
  },
  {
   "cell_type": "code",
   "execution_count": 8,
   "id": "522cf62e-7e64-40ab-88d5-ab7f95a35c32",
   "metadata": {},
   "outputs": [],
   "source": [
    "df_train = pd.read_csv(\"train.csv/train.csv\", delimiter=\",\")"
   ]
  },
  {
   "cell_type": "code",
   "execution_count": 3,
   "id": "43b2d309-c08b-4199-a247-b94755004e9c",
   "metadata": {},
   "outputs": [
    {
     "data": {
      "text/plain": [
       "(20758, 18)"
      ]
     },
     "execution_count": 3,
     "metadata": {},
     "output_type": "execute_result"
    }
   ],
   "source": [
    "df_train.shape"
   ]
  },
  {
   "cell_type": "code",
   "execution_count": 4,
   "id": "2d90b616-4308-4a5a-8c5b-ca8f181c051c",
   "metadata": {},
   "outputs": [
    {
     "data": {
      "text/html": [
       "<div>\n",
       "<style scoped>\n",
       "    .dataframe tbody tr th:only-of-type {\n",
       "        vertical-align: middle;\n",
       "    }\n",
       "\n",
       "    .dataframe tbody tr th {\n",
       "        vertical-align: top;\n",
       "    }\n",
       "\n",
       "    .dataframe thead th {\n",
       "        text-align: right;\n",
       "    }\n",
       "</style>\n",
       "<table border=\"1\" class=\"dataframe\">\n",
       "  <thead>\n",
       "    <tr style=\"text-align: right;\">\n",
       "      <th></th>\n",
       "      <th>id</th>\n",
       "      <th>Gender</th>\n",
       "      <th>Age</th>\n",
       "      <th>Height</th>\n",
       "      <th>Weight</th>\n",
       "      <th>family_history_with_overweight</th>\n",
       "      <th>FAVC</th>\n",
       "      <th>FCVC</th>\n",
       "      <th>NCP</th>\n",
       "      <th>CAEC</th>\n",
       "      <th>SMOKE</th>\n",
       "      <th>CH2O</th>\n",
       "      <th>SCC</th>\n",
       "      <th>FAF</th>\n",
       "      <th>TUE</th>\n",
       "      <th>CALC</th>\n",
       "      <th>MTRANS</th>\n",
       "      <th>NObeyesdad</th>\n",
       "    </tr>\n",
       "  </thead>\n",
       "  <tbody>\n",
       "    <tr>\n",
       "      <th>0</th>\n",
       "      <td>0</td>\n",
       "      <td>Male</td>\n",
       "      <td>24.443011</td>\n",
       "      <td>1.699998</td>\n",
       "      <td>81.669950</td>\n",
       "      <td>yes</td>\n",
       "      <td>yes</td>\n",
       "      <td>2.000000</td>\n",
       "      <td>2.983297</td>\n",
       "      <td>Sometimes</td>\n",
       "      <td>no</td>\n",
       "      <td>2.763573</td>\n",
       "      <td>no</td>\n",
       "      <td>0.000000</td>\n",
       "      <td>0.976473</td>\n",
       "      <td>Sometimes</td>\n",
       "      <td>Public_Transportation</td>\n",
       "      <td>Overweight_Level_II</td>\n",
       "    </tr>\n",
       "    <tr>\n",
       "      <th>1</th>\n",
       "      <td>1</td>\n",
       "      <td>Female</td>\n",
       "      <td>18.000000</td>\n",
       "      <td>1.560000</td>\n",
       "      <td>57.000000</td>\n",
       "      <td>yes</td>\n",
       "      <td>yes</td>\n",
       "      <td>2.000000</td>\n",
       "      <td>3.000000</td>\n",
       "      <td>Frequently</td>\n",
       "      <td>no</td>\n",
       "      <td>2.000000</td>\n",
       "      <td>no</td>\n",
       "      <td>1.000000</td>\n",
       "      <td>1.000000</td>\n",
       "      <td>no</td>\n",
       "      <td>Automobile</td>\n",
       "      <td>Normal_Weight</td>\n",
       "    </tr>\n",
       "    <tr>\n",
       "      <th>2</th>\n",
       "      <td>2</td>\n",
       "      <td>Female</td>\n",
       "      <td>18.000000</td>\n",
       "      <td>1.711460</td>\n",
       "      <td>50.165754</td>\n",
       "      <td>yes</td>\n",
       "      <td>yes</td>\n",
       "      <td>1.880534</td>\n",
       "      <td>1.411685</td>\n",
       "      <td>Sometimes</td>\n",
       "      <td>no</td>\n",
       "      <td>1.910378</td>\n",
       "      <td>no</td>\n",
       "      <td>0.866045</td>\n",
       "      <td>1.673584</td>\n",
       "      <td>no</td>\n",
       "      <td>Public_Transportation</td>\n",
       "      <td>Insufficient_Weight</td>\n",
       "    </tr>\n",
       "    <tr>\n",
       "      <th>3</th>\n",
       "      <td>3</td>\n",
       "      <td>Female</td>\n",
       "      <td>20.952737</td>\n",
       "      <td>1.710730</td>\n",
       "      <td>131.274851</td>\n",
       "      <td>yes</td>\n",
       "      <td>yes</td>\n",
       "      <td>3.000000</td>\n",
       "      <td>3.000000</td>\n",
       "      <td>Sometimes</td>\n",
       "      <td>no</td>\n",
       "      <td>1.674061</td>\n",
       "      <td>no</td>\n",
       "      <td>1.467863</td>\n",
       "      <td>0.780199</td>\n",
       "      <td>Sometimes</td>\n",
       "      <td>Public_Transportation</td>\n",
       "      <td>Obesity_Type_III</td>\n",
       "    </tr>\n",
       "    <tr>\n",
       "      <th>4</th>\n",
       "      <td>4</td>\n",
       "      <td>Male</td>\n",
       "      <td>31.641081</td>\n",
       "      <td>1.914186</td>\n",
       "      <td>93.798055</td>\n",
       "      <td>yes</td>\n",
       "      <td>yes</td>\n",
       "      <td>2.679664</td>\n",
       "      <td>1.971472</td>\n",
       "      <td>Sometimes</td>\n",
       "      <td>no</td>\n",
       "      <td>1.979848</td>\n",
       "      <td>no</td>\n",
       "      <td>1.967973</td>\n",
       "      <td>0.931721</td>\n",
       "      <td>Sometimes</td>\n",
       "      <td>Public_Transportation</td>\n",
       "      <td>Overweight_Level_II</td>\n",
       "    </tr>\n",
       "  </tbody>\n",
       "</table>\n",
       "</div>"
      ],
      "text/plain": [
       "   id  Gender        Age    Height      Weight family_history_with_overweight  \\\n",
       "0   0    Male  24.443011  1.699998   81.669950                            yes   \n",
       "1   1  Female  18.000000  1.560000   57.000000                            yes   \n",
       "2   2  Female  18.000000  1.711460   50.165754                            yes   \n",
       "3   3  Female  20.952737  1.710730  131.274851                            yes   \n",
       "4   4    Male  31.641081  1.914186   93.798055                            yes   \n",
       "\n",
       "  FAVC      FCVC       NCP        CAEC SMOKE      CH2O SCC       FAF  \\\n",
       "0  yes  2.000000  2.983297   Sometimes    no  2.763573  no  0.000000   \n",
       "1  yes  2.000000  3.000000  Frequently    no  2.000000  no  1.000000   \n",
       "2  yes  1.880534  1.411685   Sometimes    no  1.910378  no  0.866045   \n",
       "3  yes  3.000000  3.000000   Sometimes    no  1.674061  no  1.467863   \n",
       "4  yes  2.679664  1.971472   Sometimes    no  1.979848  no  1.967973   \n",
       "\n",
       "        TUE       CALC                 MTRANS           NObeyesdad  \n",
       "0  0.976473  Sometimes  Public_Transportation  Overweight_Level_II  \n",
       "1  1.000000         no             Automobile        Normal_Weight  \n",
       "2  1.673584         no  Public_Transportation  Insufficient_Weight  \n",
       "3  0.780199  Sometimes  Public_Transportation     Obesity_Type_III  \n",
       "4  0.931721  Sometimes  Public_Transportation  Overweight_Level_II  "
      ]
     },
     "execution_count": 4,
     "metadata": {},
     "output_type": "execute_result"
    }
   ],
   "source": [
    "df_train.head()"
   ]
  },
  {
   "cell_type": "code",
   "execution_count": 5,
   "id": "4d4e775a-d446-4bb4-acd7-9ed948daece5",
   "metadata": {},
   "outputs": [
    {
     "data": {
      "text/html": [
       "<div>\n",
       "<style scoped>\n",
       "    .dataframe tbody tr th:only-of-type {\n",
       "        vertical-align: middle;\n",
       "    }\n",
       "\n",
       "    .dataframe tbody tr th {\n",
       "        vertical-align: top;\n",
       "    }\n",
       "\n",
       "    .dataframe thead th {\n",
       "        text-align: right;\n",
       "    }\n",
       "</style>\n",
       "<table border=\"1\" class=\"dataframe\">\n",
       "  <thead>\n",
       "    <tr style=\"text-align: right;\">\n",
       "      <th></th>\n",
       "      <th>id</th>\n",
       "      <th>Gender</th>\n",
       "      <th>Age</th>\n",
       "      <th>Height</th>\n",
       "      <th>Weight</th>\n",
       "      <th>family_history_with_overweight</th>\n",
       "      <th>FAVC</th>\n",
       "      <th>FCVC</th>\n",
       "      <th>NCP</th>\n",
       "      <th>CAEC</th>\n",
       "      <th>SMOKE</th>\n",
       "      <th>CH2O</th>\n",
       "      <th>SCC</th>\n",
       "      <th>FAF</th>\n",
       "      <th>TUE</th>\n",
       "      <th>CALC</th>\n",
       "      <th>MTRANS</th>\n",
       "      <th>NObeyesdad</th>\n",
       "    </tr>\n",
       "  </thead>\n",
       "  <tbody>\n",
       "    <tr>\n",
       "      <th>20753</th>\n",
       "      <td>20753</td>\n",
       "      <td>Male</td>\n",
       "      <td>25.137087</td>\n",
       "      <td>1.766626</td>\n",
       "      <td>114.187096</td>\n",
       "      <td>yes</td>\n",
       "      <td>yes</td>\n",
       "      <td>2.919584</td>\n",
       "      <td>3.000000</td>\n",
       "      <td>Sometimes</td>\n",
       "      <td>no</td>\n",
       "      <td>2.151809</td>\n",
       "      <td>no</td>\n",
       "      <td>1.330519</td>\n",
       "      <td>0.196680</td>\n",
       "      <td>Sometimes</td>\n",
       "      <td>Public_Transportation</td>\n",
       "      <td>Obesity_Type_II</td>\n",
       "    </tr>\n",
       "    <tr>\n",
       "      <th>20754</th>\n",
       "      <td>20754</td>\n",
       "      <td>Male</td>\n",
       "      <td>18.000000</td>\n",
       "      <td>1.710000</td>\n",
       "      <td>50.000000</td>\n",
       "      <td>no</td>\n",
       "      <td>yes</td>\n",
       "      <td>3.000000</td>\n",
       "      <td>4.000000</td>\n",
       "      <td>Frequently</td>\n",
       "      <td>no</td>\n",
       "      <td>1.000000</td>\n",
       "      <td>no</td>\n",
       "      <td>2.000000</td>\n",
       "      <td>1.000000</td>\n",
       "      <td>Sometimes</td>\n",
       "      <td>Public_Transportation</td>\n",
       "      <td>Insufficient_Weight</td>\n",
       "    </tr>\n",
       "    <tr>\n",
       "      <th>20755</th>\n",
       "      <td>20755</td>\n",
       "      <td>Male</td>\n",
       "      <td>20.101026</td>\n",
       "      <td>1.819557</td>\n",
       "      <td>105.580491</td>\n",
       "      <td>yes</td>\n",
       "      <td>yes</td>\n",
       "      <td>2.407817</td>\n",
       "      <td>3.000000</td>\n",
       "      <td>Sometimes</td>\n",
       "      <td>no</td>\n",
       "      <td>2.000000</td>\n",
       "      <td>no</td>\n",
       "      <td>1.158040</td>\n",
       "      <td>1.198439</td>\n",
       "      <td>no</td>\n",
       "      <td>Public_Transportation</td>\n",
       "      <td>Obesity_Type_II</td>\n",
       "    </tr>\n",
       "    <tr>\n",
       "      <th>20756</th>\n",
       "      <td>20756</td>\n",
       "      <td>Male</td>\n",
       "      <td>33.852953</td>\n",
       "      <td>1.700000</td>\n",
       "      <td>83.520113</td>\n",
       "      <td>yes</td>\n",
       "      <td>yes</td>\n",
       "      <td>2.671238</td>\n",
       "      <td>1.971472</td>\n",
       "      <td>Sometimes</td>\n",
       "      <td>no</td>\n",
       "      <td>2.144838</td>\n",
       "      <td>no</td>\n",
       "      <td>0.000000</td>\n",
       "      <td>0.973834</td>\n",
       "      <td>no</td>\n",
       "      <td>Automobile</td>\n",
       "      <td>Overweight_Level_II</td>\n",
       "    </tr>\n",
       "    <tr>\n",
       "      <th>20757</th>\n",
       "      <td>20757</td>\n",
       "      <td>Male</td>\n",
       "      <td>26.680376</td>\n",
       "      <td>1.816547</td>\n",
       "      <td>118.134898</td>\n",
       "      <td>yes</td>\n",
       "      <td>yes</td>\n",
       "      <td>3.000000</td>\n",
       "      <td>3.000000</td>\n",
       "      <td>Sometimes</td>\n",
       "      <td>no</td>\n",
       "      <td>2.003563</td>\n",
       "      <td>no</td>\n",
       "      <td>0.684487</td>\n",
       "      <td>0.713823</td>\n",
       "      <td>Sometimes</td>\n",
       "      <td>Public_Transportation</td>\n",
       "      <td>Obesity_Type_II</td>\n",
       "    </tr>\n",
       "  </tbody>\n",
       "</table>\n",
       "</div>"
      ],
      "text/plain": [
       "          id Gender        Age    Height      Weight  \\\n",
       "20753  20753   Male  25.137087  1.766626  114.187096   \n",
       "20754  20754   Male  18.000000  1.710000   50.000000   \n",
       "20755  20755   Male  20.101026  1.819557  105.580491   \n",
       "20756  20756   Male  33.852953  1.700000   83.520113   \n",
       "20757  20757   Male  26.680376  1.816547  118.134898   \n",
       "\n",
       "      family_history_with_overweight FAVC      FCVC       NCP        CAEC  \\\n",
       "20753                            yes  yes  2.919584  3.000000   Sometimes   \n",
       "20754                             no  yes  3.000000  4.000000  Frequently   \n",
       "20755                            yes  yes  2.407817  3.000000   Sometimes   \n",
       "20756                            yes  yes  2.671238  1.971472   Sometimes   \n",
       "20757                            yes  yes  3.000000  3.000000   Sometimes   \n",
       "\n",
       "      SMOKE      CH2O SCC       FAF       TUE       CALC  \\\n",
       "20753    no  2.151809  no  1.330519  0.196680  Sometimes   \n",
       "20754    no  1.000000  no  2.000000  1.000000  Sometimes   \n",
       "20755    no  2.000000  no  1.158040  1.198439         no   \n",
       "20756    no  2.144838  no  0.000000  0.973834         no   \n",
       "20757    no  2.003563  no  0.684487  0.713823  Sometimes   \n",
       "\n",
       "                      MTRANS           NObeyesdad  \n",
       "20753  Public_Transportation      Obesity_Type_II  \n",
       "20754  Public_Transportation  Insufficient_Weight  \n",
       "20755  Public_Transportation      Obesity_Type_II  \n",
       "20756             Automobile  Overweight_Level_II  \n",
       "20757  Public_Transportation      Obesity_Type_II  "
      ]
     },
     "execution_count": 5,
     "metadata": {},
     "output_type": "execute_result"
    }
   ],
   "source": [
    "df_train.tail()"
   ]
  },
  {
   "cell_type": "code",
   "execution_count": 6,
   "id": "d1d98eb7-a549-43e1-9e8c-59f25902899a",
   "metadata": {},
   "outputs": [
    {
     "name": "stdout",
     "output_type": "stream",
     "text": [
      "| Abbreviation   | Full Form                                 |\n",
      "|:---------------|:------------------------------------------|\n",
      "| FAVC           | Frequent consumption of high caloric food |\n",
      "| FCVC           | Frequency of consumption of vegetables    |\n",
      "| NCP            | Number of main meals                      |\n",
      "| CAEC           | Consumption of food between meals         |\n",
      "| CH20           | Consumption of water daily                |\n",
      "| CALC           | Consumption of alcohol                    |\n",
      "| SCC            | Calories consumption monitoring           |\n",
      "| FAF            | Physical activity frequency               |\n",
      "| TUE            | Time using technology devices             |\n",
      "| MTRANS         | Transportation used                       |\n"
     ]
    }
   ],
   "source": [
    "from tabulate import tabulate\n",
    "data = [\n",
    "    [\"FAVC\", \"Frequent consumption of high caloric food\"],\n",
    "    [\"FCVC\", \"Frequency of consumption of vegetables\"],\n",
    "    [\"NCP\", \"Number of main meals\"],\n",
    "    [\"CAEC\", \"Consumption of food between meals\"],\n",
    "    [\"CH20\", \"Consumption of water daily\"],\n",
    "    [\"CALC\", \"Consumption of alcohol\"],\n",
    "    [\"SCC\", \"Calories consumption monitoring\"],\n",
    "    [\"FAF\", \"Physical activity frequency\"],\n",
    "    [\"TUE\", \"Time using technology devices\"],\n",
    "    [\"MTRANS\", \"Transportation used\"]\n",
    "]\n",
    "headers = [\"Abbreviation\", \"Full Form\"]\n",
    "\n",
    "table = tabulate(data, headers, tablefmt=\"pipe\")\n",
    "print(table)"
   ]
  },
  {
   "cell_type": "code",
   "execution_count": 7,
   "id": "64cfbeb1-a736-4c49-9184-a4351ef28dd9",
   "metadata": {},
   "outputs": [
    {
     "name": "stdout",
     "output_type": "stream",
     "text": [
      "<class 'pandas.core.frame.DataFrame'>\n",
      "RangeIndex: 20758 entries, 0 to 20757\n",
      "Data columns (total 18 columns):\n",
      " #   Column                          Non-Null Count  Dtype  \n",
      "---  ------                          --------------  -----  \n",
      " 0   id                              20758 non-null  int64  \n",
      " 1   Gender                          20758 non-null  object \n",
      " 2   Age                             20758 non-null  float64\n",
      " 3   Height                          20758 non-null  float64\n",
      " 4   Weight                          20758 non-null  float64\n",
      " 5   family_history_with_overweight  20758 non-null  object \n",
      " 6   FAVC                            20758 non-null  object \n",
      " 7   FCVC                            20758 non-null  float64\n",
      " 8   NCP                             20758 non-null  float64\n",
      " 9   CAEC                            20758 non-null  object \n",
      " 10  SMOKE                           20758 non-null  object \n",
      " 11  CH2O                            20758 non-null  float64\n",
      " 12  SCC                             20758 non-null  object \n",
      " 13  FAF                             20758 non-null  float64\n",
      " 14  TUE                             20758 non-null  float64\n",
      " 15  CALC                            20758 non-null  object \n",
      " 16  MTRANS                          20758 non-null  object \n",
      " 17  NObeyesdad                      20758 non-null  object \n",
      "dtypes: float64(8), int64(1), object(9)\n",
      "memory usage: 2.9+ MB\n"
     ]
    }
   ],
   "source": [
    "df_train.info()"
   ]
  },
  {
   "cell_type": "code",
   "execution_count": 8,
   "id": "0b21700e-38f2-4205-ac0a-150ba7a68c2a",
   "metadata": {},
   "outputs": [
    {
     "data": {
      "text/html": [
       "<div>\n",
       "<style scoped>\n",
       "    .dataframe tbody tr th:only-of-type {\n",
       "        vertical-align: middle;\n",
       "    }\n",
       "\n",
       "    .dataframe tbody tr th {\n",
       "        vertical-align: top;\n",
       "    }\n",
       "\n",
       "    .dataframe thead th {\n",
       "        text-align: right;\n",
       "    }\n",
       "</style>\n",
       "<table border=\"1\" class=\"dataframe\">\n",
       "  <thead>\n",
       "    <tr style=\"text-align: right;\">\n",
       "      <th></th>\n",
       "      <th>id</th>\n",
       "      <th>Age</th>\n",
       "      <th>Height</th>\n",
       "      <th>Weight</th>\n",
       "      <th>FCVC</th>\n",
       "      <th>NCP</th>\n",
       "      <th>CH2O</th>\n",
       "      <th>FAF</th>\n",
       "      <th>TUE</th>\n",
       "    </tr>\n",
       "  </thead>\n",
       "  <tbody>\n",
       "    <tr>\n",
       "      <th>count</th>\n",
       "      <td>20758.00000</td>\n",
       "      <td>20758.000000</td>\n",
       "      <td>20758.000000</td>\n",
       "      <td>20758.000000</td>\n",
       "      <td>20758.000000</td>\n",
       "      <td>20758.000000</td>\n",
       "      <td>20758.000000</td>\n",
       "      <td>20758.000000</td>\n",
       "      <td>20758.000000</td>\n",
       "    </tr>\n",
       "    <tr>\n",
       "      <th>mean</th>\n",
       "      <td>10378.50000</td>\n",
       "      <td>23.841804</td>\n",
       "      <td>1.700245</td>\n",
       "      <td>87.887768</td>\n",
       "      <td>2.445908</td>\n",
       "      <td>2.761332</td>\n",
       "      <td>2.029418</td>\n",
       "      <td>0.981747</td>\n",
       "      <td>0.616756</td>\n",
       "    </tr>\n",
       "    <tr>\n",
       "      <th>std</th>\n",
       "      <td>5992.46278</td>\n",
       "      <td>5.688072</td>\n",
       "      <td>0.087312</td>\n",
       "      <td>26.379443</td>\n",
       "      <td>0.533218</td>\n",
       "      <td>0.705375</td>\n",
       "      <td>0.608467</td>\n",
       "      <td>0.838302</td>\n",
       "      <td>0.602113</td>\n",
       "    </tr>\n",
       "    <tr>\n",
       "      <th>min</th>\n",
       "      <td>0.00000</td>\n",
       "      <td>14.000000</td>\n",
       "      <td>1.450000</td>\n",
       "      <td>39.000000</td>\n",
       "      <td>1.000000</td>\n",
       "      <td>1.000000</td>\n",
       "      <td>1.000000</td>\n",
       "      <td>0.000000</td>\n",
       "      <td>0.000000</td>\n",
       "    </tr>\n",
       "    <tr>\n",
       "      <th>25%</th>\n",
       "      <td>5189.25000</td>\n",
       "      <td>20.000000</td>\n",
       "      <td>1.631856</td>\n",
       "      <td>66.000000</td>\n",
       "      <td>2.000000</td>\n",
       "      <td>3.000000</td>\n",
       "      <td>1.792022</td>\n",
       "      <td>0.008013</td>\n",
       "      <td>0.000000</td>\n",
       "    </tr>\n",
       "    <tr>\n",
       "      <th>50%</th>\n",
       "      <td>10378.50000</td>\n",
       "      <td>22.815416</td>\n",
       "      <td>1.700000</td>\n",
       "      <td>84.064875</td>\n",
       "      <td>2.393837</td>\n",
       "      <td>3.000000</td>\n",
       "      <td>2.000000</td>\n",
       "      <td>1.000000</td>\n",
       "      <td>0.573887</td>\n",
       "    </tr>\n",
       "    <tr>\n",
       "      <th>75%</th>\n",
       "      <td>15567.75000</td>\n",
       "      <td>26.000000</td>\n",
       "      <td>1.762887</td>\n",
       "      <td>111.600553</td>\n",
       "      <td>3.000000</td>\n",
       "      <td>3.000000</td>\n",
       "      <td>2.549617</td>\n",
       "      <td>1.587406</td>\n",
       "      <td>1.000000</td>\n",
       "    </tr>\n",
       "    <tr>\n",
       "      <th>max</th>\n",
       "      <td>20757.00000</td>\n",
       "      <td>61.000000</td>\n",
       "      <td>1.975663</td>\n",
       "      <td>165.057269</td>\n",
       "      <td>3.000000</td>\n",
       "      <td>4.000000</td>\n",
       "      <td>3.000000</td>\n",
       "      <td>3.000000</td>\n",
       "      <td>2.000000</td>\n",
       "    </tr>\n",
       "  </tbody>\n",
       "</table>\n",
       "</div>"
      ],
      "text/plain": [
       "                id           Age        Height        Weight          FCVC  \\\n",
       "count  20758.00000  20758.000000  20758.000000  20758.000000  20758.000000   \n",
       "mean   10378.50000     23.841804      1.700245     87.887768      2.445908   \n",
       "std     5992.46278      5.688072      0.087312     26.379443      0.533218   \n",
       "min        0.00000     14.000000      1.450000     39.000000      1.000000   \n",
       "25%     5189.25000     20.000000      1.631856     66.000000      2.000000   \n",
       "50%    10378.50000     22.815416      1.700000     84.064875      2.393837   \n",
       "75%    15567.75000     26.000000      1.762887    111.600553      3.000000   \n",
       "max    20757.00000     61.000000      1.975663    165.057269      3.000000   \n",
       "\n",
       "                NCP          CH2O           FAF           TUE  \n",
       "count  20758.000000  20758.000000  20758.000000  20758.000000  \n",
       "mean       2.761332      2.029418      0.981747      0.616756  \n",
       "std        0.705375      0.608467      0.838302      0.602113  \n",
       "min        1.000000      1.000000      0.000000      0.000000  \n",
       "25%        3.000000      1.792022      0.008013      0.000000  \n",
       "50%        3.000000      2.000000      1.000000      0.573887  \n",
       "75%        3.000000      2.549617      1.587406      1.000000  \n",
       "max        4.000000      3.000000      3.000000      2.000000  "
      ]
     },
     "execution_count": 8,
     "metadata": {},
     "output_type": "execute_result"
    }
   ],
   "source": [
    "df_train.describe()"
   ]
  },
  {
   "cell_type": "code",
   "execution_count": 9,
   "id": "e98bb57f-ad6e-4efd-9c8a-67aff2ada873",
   "metadata": {},
   "outputs": [
    {
     "data": {
      "text/plain": [
       "False"
      ]
     },
     "execution_count": 9,
     "metadata": {},
     "output_type": "execute_result"
    }
   ],
   "source": [
    "df_train.duplicated().values.any()"
   ]
  },
  {
   "cell_type": "markdown",
   "id": "351f311b-40b1-47e5-94d3-698a6b05f0aa",
   "metadata": {},
   "source": [
    "As we can see from the above anlysis there are no null values or any duplicates either in the dataset, the dataset is clean 😁."
   ]
  },
  {
   "cell_type": "code",
   "execution_count": 10,
   "id": "72afa60d-fa03-46ee-98ad-ed57539eeb7d",
   "metadata": {},
   "outputs": [
    {
     "data": {
      "text/plain": [
       "id                                20758\n",
       "Gender                                2\n",
       "Age                                1703\n",
       "Height                             1833\n",
       "Weight                             1979\n",
       "family_history_with_overweight        2\n",
       "FAVC                                  2\n",
       "FCVC                                934\n",
       "NCP                                 689\n",
       "CAEC                                  4\n",
       "SMOKE                                 2\n",
       "CH2O                               1506\n",
       "SCC                                   2\n",
       "FAF                                1360\n",
       "TUE                                1297\n",
       "CALC                                  3\n",
       "MTRANS                                5\n",
       "NObeyesdad                            7\n",
       "dtype: int64"
      ]
     },
     "execution_count": 10,
     "metadata": {},
     "output_type": "execute_result"
    }
   ],
   "source": [
    "df_train.nunique()"
   ]
  },
  {
   "cell_type": "markdown",
   "id": "0bfe0bdf-9af0-4d4a-ba44-cb47aa1604da",
   "metadata": {},
   "source": [
    "### Replace the values of yes no with 1 and 0 respectively so to make them compatible to work with the Neural Network"
   ]
  },
  {
   "cell_type": "code",
   "execution_count": 9,
   "id": "bc480137-2f92-4f27-9a37-31901944a9f5",
   "metadata": {},
   "outputs": [],
   "source": [
    "df_train[\"family_history_with_overweight\"].replace([\"yes\", \"no\"], [1, 0], inplace=True)"
   ]
  },
  {
   "cell_type": "code",
   "execution_count": 10,
   "id": "00ec801e-fad2-45c7-8e62-f28ace2fd95e",
   "metadata": {},
   "outputs": [],
   "source": [
    "df_train[\"FAVC\"].replace([\"yes\", \"no\"], [1, 0], inplace=True)\n",
    "df_train[\"SMOKE\"].replace([\"yes\", \"no\"], [1, 0], inplace=True)\n",
    "df_train[\"SCC\"].replace([\"yes\", \"no\"], [1, 0], inplace=True)"
   ]
  },
  {
   "cell_type": "markdown",
   "id": "c2ada0c8-c896-4c65-9ebd-d6edca7185a5",
   "metadata": {},
   "source": [
    "### Use One Hot Encoding to get all the columns in numeric data type"
   ]
  },
  {
   "cell_type": "code",
   "execution_count": 11,
   "id": "dc531ce6-988c-4812-ab5e-ecc5b096c4d3",
   "metadata": {},
   "outputs": [],
   "source": [
    "df_train = pd.get_dummies(df_train ,prefix=['Gender', 'CAEC', 'CALC', 'MTRANS'], columns = ['Gender', 'CAEC', 'CALC', 'MTRANS'], drop_first=False, dtype=np.int64)"
   ]
  },
  {
   "cell_type": "code",
   "execution_count": 12,
   "id": "576ca92c-3a11-4fef-abb5-9a64fa2171d3",
   "metadata": {},
   "outputs": [
    {
     "name": "stdout",
     "output_type": "stream",
     "text": [
      "<class 'pandas.core.frame.DataFrame'>\n",
      "RangeIndex: 20758 entries, 0 to 20757\n",
      "Data columns (total 28 columns):\n",
      " #   Column                          Non-Null Count  Dtype  \n",
      "---  ------                          --------------  -----  \n",
      " 0   id                              20758 non-null  int64  \n",
      " 1   Age                             20758 non-null  float64\n",
      " 2   Height                          20758 non-null  float64\n",
      " 3   Weight                          20758 non-null  float64\n",
      " 4   family_history_with_overweight  20758 non-null  int64  \n",
      " 5   FAVC                            20758 non-null  int64  \n",
      " 6   FCVC                            20758 non-null  float64\n",
      " 7   NCP                             20758 non-null  float64\n",
      " 8   SMOKE                           20758 non-null  int64  \n",
      " 9   CH2O                            20758 non-null  float64\n",
      " 10  SCC                             20758 non-null  int64  \n",
      " 11  FAF                             20758 non-null  float64\n",
      " 12  TUE                             20758 non-null  float64\n",
      " 13  NObeyesdad                      20758 non-null  object \n",
      " 14  Gender_Female                   20758 non-null  int64  \n",
      " 15  Gender_Male                     20758 non-null  int64  \n",
      " 16  CAEC_Always                     20758 non-null  int64  \n",
      " 17  CAEC_Frequently                 20758 non-null  int64  \n",
      " 18  CAEC_Sometimes                  20758 non-null  int64  \n",
      " 19  CAEC_no                         20758 non-null  int64  \n",
      " 20  CALC_Frequently                 20758 non-null  int64  \n",
      " 21  CALC_Sometimes                  20758 non-null  int64  \n",
      " 22  CALC_no                         20758 non-null  int64  \n",
      " 23  MTRANS_Automobile               20758 non-null  int64  \n",
      " 24  MTRANS_Bike                     20758 non-null  int64  \n",
      " 25  MTRANS_Motorbike                20758 non-null  int64  \n",
      " 26  MTRANS_Public_Transportation    20758 non-null  int64  \n",
      " 27  MTRANS_Walking                  20758 non-null  int64  \n",
      "dtypes: float64(8), int64(19), object(1)\n",
      "memory usage: 4.4+ MB\n"
     ]
    }
   ],
   "source": [
    "df_train.info()"
   ]
  },
  {
   "cell_type": "code",
   "execution_count": 16,
   "id": "b2ab297a-0444-47ab-a2a0-8984faea698f",
   "metadata": {},
   "outputs": [
    {
     "data": {
      "text/html": [
       "<div>\n",
       "<style scoped>\n",
       "    .dataframe tbody tr th:only-of-type {\n",
       "        vertical-align: middle;\n",
       "    }\n",
       "\n",
       "    .dataframe tbody tr th {\n",
       "        vertical-align: top;\n",
       "    }\n",
       "\n",
       "    .dataframe thead th {\n",
       "        text-align: right;\n",
       "    }\n",
       "</style>\n",
       "<table border=\"1\" class=\"dataframe\">\n",
       "  <thead>\n",
       "    <tr style=\"text-align: right;\">\n",
       "      <th></th>\n",
       "      <th>id</th>\n",
       "      <th>Age</th>\n",
       "      <th>Height</th>\n",
       "      <th>Weight</th>\n",
       "      <th>family_history_with_overweight</th>\n",
       "      <th>FAVC</th>\n",
       "      <th>FCVC</th>\n",
       "      <th>NCP</th>\n",
       "      <th>SMOKE</th>\n",
       "      <th>CH2O</th>\n",
       "      <th>...</th>\n",
       "      <th>CAEC_Sometimes</th>\n",
       "      <th>CAEC_no</th>\n",
       "      <th>CALC_Frequently</th>\n",
       "      <th>CALC_Sometimes</th>\n",
       "      <th>CALC_no</th>\n",
       "      <th>MTRANS_Automobile</th>\n",
       "      <th>MTRANS_Bike</th>\n",
       "      <th>MTRANS_Motorbike</th>\n",
       "      <th>MTRANS_Public_Transportation</th>\n",
       "      <th>MTRANS_Walking</th>\n",
       "    </tr>\n",
       "  </thead>\n",
       "  <tbody>\n",
       "    <tr>\n",
       "      <th>0</th>\n",
       "      <td>0</td>\n",
       "      <td>24.443011</td>\n",
       "      <td>1.699998</td>\n",
       "      <td>81.66995</td>\n",
       "      <td>1</td>\n",
       "      <td>1</td>\n",
       "      <td>2.0</td>\n",
       "      <td>2.983297</td>\n",
       "      <td>0</td>\n",
       "      <td>2.763573</td>\n",
       "      <td>...</td>\n",
       "      <td>1</td>\n",
       "      <td>0</td>\n",
       "      <td>0</td>\n",
       "      <td>1</td>\n",
       "      <td>0</td>\n",
       "      <td>0</td>\n",
       "      <td>0</td>\n",
       "      <td>0</td>\n",
       "      <td>1</td>\n",
       "      <td>0</td>\n",
       "    </tr>\n",
       "    <tr>\n",
       "      <th>1</th>\n",
       "      <td>1</td>\n",
       "      <td>18.000000</td>\n",
       "      <td>1.560000</td>\n",
       "      <td>57.00000</td>\n",
       "      <td>1</td>\n",
       "      <td>1</td>\n",
       "      <td>2.0</td>\n",
       "      <td>3.000000</td>\n",
       "      <td>0</td>\n",
       "      <td>2.000000</td>\n",
       "      <td>...</td>\n",
       "      <td>0</td>\n",
       "      <td>0</td>\n",
       "      <td>0</td>\n",
       "      <td>0</td>\n",
       "      <td>1</td>\n",
       "      <td>1</td>\n",
       "      <td>0</td>\n",
       "      <td>0</td>\n",
       "      <td>0</td>\n",
       "      <td>0</td>\n",
       "    </tr>\n",
       "  </tbody>\n",
       "</table>\n",
       "<p>2 rows × 28 columns</p>\n",
       "</div>"
      ],
      "text/plain": [
       "   id        Age    Height    Weight  family_history_with_overweight  FAVC  \\\n",
       "0   0  24.443011  1.699998  81.66995                               1     1   \n",
       "1   1  18.000000  1.560000  57.00000                               1     1   \n",
       "\n",
       "   FCVC       NCP  SMOKE      CH2O  ...  CAEC_Sometimes  CAEC_no  \\\n",
       "0   2.0  2.983297      0  2.763573  ...               1        0   \n",
       "1   2.0  3.000000      0  2.000000  ...               0        0   \n",
       "\n",
       "   CALC_Frequently CALC_Sometimes  CALC_no  MTRANS_Automobile  MTRANS_Bike  \\\n",
       "0                0              1        0                  0            0   \n",
       "1                0              0        1                  1            0   \n",
       "\n",
       "   MTRANS_Motorbike  MTRANS_Public_Transportation  MTRANS_Walking  \n",
       "0                 0                             1               0  \n",
       "1                 0                             0               0  \n",
       "\n",
       "[2 rows x 28 columns]"
      ]
     },
     "execution_count": 16,
     "metadata": {},
     "output_type": "execute_result"
    }
   ],
   "source": [
    "df_train.head(2)"
   ]
  },
  {
   "cell_type": "code",
   "execution_count": 13,
   "id": "78603a11-df3a-4d81-9b5d-924ce76c7600",
   "metadata": {},
   "outputs": [],
   "source": [
    "changed_names = {\n",
    "    \"Obesity_Type_III\": 0,\n",
    "    \"Obesity_Type_II\": 1,\n",
    "    \"Normal_Weight\": 2,\n",
    "    \"Obesity_Type_I\": 3,\n",
    "    \"Insufficient_Weight\": 4,\n",
    "    \"Overweight_Level_II\": 5,\n",
    "    \"Overweight_Level_I\": 6,\n",
    "}"
   ]
  },
  {
   "cell_type": "code",
   "execution_count": 14,
   "id": "e68f0335-8139-4915-a068-973ed7be2244",
   "metadata": {},
   "outputs": [],
   "source": [
    "df_train[\"NObeyesdad\"].replace(changed_names.keys(), changed_names.values(), inplace=True)"
   ]
  },
  {
   "cell_type": "code",
   "execution_count": 15,
   "id": "0636f3d1-f458-4e68-8c9c-d288ab0b659e",
   "metadata": {},
   "outputs": [
    {
     "data": {
      "text/plain": [
       "dict_values([0, 1, 2, 3, 4, 5, 6])"
      ]
     },
     "execution_count": 15,
     "metadata": {},
     "output_type": "execute_result"
    }
   ],
   "source": [
    "changed_names.values()"
   ]
  },
  {
   "cell_type": "code",
   "execution_count": 16,
   "id": "63d2d0b4-90bb-413a-bfce-6cc0d5553888",
   "metadata": {},
   "outputs": [
    {
     "data": {
      "text/plain": [
       "(20758, 28)"
      ]
     },
     "execution_count": 16,
     "metadata": {},
     "output_type": "execute_result"
    }
   ],
   "source": [
    "df_train.shape"
   ]
  },
  {
   "cell_type": "markdown",
   "id": "64ecc159-c14e-49e9-9095-c95668227446",
   "metadata": {},
   "source": [
    "## Now Let's Build the neural network"
   ]
  },
  {
   "cell_type": "code",
   "execution_count": 17,
   "id": "470c61c1-c85a-41a5-ac5c-b624f29ce9bf",
   "metadata": {},
   "outputs": [],
   "source": [
    "X = df_train.drop([\"NObeyesdad\", \"id\"], axis=1)\n",
    "y = df_train[\"NObeyesdad\"]"
   ]
  },
  {
   "cell_type": "code",
   "execution_count": 18,
   "id": "a067208b-70bc-4ccf-8cd6-4a0a65c1332e",
   "metadata": {},
   "outputs": [],
   "source": [
    "from sklearn.model_selection import train_test_split\n",
    "\n",
    "X_train, X_test, y_train, y_test = train_test_split(X, y, test_size=0.2, random_state=1234)"
   ]
  },
  {
   "cell_type": "code",
   "execution_count": 19,
   "id": "1fff80ff-eac7-4ddb-af58-581f5b61aedf",
   "metadata": {},
   "outputs": [
    {
     "name": "stdout",
     "output_type": "stream",
     "text": [
      "The shape of X_train is : (16606, 26)\n",
      "The shape of X_test is : (4152, 26)\n",
      "The shape of y_train is : (16606,)\n",
      "The shape of y_test is : (4152,)\n"
     ]
    }
   ],
   "source": [
    "print(f\"The shape of X_train is : {X_train.shape}\")\n",
    "print(f\"The shape of X_test is : {X_test.shape}\")\n",
    "print(f\"The shape of y_train is : {y_train.shape}\")\n",
    "print(f\"The shape of y_test is : {y_test.shape}\")"
   ]
  },
  {
   "cell_type": "code",
   "execution_count": 20,
   "id": "3d949e32-c11e-43c5-9529-d8f747525c3a",
   "metadata": {},
   "outputs": [
    {
     "name": "stdout",
     "output_type": "stream",
     "text": [
      "WARNING:tensorflow:From C:\\Users\\abhis\\anaconda3\\Lib\\site-packages\\keras\\src\\losses.py:2976: The name tf.losses.sparse_softmax_cross_entropy is deprecated. Please use tf.compat.v1.losses.sparse_softmax_cross_entropy instead.\n",
      "\n"
     ]
    }
   ],
   "source": [
    "import tensorflow as tf\n",
    "from tensorflow.keras.models import Sequential\n",
    "from tensorflow.keras.layers import Dense\n",
    "import logging\n",
    "logging.getLogger(\"tensorflow\").setLevel(logging.ERROR)\n",
    "tf.autograph.set_verbosity(0)"
   ]
  },
  {
   "cell_type": "code",
   "execution_count": 53,
   "id": "e136ad44-8fca-44b7-bc52-b06c1baaa17a",
   "metadata": {},
   "outputs": [],
   "source": [
    "\n",
    "model = Sequential(\n",
    "    [\n",
    "        Dense(25, \"relu\", name=\"L3\"),\n",
    "        Dense(25, \"relu\", name=\"L5\"),\n",
    "        Dense(7, \"linear\", name=\"L4\")\n",
    "    ]\n",
    ")"
   ]
  },
  {
   "cell_type": "code",
   "execution_count": 49,
   "id": "517723cf-41b4-44b5-a425-789f775fd11f",
   "metadata": {},
   "outputs": [
    {
     "name": "stdout",
     "output_type": "stream",
     "text": [
      "Epoch 1/70\n",
      "519/519 [==============================] - 1s 904us/step - loss: 3.6238\n",
      "Epoch 2/70\n",
      "519/519 [==============================] - 0s 901us/step - loss: 2.0044\n",
      "Epoch 3/70\n",
      "519/519 [==============================] - 0s 890us/step - loss: 1.9459\n",
      "Epoch 4/70\n",
      "519/519 [==============================] - 0s 896us/step - loss: 1.9399\n",
      "Epoch 5/70\n",
      "519/519 [==============================] - 0s 901us/step - loss: 1.9405\n",
      "Epoch 6/70\n",
      "519/519 [==============================] - 0s 907us/step - loss: 1.9414\n",
      "Epoch 7/70\n",
      "519/519 [==============================] - 0s 897us/step - loss: 1.9408\n",
      "Epoch 8/70\n",
      "519/519 [==============================] - 0s 930us/step - loss: 1.9421\n",
      "Epoch 9/70\n",
      "228/519 [============>.................] - ETA: 0s - loss: 1.9396"
     ]
    },
    {
     "ename": "KeyboardInterrupt",
     "evalue": "",
     "output_type": "error",
     "traceback": [
      "\u001b[1;31m---------------------------------------------------------------------------\u001b[0m",
      "\u001b[1;31mKeyboardInterrupt\u001b[0m                         Traceback (most recent call last)",
      "Cell \u001b[1;32mIn[49], line 6\u001b[0m\n\u001b[0;32m      1\u001b[0m model\u001b[38;5;241m.\u001b[39mcompile(\n\u001b[0;32m      2\u001b[0m     loss\u001b[38;5;241m=\u001b[39mtf\u001b[38;5;241m.\u001b[39mkeras\u001b[38;5;241m.\u001b[39mlosses\u001b[38;5;241m.\u001b[39mSparseCategoricalCrossentropy(from_logits\u001b[38;5;241m=\u001b[39m\u001b[38;5;28;01mTrue\u001b[39;00m),\n\u001b[0;32m      3\u001b[0m     optimizer\u001b[38;5;241m=\u001b[39mtf\u001b[38;5;241m.\u001b[39mkeras\u001b[38;5;241m.\u001b[39moptimizers\u001b[38;5;241m.\u001b[39mAdam(\u001b[38;5;241m0.1\u001b[39m)\n\u001b[0;32m      4\u001b[0m )\n\u001b[1;32m----> 6\u001b[0m model\u001b[38;5;241m.\u001b[39mfit(X_train, y_train, epochs\u001b[38;5;241m=\u001b[39m\u001b[38;5;241m70\u001b[39m)\n",
      "File \u001b[1;32m~\\anaconda3\\Lib\\site-packages\\keras\\src\\utils\\traceback_utils.py:65\u001b[0m, in \u001b[0;36mfilter_traceback.<locals>.error_handler\u001b[1;34m(*args, **kwargs)\u001b[0m\n\u001b[0;32m     63\u001b[0m filtered_tb \u001b[38;5;241m=\u001b[39m \u001b[38;5;28;01mNone\u001b[39;00m\n\u001b[0;32m     64\u001b[0m \u001b[38;5;28;01mtry\u001b[39;00m:\n\u001b[1;32m---> 65\u001b[0m     \u001b[38;5;28;01mreturn\u001b[39;00m fn(\u001b[38;5;241m*\u001b[39margs, \u001b[38;5;241m*\u001b[39m\u001b[38;5;241m*\u001b[39mkwargs)\n\u001b[0;32m     66\u001b[0m \u001b[38;5;28;01mexcept\u001b[39;00m \u001b[38;5;167;01mException\u001b[39;00m \u001b[38;5;28;01mas\u001b[39;00m e:\n\u001b[0;32m     67\u001b[0m     filtered_tb \u001b[38;5;241m=\u001b[39m _process_traceback_frames(e\u001b[38;5;241m.\u001b[39m__traceback__)\n",
      "File \u001b[1;32m~\\anaconda3\\Lib\\site-packages\\keras\\src\\engine\\training.py:1807\u001b[0m, in \u001b[0;36mModel.fit\u001b[1;34m(self, x, y, batch_size, epochs, verbose, callbacks, validation_split, validation_data, shuffle, class_weight, sample_weight, initial_epoch, steps_per_epoch, validation_steps, validation_batch_size, validation_freq, max_queue_size, workers, use_multiprocessing)\u001b[0m\n\u001b[0;32m   1799\u001b[0m \u001b[38;5;28;01mwith\u001b[39;00m tf\u001b[38;5;241m.\u001b[39mprofiler\u001b[38;5;241m.\u001b[39mexperimental\u001b[38;5;241m.\u001b[39mTrace(\n\u001b[0;32m   1800\u001b[0m     \u001b[38;5;124m\"\u001b[39m\u001b[38;5;124mtrain\u001b[39m\u001b[38;5;124m\"\u001b[39m,\n\u001b[0;32m   1801\u001b[0m     epoch_num\u001b[38;5;241m=\u001b[39mepoch,\n\u001b[1;32m   (...)\u001b[0m\n\u001b[0;32m   1804\u001b[0m     _r\u001b[38;5;241m=\u001b[39m\u001b[38;5;241m1\u001b[39m,\n\u001b[0;32m   1805\u001b[0m ):\n\u001b[0;32m   1806\u001b[0m     callbacks\u001b[38;5;241m.\u001b[39mon_train_batch_begin(step)\n\u001b[1;32m-> 1807\u001b[0m     tmp_logs \u001b[38;5;241m=\u001b[39m \u001b[38;5;28mself\u001b[39m\u001b[38;5;241m.\u001b[39mtrain_function(iterator)\n\u001b[0;32m   1808\u001b[0m     \u001b[38;5;28;01mif\u001b[39;00m data_handler\u001b[38;5;241m.\u001b[39mshould_sync:\n\u001b[0;32m   1809\u001b[0m         context\u001b[38;5;241m.\u001b[39masync_wait()\n",
      "File \u001b[1;32m~\\anaconda3\\Lib\\site-packages\\tensorflow\\python\\util\\traceback_utils.py:150\u001b[0m, in \u001b[0;36mfilter_traceback.<locals>.error_handler\u001b[1;34m(*args, **kwargs)\u001b[0m\n\u001b[0;32m    148\u001b[0m filtered_tb \u001b[38;5;241m=\u001b[39m \u001b[38;5;28;01mNone\u001b[39;00m\n\u001b[0;32m    149\u001b[0m \u001b[38;5;28;01mtry\u001b[39;00m:\n\u001b[1;32m--> 150\u001b[0m   \u001b[38;5;28;01mreturn\u001b[39;00m fn(\u001b[38;5;241m*\u001b[39margs, \u001b[38;5;241m*\u001b[39m\u001b[38;5;241m*\u001b[39mkwargs)\n\u001b[0;32m    151\u001b[0m \u001b[38;5;28;01mexcept\u001b[39;00m \u001b[38;5;167;01mException\u001b[39;00m \u001b[38;5;28;01mas\u001b[39;00m e:\n\u001b[0;32m    152\u001b[0m   filtered_tb \u001b[38;5;241m=\u001b[39m _process_traceback_frames(e\u001b[38;5;241m.\u001b[39m__traceback__)\n",
      "File \u001b[1;32m~\\anaconda3\\Lib\\site-packages\\tensorflow\\python\\eager\\polymorphic_function\\polymorphic_function.py:832\u001b[0m, in \u001b[0;36mFunction.__call__\u001b[1;34m(self, *args, **kwds)\u001b[0m\n\u001b[0;32m    829\u001b[0m compiler \u001b[38;5;241m=\u001b[39m \u001b[38;5;124m\"\u001b[39m\u001b[38;5;124mxla\u001b[39m\u001b[38;5;124m\"\u001b[39m \u001b[38;5;28;01mif\u001b[39;00m \u001b[38;5;28mself\u001b[39m\u001b[38;5;241m.\u001b[39m_jit_compile \u001b[38;5;28;01melse\u001b[39;00m \u001b[38;5;124m\"\u001b[39m\u001b[38;5;124mnonXla\u001b[39m\u001b[38;5;124m\"\u001b[39m\n\u001b[0;32m    831\u001b[0m \u001b[38;5;28;01mwith\u001b[39;00m OptionalXlaContext(\u001b[38;5;28mself\u001b[39m\u001b[38;5;241m.\u001b[39m_jit_compile):\n\u001b[1;32m--> 832\u001b[0m   result \u001b[38;5;241m=\u001b[39m \u001b[38;5;28mself\u001b[39m\u001b[38;5;241m.\u001b[39m_call(\u001b[38;5;241m*\u001b[39margs, \u001b[38;5;241m*\u001b[39m\u001b[38;5;241m*\u001b[39mkwds)\n\u001b[0;32m    834\u001b[0m new_tracing_count \u001b[38;5;241m=\u001b[39m \u001b[38;5;28mself\u001b[39m\u001b[38;5;241m.\u001b[39mexperimental_get_tracing_count()\n\u001b[0;32m    835\u001b[0m without_tracing \u001b[38;5;241m=\u001b[39m (tracing_count \u001b[38;5;241m==\u001b[39m new_tracing_count)\n",
      "File \u001b[1;32m~\\anaconda3\\Lib\\site-packages\\tensorflow\\python\\eager\\polymorphic_function\\polymorphic_function.py:868\u001b[0m, in \u001b[0;36mFunction._call\u001b[1;34m(self, *args, **kwds)\u001b[0m\n\u001b[0;32m    865\u001b[0m   \u001b[38;5;28mself\u001b[39m\u001b[38;5;241m.\u001b[39m_lock\u001b[38;5;241m.\u001b[39mrelease()\n\u001b[0;32m    866\u001b[0m   \u001b[38;5;66;03m# In this case we have created variables on the first call, so we run the\u001b[39;00m\n\u001b[0;32m    867\u001b[0m   \u001b[38;5;66;03m# defunned version which is guaranteed to never create variables.\u001b[39;00m\n\u001b[1;32m--> 868\u001b[0m   \u001b[38;5;28;01mreturn\u001b[39;00m tracing_compilation\u001b[38;5;241m.\u001b[39mcall_function(\n\u001b[0;32m    869\u001b[0m       args, kwds, \u001b[38;5;28mself\u001b[39m\u001b[38;5;241m.\u001b[39m_no_variable_creation_config\n\u001b[0;32m    870\u001b[0m   )\n\u001b[0;32m    871\u001b[0m \u001b[38;5;28;01melif\u001b[39;00m \u001b[38;5;28mself\u001b[39m\u001b[38;5;241m.\u001b[39m_variable_creation_config \u001b[38;5;129;01mis\u001b[39;00m \u001b[38;5;129;01mnot\u001b[39;00m \u001b[38;5;28;01mNone\u001b[39;00m:\n\u001b[0;32m    872\u001b[0m   \u001b[38;5;66;03m# Release the lock early so that multiple threads can perform the call\u001b[39;00m\n\u001b[0;32m    873\u001b[0m   \u001b[38;5;66;03m# in parallel.\u001b[39;00m\n\u001b[0;32m    874\u001b[0m   \u001b[38;5;28mself\u001b[39m\u001b[38;5;241m.\u001b[39m_lock\u001b[38;5;241m.\u001b[39mrelease()\n",
      "File \u001b[1;32m~\\anaconda3\\Lib\\site-packages\\tensorflow\\python\\eager\\polymorphic_function\\tracing_compilation.py:139\u001b[0m, in \u001b[0;36mcall_function\u001b[1;34m(args, kwargs, tracing_options)\u001b[0m\n\u001b[0;32m    137\u001b[0m bound_args \u001b[38;5;241m=\u001b[39m function\u001b[38;5;241m.\u001b[39mfunction_type\u001b[38;5;241m.\u001b[39mbind(\u001b[38;5;241m*\u001b[39margs, \u001b[38;5;241m*\u001b[39m\u001b[38;5;241m*\u001b[39mkwargs)\n\u001b[0;32m    138\u001b[0m flat_inputs \u001b[38;5;241m=\u001b[39m function\u001b[38;5;241m.\u001b[39mfunction_type\u001b[38;5;241m.\u001b[39munpack_inputs(bound_args)\n\u001b[1;32m--> 139\u001b[0m \u001b[38;5;28;01mreturn\u001b[39;00m function\u001b[38;5;241m.\u001b[39m_call_flat(  \u001b[38;5;66;03m# pylint: disable=protected-access\u001b[39;00m\n\u001b[0;32m    140\u001b[0m     flat_inputs, captured_inputs\u001b[38;5;241m=\u001b[39mfunction\u001b[38;5;241m.\u001b[39mcaptured_inputs\n\u001b[0;32m    141\u001b[0m )\n",
      "File \u001b[1;32m~\\anaconda3\\Lib\\site-packages\\tensorflow\\python\\eager\\polymorphic_function\\concrete_function.py:1323\u001b[0m, in \u001b[0;36mConcreteFunction._call_flat\u001b[1;34m(self, tensor_inputs, captured_inputs)\u001b[0m\n\u001b[0;32m   1319\u001b[0m possible_gradient_type \u001b[38;5;241m=\u001b[39m gradients_util\u001b[38;5;241m.\u001b[39mPossibleTapeGradientTypes(args)\n\u001b[0;32m   1320\u001b[0m \u001b[38;5;28;01mif\u001b[39;00m (possible_gradient_type \u001b[38;5;241m==\u001b[39m gradients_util\u001b[38;5;241m.\u001b[39mPOSSIBLE_GRADIENT_TYPES_NONE\n\u001b[0;32m   1321\u001b[0m     \u001b[38;5;129;01mand\u001b[39;00m executing_eagerly):\n\u001b[0;32m   1322\u001b[0m   \u001b[38;5;66;03m# No tape is watching; skip to running the function.\u001b[39;00m\n\u001b[1;32m-> 1323\u001b[0m   \u001b[38;5;28;01mreturn\u001b[39;00m \u001b[38;5;28mself\u001b[39m\u001b[38;5;241m.\u001b[39m_inference_function\u001b[38;5;241m.\u001b[39mcall_preflattened(args)\n\u001b[0;32m   1324\u001b[0m forward_backward \u001b[38;5;241m=\u001b[39m \u001b[38;5;28mself\u001b[39m\u001b[38;5;241m.\u001b[39m_select_forward_and_backward_functions(\n\u001b[0;32m   1325\u001b[0m     args,\n\u001b[0;32m   1326\u001b[0m     possible_gradient_type,\n\u001b[0;32m   1327\u001b[0m     executing_eagerly)\n\u001b[0;32m   1328\u001b[0m forward_function, args_with_tangents \u001b[38;5;241m=\u001b[39m forward_backward\u001b[38;5;241m.\u001b[39mforward()\n",
      "File \u001b[1;32m~\\anaconda3\\Lib\\site-packages\\tensorflow\\python\\eager\\polymorphic_function\\atomic_function.py:216\u001b[0m, in \u001b[0;36mAtomicFunction.call_preflattened\u001b[1;34m(self, args)\u001b[0m\n\u001b[0;32m    214\u001b[0m \u001b[38;5;28;01mdef\u001b[39;00m \u001b[38;5;21mcall_preflattened\u001b[39m(\u001b[38;5;28mself\u001b[39m, args: Sequence[core\u001b[38;5;241m.\u001b[39mTensor]) \u001b[38;5;241m-\u001b[39m\u001b[38;5;241m>\u001b[39m Any:\n\u001b[0;32m    215\u001b[0m \u001b[38;5;250m  \u001b[39m\u001b[38;5;124;03m\"\"\"Calls with flattened tensor inputs and returns the structured output.\"\"\"\u001b[39;00m\n\u001b[1;32m--> 216\u001b[0m   flat_outputs \u001b[38;5;241m=\u001b[39m \u001b[38;5;28mself\u001b[39m\u001b[38;5;241m.\u001b[39mcall_flat(\u001b[38;5;241m*\u001b[39margs)\n\u001b[0;32m    217\u001b[0m   \u001b[38;5;28;01mreturn\u001b[39;00m \u001b[38;5;28mself\u001b[39m\u001b[38;5;241m.\u001b[39mfunction_type\u001b[38;5;241m.\u001b[39mpack_output(flat_outputs)\n",
      "File \u001b[1;32m~\\anaconda3\\Lib\\site-packages\\tensorflow\\python\\eager\\polymorphic_function\\atomic_function.py:251\u001b[0m, in \u001b[0;36mAtomicFunction.call_flat\u001b[1;34m(self, *args)\u001b[0m\n\u001b[0;32m    249\u001b[0m \u001b[38;5;28;01mwith\u001b[39;00m record\u001b[38;5;241m.\u001b[39mstop_recording():\n\u001b[0;32m    250\u001b[0m   \u001b[38;5;28;01mif\u001b[39;00m \u001b[38;5;28mself\u001b[39m\u001b[38;5;241m.\u001b[39m_bound_context\u001b[38;5;241m.\u001b[39mexecuting_eagerly():\n\u001b[1;32m--> 251\u001b[0m     outputs \u001b[38;5;241m=\u001b[39m \u001b[38;5;28mself\u001b[39m\u001b[38;5;241m.\u001b[39m_bound_context\u001b[38;5;241m.\u001b[39mcall_function(\n\u001b[0;32m    252\u001b[0m         \u001b[38;5;28mself\u001b[39m\u001b[38;5;241m.\u001b[39mname,\n\u001b[0;32m    253\u001b[0m         \u001b[38;5;28mlist\u001b[39m(args),\n\u001b[0;32m    254\u001b[0m         \u001b[38;5;28mlen\u001b[39m(\u001b[38;5;28mself\u001b[39m\u001b[38;5;241m.\u001b[39mfunction_type\u001b[38;5;241m.\u001b[39mflat_outputs),\n\u001b[0;32m    255\u001b[0m     )\n\u001b[0;32m    256\u001b[0m   \u001b[38;5;28;01melse\u001b[39;00m:\n\u001b[0;32m    257\u001b[0m     outputs \u001b[38;5;241m=\u001b[39m make_call_op_in_graph(\n\u001b[0;32m    258\u001b[0m         \u001b[38;5;28mself\u001b[39m,\n\u001b[0;32m    259\u001b[0m         \u001b[38;5;28mlist\u001b[39m(args),\n\u001b[0;32m    260\u001b[0m         \u001b[38;5;28mself\u001b[39m\u001b[38;5;241m.\u001b[39m_bound_context\u001b[38;5;241m.\u001b[39mfunction_call_options\u001b[38;5;241m.\u001b[39mas_attrs(),\n\u001b[0;32m    261\u001b[0m     )\n",
      "File \u001b[1;32m~\\anaconda3\\Lib\\site-packages\\tensorflow\\python\\eager\\context.py:1486\u001b[0m, in \u001b[0;36mContext.call_function\u001b[1;34m(self, name, tensor_inputs, num_outputs)\u001b[0m\n\u001b[0;32m   1484\u001b[0m cancellation_context \u001b[38;5;241m=\u001b[39m cancellation\u001b[38;5;241m.\u001b[39mcontext()\n\u001b[0;32m   1485\u001b[0m \u001b[38;5;28;01mif\u001b[39;00m cancellation_context \u001b[38;5;129;01mis\u001b[39;00m \u001b[38;5;28;01mNone\u001b[39;00m:\n\u001b[1;32m-> 1486\u001b[0m   outputs \u001b[38;5;241m=\u001b[39m execute\u001b[38;5;241m.\u001b[39mexecute(\n\u001b[0;32m   1487\u001b[0m       name\u001b[38;5;241m.\u001b[39mdecode(\u001b[38;5;124m\"\u001b[39m\u001b[38;5;124mutf-8\u001b[39m\u001b[38;5;124m\"\u001b[39m),\n\u001b[0;32m   1488\u001b[0m       num_outputs\u001b[38;5;241m=\u001b[39mnum_outputs,\n\u001b[0;32m   1489\u001b[0m       inputs\u001b[38;5;241m=\u001b[39mtensor_inputs,\n\u001b[0;32m   1490\u001b[0m       attrs\u001b[38;5;241m=\u001b[39mattrs,\n\u001b[0;32m   1491\u001b[0m       ctx\u001b[38;5;241m=\u001b[39m\u001b[38;5;28mself\u001b[39m,\n\u001b[0;32m   1492\u001b[0m   )\n\u001b[0;32m   1493\u001b[0m \u001b[38;5;28;01melse\u001b[39;00m:\n\u001b[0;32m   1494\u001b[0m   outputs \u001b[38;5;241m=\u001b[39m execute\u001b[38;5;241m.\u001b[39mexecute_with_cancellation(\n\u001b[0;32m   1495\u001b[0m       name\u001b[38;5;241m.\u001b[39mdecode(\u001b[38;5;124m\"\u001b[39m\u001b[38;5;124mutf-8\u001b[39m\u001b[38;5;124m\"\u001b[39m),\n\u001b[0;32m   1496\u001b[0m       num_outputs\u001b[38;5;241m=\u001b[39mnum_outputs,\n\u001b[1;32m   (...)\u001b[0m\n\u001b[0;32m   1500\u001b[0m       cancellation_manager\u001b[38;5;241m=\u001b[39mcancellation_context,\n\u001b[0;32m   1501\u001b[0m   )\n",
      "File \u001b[1;32m~\\anaconda3\\Lib\\site-packages\\tensorflow\\python\\eager\\execute.py:53\u001b[0m, in \u001b[0;36mquick_execute\u001b[1;34m(op_name, num_outputs, inputs, attrs, ctx, name)\u001b[0m\n\u001b[0;32m     51\u001b[0m \u001b[38;5;28;01mtry\u001b[39;00m:\n\u001b[0;32m     52\u001b[0m   ctx\u001b[38;5;241m.\u001b[39mensure_initialized()\n\u001b[1;32m---> 53\u001b[0m   tensors \u001b[38;5;241m=\u001b[39m pywrap_tfe\u001b[38;5;241m.\u001b[39mTFE_Py_Execute(ctx\u001b[38;5;241m.\u001b[39m_handle, device_name, op_name,\n\u001b[0;32m     54\u001b[0m                                       inputs, attrs, num_outputs)\n\u001b[0;32m     55\u001b[0m \u001b[38;5;28;01mexcept\u001b[39;00m core\u001b[38;5;241m.\u001b[39m_NotOkStatusException \u001b[38;5;28;01mas\u001b[39;00m e:\n\u001b[0;32m     56\u001b[0m   \u001b[38;5;28;01mif\u001b[39;00m name \u001b[38;5;129;01mis\u001b[39;00m \u001b[38;5;129;01mnot\u001b[39;00m \u001b[38;5;28;01mNone\u001b[39;00m:\n",
      "\u001b[1;31mKeyboardInterrupt\u001b[0m: "
     ]
    }
   ],
   "source": [
    "model.compile(\n",
    "    loss=tf.keras.losses.SparseCategoricalCrossentropy(from_logits=True),\n",
    "    optimizer=tf.keras.optimizers.Adam(0.1)\n",
    ")\n",
    "\n",
    "model.fit(X_train, y_train, epochs=70)"
   ]
  },
  {
   "cell_type": "code",
   "execution_count": 23,
   "id": "5d34c46e-b266-4fe7-83bf-6476361301c7",
   "metadata": {},
   "outputs": [
    {
     "name": "stdout",
     "output_type": "stream",
     "text": [
      "519/519 [==============================] - 0s 747us/step\n",
      "130/130 [==============================] - 0s 768us/step\n",
      "The rsquared for training dataset is: 0.7835047230392291\n",
      "The rsquard for testing dataset is: 0.783305152725852\n"
     ]
    }
   ],
   "source": [
    "pred_y_train = np.argmax(tf.nn.softmax(model.predict(X_train)).numpy(),axis=1)\n",
    "pred_y_test = np.argmax(tf.nn.softmax(model.predict(X_test)).numpy(),axis=1)\n",
    "\n",
    "# pred_y = X_norm @ w + b\n",
    "e1= np.sum((y_train - pred_y_train) ** 2)\n",
    "e2 = np.sum((y_train - np.mean(y_train)) ** 2)\n",
    "r_squred = 1 - (e1 / e2)\n",
    "print(f\"The rsquared for training dataset is: {r_squred}\")\n",
    "\n",
    "e1= np.sum((y_test - pred_y_test) ** 2)\n",
    "e2 = np.sum((y_test - np.mean(y_test)) ** 2)\n",
    "r_squred = 1 - (e1 / e2)\n",
    "print(f\"The rsquard for testing dataset is: {r_squred}\")"
   ]
  },
  {
   "cell_type": "markdown",
   "id": "44d4954f-5f08-4a30-9c09-d8abbc4b29d4",
   "metadata": {},
   "source": [
    "## Let's try running the model by normalizing the features"
   ]
  },
  {
   "cell_type": "code",
   "execution_count": 29,
   "id": "9806ad6e-144c-40bf-8d2b-3599f3e132db",
   "metadata": {},
   "outputs": [],
   "source": [
    "X_norm = (X - X.mean()) / X.std()"
   ]
  },
  {
   "cell_type": "code",
   "execution_count": 30,
   "id": "79d462a7-1b49-44ac-8ce6-1ece4a8193db",
   "metadata": {},
   "outputs": [],
   "source": [
    "X_norm_train, X_norm_test, y_norm_train, y_norm_test = train_test_split(X_norm, y, test_size=0.2, random_state=1234)"
   ]
  },
  {
   "cell_type": "code",
   "execution_count": 54,
   "id": "83f5f7a9-1eab-411f-b797-bf3357841eed",
   "metadata": {},
   "outputs": [
    {
     "name": "stdout",
     "output_type": "stream",
     "text": [
      "Epoch 1/100\n",
      "519/519 [==============================] - 1s 872us/step - loss: 0.6019\n",
      "Epoch 2/100\n",
      "519/519 [==============================] - 0s 875us/step - loss: 0.4472\n",
      "Epoch 3/100\n",
      "519/519 [==============================] - 0s 860us/step - loss: 0.4260\n",
      "Epoch 4/100\n",
      "519/519 [==============================] - 0s 865us/step - loss: 0.4090\n",
      "Epoch 5/100\n",
      "519/519 [==============================] - 0s 870us/step - loss: 0.4010\n",
      "Epoch 6/100\n",
      "519/519 [==============================] - 0s 863us/step - loss: 0.3973\n",
      "Epoch 7/100\n",
      "519/519 [==============================] - 0s 886us/step - loss: 0.3946\n",
      "Epoch 8/100\n",
      "519/519 [==============================] - 0s 865us/step - loss: 0.3882\n",
      "Epoch 9/100\n",
      "519/519 [==============================] - 0s 861us/step - loss: 0.3856\n",
      "Epoch 10/100\n",
      "519/519 [==============================] - 0s 884us/step - loss: 0.3795\n",
      "Epoch 11/100\n",
      "519/519 [==============================] - 0s 871us/step - loss: 0.3828\n",
      "Epoch 12/100\n",
      "519/519 [==============================] - 0s 873us/step - loss: 0.3711\n",
      "Epoch 13/100\n",
      "519/519 [==============================] - 0s 867us/step - loss: 0.3691\n",
      "Epoch 14/100\n",
      "519/519 [==============================] - 0s 866us/step - loss: 0.3725\n",
      "Epoch 15/100\n",
      "519/519 [==============================] - 0s 869us/step - loss: 0.3675\n",
      "Epoch 16/100\n",
      "519/519 [==============================] - 0s 865us/step - loss: 0.3640\n",
      "Epoch 17/100\n",
      "519/519 [==============================] - 0s 861us/step - loss: 0.3664\n",
      "Epoch 18/100\n",
      "519/519 [==============================] - 0s 861us/step - loss: 0.3593\n",
      "Epoch 19/100\n",
      "519/519 [==============================] - 0s 875us/step - loss: 0.3588\n",
      "Epoch 20/100\n",
      "519/519 [==============================] - 0s 867us/step - loss: 0.3607\n",
      "Epoch 21/100\n",
      "519/519 [==============================] - 0s 878us/step - loss: 0.3569\n",
      "Epoch 22/100\n",
      "519/519 [==============================] - 0s 870us/step - loss: 0.3577\n",
      "Epoch 23/100\n",
      "519/519 [==============================] - 0s 863us/step - loss: 0.3517\n",
      "Epoch 24/100\n",
      "519/519 [==============================] - 0s 868us/step - loss: 0.3535\n",
      "Epoch 25/100\n",
      "519/519 [==============================] - 0s 867us/step - loss: 0.3546\n",
      "Epoch 26/100\n",
      "519/519 [==============================] - 0s 866us/step - loss: 0.3543\n",
      "Epoch 27/100\n",
      "519/519 [==============================] - 0s 872us/step - loss: 0.3487\n",
      "Epoch 28/100\n",
      "519/519 [==============================] - 0s 862us/step - loss: 0.3505\n",
      "Epoch 29/100\n",
      "519/519 [==============================] - 0s 886us/step - loss: 0.3501\n",
      "Epoch 30/100\n",
      "519/519 [==============================] - 0s 882us/step - loss: 0.3474\n",
      "Epoch 31/100\n",
      "519/519 [==============================] - 0s 926us/step - loss: 0.3477\n",
      "Epoch 32/100\n",
      "519/519 [==============================] - 0s 904us/step - loss: 0.3463\n",
      "Epoch 33/100\n",
      "519/519 [==============================] - 0s 878us/step - loss: 0.3517\n",
      "Epoch 34/100\n",
      "519/519 [==============================] - 0s 881us/step - loss: 0.3444\n",
      "Epoch 35/100\n",
      "519/519 [==============================] - 0s 873us/step - loss: 0.3461\n",
      "Epoch 36/100\n",
      "519/519 [==============================] - 0s 889us/step - loss: 0.3458\n",
      "Epoch 37/100\n",
      "519/519 [==============================] - 0s 873us/step - loss: 0.3465\n",
      "Epoch 38/100\n",
      "519/519 [==============================] - 0s 872us/step - loss: 0.3487\n",
      "Epoch 39/100\n",
      "519/519 [==============================] - 0s 866us/step - loss: 0.3457\n",
      "Epoch 40/100\n",
      "519/519 [==============================] - 0s 875us/step - loss: 0.3410\n",
      "Epoch 41/100\n",
      "519/519 [==============================] - 0s 877us/step - loss: 0.3473\n",
      "Epoch 42/100\n",
      "519/519 [==============================] - 0s 873us/step - loss: 0.3370\n",
      "Epoch 43/100\n",
      "519/519 [==============================] - 0s 893us/step - loss: 0.3414\n",
      "Epoch 44/100\n",
      "519/519 [==============================] - 0s 878us/step - loss: 0.3388\n",
      "Epoch 45/100\n",
      "519/519 [==============================] - 0s 883us/step - loss: 0.3407\n",
      "Epoch 46/100\n",
      "519/519 [==============================] - 0s 884us/step - loss: 0.3367\n",
      "Epoch 47/100\n",
      "519/519 [==============================] - 0s 884us/step - loss: 0.3402\n",
      "Epoch 48/100\n",
      "519/519 [==============================] - 0s 897us/step - loss: 0.3355\n",
      "Epoch 49/100\n",
      "519/519 [==============================] - 0s 887us/step - loss: 0.3402\n",
      "Epoch 50/100\n",
      "519/519 [==============================] - 0s 881us/step - loss: 0.3414\n",
      "Epoch 51/100\n",
      "519/519 [==============================] - 0s 898us/step - loss: 0.3372\n",
      "Epoch 52/100\n",
      "519/519 [==============================] - 0s 892us/step - loss: 0.3402\n",
      "Epoch 53/100\n",
      "519/519 [==============================] - 0s 897us/step - loss: 0.3381\n",
      "Epoch 54/100\n",
      "519/519 [==============================] - 0s 871us/step - loss: 0.3364\n",
      "Epoch 55/100\n",
      "519/519 [==============================] - 0s 867us/step - loss: 0.3369\n",
      "Epoch 56/100\n",
      "519/519 [==============================] - 0s 888us/step - loss: 0.3384\n",
      "Epoch 57/100\n",
      "519/519 [==============================] - 0s 888us/step - loss: 0.3355\n",
      "Epoch 58/100\n",
      "519/519 [==============================] - 0s 884us/step - loss: 0.3368\n",
      "Epoch 59/100\n",
      "519/519 [==============================] - 0s 897us/step - loss: 0.3381\n",
      "Epoch 60/100\n",
      "519/519 [==============================] - 0s 896us/step - loss: 0.3344\n",
      "Epoch 61/100\n",
      "519/519 [==============================] - 0s 898us/step - loss: 0.3356\n",
      "Epoch 62/100\n",
      "519/519 [==============================] - 0s 898us/step - loss: 0.3417\n",
      "Epoch 63/100\n",
      "519/519 [==============================] - 0s 892us/step - loss: 0.3367\n",
      "Epoch 64/100\n",
      "519/519 [==============================] - 0s 888us/step - loss: 0.3377\n",
      "Epoch 65/100\n",
      "519/519 [==============================] - 0s 902us/step - loss: 0.3356\n",
      "Epoch 66/100\n",
      "519/519 [==============================] - 0s 917us/step - loss: 0.3376\n",
      "Epoch 67/100\n",
      "519/519 [==============================] - 0s 887us/step - loss: 0.3355\n",
      "Epoch 68/100\n",
      "519/519 [==============================] - 0s 870us/step - loss: 0.3327\n",
      "Epoch 69/100\n",
      "519/519 [==============================] - 0s 882us/step - loss: 0.3311\n",
      "Epoch 70/100\n",
      "519/519 [==============================] - 0s 890us/step - loss: 0.3308\n",
      "Epoch 71/100\n",
      "519/519 [==============================] - 0s 882us/step - loss: 0.3335\n",
      "Epoch 72/100\n",
      "519/519 [==============================] - 0s 875us/step - loss: 0.3339\n",
      "Epoch 73/100\n",
      "519/519 [==============================] - 0s 886us/step - loss: 0.3400\n",
      "Epoch 74/100\n",
      "519/519 [==============================] - 0s 879us/step - loss: 0.3384\n",
      "Epoch 75/100\n",
      "519/519 [==============================] - 0s 889us/step - loss: 0.3309\n",
      "Epoch 76/100\n",
      "519/519 [==============================] - 0s 888us/step - loss: 0.3339\n",
      "Epoch 77/100\n",
      "519/519 [==============================] - 0s 888us/step - loss: 0.3313\n",
      "Epoch 78/100\n",
      "519/519 [==============================] - 0s 881us/step - loss: 0.3309\n",
      "Epoch 79/100\n",
      "519/519 [==============================] - 0s 882us/step - loss: 0.3297\n",
      "Epoch 80/100\n",
      "519/519 [==============================] - 0s 876us/step - loss: 0.3335\n",
      "Epoch 81/100\n",
      "519/519 [==============================] - 0s 884us/step - loss: 0.3336\n",
      "Epoch 82/100\n",
      "519/519 [==============================] - 0s 929us/step - loss: 0.3328\n",
      "Epoch 83/100\n",
      "519/519 [==============================] - 0s 882us/step - loss: 0.3307\n",
      "Epoch 84/100\n",
      "519/519 [==============================] - 0s 891us/step - loss: 0.3370\n",
      "Epoch 85/100\n",
      "519/519 [==============================] - 0s 882us/step - loss: 0.3354\n",
      "Epoch 86/100\n",
      "519/519 [==============================] - 0s 883us/step - loss: 0.3310\n",
      "Epoch 87/100\n",
      "519/519 [==============================] - 0s 887us/step - loss: 0.3303\n",
      "Epoch 88/100\n",
      "519/519 [==============================] - 0s 896us/step - loss: 0.3290\n",
      "Epoch 89/100\n",
      "519/519 [==============================] - 0s 893us/step - loss: 0.3281\n",
      "Epoch 90/100\n",
      "519/519 [==============================] - 0s 887us/step - loss: 0.3281\n",
      "Epoch 91/100\n",
      "519/519 [==============================] - 0s 893us/step - loss: 0.3297\n",
      "Epoch 92/100\n",
      "519/519 [==============================] - 0s 877us/step - loss: 0.3287\n",
      "Epoch 93/100\n",
      "519/519 [==============================] - 0s 893us/step - loss: 0.3328\n",
      "Epoch 94/100\n",
      "519/519 [==============================] - 0s 887us/step - loss: 0.3260\n",
      "Epoch 95/100\n",
      "519/519 [==============================] - 0s 893us/step - loss: 0.3367\n",
      "Epoch 96/100\n",
      "519/519 [==============================] - 0s 904us/step - loss: 0.3305\n",
      "Epoch 97/100\n",
      "519/519 [==============================] - 0s 891us/step - loss: 0.3312\n",
      "Epoch 98/100\n",
      "519/519 [==============================] - 0s 876us/step - loss: 0.3310\n",
      "Epoch 99/100\n",
      "519/519 [==============================] - 0s 878us/step - loss: 0.3290\n",
      "Epoch 100/100\n",
      "519/519 [==============================] - 0s 885us/step - loss: 0.3302\n"
     ]
    },
    {
     "data": {
      "text/plain": [
       "<keras.src.callbacks.History at 0x14d24d3e690>"
      ]
     },
     "execution_count": 54,
     "metadata": {},
     "output_type": "execute_result"
    }
   ],
   "source": [
    "model.compile(\n",
    "    loss=tf.keras.losses.SparseCategoricalCrossentropy(from_logits=True),\n",
    "    optimizer=tf.keras.optimizers.Adam(0.01)\n",
    ")\n",
    "\n",
    "model.fit(X_norm_train, y_norm_train, epochs=100)"
   ]
  },
  {
   "cell_type": "code",
   "execution_count": 55,
   "id": "cd89615c-cfb8-443c-8ca1-e3dd073b0734",
   "metadata": {},
   "outputs": [
    {
     "name": "stdout",
     "output_type": "stream",
     "text": [
      "519/519 [==============================] - 0s 752us/step\n",
      "130/130 [==============================] - 0s 754us/step\n",
      "The rsquared for training dataset is: 0.8307131322697995\n",
      "The rsquard for testing dataset is: 0.8116610212706112\n"
     ]
    }
   ],
   "source": [
    "pred_y_train = np.argmax(tf.nn.softmax(model.predict(X_norm_train)).numpy(),axis=1)\n",
    "pred_y_test = np.argmax(tf.nn.softmax(model.predict(X_norm_test)).numpy(),axis=1)\n",
    "\n",
    "# pred_y = X_norm @ w + b\n",
    "e1= np.sum((y_norm_train - pred_y_train) ** 2)\n",
    "e2 = np.sum((y_norm_train - np.mean(y_norm_train)) ** 2)\n",
    "r_squred = 1 - (e1 / e2)\n",
    "print(f\"The rsquared for training dataset is: {r_squred}\")\n",
    "\n",
    "e1= np.sum((y_norm_test - pred_y_test) ** 2)\n",
    "e2 = np.sum((y_norm_test - np.mean(y_norm_test)) ** 2)\n",
    "r_squred = 1 - (e1 / e2)\n",
    "print(f\"The rsquard for testing dataset is: {r_squred}\")"
   ]
  },
  {
   "cell_type": "code",
   "execution_count": 56,
   "id": "d62a5c1d-1f73-43ba-b6aa-1d89f9608e25",
   "metadata": {},
   "outputs": [],
   "source": [
    "df_test = pd.read_csv(\"test.csv/test.csv\")"
   ]
  },
  {
   "cell_type": "code",
   "execution_count": 57,
   "id": "7a0dedf0-fbdc-47b1-bfac-f8045e45a656",
   "metadata": {},
   "outputs": [
    {
     "data": {
      "text/plain": [
       "(13840, 17)"
      ]
     },
     "execution_count": 57,
     "metadata": {},
     "output_type": "execute_result"
    }
   ],
   "source": [
    "df_test.shape"
   ]
  },
  {
   "cell_type": "code",
   "execution_count": 58,
   "id": "092a7fdf-8c63-4c5f-ac74-78c2e194f193",
   "metadata": {},
   "outputs": [
    {
     "data": {
      "text/plain": [
       "Index(['id', 'Gender', 'Age', 'Height', 'Weight',\n",
       "       'family_history_with_overweight', 'FAVC', 'FCVC', 'NCP', 'CAEC',\n",
       "       'SMOKE', 'CH2O', 'SCC', 'FAF', 'TUE', 'CALC', 'MTRANS'],\n",
       "      dtype='object')"
      ]
     },
     "execution_count": 58,
     "metadata": {},
     "output_type": "execute_result"
    }
   ],
   "source": [
    "df_test.columns"
   ]
  },
  {
   "cell_type": "code",
   "execution_count": 59,
   "id": "8796eee6-3bd7-4053-8f2f-652e30a6e793",
   "metadata": {},
   "outputs": [],
   "source": [
    "df_test[\"family_history_with_overweight\"].replace([\"yes\", \"no\"], [1, 0], inplace=True)\n",
    "df_test[\"FAVC\"].replace([\"yes\", \"no\"], [1, 0], inplace=True)\n",
    "df_test[\"SMOKE\"].replace([\"yes\", \"no\"], [1, 0], inplace=True)\n",
    "df_test[\"SCC\"].replace([\"yes\", \"no\"], [1, 0], inplace=True)\n",
    "df_test = pd.get_dummies(df_test ,prefix=['Gender', 'CAEC', 'CALC', 'MTRANS'], columns = ['Gender', 'CAEC', 'CALC', 'MTRANS'], drop_first=False, dtype=np.int64)"
   ]
  },
  {
   "cell_type": "code",
   "execution_count": 60,
   "id": "de060c39-f8c9-45a1-b995-03bdf23d3583",
   "metadata": {},
   "outputs": [
    {
     "name": "stdout",
     "output_type": "stream",
     "text": [
      "<class 'pandas.core.frame.DataFrame'>\n",
      "RangeIndex: 13840 entries, 0 to 13839\n",
      "Data columns (total 28 columns):\n",
      " #   Column                          Non-Null Count  Dtype  \n",
      "---  ------                          --------------  -----  \n",
      " 0   id                              13840 non-null  int64  \n",
      " 1   Age                             13840 non-null  float64\n",
      " 2   Height                          13840 non-null  float64\n",
      " 3   Weight                          13840 non-null  float64\n",
      " 4   family_history_with_overweight  13840 non-null  int64  \n",
      " 5   FAVC                            13840 non-null  int64  \n",
      " 6   FCVC                            13840 non-null  float64\n",
      " 7   NCP                             13840 non-null  float64\n",
      " 8   SMOKE                           13840 non-null  int64  \n",
      " 9   CH2O                            13840 non-null  float64\n",
      " 10  SCC                             13840 non-null  int64  \n",
      " 11  FAF                             13840 non-null  float64\n",
      " 12  TUE                             13840 non-null  float64\n",
      " 13  Gender_Female                   13840 non-null  int64  \n",
      " 14  Gender_Male                     13840 non-null  int64  \n",
      " 15  CAEC_Always                     13840 non-null  int64  \n",
      " 16  CAEC_Frequently                 13840 non-null  int64  \n",
      " 17  CAEC_Sometimes                  13840 non-null  int64  \n",
      " 18  CAEC_no                         13840 non-null  int64  \n",
      " 19  CALC_Always                     13840 non-null  int64  \n",
      " 20  CALC_Frequently                 13840 non-null  int64  \n",
      " 21  CALC_Sometimes                  13840 non-null  int64  \n",
      " 22  CALC_no                         13840 non-null  int64  \n",
      " 23  MTRANS_Automobile               13840 non-null  int64  \n",
      " 24  MTRANS_Bike                     13840 non-null  int64  \n",
      " 25  MTRANS_Motorbike                13840 non-null  int64  \n",
      " 26  MTRANS_Public_Transportation    13840 non-null  int64  \n",
      " 27  MTRANS_Walking                  13840 non-null  int64  \n",
      "dtypes: float64(8), int64(20)\n",
      "memory usage: 3.0 MB\n"
     ]
    }
   ],
   "source": [
    "df_test.info()"
   ]
  },
  {
   "cell_type": "code",
   "execution_count": 61,
   "id": "f9b85919-8a0b-4fb7-ad0e-de90f9bcd36a",
   "metadata": {},
   "outputs": [],
   "source": [
    "X_test = df_test.drop([\"id\", \"CALC_Always\"], axis=1)"
   ]
  },
  {
   "cell_type": "code",
   "execution_count": 62,
   "id": "fe241f39-62cc-4380-bafd-09411d4e856a",
   "metadata": {},
   "outputs": [
    {
     "data": {
      "text/plain": [
       "(13840, 26)"
      ]
     },
     "execution_count": 62,
     "metadata": {},
     "output_type": "execute_result"
    }
   ],
   "source": [
    "X_test.shape"
   ]
  },
  {
   "cell_type": "code",
   "execution_count": 63,
   "id": "890824af-21af-4fc3-96b8-e63b5dd263bc",
   "metadata": {},
   "outputs": [],
   "source": [
    "X_test_norm = (X_test - X_test.mean()) / X_test.std()"
   ]
  },
  {
   "cell_type": "code",
   "execution_count": 64,
   "id": "379e3787-92a7-43a9-972a-210283958e0e",
   "metadata": {},
   "outputs": [
    {
     "name": "stdout",
     "output_type": "stream",
     "text": [
      "433/433 [==============================] - 0s 745us/step\n"
     ]
    }
   ],
   "source": [
    "pred_y_test = np.argmax(tf.nn.softmax(model.predict(X_test_norm)).numpy(),axis=1)"
   ]
  },
  {
   "cell_type": "code",
   "execution_count": 65,
   "id": "5826047f-db8c-404c-9849-7195d5df3bad",
   "metadata": {},
   "outputs": [
    {
     "data": {
      "text/plain": [
       "(13840,)"
      ]
     },
     "execution_count": 65,
     "metadata": {},
     "output_type": "execute_result"
    }
   ],
   "source": [
    "pred_y_test.shape"
   ]
  },
  {
   "cell_type": "code",
   "execution_count": 82,
   "id": "bcba8b1e-f9a5-469a-a63a-72f13cda6d4e",
   "metadata": {},
   "outputs": [],
   "source": [
    "new_df = pd.concat([df_test[\"id\"], pd.Series(pred_y_test)], axis=1)"
   ]
  },
  {
   "cell_type": "code",
   "execution_count": 86,
   "id": "f20930ef-9460-46b4-a6c7-cb13289d3b3f",
   "metadata": {},
   "outputs": [
    {
     "data": {
      "text/html": [
       "<div>\n",
       "<style scoped>\n",
       "    .dataframe tbody tr th:only-of-type {\n",
       "        vertical-align: middle;\n",
       "    }\n",
       "\n",
       "    .dataframe tbody tr th {\n",
       "        vertical-align: top;\n",
       "    }\n",
       "\n",
       "    .dataframe thead th {\n",
       "        text-align: right;\n",
       "    }\n",
       "</style>\n",
       "<table border=\"1\" class=\"dataframe\">\n",
       "  <thead>\n",
       "    <tr style=\"text-align: right;\">\n",
       "      <th></th>\n",
       "      <th>id</th>\n",
       "      <th>0</th>\n",
       "    </tr>\n",
       "  </thead>\n",
       "  <tbody>\n",
       "  </tbody>\n",
       "</table>\n",
       "</div>"
      ],
      "text/plain": [
       "Empty DataFrame\n",
       "Columns: [id, 0]\n",
       "Index: []"
      ]
     },
     "execution_count": 86,
     "metadata": {},
     "output_type": "execute_result"
    }
   ],
   "source": [
    "new_df.drop(index=new_df.index)"
   ]
  },
  {
   "cell_type": "code",
   "execution_count": 90,
   "id": "7c5130a1-4373-4bd9-a766-6a5163a8a8b4",
   "metadata": {},
   "outputs": [],
   "source": [
    "new_df.columns = [\"id\", \"NObeyesdad\"]"
   ]
  },
  {
   "cell_type": "code",
   "execution_count": 92,
   "id": "51b42ea9-417b-487d-a213-5661aebd9daa",
   "metadata": {},
   "outputs": [],
   "source": [
    "new_df[\"NObeyesdad\"].replace(changed_names.values(), changed_names.keys(), inplace=True)"
   ]
  },
  {
   "cell_type": "code",
   "execution_count": 93,
   "id": "12b76dd6-e1f7-4582-a64b-4fb858965ed3",
   "metadata": {},
   "outputs": [
    {
     "data": {
      "text/html": [
       "<div>\n",
       "<style scoped>\n",
       "    .dataframe tbody tr th:only-of-type {\n",
       "        vertical-align: middle;\n",
       "    }\n",
       "\n",
       "    .dataframe tbody tr th {\n",
       "        vertical-align: top;\n",
       "    }\n",
       "\n",
       "    .dataframe thead th {\n",
       "        text-align: right;\n",
       "    }\n",
       "</style>\n",
       "<table border=\"1\" class=\"dataframe\">\n",
       "  <thead>\n",
       "    <tr style=\"text-align: right;\">\n",
       "      <th></th>\n",
       "      <th>id</th>\n",
       "      <th>NObeyesdad</th>\n",
       "    </tr>\n",
       "  </thead>\n",
       "  <tbody>\n",
       "    <tr>\n",
       "      <th>0</th>\n",
       "      <td>20758</td>\n",
       "      <td>Obesity_Type_II</td>\n",
       "    </tr>\n",
       "    <tr>\n",
       "      <th>1</th>\n",
       "      <td>20759</td>\n",
       "      <td>Overweight_Level_I</td>\n",
       "    </tr>\n",
       "    <tr>\n",
       "      <th>2</th>\n",
       "      <td>20760</td>\n",
       "      <td>Obesity_Type_III</td>\n",
       "    </tr>\n",
       "    <tr>\n",
       "      <th>3</th>\n",
       "      <td>20761</td>\n",
       "      <td>Obesity_Type_I</td>\n",
       "    </tr>\n",
       "    <tr>\n",
       "      <th>4</th>\n",
       "      <td>20762</td>\n",
       "      <td>Obesity_Type_III</td>\n",
       "    </tr>\n",
       "  </tbody>\n",
       "</table>\n",
       "</div>"
      ],
      "text/plain": [
       "      id          NObeyesdad\n",
       "0  20758     Obesity_Type_II\n",
       "1  20759  Overweight_Level_I\n",
       "2  20760    Obesity_Type_III\n",
       "3  20761      Obesity_Type_I\n",
       "4  20762    Obesity_Type_III"
      ]
     },
     "execution_count": 93,
     "metadata": {},
     "output_type": "execute_result"
    }
   ],
   "source": [
    "new_df.head()"
   ]
  },
  {
   "cell_type": "code",
   "execution_count": 94,
   "id": "15247f92-ec49-4671-96c7-33d708f8de0e",
   "metadata": {},
   "outputs": [
    {
     "data": {
      "text/plain": [
       "NObeyesdad\n",
       "Obesity_Type_III       2622\n",
       "Obesity_Type_II        2150\n",
       "Obesity_Type_I         2052\n",
       "Normal_Weight          1965\n",
       "Insufficient_Weight    1739\n",
       "Overweight_Level_I     1675\n",
       "Overweight_Level_II    1637\n",
       "Name: count, dtype: int64"
      ]
     },
     "execution_count": 94,
     "metadata": {},
     "output_type": "execute_result"
    }
   ],
   "source": [
    "new_df.NObeyesdad.value_counts()"
   ]
  },
  {
   "cell_type": "code",
   "execution_count": 95,
   "id": "90f2a719-33da-4f07-8f22-82a9cf8c757e",
   "metadata": {},
   "outputs": [],
   "source": [
    "new_df.to_csv(\"submission.csv\")"
   ]
  },
  {
   "cell_type": "code",
   "execution_count": null,
   "id": "b3c6ec55-e98f-45b0-9f4f-25819d2954d7",
   "metadata": {},
   "outputs": [],
   "source": []
  }
 ],
 "metadata": {
  "kernelspec": {
   "display_name": "Python 3 (ipykernel)",
   "language": "python",
   "name": "python3"
  },
  "language_info": {
   "codemirror_mode": {
    "name": "ipython",
    "version": 3
   },
   "file_extension": ".py",
   "mimetype": "text/x-python",
   "name": "python",
   "nbconvert_exporter": "python",
   "pygments_lexer": "ipython3",
   "version": "3.11.5"
  }
 },
 "nbformat": 4,
 "nbformat_minor": 5
}
