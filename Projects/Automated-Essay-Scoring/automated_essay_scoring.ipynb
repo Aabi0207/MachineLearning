{
 "cells": [
  {
   "cell_type": "markdown",
   "id": "4d3d7168-3d72-424a-8001-7934e4c8e8e2",
   "metadata": {},
   "source": [
    "# Automated Essay Scoring"
   ]
  },
  {
   "cell_type": "code",
   "execution_count": 1,
   "id": "466bea0d-c0c7-438c-bcf3-1ab4509e8d6f",
   "metadata": {},
   "outputs": [],
   "source": [
    "import pandas as pd\n",
    "import numpy as np\n",
    "import matplotlib.pyplot as plt\n",
    "\n",
    "from sklearn.model_selection import train_test_split\n",
    "from sklearn.metrics import accuracy_score, roc_auc_score"
   ]
  },
  {
   "cell_type": "code",
   "execution_count": 2,
   "id": "43ba66d0-4560-44e6-b30e-0a56a615c3b3",
   "metadata": {},
   "outputs": [],
   "source": [
    "train = pd.read_csv(\"Data/train.csv\")\n",
    "test = pd.read_csv(\"Data/test.csv\")"
   ]
  },
  {
   "cell_type": "code",
   "execution_count": 3,
   "id": "7c256ee3-689f-4369-b275-bb7c7e31eb43",
   "metadata": {},
   "outputs": [
    {
     "data": {
      "text/html": [
       "<div>\n",
       "<style scoped>\n",
       "    .dataframe tbody tr th:only-of-type {\n",
       "        vertical-align: middle;\n",
       "    }\n",
       "\n",
       "    .dataframe tbody tr th {\n",
       "        vertical-align: top;\n",
       "    }\n",
       "\n",
       "    .dataframe thead th {\n",
       "        text-align: right;\n",
       "    }\n",
       "</style>\n",
       "<table border=\"1\" class=\"dataframe\">\n",
       "  <thead>\n",
       "    <tr style=\"text-align: right;\">\n",
       "      <th></th>\n",
       "      <th>essay_id</th>\n",
       "      <th>full_text</th>\n",
       "      <th>score</th>\n",
       "    </tr>\n",
       "  </thead>\n",
       "  <tbody>\n",
       "    <tr>\n",
       "      <th>0</th>\n",
       "      <td>000d118</td>\n",
       "      <td>Many people have car where they live. The thin...</td>\n",
       "      <td>3</td>\n",
       "    </tr>\n",
       "    <tr>\n",
       "      <th>1</th>\n",
       "      <td>000fe60</td>\n",
       "      <td>I am a scientist at NASA that is discussing th...</td>\n",
       "      <td>3</td>\n",
       "    </tr>\n",
       "    <tr>\n",
       "      <th>2</th>\n",
       "      <td>001ab80</td>\n",
       "      <td>People always wish they had the same technolog...</td>\n",
       "      <td>4</td>\n",
       "    </tr>\n",
       "    <tr>\n",
       "      <th>3</th>\n",
       "      <td>001bdc0</td>\n",
       "      <td>We all heard about Venus, the planet without a...</td>\n",
       "      <td>4</td>\n",
       "    </tr>\n",
       "    <tr>\n",
       "      <th>4</th>\n",
       "      <td>002ba53</td>\n",
       "      <td>Dear, State Senator\\n\\nThis is a letter to arg...</td>\n",
       "      <td>3</td>\n",
       "    </tr>\n",
       "  </tbody>\n",
       "</table>\n",
       "</div>"
      ],
      "text/plain": [
       "  essay_id                                          full_text  score\n",
       "0  000d118  Many people have car where they live. The thin...      3\n",
       "1  000fe60  I am a scientist at NASA that is discussing th...      3\n",
       "2  001ab80  People always wish they had the same technolog...      4\n",
       "3  001bdc0  We all heard about Venus, the planet without a...      4\n",
       "4  002ba53  Dear, State Senator\\n\\nThis is a letter to arg...      3"
      ]
     },
     "execution_count": 3,
     "metadata": {},
     "output_type": "execute_result"
    }
   ],
   "source": [
    "train.head()"
   ]
  },
  {
   "cell_type": "code",
   "execution_count": 4,
   "id": "14d5c11a-37da-4a4c-bcd7-dd2be79711ee",
   "metadata": {},
   "outputs": [
    {
     "data": {
      "text/html": [
       "<div>\n",
       "<style scoped>\n",
       "    .dataframe tbody tr th:only-of-type {\n",
       "        vertical-align: middle;\n",
       "    }\n",
       "\n",
       "    .dataframe tbody tr th {\n",
       "        vertical-align: top;\n",
       "    }\n",
       "\n",
       "    .dataframe thead th {\n",
       "        text-align: right;\n",
       "    }\n",
       "</style>\n",
       "<table border=\"1\" class=\"dataframe\">\n",
       "  <thead>\n",
       "    <tr style=\"text-align: right;\">\n",
       "      <th></th>\n",
       "      <th>score</th>\n",
       "    </tr>\n",
       "  </thead>\n",
       "  <tbody>\n",
       "    <tr>\n",
       "      <th>count</th>\n",
       "      <td>17307.000000</td>\n",
       "    </tr>\n",
       "    <tr>\n",
       "      <th>mean</th>\n",
       "      <td>2.948402</td>\n",
       "    </tr>\n",
       "    <tr>\n",
       "      <th>std</th>\n",
       "      <td>1.044899</td>\n",
       "    </tr>\n",
       "    <tr>\n",
       "      <th>min</th>\n",
       "      <td>1.000000</td>\n",
       "    </tr>\n",
       "    <tr>\n",
       "      <th>25%</th>\n",
       "      <td>2.000000</td>\n",
       "    </tr>\n",
       "    <tr>\n",
       "      <th>50%</th>\n",
       "      <td>3.000000</td>\n",
       "    </tr>\n",
       "    <tr>\n",
       "      <th>75%</th>\n",
       "      <td>4.000000</td>\n",
       "    </tr>\n",
       "    <tr>\n",
       "      <th>max</th>\n",
       "      <td>6.000000</td>\n",
       "    </tr>\n",
       "  </tbody>\n",
       "</table>\n",
       "</div>"
      ],
      "text/plain": [
       "              score\n",
       "count  17307.000000\n",
       "mean       2.948402\n",
       "std        1.044899\n",
       "min        1.000000\n",
       "25%        2.000000\n",
       "50%        3.000000\n",
       "75%        4.000000\n",
       "max        6.000000"
      ]
     },
     "execution_count": 4,
     "metadata": {},
     "output_type": "execute_result"
    }
   ],
   "source": [
    "train.describe()"
   ]
  },
  {
   "cell_type": "code",
   "execution_count": 5,
   "id": "4131be7b-53b8-4f69-ad7f-b954a0321f5b",
   "metadata": {},
   "outputs": [],
   "source": [
    "from sklearn.preprocessing import OneHotEncoder"
   ]
  },
  {
   "cell_type": "code",
   "execution_count": 37,
   "id": "afeb00b8-476b-4b88-98de-1e8e91fe2221",
   "metadata": {},
   "outputs": [],
   "source": [
    "from sklearn.feature_extraction.text import CountVectorizer\n",
    "\n",
    "# Initialize CountVectorizer\n",
    "vectorizer = CountVectorizer()\n",
    "\n",
    "# Fit and transform the essay column\n",
    "X = vectorizer.fit_transform(pd.concat([train['full_text'], test['full_text']], axis=0))\n",
    "\n",
    "X = X.toarray()\n",
    "\n",
    "# # Convert the transformed data into a DataFrame\n",
    "# essay_df = pd.DataFrame(X.toarray(), columns=vectorizer.get_feature_names_out())\n",
    "\n",
    "# # Concatenate the essay_id column with the transformed DataFrame\n",
    "# essay_df = pd.concat([train['essay_id'], essay_df], axis=1)"
   ]
  },
  {
   "cell_type": "markdown",
   "id": "dbf1179b-9abc-4fe1-867e-2a22377d7b94",
   "metadata": {},
   "source": [
    "## Neural Network Approach"
   ]
  },
  {
   "cell_type": "code",
   "execution_count": 17,
   "id": "3de3dd30-b287-4318-aa8e-2f4401b4f30e",
   "metadata": {},
   "outputs": [],
   "source": [
    "tf.keras.backend.clear_session()\n",
    "tf.random.set_seed(42)"
   ]
  },
  {
   "cell_type": "code",
   "execution_count": 7,
   "id": "291ecee8-2804-4fd4-ada1-5c0ec84325fd",
   "metadata": {},
   "outputs": [],
   "source": [
    "# X = essay_df.drop(\"essay_id\", axis=1)\n",
    "y = train.score"
   ]
  },
  {
   "cell_type": "code",
   "execution_count": 8,
   "id": "1b3be9a4-0bc1-4a70-88d7-5909ba0234ed",
   "metadata": {},
   "outputs": [
    {
     "name": "stdout",
     "output_type": "stream",
     "text": [
      "WARNING:tensorflow:From C:\\Users\\abhis\\anaconda3\\Lib\\site-packages\\keras\\src\\losses.py:2976: The name tf.losses.sparse_softmax_cross_entropy is deprecated. Please use tf.compat.v1.losses.sparse_softmax_cross_entropy instead.\n",
      "\n"
     ]
    }
   ],
   "source": [
    "import tensorflow as tf"
   ]
  },
  {
   "cell_type": "code",
   "execution_count": 18,
   "id": "acae785e-5c52-4aa3-a15d-09c9738d341e",
   "metadata": {},
   "outputs": [],
   "source": [
    "model = tf.keras.models.Sequential(\n",
    "    [\n",
    "        tf.keras.layers.Dense(100, activation=\"relu\", kernel_initializer=\"he_normal\", kernel_regularizer=tf.keras.regularizers.L2(0.03)),\n",
    "        tf.keras.layers.Dense(50, activation=\"relu\", kernel_initializer=\"he_normal\", kernel_regularizer=tf.keras.regularizers.L2(0.03)),\n",
    "        tf.keras.layers.Dense(6, activation=\"softmax\")\n",
    "    ]\n",
    ")"
   ]
  },
  {
   "cell_type": "code",
   "execution_count": 19,
   "id": "6947f4d0-4a2b-416d-b102-ce3419f0c685",
   "metadata": {},
   "outputs": [],
   "source": [
    "early_stopping_cb = tf.keras.callbacks.EarlyStopping(patience=5, restore_best_weights=True)\n",
    "model.compile(\n",
    "    loss=tf.keras.losses.sparse_categorical_crossentropy,\n",
    "    optimizer=tf.keras.optimizers.AdamW(weight_decay=1e-5, learning_rate=0.001,\n",
    "                                      beta_1=0.9, beta_2=0.999),\n",
    "    metrics=\"accuracy\"\n",
    ")"
   ]
  },
  {
   "cell_type": "code",
   "execution_count": 14,
   "id": "85800202-2edd-4d42-af4d-8bea13186613",
   "metadata": {},
   "outputs": [],
   "source": [
    "X_train, X_test, y_train, y_test = train_test_split(X, y, test_size=0.3, random_state=42, stratify=train.score)\n",
    "X_valid, X_test, y_valid, y_test = train_test_split(X_test, y_test, test_size=0.5, random_state=42, stratify=y_test)"
   ]
  },
  {
   "cell_type": "code",
   "execution_count": 12,
   "id": "c4267142-a352-42b5-be57-933003fa7abe",
   "metadata": {},
   "outputs": [],
   "source": [
    "# from scipy.sparse import csr_matrix\n",
    "\n",
    "# # Convert sparse matrix to CSR format\n",
    "# X_train = csr_matrix(X_train)\n",
    "# X_test = csr_matrix(X_test)\n",
    "# X_valid = csr_matrix(X_valid)"
   ]
  },
  {
   "cell_type": "code",
   "execution_count": 20,
   "id": "5d314731-3b85-480e-9643-d9337ad60b5f",
   "metadata": {},
   "outputs": [
    {
     "name": "stdout",
     "output_type": "stream",
     "text": [
      "Epoch 1/50\n",
      "157/157 [==============================] - 13s 80ms/step - loss: 3.2415 - accuracy: 0.3952 - val_loss: 2.0989 - val_accuracy: 0.4438\n",
      "Epoch 2/50\n",
      "157/157 [==============================] - 12s 76ms/step - loss: 1.7462 - accuracy: 0.5002 - val_loss: 1.5662 - val_accuracy: 0.4950\n",
      "Epoch 3/50\n",
      "157/157 [==============================] - 12s 75ms/step - loss: 1.4184 - accuracy: 0.5390 - val_loss: 1.3674 - val_accuracy: 0.5443\n",
      "Epoch 4/50\n",
      "157/157 [==============================] - 12s 76ms/step - loss: 1.3054 - accuracy: 0.5576 - val_loss: 1.3503 - val_accuracy: 0.5347\n",
      "Epoch 5/50\n",
      "157/157 [==============================] - 12s 77ms/step - loss: 1.2399 - accuracy: 0.5906 - val_loss: 1.2850 - val_accuracy: 0.5505\n",
      "Epoch 6/50\n",
      "157/157 [==============================] - 12s 79ms/step - loss: 1.2074 - accuracy: 0.5906 - val_loss: 1.2308 - val_accuracy: 0.5905\n",
      "Epoch 7/50\n",
      "157/157 [==============================] - 12s 79ms/step - loss: 1.1619 - accuracy: 0.6090 - val_loss: 1.2100 - val_accuracy: 0.5797\n",
      "Epoch 8/50\n",
      "157/157 [==============================] - 12s 75ms/step - loss: 1.1486 - accuracy: 0.6032 - val_loss: 1.1629 - val_accuracy: 0.5901\n",
      "Epoch 9/50\n",
      "157/157 [==============================] - 12s 74ms/step - loss: 1.1310 - accuracy: 0.6172 - val_loss: 1.1748 - val_accuracy: 0.5871\n",
      "Epoch 10/50\n",
      "157/157 [==============================] - 12s 76ms/step - loss: 1.1101 - accuracy: 0.6156 - val_loss: 1.1710 - val_accuracy: 0.5597\n",
      "Epoch 11/50\n",
      "157/157 [==============================] - 12s 75ms/step - loss: 1.1045 - accuracy: 0.6148 - val_loss: 1.1491 - val_accuracy: 0.5878\n",
      "Epoch 12/50\n",
      "157/157 [==============================] - 12s 76ms/step - loss: 1.0951 - accuracy: 0.6156 - val_loss: 1.1645 - val_accuracy: 0.5921\n",
      "Epoch 13/50\n",
      "157/157 [==============================] - 12s 76ms/step - loss: 1.0752 - accuracy: 0.6272 - val_loss: 1.1512 - val_accuracy: 0.5820\n",
      "Epoch 14/50\n",
      "157/157 [==============================] - 12s 76ms/step - loss: 1.0657 - accuracy: 0.6336 - val_loss: 1.1788 - val_accuracy: 0.5462\n",
      "Epoch 15/50\n",
      "157/157 [==============================] - 12s 75ms/step - loss: 1.0680 - accuracy: 0.6316 - val_loss: 1.1351 - val_accuracy: 0.6017\n",
      "Epoch 16/50\n",
      "157/157 [==============================] - 12s 75ms/step - loss: 1.0556 - accuracy: 0.6334 - val_loss: 1.1093 - val_accuracy: 0.5998\n",
      "Epoch 17/50\n",
      "157/157 [==============================] - 12s 75ms/step - loss: 1.0539 - accuracy: 0.6328 - val_loss: 1.1492 - val_accuracy: 0.5886\n",
      "Epoch 18/50\n",
      "157/157 [==============================] - 12s 76ms/step - loss: 1.0343 - accuracy: 0.6360 - val_loss: 1.0983 - val_accuracy: 0.5982\n",
      "Epoch 19/50\n",
      "157/157 [==============================] - 12s 76ms/step - loss: 1.0289 - accuracy: 0.6504 - val_loss: 1.1287 - val_accuracy: 0.5867\n",
      "Epoch 20/50\n",
      "157/157 [==============================] - 12s 76ms/step - loss: 1.0213 - accuracy: 0.6498 - val_loss: 1.1072 - val_accuracy: 0.5921\n",
      "Epoch 21/50\n",
      "157/157 [==============================] - 12s 76ms/step - loss: 1.0149 - accuracy: 0.6478 - val_loss: 1.1154 - val_accuracy: 0.6063\n",
      "Epoch 22/50\n",
      "157/157 [==============================] - 12s 76ms/step - loss: 1.0092 - accuracy: 0.6570 - val_loss: 1.0968 - val_accuracy: 0.6009\n",
      "Epoch 23/50\n",
      "157/157 [==============================] - 12s 76ms/step - loss: 1.0159 - accuracy: 0.6586 - val_loss: 1.0966 - val_accuracy: 0.6163\n",
      "Epoch 24/50\n",
      "157/157 [==============================] - 12s 76ms/step - loss: 0.9952 - accuracy: 0.6578 - val_loss: 1.1234 - val_accuracy: 0.5882\n",
      "Epoch 25/50\n",
      "157/157 [==============================] - 12s 76ms/step - loss: 0.9921 - accuracy: 0.6620 - val_loss: 1.1153 - val_accuracy: 0.6148\n",
      "Epoch 26/50\n",
      "157/157 [==============================] - 12s 76ms/step - loss: 0.9873 - accuracy: 0.6602 - val_loss: 1.1773 - val_accuracy: 0.5728\n",
      "Epoch 27/50\n",
      "157/157 [==============================] - 12s 76ms/step - loss: 0.9852 - accuracy: 0.6732 - val_loss: 1.1327 - val_accuracy: 0.5809\n",
      "Epoch 28/50\n",
      "157/157 [==============================] - 12s 76ms/step - loss: 0.9750 - accuracy: 0.6750 - val_loss: 1.1130 - val_accuracy: 0.6002\n"
     ]
    },
    {
     "data": {
      "text/plain": [
       "<keras.src.callbacks.History at 0x25395b64490>"
      ]
     },
     "execution_count": 20,
     "metadata": {},
     "output_type": "execute_result"
    }
   ],
   "source": [
    "model.fit(\n",
    "    X_train[:5000], y_train[:5000] - 1, epochs=50,\n",
    "    validation_data=(X_valid, y_valid - 1),\n",
    "    callbacks=[early_stopping_cb]\n",
    ")"
   ]
  },
  {
   "cell_type": "code",
   "execution_count": 22,
   "id": "0fc65174-8f93-430e-90f5-b978fabe4c8b",
   "metadata": {},
   "outputs": [
    {
     "name": "stdout",
     "output_type": "stream",
     "text": [
      "82/82 [==============================] - 1s 9ms/step - loss: 1.1417 - accuracy: 0.6007\n"
     ]
    },
    {
     "data": {
      "text/plain": [
       "[1.1416622400283813, 0.6006931066513062]"
      ]
     },
     "execution_count": 22,
     "metadata": {},
     "output_type": "execute_result"
    }
   ],
   "source": [
    "model.evaluate(X_test, y_test - 1)"
   ]
  },
  {
   "cell_type": "markdown",
   "id": "a6028a20-d4f1-4e0d-848b-c2c08ed55256",
   "metadata": {},
   "source": [
    "## Predict the values"
   ]
  },
  {
   "cell_type": "code",
   "execution_count": 39,
   "id": "98ee7773-d2a4-4a53-849d-a623a0df72ff",
   "metadata": {},
   "outputs": [
    {
     "name": "stdout",
     "output_type": "stream",
     "text": [
      "1/1 [==============================] - 0s 33ms/step\n"
     ]
    }
   ],
   "source": [
    "pred = model.predict(X[-3:])"
   ]
  },
  {
   "cell_type": "code",
   "execution_count": 40,
   "id": "f6edc271-9432-41ae-af67-a593a9fec600",
   "metadata": {},
   "outputs": [],
   "source": [
    "pred = np.argmax(pred, axis=1)"
   ]
  },
  {
   "cell_type": "code",
   "execution_count": 41,
   "id": "2f30f0a3-d48a-45e7-b975-66af95a58e11",
   "metadata": {},
   "outputs": [
    {
     "data": {
      "text/plain": [
       "(3,)"
      ]
     },
     "execution_count": 41,
     "metadata": {},
     "output_type": "execute_result"
    }
   ],
   "source": [
    "pred.shape"
   ]
  },
  {
   "cell_type": "code",
   "execution_count": 42,
   "id": "8ae65d3f-f125-41a1-a64f-a7fa7740be6f",
   "metadata": {},
   "outputs": [
    {
     "data": {
      "text/plain": [
       "(3, 467)"
      ]
     },
     "execution_count": 42,
     "metadata": {},
     "output_type": "execute_result"
    }
   ],
   "source": [
    "test_X.shape"
   ]
  },
  {
   "cell_type": "code",
   "execution_count": 43,
   "id": "d7c1272b-bbd0-415d-bbc3-3d2bf2bd9842",
   "metadata": {},
   "outputs": [
    {
     "data": {
      "text/plain": [
       "array([2, 2, 3], dtype=int64)"
      ]
     },
     "execution_count": 43,
     "metadata": {},
     "output_type": "execute_result"
    }
   ],
   "source": [
    "pred"
   ]
  },
  {
   "cell_type": "code",
   "execution_count": 52,
   "id": "fd4b8246-ce8b-4112-9bcf-77bd54eddca5",
   "metadata": {},
   "outputs": [],
   "source": [
    "sub_df = pd.DataFrame(test.essay_id)\n",
    "sub_df[\"score\"] = pred + 1"
   ]
  },
  {
   "cell_type": "code",
   "execution_count": 51,
   "id": "da0dbb7c-557b-49f9-803c-3385ddd1b498",
   "metadata": {},
   "outputs": [
    {
     "data": {
      "text/html": [
       "<div>\n",
       "<style scoped>\n",
       "    .dataframe tbody tr th:only-of-type {\n",
       "        vertical-align: middle;\n",
       "    }\n",
       "\n",
       "    .dataframe tbody tr th {\n",
       "        vertical-align: top;\n",
       "    }\n",
       "\n",
       "    .dataframe thead th {\n",
       "        text-align: right;\n",
       "    }\n",
       "</style>\n",
       "<table border=\"1\" class=\"dataframe\">\n",
       "  <thead>\n",
       "    <tr style=\"text-align: right;\">\n",
       "      <th></th>\n",
       "      <th>essay_id</th>\n",
       "      <th>score</th>\n",
       "    </tr>\n",
       "  </thead>\n",
       "  <tbody>\n",
       "    <tr>\n",
       "      <th>0</th>\n",
       "      <td>000d118</td>\n",
       "      <td>3</td>\n",
       "    </tr>\n",
       "    <tr>\n",
       "      <th>1</th>\n",
       "      <td>000fe60</td>\n",
       "      <td>3</td>\n",
       "    </tr>\n",
       "    <tr>\n",
       "      <th>2</th>\n",
       "      <td>001ab80</td>\n",
       "      <td>4</td>\n",
       "    </tr>\n",
       "  </tbody>\n",
       "</table>\n",
       "</div>"
      ],
      "text/plain": [
       "  essay_id  score\n",
       "0  000d118      3\n",
       "1  000fe60      3\n",
       "2  001ab80      4"
      ]
     },
     "execution_count": 51,
     "metadata": {},
     "output_type": "execute_result"
    }
   ],
   "source": [
    "sub_df.head()"
   ]
  },
  {
   "cell_type": "code",
   "execution_count": null,
   "id": "4a6a97fc-c0e5-4ef7-8ef7-d9bcf6d54513",
   "metadata": {},
   "outputs": [],
   "source": [
    "prediction.to_csv('submission.csv', index=False)"
   ]
  }
 ],
 "metadata": {
  "kernelspec": {
   "display_name": "Python 3 (ipykernel)",
   "language": "python",
   "name": "python3"
  },
  "language_info": {
   "codemirror_mode": {
    "name": "ipython",
    "version": 3
   },
   "file_extension": ".py",
   "mimetype": "text/x-python",
   "name": "python",
   "nbconvert_exporter": "python",
   "pygments_lexer": "ipython3",
   "version": "3.11.5"
  }
 },
 "nbformat": 4,
 "nbformat_minor": 5
}
