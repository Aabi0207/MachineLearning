{
 "cells": [
  {
   "cell_type": "markdown",
   "id": "311c0ee8-e888-45f5-9ada-991f44aa1895",
   "metadata": {},
   "source": [
    "# Hyperparameter Tuning for XGBoost Classifier"
   ]
  },
  {
   "cell_type": "code",
   "execution_count": 1,
   "id": "c885d2e4-ed7e-4837-a7e0-eb704ba96610",
   "metadata": {},
   "outputs": [],
   "source": [
    "#def objective(trial):\n",
    "\n",
    "#    n_estimators = trial.suggest_int(\"n_estimators\", 100,1000)\n",
    "#    # L1 regularization weight.\n",
    "#    alpha = trial.suggest_float(\"alpha\", 1e-8, 1.0, log=True)\n",
    "    # sampling ratio for training data.\n",
    "#    subsample = trial.suggest_float(\"subsample\", 0.2, 0.9)\n",
    "    # sampling according to each tree.\n",
    "#    colsample_bytree = trial.suggest_float(\"colsample_bytree\", 0.2, 0.9)\n",
    "    # maximum depth of the tree, signifies complexity of the tree.\n",
    "#    max_depth = trial.suggest_int(\"max_depth\", 3, 12)\n",
    "    # minimum child weight, larger the term more conservative the tree.\n",
    "#    min_child_weight = trial.suggest_int(\"min_child_weight\", 1, 3)\n",
    "    # learning rate\n",
    "#    learning_rate =  trial.suggest_float(\"learning_rate\", 1e-4, 1, log=True)\n",
    "    # defines how selective algorithm is.\n",
    "#    gamma = trial.suggest_float(\"gamma\", 1e-8, 1.0, log=True)\n",
    "    \n",
    "\n",
    "       \n",
    "#    xgb_clf = XGBClassifier(n_estimators = n_estimators,alpha=alpha,subsample=subsample,colsample_bytree=colsample_bytree,\n",
    "#                           max_depth=max_depth,min_child_weight =min_child_weight,learning_rate=learning_rate,gamma=gamma,\n",
    "#                           random_state =random_state)\n",
    "   \n",
    "        \n",
    "\n",
    "    \n",
    "#    ss = StratifiedKFold(n_splits=10) #ShuffleSplit will help you to keep distributions of training data and folds similar)\n",
    "#    score = cross_val_score(xgb_clf, train_df, y, scoring= 'roc_auc',  cv=ss)\n",
    "#    score = score.mean()\n",
    "#    return score\n",
    "\n",
    "\n",
    "#sampler = TPESampler(seed=random_state) # create a seed for the sampler for reproducibility\n",
    "#study = optuna.create_study(direction=\"maximize\", sampler=sampler)\n",
    "#study.optimize(objective, n_trials=300)"
   ]
  },
  {
   "cell_type": "markdown",
   "id": "5685a330-0b8d-4c73-ae8a-49c0ffe0339a",
   "metadata": {},
   "source": [
    "## Example Use"
   ]
  },
  {
   "cell_type": "code",
   "execution_count": 2,
   "id": "4fc7393c-8a12-455f-ae66-a71e1b1fdda1",
   "metadata": {},
   "outputs": [],
   "source": [
    "# # Construct Model with found hyperparameters  / Pastry\n",
    "# xgb_optuna_params_pastry = {'n_estimators': 999,\n",
    "#                             'alpha': 0.002084420690864832,\n",
    "#                             'subsample': 0.7099725497433862,\n",
    "#                             'colsample_bytree': 0.2016160543417863,\n",
    "#                             'max_depth': 6, \n",
    "#                             'min_child_weight': 3, \n",
    "#                             'learning_rate': 0.01182912450871734,\n",
    "#                             'gamma': 0.00040448964009199537}\n",
    "\n",
    "# xgb_tunned_pastry = XGBClassifier(**xgb_optuna_params_pastry, random_state=random_state)"
   ]
  },
  {
   "cell_type": "code",
   "execution_count": null,
   "id": "7e741472-d9b4-4a1f-be70-22a4d7191607",
   "metadata": {},
   "outputs": [],
   "source": []
  }
 ],
 "metadata": {
  "kernelspec": {
   "display_name": "Python 3 (ipykernel)",
   "language": "python",
   "name": "python3"
  },
  "language_info": {
   "codemirror_mode": {
    "name": "ipython",
    "version": 3
   },
   "file_extension": ".py",
   "mimetype": "text/x-python",
   "name": "python",
   "nbconvert_exporter": "python",
   "pygments_lexer": "ipython3",
   "version": "3.11.5"
  }
 },
 "nbformat": 4,
 "nbformat_minor": 5
}
