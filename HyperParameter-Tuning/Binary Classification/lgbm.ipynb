{
 "cells": [
  {
   "cell_type": "markdown",
   "id": "7797333e-6b76-4150-a0cf-6197d9910bae",
   "metadata": {},
   "source": [
    "# Hyperparameter tuning for Binary Classification problem using LGBMClassifier"
   ]
  },
  {
   "cell_type": "code",
   "execution_count": 2,
   "id": "c373226c-a138-49c6-b24e-7779353014e8",
   "metadata": {},
   "outputs": [],
   "source": [
    "from optuna.samplers import TPESampler"
   ]
  },
  {
   "cell_type": "code",
   "execution_count": 1,
   "id": "d3a47c6a-7e80-4e36-8800-11439ca1816e",
   "metadata": {},
   "outputs": [],
   "source": [
    "#def objective(trial):\n",
    "\n",
    "\n",
    "#    n_estimators = trial.suggest_int(\"n_estimators\", 100, 2000)\n",
    "#    max_depth = trial.suggest_int(\"max_depth\", 2, 12)\n",
    "#    learning_rate =  trial.suggest_float(\"learning_rate\", 1e-4, 0.1, log=True)\n",
    "#    min_data_in_leaf = trial.suggest_int(\"min_data_in_leaf\", 1, 20)\n",
    "#    subsample = trial.suggest_float(\"subsample\", 0.1, 1.0)        \n",
    "#    max_bin = trial.suggest_int(\"max_bin\", 100, 350, step=10)\n",
    "#    feature_fraction = trial.suggest_float(\"feature_fraction\", 0.1, 1.0)\n",
    "    #scale_pos_weight = trial.suggest_float(\"scale_pos_weight\", 0.1, 100.0,log=True )\n",
    "    #eval_metric = 'logloss'\n",
    "    #objective = 'binary:logistic' \n",
    "\n",
    "\n",
    "#    lgbm_classifier = LGBMClassifier(n_estimators = n_estimators,max_depth=max_depth,learning_rate=learning_rate,\n",
    "#                                     min_data_in_leaf=min_data_in_leaf, subsample=subsample,max_bin=max_bin,\n",
    "#                                     feature_fraction=feature_fraction, random_state =random_state,\n",
    "#                                     verbose=-1)\n",
    "   \n",
    "    \n",
    "#    ss =  StratifiedKFold(n_splits=10)\n",
    "#    score = cross_val_score(lgbm_classifier, train_df, y, scoring= 'roc_auc',   cv=ss)\n",
    "#    score = score.mean()\n",
    "#    return score\n",
    "\n",
    "\n",
    "#sampler = TPESampler(seed=42) # create a seed for the sampler for reproducibility\n",
    "#study = optuna.create_study(direction=\"maximize\", sampler=sampler)\n",
    "#study.optimize(objective, n_trials=200)"
   ]
  },
  {
   "cell_type": "markdown",
   "id": "ee16e76f-2e27-48bb-88df-530df590a6fe",
   "metadata": {},
   "source": [
    "## Stepwise tunning with LightGBMTunerCV"
   ]
  },
  {
   "cell_type": "code",
   "execution_count": 3,
   "id": "2282c8b4-6580-4fe2-928b-0175df17c5cb",
   "metadata": {},
   "outputs": [],
   "source": [
    "#import optuna.integration.lightgbm as lgb\n",
    "\n",
    "#from lightgbm import early_stopping\n",
    "#from lightgbm import log_evaluation\n",
    "\n",
    "#if __name__ == \"__main__\":\n",
    "\n",
    "#    dtrain = lgb.Dataset(train_df, label=y)\n",
    "#    params = {\n",
    "#        \"objective\": \"binary\",\n",
    "#        \"metric\": \"auc\",\n",
    "#        \"verbosity\": -1,\n",
    "#        \"boosting_type\": \"gbdt\",\n",
    "#        \"random_state\": random_state,\n",
    "#        'learning_rate': 0.01\n",
    "#    }\n",
    "\n",
    "#    tuner = lgb.LightGBMTunerCV(\n",
    "#        params,\n",
    "#        dtrain,\n",
    "#        num_boost_round=10000,\n",
    "#        folds=StratifiedKFold(n_splits=10),\n",
    "#        callbacks=[early_stopping(30), log_evaluation(20)],\n",
    "#    )\n",
    "\n",
    "#    tuner.run()\n",
    "\n",
    "#    print(\"Best score:\", tuner.best_score)\n",
    "#    best_params = tuner.best_params\n",
    "#    print(\"Best params:\", best_params)\n",
    "#    print(\"  Params: \")\n",
    "#    for key, value in best_params.items():\n",
    "#        print(\"    {}: {}\".format(key, value))\n"
   ]
  },
  {
   "cell_type": "markdown",
   "id": "c9b38150-4418-4bb8-8a97-07ca12196827",
   "metadata": {},
   "source": [
    "## Example use"
   ]
  },
  {
   "cell_type": "code",
   "execution_count": 4,
   "id": "f258dffe-e7d8-4887-808a-cf4f1c3049d9",
   "metadata": {},
   "outputs": [],
   "source": [
    "# # Construct Models with found hyperparameters  / Pastry\n",
    "# lgbm_optuna_params_pastry1 = {'n_estimators': 1834,\n",
    "#                               'max_depth': 10,\n",
    "#                               'learning_rate': 0.005451511795931252,\n",
    "#                               'min_data_in_leaf': 4,\n",
    "#                               'subsample': 0.5633978668136881,\n",
    "#                               'max_bin': 110,\n",
    "#                               'feature_fraction': 0.17583040106894807}\n",
    "\n",
    "# lgbm_tunned_pastry1 = LGBMClassifier(**lgbm_optuna_params_pastry1, random_state=random_state, verbose=-1)\n",
    "\n",
    "\n"
   ]
  },
  {
   "cell_type": "code",
   "execution_count": 5,
   "id": "a31ce849-3cec-4df6-ac0d-cedd97dd92b3",
   "metadata": {},
   "outputs": [],
   "source": [
    "# # Construct Model with found hyperparameters  / Pastry\n",
    "# lgbm_optuna_params_pastry2 = {'n_estimators': 627,\n",
    "#                               'objective': 'binary',\n",
    "#                               'metric': 'auc',\n",
    "#                               'verbosity': -1,\n",
    "#                               'boosting_type': 'gbdt',\n",
    "#                               'random_state': 42,\n",
    "#                               'learning_rate': 0.01,\n",
    "#                               'feature_pre_filter': False,\n",
    "#                               'lambda_l1': 9.131381342494084e-08,\n",
    "#                               'lambda_l2': 3.690335595327202e-05,\n",
    "#                               'num_leaves': 31, \n",
    "#                               'feature_fraction': 0.4, \n",
    "#                               'bagging_fraction': 0.630575690135632,\n",
    "#                               'bagging_freq': 5, \n",
    "#                               'min_child_samples': 20}\n",
    "\n",
    "# lgbm_tunned_pastry2 = LGBMClassifier(**lgbm_optuna_params_pastry2)"
   ]
  },
  {
   "cell_type": "code",
   "execution_count": null,
   "id": "5140a2e4-86c0-4a8d-9fad-ddfd3943c580",
   "metadata": {},
   "outputs": [],
   "source": []
  }
 ],
 "metadata": {
  "kernelspec": {
   "display_name": "Python 3 (ipykernel)",
   "language": "python",
   "name": "python3"
  },
  "language_info": {
   "codemirror_mode": {
    "name": "ipython",
    "version": 3
   },
   "file_extension": ".py",
   "mimetype": "text/x-python",
   "name": "python",
   "nbconvert_exporter": "python",
   "pygments_lexer": "ipython3",
   "version": "3.11.5"
  }
 },
 "nbformat": 4,
 "nbformat_minor": 5
}
