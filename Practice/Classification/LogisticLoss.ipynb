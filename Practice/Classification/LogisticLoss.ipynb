{
 "cells": [
  {
   "cell_type": "markdown",
   "id": "0231c930",
   "metadata": {},
   "source": [
    "# Logistic loss Function"
   ]
  },
  {
   "cell_type": "markdown",
   "id": "1f3fef9b",
   "metadata": {},
   "source": [
    "## Squared error cost function is \n",
    "\n",
    "$$J(w, b) = \\frac{1}{2m}\\sum\\limits_{i=0}^{n}(f_{w,b}(x^{i}) - y^{i})^{2}$$\n",
    "\n",
    "where $$f_{w, b} = wx^{(i)} + b$$"
   ]
  },
  {
   "cell_type": "markdown",
   "id": "50cd14e4",
   "metadata": {},
   "source": [
    "## Logistic cost function\n",
    "\n",
    "We can't use squared error cost function during classification we have to use the logistic cost function which is more suited to the sigmoid function.\n",
    "\n",
    "The logistic loss function is \n",
    "$$loss(f_{\\mathbf{w},b}(\\mathbf{x}^{(i)}), y^{(i)}) = (-y^{(i)} \\log\\left(f_{\\mathbf{w},b}\\left( \\mathbf{x}^{(i)} \\right) \\right) - \\left( 1 - y^{(i)}\\right) \\log \\left( 1 - f_{\\mathbf{w},b}\\left( \\mathbf{x}^{(i)} \\right) \\right)$$\n",
    "\n",
    "where $$f_{w,b} = g(z) = \\frac{1}{1 + e^{-(wx + b)}}$$"
   ]
  },
  {
   "cell_type": "code",
   "execution_count": null,
   "id": "df40f4be",
   "metadata": {},
   "outputs": [],
   "source": []
  }
 ],
 "metadata": {
  "kernelspec": {
   "display_name": "Python 3 (ipykernel)",
   "language": "python",
   "name": "python3"
  },
  "language_info": {
   "codemirror_mode": {
    "name": "ipython",
    "version": 3
   },
   "file_extension": ".py",
   "mimetype": "text/x-python",
   "name": "python",
   "nbconvert_exporter": "python",
   "pygments_lexer": "ipython3",
   "version": "3.11.5"
  }
 },
 "nbformat": 4,
 "nbformat_minor": 5
}
