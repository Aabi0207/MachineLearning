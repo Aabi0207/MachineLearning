{
 "cells": [
  {
   "cell_type": "markdown",
   "id": "5b349b37-b23c-44d4-a1a7-6ae6a1aa8c02",
   "metadata": {},
   "source": [
    "# Collabrative Filtering Recommender System"
   ]
  },
  {
   "cell_type": "code",
   "execution_count": 1,
   "id": "1bbf093a-fb7e-41e8-a488-5edfe76719b6",
   "metadata": {},
   "outputs": [
    {
     "name": "stdout",
     "output_type": "stream",
     "text": [
      "WARNING:tensorflow:From C:\\Users\\abhis\\anaconda3\\Lib\\site-packages\\keras\\src\\losses.py:2976: The name tf.losses.sparse_softmax_cross_entropy is deprecated. Please use tf.compat.v1.losses.sparse_softmax_cross_entropy instead.\n",
      "\n"
     ]
    }
   ],
   "source": [
    "import numpy as np\n",
    "import tensorflow as tf\n",
    "from recsys_utils import *\n",
    "from tensorflow import keras"
   ]
  },
  {
   "cell_type": "markdown",
   "id": "73b9e606-db1c-47d5-ace0-2f827eeb3dbb",
   "metadata": {},
   "source": [
    "## Load the dataset  "
   ]
  },
  {
   "cell_type": "code",
   "execution_count": 44,
   "id": "b33ea697-6a92-4ea7-a187-a780a5f9f448",
   "metadata": {},
   "outputs": [
    {
     "name": "stdout",
     "output_type": "stream",
     "text": [
      "Y (4778, 443) R (4778, 443)\n",
      "X (4778, 10)\n",
      "W (443, 10)\n",
      "b (1, 443)\n",
      "num_features 10\n",
      "num_movies 4778\n",
      "num_users 443\n"
     ]
    }
   ],
   "source": [
    "#Load data\n",
    "X, W, b, num_movies, num_features, num_users = load_precalc_params_small()\n",
    "Y, R = load_ratings_small()\n",
    "\n",
    "print(\"Y\", Y.shape, \"R\", R.shape)\n",
    "print(\"X\", X.shape)\n",
    "print(\"W\", W.shape)\n",
    "print(\"b\", b.shape)\n",
    "print(\"num_features\", num_features)\n",
    "print(\"num_movies\",   num_movies)\n",
    "print(\"num_users\",    num_users)"
   ]
  },
  {
   "cell_type": "markdown",
   "id": "2ae4870b-d5a5-4f98-8da3-54c4bceddfd5",
   "metadata": {},
   "source": [
    "Here `load_precalc_params_small` loads the parameters from a file which are already calculated for the movies dataset  \n",
    "Here  \n",
    "X = The dataset conataining features of the movies **shape = (num_movies, num_features)**  \n",
    "W = Parmeter w for all the users , **shape = (num_users, num_features)**  \n",
    "b = parameter b for all the users, **shape = (num_users, )**  \n",
    "Y = contains the rating of all the users for all the movies, **shape = (num_movies, num_users)**  \n",
    "R = Contains the binary values 1 and 0, for either the user has rated corresponding movie or not respectively, **shape =(Y)**  "
   ]
  },
  {
   "cell_type": "code",
   "execution_count": 3,
   "id": "6297a034-3826-4c1d-a2d6-7c12cebaf2c0",
   "metadata": {},
   "outputs": [
    {
     "name": "stdout",
     "output_type": "stream",
     "text": [
      "The average rating for the movie 1 is : 3.4 / 5\n"
     ]
    }
   ],
   "source": [
    "print(f\"The average rating for the movie 1 is : {np.mean(Y[0, R[0, :].astype(bool)])} / 5\")"
   ]
  },
  {
   "cell_type": "markdown",
   "id": "93096d15-0e4c-4433-b08b-5f7beedb42d4",
   "metadata": {},
   "source": [
    "The dataset contains the the rating from 0.5 to 5, the value 0 represents that the user has't rated the movie yet."
   ]
  },
  {
   "cell_type": "markdown",
   "id": "19b8fa6b-b0d4-49f8-9b44-170c9eb1bb14",
   "metadata": {},
   "source": [
    "### 4.1 Collaborative filtering cost function\r\n",
    "\r\n",
    "The collaborative filtering cost function is given by\r\n",
    "$$J({\\mathbf{x}^{(0)},...,\\mathbf{x}^{(n_m-1)},\\mathbf{w}^{(0)},b^{(0)},...,\\mathbf{w}^{(n_u-1)},b^{(n_u-1)}})= \\frac{1}{2}\\sum_{(i,j):r(i,j)=1}(\\mathbf{w}^{(j)} \\cdot \\mathbf{x}^{(i)} + b^{(j)} - y^{(i,j)})^2\r\n",
    "+\\underbrace{\r\n",
    "\\frac{\\lambda}{2}\r\n",
    "\\sum_{j=0}^{n_u-1}\\sum_{k=0}^{n-1}(\\mathbf{w}^{(j)}_k)^2\r\n",
    "+ \\frac{\\lambda}{2}\\sum_{i=0}^{n_m-1}\\sum_{k=0}^{n-1}(\\mathbf{x}_k^{(i)})^2\r\n",
    "}_{regularization}\r\n",
    "\\tag{1}$$"
   ]
  },
  {
   "cell_type": "markdown",
   "id": "089cf91e-f526-490b-9189-4f05a6e43442",
   "metadata": {},
   "source": [
    "The first summation in (1) is \"for all $i$, $j$ where $r(i,j)$ equals $1$\" and could be written:\r\n",
    "\r\n",
    "$$\r\n",
    "= \\frac{1}{2}\\sum_{j=0}^{n_u-1} \\sum_{i=0}^{n_m-1}r(i,j)*(\\mathbf{w}^{(j)} \\cdot \\mathbf{x}^{(i)} + b^{(j)} - y^{(i,j)})^2\r\n",
    "+\\text{regularization}\r\n",
    "$$\r\n"
   ]
  },
  {
   "cell_type": "code",
   "execution_count": 23,
   "id": "fbf3ea2d-06e2-4c39-8887-5d0deec8f345",
   "metadata": {},
   "outputs": [],
   "source": [
    "def cofi_cost_func(X, W, b, Y, R, lambda_):\n",
    "    nm, nu = Y.shape\n",
    "    J = 0\n",
    "    for j in range(nu):\n",
    "        w = W[j,:]\n",
    "        b_j = b[0,j]\n",
    "        for i in range(nm):\n",
    "            x = X[i,:]\n",
    "            y = Y[i,j]\n",
    "            r = R[i,j]\n",
    "            J += r * np.square((np.dot(w,x) + b_j - y ))\n",
    "    J += (lambda_) * (np.sum(np.square(W)) + np.sum(np.square(X)))\n",
    "    J = J/2\n",
    "    return J"
   ]
  },
  {
   "cell_type": "code",
   "execution_count": 39,
   "id": "8eac3fda-a75d-48e4-9d08-5f24cdcb4b94",
   "metadata": {},
   "outputs": [
    {
     "name": "stdout",
     "output_type": "stream",
     "text": [
      "Cost: 13.67\n"
     ]
    }
   ],
   "source": [
    "# Reduce the size of the dataset so that it runs faster\n",
    "num_users_r = 4\n",
    "num_movies_r = 5 \n",
    "num_features_r = 3\n",
    "\n",
    "X_r = X[:num_movies_r, :num_features_r]\n",
    "W_r = W[:num_users_r,  :num_features_r]\n",
    "b_r = b[0, :num_users_r].reshape(1,-1)\n",
    "Y_r = Y[:num_movies_r, :num_users_r]\n",
    "R_r = R[:num_movies_r, :num_users_r]\n",
    "\n",
    "# Evaluate cost function\n",
    "J = cofi_cost_func(X_r, W_r, b_r, Y_r, R_r, 0);\n",
    "print(f\"Cost: {J:0.2f}\")"
   ]
  },
  {
   "cell_type": "code",
   "execution_count": 27,
   "id": "c0c94fb5-9f85-486b-824e-2d9d6a52ac4a",
   "metadata": {},
   "outputs": [
    {
     "name": "stdout",
     "output_type": "stream",
     "text": [
      "The cost after adding the regularization term is: 28.094\n"
     ]
    }
   ],
   "source": [
    "reg_Jr = cofi_cost_func(xr, wr, br, yr, rr, 1.5)\n",
    "print(f\"The cost after adding the regularization term is: {reg_Jr:.3f}\")"
   ]
  },
  {
   "cell_type": "markdown",
   "id": "7a287057-0c79-4fd9-98e1-5666c59ecc7c",
   "metadata": {},
   "source": [
    "### Vectorized implementation of the function `cofi_cost_func`"
   ]
  },
  {
   "cell_type": "code",
   "execution_count": 34,
   "id": "82041267-77db-42e0-b731-4f839366c38c",
   "metadata": {},
   "outputs": [],
   "source": [
    "def cofi_cost_func_v(X, W, b, Y, R, lambda_):\n",
    "    j = (tf.linalg.matmul(X, tf.transpose(W)) + b - Y)*R\n",
    "    J = 0.5 * tf.reduce_sum(j**2) + (lambda_/2) * (tf.reduce_sum(X**2) + tf.reduce_sum(W**2))\n",
    "    return J"
   ]
  },
  {
   "cell_type": "code",
   "execution_count": 41,
   "id": "50b25718-df92-4318-be53-bfecb6940ec7",
   "metadata": {},
   "outputs": [
    {
     "name": "stdout",
     "output_type": "stream",
     "text": [
      "Cost: 13.67\n",
      "Cost (with regularization): 28.09\n"
     ]
    }
   ],
   "source": [
    "# Evaluate cost function\n",
    "J = cofi_cost_func_v(X_r, W_r, b_r, Y_r, R_r, 0);\n",
    "print(f\"Cost: {J:0.2f}\")\n",
    "\n",
    "# Evaluate cost function with regularization \n",
    "J = cofi_cost_func_v(X_r, W_r, b_r, Y_r, R_r, 1.5);\n",
    "print(f\"Cost (with regularization): {J:0.2f}\")"
   ]
  },
  {
   "cell_type": "markdown",
   "id": "df3836bd-1b91-42a8-b802-ddfa48e4d488",
   "metadata": {},
   "source": [
    "## Learning movie Recommendation"
   ]
  },
  {
   "cell_type": "code",
   "execution_count": 45,
   "id": "965c16c4-2438-468c-8e8e-860a48188a79",
   "metadata": {},
   "outputs": [
    {
     "name": "stdout",
     "output_type": "stream",
     "text": [
      "\n",
      "New user ratings:\n",
      "\n",
      "Rated 5.0 for  Shrek (2001)\n",
      "Rated 5.0 for  Harry Potter and the Sorcerer's Stone (a.k.a. Harry Potter and the Philosopher's Stone) (2001)\n",
      "Rated 2.0 for  Amelie (Fabuleux destin d'Amélie Poulain, Le) (2001)\n",
      "Rated 5.0 for  Harry Potter and the Chamber of Secrets (2002)\n",
      "Rated 5.0 for  Pirates of the Caribbean: The Curse of the Black Pearl (2003)\n",
      "Rated 5.0 for  Lord of the Rings: The Return of the King, The (2003)\n",
      "Rated 3.0 for  Eternal Sunshine of the Spotless Mind (2004)\n",
      "Rated 5.0 for  Incredibles, The (2004)\n",
      "Rated 2.0 for  Persuasion (2007)\n",
      "Rated 5.0 for  Toy Story 3 (2010)\n",
      "Rated 3.0 for  Inception (2010)\n",
      "Rated 1.0 for  Louis Theroux: Law & Disorder (2008)\n",
      "Rated 1.0 for  Nothing to Declare (Rien à déclarer) (2010)\n"
     ]
    }
   ],
   "source": [
    "movieList, movieList_df = load_Movie_List_pd()\n",
    "\n",
    "my_ratings = np.zeros(num_movies)          #  Initialize my ratings\n",
    "\n",
    "# Check the file small_movie_list.csv for id of each movie in our dataset\n",
    "# For example, Toy Story 3 (2010) has ID 2700, so to rate it \"5\", you can set\n",
    "my_ratings[2700] = 5 \n",
    "\n",
    "#Or suppose you did not enjoy Persuasion (2007), you can set\n",
    "my_ratings[2609] = 2;\n",
    "\n",
    "# We have selected a few movies we liked / did not like and the ratings we\n",
    "# gave are as follows:\n",
    "my_ratings[929]  = 5   # Lord of the Rings: The Return of the King, The\n",
    "my_ratings[246]  = 5   # Shrek (2001)\n",
    "my_ratings[2716] = 3   # Inception\n",
    "my_ratings[1150] = 5   # Incredibles, The (2004)\n",
    "my_ratings[382]  = 2   # Amelie (Fabuleux destin d'Amélie Poulain, Le)\n",
    "my_ratings[366]  = 5   # Harry Potter and the Sorcerer's Stone (a.k.a. Harry Potter and the Philosopher's Stone) (2001)\n",
    "my_ratings[622]  = 5   # Harry Potter and the Chamber of Secrets (2002)\n",
    "my_ratings[988]  = 3   # Eternal Sunshine of the Spotless Mind (2004)\n",
    "my_ratings[2925] = 1   # Louis Theroux: Law & Disorder (2008)\n",
    "my_ratings[2937] = 1   # Nothing to Declare (Rien à déclarer)\n",
    "my_ratings[793]  = 5   # Pirates of the Caribbean: The Curse of the Black Pearl (2003)\n",
    "my_rated = [i for i in range(len(my_ratings)) if my_ratings[i] > 0]\n",
    "\n",
    "print('\\nNew user ratings:\\n')\n",
    "for i in range(len(my_ratings)):\n",
    "    if my_ratings[i] > 0 :\n",
    "        print(f'Rated {my_ratings[i]} for  {movieList_df.loc[i,\"title\"]}');"
   ]
  },
  {
   "cell_type": "code",
   "execution_count": 49,
   "id": "3447f019-ff54-4c6d-846f-0ab307b6ebba",
   "metadata": {},
   "outputs": [],
   "source": [
    "# Relode the rating from the dataset\n",
    "Y, R = load_ratings_small()\n",
    "Y = np.c_[my_ratings, Y]\n",
    "R = np.c_[(my_ratings != 0).astype(int), R]\n",
    "\n",
    "# Normalize the features\n",
    "Ynorm, Ymean = normalizeRatings(Y, R)"
   ]
  },
  {
   "cell_type": "code",
   "execution_count": 52,
   "id": "43b78996-9ce1-42b5-9791-a0c395dacde8",
   "metadata": {},
   "outputs": [
    {
     "data": {
      "text/plain": [
       "(4778, 1)"
      ]
     },
     "execution_count": 52,
     "metadata": {},
     "output_type": "execute_result"
    }
   ],
   "source": [
    "Ymean.shape"
   ]
  },
  {
   "cell_type": "markdown",
   "id": "c9e4df1f-1800-481f-81f3-d671217734b9",
   "metadata": {},
   "source": [
    "### Let's train the model"
   ]
  },
  {
   "cell_type": "code",
   "execution_count": 54,
   "id": "8aaf83bb-cfa0-486b-9010-690455f54be7",
   "metadata": {},
   "outputs": [],
   "source": [
    "# Useful features \n",
    "num_movies, num_users = Y.shape\n",
    "num_features = 100\n",
    "\n",
    "# Initiliaze the parameters\n",
    "tf.random.set_seed(1234)\n",
    "W = tf.Variable(tf.random.normal((num_users, num_features), dtype=tf.float64), name=\"W\")\n",
    "b = tf.Variable(tf.random.normal((1, num_users), dtype=tf.float64), name=\"b\")\n",
    "X = tf.Variable(tf.random.normal((num_movies, num_features), dtype=tf.float64), name=\"X\")\n",
    "\n",
    "# Initiliaze the optimizer \n",
    "optimizer = keras.optimizers.Adam(learning_rate = 1e-1)"
   ]
  },
  {
   "cell_type": "markdown",
   "id": "30e4ebd2-d881-4c80-a200-28eae82b0167",
   "metadata": {},
   "source": [
    "The operations involved in learning $w$, $b$, and $x$ simultaneously do not fall into the typical 'layers' offered in the TensorFlow neural network package. "
   ]
  },
  {
   "cell_type": "code",
   "execution_count": 59,
   "id": "4656c16e-da81-423c-9ff3-50bb1f1fad07",
   "metadata": {},
   "outputs": [
    {
     "name": "stdout",
     "output_type": "stream",
     "text": [
      "iter: 0, cost: 2435.30\n",
      "iter: 20, cost: 2380.98\n",
      "iter: 40, cost: 2333.12\n",
      "iter: 60, cost: 2290.94\n",
      "iter: 80, cost: 2253.84\n",
      "iter: 100, cost: 2221.30\n",
      "iter: 120, cost: 2192.91\n",
      "iter: 140, cost: 2168.29\n",
      "iter: 160, cost: 2147.10\n",
      "iter: 180, cost: 2129.01\n"
     ]
    }
   ],
   "source": [
    "iterations = 200\n",
    "lambda_ = 1\n",
    "\n",
    "for iter in range(iterations):\n",
    "    # Use tensorflows GradientTape function to efficiently store and calculate the derivative\n",
    "    with tf.GradientTape() as tape:\n",
    "\n",
    "        # Use the cost function to calculate the derivatives with respect to the cost function\n",
    "        cost_value =cofi_cost_func_v(X, W, b, Y, R, lambda_)\n",
    "\n",
    "    # Use the gradient tape to automatically calculate the gradients with respect to the variables\n",
    "    grad = tape.gradient(cost_value, [X, W, b])\n",
    "\n",
    "    # Run one step of the gradient descent by updating the values of the parameters for the variables\n",
    "    optimizer.apply_gradients(zip(grad, [X, W, b]))\n",
    "\n",
    "    if iter % 20 == 0:\n",
    "        print(f\"iter: {iter}, cost: {cost_value:.2f}\")"
   ]
  },
  {
   "cell_type": "markdown",
   "id": "a35420b1-51f1-4cc8-a72a-2325449fa3dc",
   "metadata": {},
   "source": [
    "## Recommendations"
   ]
  },
  {
   "cell_type": "code",
   "execution_count": 63,
   "id": "da066151-0bc7-4b17-82a6-ba0fa6283fb6",
   "metadata": {},
   "outputs": [
    {
     "name": "stdout",
     "output_type": "stream",
     "text": [
      "The predicted rating is: 4.35, for movie: Finding Nemo (2003)\n",
      "The predicted rating is: 4.24, for movie: Lord of the Rings: The Two Towers, The (2002)\n",
      "The predicted rating is: 4.24, for movie: Lord of the Rings: The Fellowship of the Ring, The (2001)\n",
      "The predicted rating is: 4.20, for movie: Spider-Man 2 (2004)\n",
      "The predicted rating is: 4.11, for movie: Star Trek (2009)\n",
      "The predicted rating is: 4.06, for movie: Harry Potter and the Prisoner of Azkaban (2004)\n",
      "The predicted rating is: 4.00, for movie: Harry Potter and the Order of the Phoenix (2007)\n",
      "The predicted rating is: 3.88, for movie: Harry Potter and the Deathly Hallows: Part 1 (2010)\n",
      "The predicted rating is: 3.87, for movie: Harry Potter and the Goblet of Fire (2005)\n",
      "The predicted rating is: 3.85, for movie: Harry Potter and the Deathly Hallows: Part 2 (2011)\n",
      "\n",
      "\n",
      "Original vs Predicted ratings:\n",
      "\n",
      "Original 5.0, Predicted 4.91 for Shrek (2001)\n",
      "Original 5.0, Predicted 4.81 for Harry Potter and the Sorcerer's Stone (a.k.a. Harry Potter and the Philosopher's Stone) (2001)\n",
      "Original 2.0, Predicted 2.15 for Amelie (Fabuleux destin d'Amélie Poulain, Le) (2001)\n",
      "Original 5.0, Predicted 4.90 for Harry Potter and the Chamber of Secrets (2002)\n",
      "Original 5.0, Predicted 4.88 for Pirates of the Caribbean: The Curse of the Black Pearl (2003)\n",
      "Original 5.0, Predicted 4.86 for Lord of the Rings: The Return of the King, The (2003)\n",
      "Original 3.0, Predicted 2.97 for Eternal Sunshine of the Spotless Mind (2004)\n",
      "Original 5.0, Predicted 4.87 for Incredibles, The (2004)\n",
      "Original 2.0, Predicted 2.16 for Persuasion (2007)\n",
      "Original 5.0, Predicted 4.73 for Toy Story 3 (2010)\n",
      "Original 3.0, Predicted 2.98 for Inception (2010)\n",
      "Original 1.0, Predicted 1.37 for Louis Theroux: Law & Disorder (2008)\n",
      "Original 1.0, Predicted 1.39 for Nothing to Declare (Rien à déclarer) (2010)\n"
     ]
    }
   ],
   "source": [
    "p = np.matmul(X.numpy(), np.transpose(W.numpy())) + b.numpy()\n",
    "\n",
    "# Add the mean which we subtrcted while normalizing the features\n",
    "pm = p\n",
    "\n",
    "my_pred = pm[:, 0]\n",
    "\n",
    "# Sort the predictions\n",
    "ix = tf.argsort(my_pred, direction='DESCENDING')\n",
    "\n",
    "for i in range(17):\n",
    "    if ix[i] not in my_rated:\n",
    "        print(f\"The predicted rating is: {my_pred[ix[i]]:.2f}, for movie: {movieList[ix[i]]}\")\n",
    "\n",
    "print('\\n\\nOriginal vs Predicted ratings:\\n')\n",
    "for i in range(len(my_ratings)):\n",
    "    if my_ratings[i] > 0:\n",
    "        print(f'Original {my_ratings[i]}, Predicted {my_pred[i]:0.2f} for {movieList[i]}')"
   ]
  },
  {
   "cell_type": "code",
   "execution_count": 65,
   "id": "b97f9ca5-eec1-4dec-bb84-79dbc8981015",
   "metadata": {},
   "outputs": [
    {
     "data": {
      "text/html": [
       "<div>\n",
       "<style scoped>\n",
       "    .dataframe tbody tr th:only-of-type {\n",
       "        vertical-align: middle;\n",
       "    }\n",
       "\n",
       "    .dataframe tbody tr th {\n",
       "        vertical-align: top;\n",
       "    }\n",
       "\n",
       "    .dataframe thead th {\n",
       "        text-align: right;\n",
       "    }\n",
       "</style>\n",
       "<table border=\"1\" class=\"dataframe\">\n",
       "  <thead>\n",
       "    <tr style=\"text-align: right;\">\n",
       "      <th></th>\n",
       "      <th>pred</th>\n",
       "      <th>mean rating</th>\n",
       "      <th>number of ratings</th>\n",
       "      <th>title</th>\n",
       "    </tr>\n",
       "  </thead>\n",
       "  <tbody>\n",
       "    <tr>\n",
       "      <th>1743</th>\n",
       "      <td>3.439561</td>\n",
       "      <td>4.252336</td>\n",
       "      <td>107</td>\n",
       "      <td>Departed, The (2006)</td>\n",
       "    </tr>\n",
       "    <tr>\n",
       "      <th>2112</th>\n",
       "      <td>3.788749</td>\n",
       "      <td>4.238255</td>\n",
       "      <td>149</td>\n",
       "      <td>Dark Knight, The (2008)</td>\n",
       "    </tr>\n",
       "    <tr>\n",
       "      <th>5</th>\n",
       "      <td>3.250716</td>\n",
       "      <td>4.220930</td>\n",
       "      <td>43</td>\n",
       "      <td>Boondock Saints, The (2000)</td>\n",
       "    </tr>\n",
       "    <tr>\n",
       "      <th>155</th>\n",
       "      <td>3.756505</td>\n",
       "      <td>4.155914</td>\n",
       "      <td>93</td>\n",
       "      <td>Snatch (2000)</td>\n",
       "    </tr>\n",
       "    <tr>\n",
       "      <th>580</th>\n",
       "      <td>3.294574</td>\n",
       "      <td>4.155172</td>\n",
       "      <td>87</td>\n",
       "      <td>Spirited Away (Sen to Chihiro no kamikakushi) ...</td>\n",
       "    </tr>\n",
       "    <tr>\n",
       "      <th>...</th>\n",
       "      <td>...</td>\n",
       "      <td>...</td>\n",
       "      <td>...</td>\n",
       "      <td>...</td>\n",
       "    </tr>\n",
       "    <tr>\n",
       "      <th>71</th>\n",
       "      <td>3.107034</td>\n",
       "      <td>3.086957</td>\n",
       "      <td>46</td>\n",
       "      <td>Me, Myself &amp; Irene (2000)</td>\n",
       "    </tr>\n",
       "    <tr>\n",
       "      <th>296</th>\n",
       "      <td>3.068028</td>\n",
       "      <td>3.066667</td>\n",
       "      <td>45</td>\n",
       "      <td>American Pie 2 (2001)</td>\n",
       "    </tr>\n",
       "    <tr>\n",
       "      <th>98</th>\n",
       "      <td>3.078551</td>\n",
       "      <td>3.044444</td>\n",
       "      <td>45</td>\n",
       "      <td>Cell, The (2000)</td>\n",
       "    </tr>\n",
       "    <tr>\n",
       "      <th>2175</th>\n",
       "      <td>3.036619</td>\n",
       "      <td>3.034483</td>\n",
       "      <td>29</td>\n",
       "      <td>Hancock (2008)</td>\n",
       "    </tr>\n",
       "    <tr>\n",
       "      <th>88</th>\n",
       "      <td>3.101393</td>\n",
       "      <td>2.891304</td>\n",
       "      <td>23</td>\n",
       "      <td>Space Cowboys (2000)</td>\n",
       "    </tr>\n",
       "  </tbody>\n",
       "</table>\n",
       "<p>206 rows × 4 columns</p>\n",
       "</div>"
      ],
      "text/plain": [
       "          pred  mean rating  number of ratings  \\\n",
       "1743  3.439561     4.252336                107   \n",
       "2112  3.788749     4.238255                149   \n",
       "5     3.250716     4.220930                 43   \n",
       "155   3.756505     4.155914                 93   \n",
       "580   3.294574     4.155172                 87   \n",
       "...        ...          ...                ...   \n",
       "71    3.107034     3.086957                 46   \n",
       "296   3.068028     3.066667                 45   \n",
       "98    3.078551     3.044444                 45   \n",
       "2175  3.036619     3.034483                 29   \n",
       "88    3.101393     2.891304                 23   \n",
       "\n",
       "                                                  title  \n",
       "1743                               Departed, The (2006)  \n",
       "2112                            Dark Knight, The (2008)  \n",
       "5                           Boondock Saints, The (2000)  \n",
       "155                                       Snatch (2000)  \n",
       "580   Spirited Away (Sen to Chihiro no kamikakushi) ...  \n",
       "...                                                 ...  \n",
       "71                            Me, Myself & Irene (2000)  \n",
       "296                               American Pie 2 (2001)  \n",
       "98                                     Cell, The (2000)  \n",
       "2175                                     Hancock (2008)  \n",
       "88                                 Space Cowboys (2000)  \n",
       "\n",
       "[206 rows x 4 columns]"
      ]
     },
     "execution_count": 65,
     "metadata": {},
     "output_type": "execute_result"
    }
   ],
   "source": [
    "filter=(movieList_df[\"number of ratings\"] > 20)\n",
    "movieList_df[\"pred\"] = my_pred\n",
    "movieList_df = movieList_df.reindex(columns=[\"pred\", \"mean rating\", \"number of ratings\", \"title\"])\n",
    "movieList_df.loc[ix[:300]].loc[filter].sort_values(\"mean rating\", ascending=False)"
   ]
  },
  {
   "cell_type": "code",
   "execution_count": null,
   "id": "627ce37a-e4ab-469b-973b-34f4921b93a3",
   "metadata": {},
   "outputs": [],
   "source": []
  }
 ],
 "metadata": {
  "kernelspec": {
   "display_name": "Python 3 (ipykernel)",
   "language": "python",
   "name": "python3"
  },
  "language_info": {
   "codemirror_mode": {
    "name": "ipython",
    "version": 3
   },
   "file_extension": ".py",
   "mimetype": "text/x-python",
   "name": "python",
   "nbconvert_exporter": "python",
   "pygments_lexer": "ipython3",
   "version": "3.11.5"
  }
 },
 "nbformat": 4,
 "nbformat_minor": 5
}
