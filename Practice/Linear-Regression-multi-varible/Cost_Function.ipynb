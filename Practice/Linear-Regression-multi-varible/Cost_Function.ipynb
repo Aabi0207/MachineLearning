{
 "cells": [
  {
   "cell_type": "markdown",
   "id": "5ce779e7",
   "metadata": {},
   "source": [
    "## Learn how to implement the Cost Function into code"
   ]
  },
  {
   "cell_type": "code",
   "execution_count": 1,
   "id": "360e5bba",
   "metadata": {},
   "outputs": [],
   "source": [
    "import numpy as np\n",
    "import matplotlib.pyplot as plt\n",
    "%matplotlib widget\n",
    "from ipywidgets import interact"
   ]
  },
  {
   "cell_type": "markdown",
   "id": "084815c6",
   "metadata": {},
   "source": [
    "### Create the data points and declare the parameters"
   ]
  },
  {
   "cell_type": "code",
   "execution_count": 2,
   "id": "d11667bb",
   "metadata": {},
   "outputs": [],
   "source": [
    "x_train = np.array([1, 2])\n",
    "y_train = np.array([300, 500])\n",
    "\n",
    "w = 200\n",
    "b = 100"
   ]
  },
  {
   "cell_type": "markdown",
   "id": "83879caa",
   "metadata": {},
   "source": [
    "## Compute Cost \n",
    "\n",
    "The equation to compute the cost is:\n",
    "$$J(w, b) = \\frac{1}{2m} \\sum\\limits_{i = 0}^{m - 1} (f_{w, b}(x^{(i)}) - y^{(i)})^{2}$$"
   ]
  },
  {
   "cell_type": "code",
   "execution_count": 3,
   "id": "d1b28bdf",
   "metadata": {},
   "outputs": [],
   "source": [
    "def compute_cost(x_train, y_train, w, b):\n",
    "    m = x_train.shape[0]\n",
    "    cost = 0\n",
    "    \n",
    "    for i in range(m):\n",
    "        f_wb = w * x_train[i] + b\n",
    "        cost += (f_wb - y_train[i]) ** 2\n",
    "    cost /= 2*m\n",
    "    return cost"
   ]
  },
  {
   "cell_type": "code",
   "execution_count": 4,
   "id": "47e2ad4c",
   "metadata": {},
   "outputs": [
    {
     "data": {
      "text/plain": [
       "0.0"
      ]
     },
     "execution_count": 4,
     "metadata": {},
     "output_type": "execute_result"
    }
   ],
   "source": [
    "compute_cost(x_train, y_train, w, b)"
   ]
  },
  {
   "cell_type": "markdown",
   "id": "9544e209",
   "metadata": {},
   "source": [
    "## Get some relation in cost and values of parameters through graph"
   ]
  },
  {
   "cell_type": "code",
   "execution_count": 5,
   "id": "292c6006",
   "metadata": {},
   "outputs": [],
   "source": [
    "w_range = np.array([200-200, 200+200])\n",
    "tmp_b = 100\n",
    "\n",
    "w_arr = np.arange(*w_range, 5)\n",
    "cost = np.zeros_like(w_arr)\n",
    "\n",
    "for i in range(len(w_arr)):\n",
    "    cost[i] = compute_cost(x_train, y_train, w_arr[i], tmp_b)"
   ]
  },
  {
   "cell_type": "code",
   "execution_count": 9,
   "id": "f4c1cf98",
   "metadata": {},
   "outputs": [
    {
     "data": {
      "application/vnd.jupyter.widget-view+json": {
       "model_id": "dde0cc2763fb4d94be67a7a727f512de",
       "version_major": 2,
       "version_minor": 0
      },
      "text/plain": [
       "interactive(children=(IntSlider(value=150, description='w', max=400, step=10), Output()), _dom_classes=('widge…"
      ]
     },
     "metadata": {},
     "output_type": "display_data"
    }
   ],
   "source": [
    "fig, ax = plt.subplots(1, 2, constrained_layout=True, figsize=(8,4))\n",
    "fig.canvas.toolbar_position = 'bottom'\n",
    "\n",
    "@interact(w = (*w_range, 10), continious_update=False)\n",
    "def func(w=150):\n",
    "    f_wb = np.dot(x_train, w) + tmp_b\n",
    "\n",
    "    fig.canvas.toolbar_position = 'bottom'\n",
    "\n",
    "    current_cost = compute_cost(x_train, y_train, w, tmp_b)\n",
    "\n",
    "    plt.title(f\"Current Cost: {current_cost}\")\n",
    "    ax[0].plot(x_train, f_wb, c=\"b\", linewidth=4)\n",
    "    ax[0].scatter(x_train, y_train, c=\"r\", marker=\"X\")\n",
    "\n",
    "    ax[1].plot(w_arr, cost)\n",
    "    ax[1].scatter(w,current_cost, s=100, color=\"darkred\", zorder= 10, label= f\"cost at w={w}\")\n",
    "    plt.show()"
   ]
  },
  {
   "cell_type": "code",
   "execution_count": null,
   "id": "45289d7c",
   "metadata": {},
   "outputs": [],
   "source": []
  }
 ],
 "metadata": {
  "kernelspec": {
   "display_name": "Python 3 (ipykernel)",
   "language": "python",
   "name": "python3"
  },
  "language_info": {
   "codemirror_mode": {
    "name": "ipython",
    "version": 3
   },
   "file_extension": ".py",
   "mimetype": "text/x-python",
   "name": "python",
   "nbconvert_exporter": "python",
   "pygments_lexer": "ipython3",
   "version": "3.11.5"
  }
 },
 "nbformat": 4,
 "nbformat_minor": 5
}
