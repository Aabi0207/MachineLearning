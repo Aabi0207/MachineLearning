{
 "cells": [
  {
   "cell_type": "markdown",
   "id": "20d3b7a5",
   "metadata": {},
   "source": [
    "# Linear Regression using Scikit-Learn"
   ]
  },
  {
   "cell_type": "markdown",
   "id": "09ac0ee9",
   "metadata": {},
   "source": [
    "### Import the required tools"
   ]
  },
  {
   "cell_type": "code",
   "execution_count": 3,
   "id": "b90263cf",
   "metadata": {},
   "outputs": [],
   "source": [
    "import numpy as np\n",
    "import matplotlib.pyplot as plt\n",
    "from sklearn.linear_model import SGDRegressor\n",
    "from sklearn.preprocessing import StandardScaler\n",
    "np.set_printoptions(precision=2)"
   ]
  },
  {
   "cell_type": "markdown",
   "id": "be37f2f6",
   "metadata": {},
   "source": [
    ">**sklearn.linera_model.SGDRegressor** := It is to implement Gradient Descent for Linear Regression  \n",
    ">**sklearn.preprocessing.StandardScaler** := It is to implement Z Score Normalization"
   ]
  },
  {
   "cell_type": "code",
   "execution_count": 7,
   "id": "07ffddfe",
   "metadata": {},
   "outputs": [],
   "source": [
    "data = np.loadtxt(\"./Data/Houses.txt\", delimiter=\",\", skiprows=1)\n",
    "X_train = data[:, :4]\n",
    "y_train = data[:, 4]"
   ]
  },
  {
   "cell_type": "code",
   "execution_count": 8,
   "id": "cae73b55",
   "metadata": {},
   "outputs": [],
   "source": [
    "X_features = ['size(sqft)','bedrooms','floors','age']"
   ]
  },
  {
   "cell_type": "markdown",
   "id": "564d6182",
   "metadata": {},
   "source": [
    "## Scale/Normalize the training Data"
   ]
  },
  {
   "cell_type": "code",
   "execution_count": 13,
   "id": "4a0ff9d5",
   "metadata": {},
   "outputs": [
    {
     "name": "stdout",
     "output_type": "stream",
     "text": [
      "Peak to Peak range by column in Raw        X:[2.41e+03 4.00e+00 1.00e+00 9.50e+01]\n",
      "Peak to Peak range by column in Normalized X:[5.85 6.14 2.06 3.69]\n"
     ]
    }
   ],
   "source": [
    "scaler = StandardScaler()\n",
    "X_norm = scaler.fit_transform(X_train)\n",
    "print(f\"Peak to Peak range by column in Raw        X:{np.ptp(X_train,axis=0)}\")   \n",
    "print(f\"Peak to Peak range by column in Normalized X:{np.ptp(X_norm,axis=0)}\")"
   ]
  },
  {
   "cell_type": "code",
   "execution_count": 16,
   "id": "c3e3cdbc",
   "metadata": {},
   "outputs": [],
   "source": [
    "def zscore_normalize(x):\n",
    "    mu = np.mean(x, axis=0)\n",
    "    sigma = np.std(x, axis=0)\n",
    "    \n",
    "    x_norm = (x - mu) / sigma\n",
    "    \n",
    "    return x_norm"
   ]
  },
  {
   "cell_type": "markdown",
   "id": "043fc9a4",
   "metadata": {},
   "source": [
    "## Create a regression model"
   ]
  },
  {
   "cell_type": "code",
   "execution_count": 14,
   "id": "22818cff",
   "metadata": {},
   "outputs": [
    {
     "name": "stdout",
     "output_type": "stream",
     "text": [
      "SGDRegressor()\n",
      "number of iterations completed: 120, number of weight updates: 11881.0\n"
     ]
    }
   ],
   "source": [
    "sgdr = SGDRegressor(max_iter=1000)\n",
    "sgdr.fit(X_norm, y_train)\n",
    "print(sgdr)\n",
    "print(f\"number of iterations completed: {sgdr.n_iter_}, number of weight updates: {sgdr.t_}\")"
   ]
  },
  {
   "cell_type": "code",
   "execution_count": 15,
   "id": "ea61688e",
   "metadata": {},
   "outputs": [
    {
     "name": "stdout",
     "output_type": "stream",
     "text": [
      "model parameters:                   w: [110.09 -21.02 -32.41 -38.1 ], b:[363.15]\n",
      "model parameters from previous lab: w: [110.56 -21.27 -32.71 -37.97], b: 363.16\n"
     ]
    }
   ],
   "source": [
    "b_norm = sgdr.intercept_\n",
    "w_norm = sgdr.coef_\n",
    "print(f\"model parameters:                   w: {w_norm}, b:{b_norm}\")\n",
    "print( \"model parameters from previous lab: w: [110.56 -21.27 -32.71 -37.97], b: 363.16\")"
   ]
  },
  {
   "cell_type": "code",
   "execution_count": 18,
   "id": "8f0b30a9",
   "metadata": {},
   "outputs": [
    {
     "name": "stdout",
     "output_type": "stream",
     "text": [
      "True\n",
      "first 4 prediction using normalized features: [295.11 485.97 389.64 492.14]\n",
      "first 4 prediction using prevoious features: [295.18 485.98 389.52 492.15]\n",
      "first 4 target values: [300.  509.8 394.  540. ]\n"
     ]
    }
   ],
   "source": [
    "y_pred_sgdr = sgdr.predict(X_norm)\n",
    "\n",
    "y_pred = (X_norm @ w_norm) + b_norm\n",
    "\n",
    "x_norm = zscore_normalize(X_train)\n",
    "w = [110.56, -21.27, -32.71, -37.97]\n",
    "b = 363.16\n",
    "\n",
    "y_pred_prev = (x_norm @ w) + b\n",
    "\n",
    "print((y_pred_sgdr == y_pred).all())\n",
    "\n",
    "print(f\"first 4 prediction using normalized features: {y_pred[:4]}\")\n",
    "print(f\"first 4 prediction using prevoious features: {y_pred_prev[:4]}\")\n",
    "print(f\"first 4 target values: {y_train[:4]}\")"
   ]
  },
  {
   "cell_type": "code",
   "execution_count": null,
   "id": "3264a5bf",
   "metadata": {},
   "outputs": [],
   "source": []
  }
 ],
 "metadata": {
  "kernelspec": {
   "display_name": "Python 3 (ipykernel)",
   "language": "python",
   "name": "python3"
  },
  "language_info": {
   "codemirror_mode": {
    "name": "ipython",
    "version": 3
   },
   "file_extension": ".py",
   "mimetype": "text/x-python",
   "name": "python",
   "nbconvert_exporter": "python",
   "pygments_lexer": "ipython3",
   "version": "3.11.5"
  }
 },
 "nbformat": 4,
 "nbformat_minor": 5
}
