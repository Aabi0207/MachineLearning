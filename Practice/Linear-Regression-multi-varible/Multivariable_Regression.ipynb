{
 "cells": [
  {
   "cell_type": "markdown",
   "id": "fea189b5",
   "metadata": {},
   "source": [
    "## Multivariable Linear Regression"
   ]
  },
  {
   "cell_type": "markdown",
   "id": "311e007a",
   "metadata": {},
   "source": [
    "### Import the required imports"
   ]
  },
  {
   "cell_type": "code",
   "execution_count": 1,
   "id": "5e7a5653",
   "metadata": {},
   "outputs": [],
   "source": [
    "import numpy as np\n",
    "import matplotlib.pyplot as plt\n",
    "import math, copy\n",
    "np.set_printoptions(precision = 2)"
   ]
  },
  {
   "cell_type": "markdown",
   "id": "ab496188",
   "metadata": {},
   "source": [
    "### Create the follwing Dataset\n",
    "\n",
    "\n",
    "| Size (sqft) | Number of Bedrooms  | Number of floors | Age of  Home | Price (1000s dollars)  |   \n",
    "| ----------------| ------------------- |----------------- |--------------|-------------- |  \n",
    "| 2104            | 5                   | 1                | 45           | 460           |  \n",
    "| 1416            | 3                   | 2                | 40           | 232           |  \n",
    "| 852             | 2                   | 1                | 35           | 178           |  "
   ]
  },
  {
   "cell_type": "code",
   "execution_count": 2,
   "id": "ad527dd6",
   "metadata": {},
   "outputs": [],
   "source": [
    "X_train = np.array([[2104, 5, 1, 45], [1416, 3, 2, 40], [852, 2, 1, 35]])\n",
    "y_train = np.array([460, 232, 178])"
   ]
  },
  {
   "cell_type": "markdown",
   "id": "f6f24985",
   "metadata": {},
   "source": [
    "### w is the vector having n(no of rows) elements "
   ]
  },
  {
   "cell_type": "code",
   "execution_count": 3,
   "id": "51369b9d",
   "metadata": {},
   "outputs": [
    {
     "name": "stdout",
     "output_type": "stream",
     "text": [
      "w_init shape: (4,), b_init type: <class 'float'>\n"
     ]
    }
   ],
   "source": [
    "b_init = 785.1811367994083\n",
    "w_init = np.array([ 0.39133535, 18.75376741, -53.36032453, -26.42131618])\n",
    "print(f\"w_init shape: {w_init.shape}, b_init type: {type(b_init)}\")"
   ]
  },
  {
   "cell_type": "markdown",
   "id": "0809009e",
   "metadata": {},
   "source": [
    "## 3 Model Prediction With Multiple Variables\n",
    "\n",
    "$$ f_{\\mathbf{w},b}(\\mathbf{x}) =  w_0x_0 + w_1x_1 +... + w_{n-1}x_{n-1} + b \\tag{1}$$\n",
    "or in vector notation:\n",
    "$$ f_{\\mathbf{w},b}(\\mathbf{x}) = \\mathbf{w} \\cdot \\mathbf{x} + b  \\tag{2} $$ \n",
    "where $\\cdot$ is a vector `dot product`\n",
    "\n",
    "### Give a prdiction for the single row"
   ]
  },
  {
   "cell_type": "code",
   "execution_count": 4,
   "id": "e8cccb22",
   "metadata": {},
   "outputs": [],
   "source": [
    "def calculate_model_prediction(row_value):\n",
    "    x_vec = X_train[row_value, :] \n",
    "    p = np.dot(w_init, x_vec) + b_init\n",
    "    \n",
    "    return p"
   ]
  },
  {
   "cell_type": "code",
   "execution_count": 5,
   "id": "1d77c52d",
   "metadata": {},
   "outputs": [
    {
     "name": "stdout",
     "output_type": "stream",
     "text": [
      "The prediction for the first row is: 459.9999976194083\n"
     ]
    }
   ],
   "source": [
    "print(f\"The prediction for the first row is: {calculate_model_prediction(0)}\")"
   ]
  },
  {
   "cell_type": "code",
   "execution_count": 6,
   "id": "6bc09fcb",
   "metadata": {},
   "outputs": [
    {
     "data": {
      "text/plain": [
       "array([[2104,    5,    1,   45],\n",
       "       [1416,    3,    2,   40],\n",
       "       [ 852,    2,    1,   35]])"
      ]
     },
     "execution_count": 6,
     "metadata": {},
     "output_type": "execute_result"
    }
   ],
   "source": [
    "X_train"
   ]
  },
  {
   "cell_type": "markdown",
   "id": "39f0fbae",
   "metadata": {},
   "source": [
    "###  Write a function for computing cost\n",
    "\n",
    "The cost function is\n",
    "$$J(w, b) = \\frac{1}{2m}\\sum\\limits_{i = 0}^{m - 1}(f_{w, b}(x^{(i)}) - y^{(i)})^{2}$$"
   ]
  },
  {
   "cell_type": "code",
   "execution_count": 8,
   "id": "04ae3a91",
   "metadata": {},
   "outputs": [],
   "source": [
    "def compute_cost(x, y, w, b):\n",
    "    m = x.shape[0]\n",
    "    cost = 0\n",
    "    \n",
    "    for i in range(m):\n",
    "        f_wb = np.dot(x[i], w) + b\n",
    "        cost += (f_wb - y[i]) ** 2\n",
    "    cost /= 2 * m\n",
    "\n",
    "    return cost"
   ]
  },
  {
   "cell_type": "code",
   "execution_count": 9,
   "id": "9b9c1420",
   "metadata": {},
   "outputs": [
    {
     "name": "stdout",
     "output_type": "stream",
     "text": [
      "The cost of model with initial values of the parameters is: 1.5578904045996674e-12\n"
     ]
    }
   ],
   "source": [
    "print(f\"The cost of model with initial values of the parameters is: {compute_cost(X_train, y_train, w_init, b_init)}\")"
   ]
  },
  {
   "cell_type": "markdown",
   "id": "8b11086c",
   "metadata": {},
   "source": [
    "## Gradient Descent for Multivariable regression\n",
    "\n",
    "Gradient Descent for multiple variables:\n",
    "\n",
    "$$\\begin{align*} \\text{repeat}&\\text{ until convergence:} \\; \\lbrace \\newline\n",
    "& w_j = w_j -  \\alpha \\frac{\\partial J(\\mathbf{w},b)}{\\partial w_j} \\tag{5}  & \\text{for j = 0..n-1}\\newline\n",
    "&b\\ \\ = b -  \\alpha \\frac{\\partial J(\\mathbf{w},b)}{\\partial b}  \\newline \\rbrace\n",
    "\\end{align*}$$\n",
    "\n",
    "where:\n",
    "\n",
    "$$\\begin{align} \\frac{\\partial J(w, b)}{\\partial w_{j}} = \\frac{1}{m} \\sum \\limits_{i = 0}^{m - 1} (f_{w, b} (x)^{(i)} - y^{(i)})x^{(i)}_{j}\\newline \\\\\n",
    "\\frac{\\partial J(w, b)}{\\partial b} = \\frac{1}{m} \\sum \\limits_{i = 0}^{m - 1} (f_{w, b} (x)^{(i)} - y ^{(i)})\n",
    "\\end{align}$$\n",
    "\n",
    "* m is the number of training examples in the data set\n",
    "\n",
    "    \n",
    "*  $f_{\\mathbf{w},b}(\\mathbf{x}^{(i)})$ is the model's prediction, while $y^{(i)}$ is the target value"
   ]
  },
  {
   "cell_type": "markdown",
   "id": "61389057",
   "metadata": {},
   "source": [
    "## Write a method to compute the gradient"
   ]
  },
  {
   "cell_type": "code",
   "execution_count": 14,
   "id": "aaf60bb3",
   "metadata": {},
   "outputs": [],
   "source": [
    "def compute_gradient(x, y, w, b):\n",
    "    m, n= x.shape\n",
    "    dj_dw = np.zeros((n,))\n",
    "    dj_db = 0\n",
    "    \n",
    "    for i in range(m):\n",
    "        err = (np.dot(w, x[i]) + b) - y[i]\n",
    "        for j in range(n):\n",
    "            dj_dw[j] += err * x[i, j]\n",
    "    \n",
    "        dj_db += err\n",
    "        \n",
    "    dj_dw /= m\n",
    "    dj_db /= m\n",
    "    \n",
    "    return dj_dw, dj_db"
   ]
  },
  {
   "cell_type": "code",
   "execution_count": 15,
   "id": "bbe9f681",
   "metadata": {},
   "outputs": [
    {
     "name": "stdout",
     "output_type": "stream",
     "text": [
      "dj_db at initial w,b: [-2.73e-03 -6.27e-06 -2.22e-06 -6.92e-05]\n",
      "dj_dw at initial w,b: \n",
      " -1.6739251122999121e-06\n"
     ]
    }
   ],
   "source": [
    "#Compute and display gradient \n",
    "tmp_dj_db, tmp_dj_dw = compute_gradient(X_train, y_train, w_init, b_init)\n",
    "print(f'dj_db at initial w,b: {tmp_dj_db}')\n",
    "print(f'dj_dw at initial w,b: \\n {tmp_dj_dw}')"
   ]
  },
  {
   "cell_type": "markdown",
   "id": "febc1972",
   "metadata": {},
   "source": [
    "### Write a method to compute the gradient descent for multiple variable regression"
   ]
  },
  {
   "cell_type": "code",
   "execution_count": 20,
   "id": "43d0a845",
   "metadata": {},
   "outputs": [],
   "source": [
    "def gradient_descent_multi(x, y, w, b, gradient_function, cost_function, num_iters=1000, alpha=0.01):\n",
    "    tmp_w = copy.deepcopy(w)\n",
    "    tmp_b = b\n",
    "    J_history = []\n",
    "    p_history = []\n",
    "    \n",
    "    for i in range(num_iters):\n",
    "        dj_dw, dj_db = gradient_function(x, y, w, b)\n",
    "        tmp_w = tmp_w - alpha * dj_dw\n",
    "        tmp_b = tmp_b - alpha * dj_db\n",
    "        \n",
    "        w = tmp_w\n",
    "        b = tmp_b\n",
    "        \n",
    "        j = cost_function(x, y, w, b)\n",
    "        if i < 20000:\n",
    "            J_history.append(j)\n",
    "            p_history.append([w, b])\n",
    "            \n",
    "        if i % math.ceil(num_iters / 10) == 0:\n",
    "            print(f\"iteration: {i}, cost: {j}, dj_dw: {dj_dw}, dj_db: {dj_db}, w: {w}, b: {b}\")\n",
    "        \n",
    "    return w, b, J_history, p_history\n",
    "        "
   ]
  },
  {
   "cell_type": "code",
   "execution_count": 22,
   "id": "f874d85a",
   "metadata": {},
   "outputs": [
    {
     "name": "stdout",
     "output_type": "stream",
     "text": [
      "iteration: 0, cost: 2529.4629522316304, dj_dw: [-4.83e+05 -1.12e+03 -3.67e+02 -1.21e+04], dj_db: -290.0, w: [2.41e-01 5.59e-04 1.84e-04 6.03e-03], b: 0.000145\n",
      "iteration: 1000, cost: 686.6934839275283, dj_dw: [ -3.52  -6.55  22.66 138.8 ], dj_db: 4.60680261702377, w: [ 0.2   0.   -0.01 -0.07], b: -0.0022377109322410465\n",
      "iteration: 2000, cost: 677.1889369724992, dj_dw: [ -3.36  -6.5   22.35 132.73], dj_db: 4.393101026187234, w: [ 0.21  0.01 -0.02 -0.13], b: -0.0044872374171140445\n",
      "iteration: 3000, cost: 668.4815829959585, dj_dw: [ -3.22  -6.46  22.05 126.92], dj_db: 4.18869555264818, w: [ 0.21  0.01 -0.03 -0.2 ], b: -0.006632256683207424\n",
      "iteration: 4000, cost: 660.5035880182975, dj_dw: [ -3.08  -6.42  21.77 121.36], dj_db: 3.993181879578733, w: [ 0.21  0.01 -0.04 -0.26], b: -0.008677314859790265\n",
      "iteration: 5000, cost: 653.1928903567929, dj_dw: [ -2.94  -6.38  21.5  116.05], dj_db: 3.806173275129576, w: [ 0.21  0.02 -0.06 -0.32], b: -0.010626760350939035\n",
      "iteration: 6000, cost: 646.492709434985, dj_dw: [ -2.81  -6.35  21.23 110.97], dj_db: 3.6272998276051283, w: [ 0.21  0.02 -0.07 -0.38], b: -0.012484752435212269\n",
      "iteration: 7000, cost: 640.3510963896543, dj_dw: [ -2.69  -6.31  20.98 106.11], dj_db: 3.4562077139033818, w: [ 0.21  0.02 -0.08 -0.43], b: -0.014255269491299316\n",
      "iteration: 8000, cost: 634.7205229186773, dj_dw: [ -2.57  -6.28  20.75 101.46], dj_db: 3.292558499774202, w: [ 0.21  0.03 -0.09 -0.48], b: -0.015942116865910128\n",
      "iteration: 9000, cost: 629.5575051156565, dj_dw: [-2.46 -6.24 20.52 97.01], dj_db: 3.136028470509975, w: [ 0.22  0.03 -0.1  -0.53], b: -0.017548934399466677\n",
      "b,w found by gradient descent: -0.02,[ 0.22  0.03 -0.11 -0.58] \n",
      "prediction: 430.50, target value: 460\n",
      "prediction: 283.93, target value: 232\n",
      "prediction: 164.52, target value: 178\n"
     ]
    }
   ],
   "source": [
    "initial_w = np.zeros_like(w_init)\n",
    "initial_b = 0.\n",
    "# some gradient descent settings\n",
    "iterations = 10000\n",
    "alpha = 5.0e-7\n",
    "# run gradient descent \n",
    "w_final, b_final, J_hist, p_history = gradient_descent_multi(X_train, y_train, initial_w, initial_b,\n",
    "                                                    compute_gradient, compute_cost, \n",
    "                                                    iterations, alpha)\n",
    "print(f\"b,w found by gradient descent: {b_final:0.2f},{w_final} \")\n",
    "m,_ = X_train.shape\n",
    "for i in range(m):\n",
    "    print(f\"prediction: {np.dot(X_train[i], w_final) + b_final:0.2f}, target value: {y_train[i]}\")"
   ]
  },
  {
   "cell_type": "code",
   "execution_count": 30,
   "id": "b730b238",
   "metadata": {},
   "outputs": [
    {
     "data": {
      "image/png": "[encoded data removed]",
      "text/plain": [
       "<Figure size 640x480 with 4 Axes>"
      ]
     },
     "metadata": {},
     "output_type": "display_data"
    }
   ],
   "source": [
    "fig, ax = plt.subplots(2, 2)\n",
    "\n",
    "ax[0, 0].scatter(\n",
    "    X_train[:, 0],\n",
    "    y_train,\n",
    "    marker = \"X\",\n",
    "    c = \"r\",\n",
    ")\n",
    "ax[0, 1].scatter(\n",
    "    X_train[:, 1],\n",
    "    y_train,\n",
    "    marker = \"X\",\n",
    "    c = \"b\",\n",
    ")\n",
    "ax[1, 0].scatter(\n",
    "    X_train[:, 2],\n",
    "    y_train,\n",
    "    marker = \"X\",\n",
    "    c = \"orange\",\n",
    ")\n",
    "ax[1, 1].scatter(\n",
    "    X_train[:, 3],\n",
    "    y_train,\n",
    "    marker = \"X\",\n",
    "    c = \"g\",\n",
    ")\n",
    "\n",
    "plt.show()\n"
   ]
  },
  {
   "cell_type": "code",
   "execution_count": null,
   "id": "8c5c811b",
   "metadata": {},
   "outputs": [],
   "source": []
  }
 ],
 "metadata": {
  "kernelspec": {
   "display_name": "Python 3 (ipykernel)",
   "language": "python",
   "name": "python3"
  },
  "language_info": {
   "codemirror_mode": {
    "name": "ipython",
    "version": 3
   },
   "file_extension": ".py",
   "mimetype": "text/x-python",
   "name": "python",
   "nbconvert_exporter": "python",
   "pygments_lexer": "ipython3",
   "version": "3.11.5"
  }
 },
 "nbformat": 4,
 "nbformat_minor": 5
}
